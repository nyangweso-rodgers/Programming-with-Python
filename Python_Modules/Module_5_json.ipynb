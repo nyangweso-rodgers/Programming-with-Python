{
 "cells": [
  {
   "cell_type": "markdown",
   "metadata": {},
   "source": [
    "# JSON in Python\n",
    "__JSON__ is a _JavaScript Object Notation__ which is used for storing and exchanging data."
   ]
  },
  {
   "cell_type": "code",
   "execution_count": 1,
   "metadata": {},
   "outputs": [
    {
     "name": "stdout",
     "output_type": "stream",
     "text": [
      "['JSONDecodeError', 'JSONDecoder', 'JSONEncoder', '__all__', '__author__', '__builtins__', '__cached__', '__doc__', '__file__', '__loader__', '__name__', '__package__', '__path__', '__spec__', '__version__', '_default_decoder', '_default_encoder', 'codecs', 'decoder', 'detect_encoding', 'dump', 'dumps', 'encoder', 'load', 'loads', 'scanner']\n"
     ]
    }
   ],
   "source": [
    "import json \n",
    "print(dir(json))"
   ]
  },
  {
   "cell_type": "markdown",
   "metadata": {},
   "source": [
    "## Convert JSON object to Python Dictionary"
   ]
  },
  {
   "cell_type": "code",
   "execution_count": 3,
   "metadata": {},
   "outputs": [
    {
     "name": "stdout",
     "output_type": "stream",
     "text": [
      "Rodgers Nyangweso\n"
     ]
    }
   ],
   "source": [
    "# JSON Object\n",
    "a = '{\"first_name\": \"Rodgers\", \"last_name\": \"Nyangweso\"}'\n",
    "\n",
    "# Converting to Dictionary using json.loads()\n",
    "b = json.loads(a)\n",
    "print(b[\"first_name\"], b[\"last_name\"])"
   ]
  },
  {
   "cell_type": "markdown",
   "metadata": {},
   "source": [
    "## Converting Python Object to JSON"
   ]
  },
  {
   "cell_type": "code",
   "execution_count": 4,
   "metadata": {},
   "outputs": [
    {
     "name": "stdout",
     "output_type": "stream",
     "text": [
      "{\"first_name\": \"Rodgers\", \"last_name\": \"Nyangweso\"}\n"
     ]
    }
   ],
   "source": [
    "# Dictionary\n",
    "c = {\"first_name\": \"Rodgers\", \"last_name\": \"Nyangweso\"}\n",
    "\n",
    "# converting to JSON using json.dumps()\n",
    "d = json.dumps(c)\n",
    "print(d)"
   ]
  },
  {
   "cell_type": "markdown",
   "metadata": {},
   "source": [
    "## Formatting JSON Object"
   ]
  },
  {
   "cell_type": "code",
   "execution_count": 5,
   "metadata": {},
   "outputs": [
    {
     "name": "stdout",
     "output_type": "stream",
     "text": [
      "{\n",
      "    \"first_name\"=\"Rodgers\".\n",
      "    \"last_name\"=\"Nyangweso\"\n",
      "}\n"
     ]
    }
   ],
   "source": [
    "# Dictionary Object\n",
    "e = {\"first_name\": \"Rodgers\", \n",
    "     \"last_name\": \"Nyangweso\"}\n",
    "\n",
    "# JSON OBject with identation and specified seperators\n",
    "f = json.dumps(e, indent=4, separators=(\".\", \"=\"))\n",
    "print(f)"
   ]
  },
  {
   "cell_type": "markdown",
   "metadata": {},
   "source": [
    "## Ordering the Keys"
   ]
  },
  {
   "cell_type": "code",
   "execution_count": 6,
   "metadata": {},
   "outputs": [
    {
     "name": "stdout",
     "output_type": "stream",
     "text": [
      "{\n",
      "    \"first_name\": \"Rodgers\",\n",
      "    \"last_name\": \"Nyangweso\"\n",
      "}\n"
     ]
    }
   ],
   "source": [
    "g = {\"first_name\": \"Rodgers\", \"last_name\": \"Nyangweso\"}\n",
    "\n",
    "# sorting keys using sort_keys\n",
    "h = json.dumps(g, indent=4, sort_keys=True)\n",
    "print(h)"
   ]
  }
 ],
 "metadata": {
  "interpreter": {
   "hash": "1e915f0a29dc84041eaeb02b7b1a21c440e37a87b61d44d5e84a515737dc82bc"
  },
  "kernelspec": {
   "display_name": "Python 3.8.8 64-bit ('base': conda)",
   "language": "python",
   "name": "python3"
  },
  "language_info": {
   "codemirror_mode": {
    "name": "ipython",
    "version": 3
   },
   "file_extension": ".py",
   "mimetype": "text/x-python",
   "name": "python",
   "nbconvert_exporter": "python",
   "pygments_lexer": "ipython3",
   "version": "3.8.8"
  },
  "orig_nbformat": 4
 },
 "nbformat": 4,
 "nbformat_minor": 2
}
