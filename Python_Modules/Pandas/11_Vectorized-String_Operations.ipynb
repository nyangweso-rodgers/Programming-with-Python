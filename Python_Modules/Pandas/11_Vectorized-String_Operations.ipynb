{
 "nbformat": 4,
 "nbformat_minor": 2,
 "metadata": {
  "language_info": {
   "name": "python",
   "codemirror_mode": {
    "name": "ipython",
    "version": 3
   },
   "version": "3.7.4-final"
  },
  "orig_nbformat": 2,
  "file_extension": ".py",
  "mimetype": "text/x-python",
  "name": "python",
  "npconvert_exporter": "python",
  "pygments_lexer": "ipython3",
  "version": 3,
  "kernelspec": {
   "name": "python37464bitbaseconda08747ba86b4e47b190667d12a1bf6dd8",
   "display_name": "Python 3.7.4 64-bit ('base': conda)"
  }
 },
 "cells": [
  {
   "cell_type": "markdown",
   "metadata": {},
   "source": [
    "# Vectorized String Operations\n",
    "One strength of Python is its relative ease in handling and manipulating string data.\n",
    "Pandas builds on this and provides a comprehensive set of vectorized string operations\n",
    "that become an essential piece of the type of munging required when one is working\n",
    "with (read: cleaning up) real-world data. In this section, we’ll walk through some of\n",
    "the Pandas string operations, and then take a look at using them to partially clean up\n",
    "a very messy dataset of recipes collected from the Internet."
   ]
  },
  {
   "cell_type": "markdown",
   "metadata": {},
   "source": [
    "## Introducing Pandas String Operations"
   ]
  },
  {
   "cell_type": "markdown",
   "metadata": {},
   "source": [
    "Tools like NumPy and Pandas generalize arithmetic\n",
    "operations so that we can easily and quickly perform the same operation on many\n",
    "array elements. For example:"
   ]
  },
  {
   "cell_type": "code",
   "execution_count": 1,
   "metadata": {},
   "outputs": [
    {
     "output_type": "execute_result",
     "data": {
      "text/plain": "array([100, 200, 300, 400])"
     },
     "metadata": {},
     "execution_count": 1
    }
   ],
   "source": [
    "import numpy as np \n",
    "x = np.array([1, 2, 3, 4])\n",
    "x * 100"
   ]
  },
  {
   "cell_type": "markdown",
   "metadata": {},
   "source": [
    "This <i>vectorization</i> of operations simplifies the syntax of operating on arrays of data:\n",
    "we no longer have to worry about the size or shape of the array, but just about what\n",
    "operation we want done. \n",
    "\n",
    "For arrays of strings, NumPy does not provide such simple\n",
    "access, and thus you’re stuck using a more verbose loop syntax:"
   ]
  },
  {
   "cell_type": "code",
   "execution_count": 2,
   "metadata": {},
   "outputs": [
    {
     "output_type": "execute_result",
     "data": {
      "text/plain": "['Rodgers', 'Omondi', 'Nyangweso']"
     },
     "metadata": {},
     "execution_count": 2
    }
   ],
   "source": [
    "data = ['rodgers', 'omondi', 'nyangweso']\n",
    "[i.capitalize() for i in data]"
   ]
  },
  {
   "cell_type": "markdown",
   "metadata": {},
   "source": [
    "This is perhaps sufficient to work with some data, but it will break if there are any\n",
    "missing values. For example:"
   ]
  },
  {
   "cell_type": "code",
   "execution_count": 3,
   "metadata": {},
   "outputs": [
    {
     "output_type": "error",
     "ename": "AttributeError",
     "evalue": "'NoneType' object has no attribute 'capitalize'",
     "traceback": [
      "\u001b[1;31m---------------------------------------------------------------------------\u001b[0m",
      "\u001b[1;31mAttributeError\u001b[0m                            Traceback (most recent call last)",
      "\u001b[1;32m<ipython-input-3-459e1e0aeb09>\u001b[0m in \u001b[0;36m<module>\u001b[1;34m\u001b[0m\n\u001b[0;32m      1\u001b[0m \u001b[0mdata\u001b[0m \u001b[1;33m=\u001b[0m \u001b[1;33m[\u001b[0m\u001b[1;34m'rodgers'\u001b[0m\u001b[1;33m,\u001b[0m \u001b[1;34m'omondi'\u001b[0m\u001b[1;33m,\u001b[0m \u001b[1;32mNone\u001b[0m\u001b[1;33m,\u001b[0m \u001b[1;34m'nyangweso'\u001b[0m\u001b[1;33m]\u001b[0m\u001b[1;33m\u001b[0m\u001b[1;33m\u001b[0m\u001b[0m\n\u001b[1;32m----> 2\u001b[1;33m \u001b[1;33m[\u001b[0m\u001b[0mi\u001b[0m\u001b[1;33m.\u001b[0m\u001b[0mcapitalize\u001b[0m\u001b[1;33m(\u001b[0m\u001b[1;33m)\u001b[0m \u001b[1;32mfor\u001b[0m \u001b[0mi\u001b[0m \u001b[1;32min\u001b[0m \u001b[0mdata\u001b[0m\u001b[1;33m]\u001b[0m\u001b[1;33m\u001b[0m\u001b[1;33m\u001b[0m\u001b[0m\n\u001b[0m",
      "\u001b[1;32m<ipython-input-3-459e1e0aeb09>\u001b[0m in \u001b[0;36m<listcomp>\u001b[1;34m(.0)\u001b[0m\n\u001b[0;32m      1\u001b[0m \u001b[0mdata\u001b[0m \u001b[1;33m=\u001b[0m \u001b[1;33m[\u001b[0m\u001b[1;34m'rodgers'\u001b[0m\u001b[1;33m,\u001b[0m \u001b[1;34m'omondi'\u001b[0m\u001b[1;33m,\u001b[0m \u001b[1;32mNone\u001b[0m\u001b[1;33m,\u001b[0m \u001b[1;34m'nyangweso'\u001b[0m\u001b[1;33m]\u001b[0m\u001b[1;33m\u001b[0m\u001b[1;33m\u001b[0m\u001b[0m\n\u001b[1;32m----> 2\u001b[1;33m \u001b[1;33m[\u001b[0m\u001b[0mi\u001b[0m\u001b[1;33m.\u001b[0m\u001b[0mcapitalize\u001b[0m\u001b[1;33m(\u001b[0m\u001b[1;33m)\u001b[0m \u001b[1;32mfor\u001b[0m \u001b[0mi\u001b[0m \u001b[1;32min\u001b[0m \u001b[0mdata\u001b[0m\u001b[1;33m]\u001b[0m\u001b[1;33m\u001b[0m\u001b[1;33m\u001b[0m\u001b[0m\n\u001b[0m",
      "\u001b[1;31mAttributeError\u001b[0m: 'NoneType' object has no attribute 'capitalize'"
     ]
    }
   ],
   "source": [
    "data = ['rodgers', 'omondi', None, 'nyangweso']\n",
    "[i.capitalize() for i in data]"
   ]
  },
  {
   "cell_type": "markdown",
   "metadata": {},
   "source": [
    "Pandas includes features to address both this need for vectorized string operations\n",
    "and for correctly handling missing data via the str attribute of Pandas Series and\n",
    "Index objects containing strings. So, for example, suppose we create a Pandas Series\n",
    "with this data:"
   ]
  },
  {
   "cell_type": "code",
   "execution_count": 4,
   "metadata": {},
   "outputs": [
    {
     "output_type": "execute_result",
     "data": {
      "text/plain": "0      rodgers\n1       omondi\n2         None\n3    nyangweso\ndtype: object"
     },
     "metadata": {},
     "execution_count": 4
    }
   ],
   "source": [
    "import pandas as pd\n",
    "names = pd.Series(data)\n",
    "names"
   ]
  },
  {
   "cell_type": "markdown",
   "metadata": {},
   "source": [
    "We can now call a single method that will capitalize all the entries, while skipping\n",
    "over any missing values:"
   ]
  },
  {
   "cell_type": "code",
   "execution_count": 5,
   "metadata": {},
   "outputs": [
    {
     "output_type": "execute_result",
     "data": {
      "text/plain": "0      Rodgers\n1       Omondi\n2         None\n3    Nyangweso\ndtype: object"
     },
     "metadata": {},
     "execution_count": 5
    }
   ],
   "source": [
    "names.str.capitalize()"
   ]
  },
  {
   "cell_type": "markdown",
   "metadata": {},
   "source": [
    "### Tables of Pandas String Methods\n",
    "If you have a good understanding of string manipulation in Python, most of Pandas’\n",
    "string syntax is intuitive enough that it’s probably sufficient to just list a table of available\n",
    "methods; we will start with that here, before diving deeper into a few of the subtleties.\n",
    "The examples in this section use the following series of names:"
   ]
  },
  {
   "cell_type": "code",
   "execution_count": 6,
   "metadata": {},
   "outputs": [
    {
     "output_type": "execute_result",
     "data": {
      "text/plain": "0    Graham Chapman\n1       John Cleese\n2     Terry Gilliam\n3         Eric Idle\n4       Terry Jones\n5     Michael Palin\ndtype: object"
     },
     "metadata": {},
     "execution_count": 6
    }
   ],
   "source": [
    "monte = pd.Series(['Graham Chapman', 'John Cleese', 'Terry Gilliam','Eric Idle', 'Terry Jones', 'Michael Palin'])\n",
    "monte"
   ]
  },
  {
   "cell_type": "markdown",
   "metadata": {},
   "source": [
    "### Methods similar to Python string methods\n",
    "Nearly all Python’s built-in string methods are mirrored by a Pandas vectorized string\n",
    "method. Here is a list of Pandas str methods that mirror Python string methods:"
   ]
  },
  {
   "cell_type": "markdown",
   "metadata": {},
   "source": [
    "<i>len(); ljust(); rjust(); center(); zfill(); strip(); rstrip(); lstrip(); lower(); upper(); find(); rfind(); index(); rindex(); capitalize(); swapcase(); translate(); startswith(); endswith(); isalnum(); isalpha(); isdigit(); isspace(); istitle(); islower(); isupper(); isnumeric(); isdecimal(); split(); rsplit(); partition(); rpartition()</i>"
   ]
  },
  {
   "cell_type": "markdown",
   "metadata": {},
   "source": [
    "Notice that these have various return values. Some, like lower(), return a series of\n",
    "strings:"
   ]
  },
  {
   "cell_type": "code",
   "execution_count": 7,
   "metadata": {},
   "outputs": [
    {
     "output_type": "execute_result",
     "data": {
      "text/plain": "0    graham chapman\n1       john cleese\n2     terry gilliam\n3         eric idle\n4       terry jones\n5     michael palin\ndtype: object"
     },
     "metadata": {},
     "execution_count": 7
    }
   ],
   "source": [
    "monte.str.lower()"
   ]
  },
  {
   "cell_type": "markdown",
   "metadata": {},
   "source": [
    "But some others return numbers:"
   ]
  },
  {
   "cell_type": "code",
   "execution_count": 8,
   "metadata": {},
   "outputs": [
    {
     "output_type": "execute_result",
     "data": {
      "text/plain": "0    14\n1    11\n2    13\n3     9\n4    11\n5    13\ndtype: int64"
     },
     "metadata": {},
     "execution_count": 8
    }
   ],
   "source": [
    "monte.str.len()"
   ]
  },
  {
   "cell_type": "code",
   "execution_count": 9,
   "metadata": {},
   "outputs": [
    {
     "output_type": "execute_result",
     "data": {
      "text/plain": "0    False\n1    False\n2     True\n3    False\n4     True\n5    False\ndtype: bool"
     },
     "metadata": {},
     "execution_count": 9
    }
   ],
   "source": [
    "# OR Boolean values:\n",
    "monte.str.startswith('T')"
   ]
  },
  {
   "cell_type": "code",
   "execution_count": 10,
   "metadata": {},
   "outputs": [
    {
     "output_type": "execute_result",
     "data": {
      "text/plain": "0    [Graham, Chapman]\n1       [John, Cleese]\n2     [Terry, Gilliam]\n3         [Eric, Idle]\n4       [Terry, Jones]\n5     [Michael, Palin]\ndtype: object"
     },
     "metadata": {},
     "execution_count": 10
    }
   ],
   "source": [
    "# Still others return lists or other compound values for each element:\n",
    "monte.str.split()"
   ]
  },
  {
   "cell_type": "markdown",
   "metadata": {},
   "source": [
    "## Methods using regular expressions\n",
    "In addition, there are several methods that accept regular expressions to examine the\n",
    "content of each string element, and follow some of the API conventions of Python’s\n",
    "built-in re module"
   ]
  },
  {
   "cell_type": "markdown",
   "metadata": {},
   "source": [
    "### Method & Description\n",
    "match(): Call re.match() on each element, returning a Boolean.\n",
    "\n",
    "extract(): Call re.match() on each element, returning matched groups as strings.\n",
    "\n",
    "findall(): Call re.findall() on each element.\n",
    "\n",
    "replace(): Replace occurrences of pattern with some other string.\n",
    "\n",
    "contains(): Call re.search() on each element, returning a Boolean.\n",
    "\n",
    "count(): Count occurrences of pattern.\n",
    "\n",
    "split(): Equivalent to str.split(), but accepts regexps.\n",
    "\n",
    "rsplit(): Equivalent to str.rsplit(), but accepts regexps."
   ]
  },
  {
   "cell_type": "markdown",
   "metadata": {},
   "source": [
    "With these, you can do a wide range of interesting operations. For example, we can\n",
    "extract the first name from each by asking for a contiguous group of characters at the\n",
    "beginning of each element:"
   ]
  },
  {
   "cell_type": "code",
   "execution_count": 11,
   "metadata": {},
   "outputs": [
    {
     "output_type": "execute_result",
     "data": {
      "text/plain": "         0\n0   Graham\n1     John\n2    Terry\n3     Eric\n4    Terry\n5  Michael",
      "text/html": "<div>\n<style scoped>\n    .dataframe tbody tr th:only-of-type {\n        vertical-align: middle;\n    }\n\n    .dataframe tbody tr th {\n        vertical-align: top;\n    }\n\n    .dataframe thead th {\n        text-align: right;\n    }\n</style>\n<table border=\"1\" class=\"dataframe\">\n  <thead>\n    <tr style=\"text-align: right;\">\n      <th></th>\n      <th>0</th>\n    </tr>\n  </thead>\n  <tbody>\n    <tr>\n      <th>0</th>\n      <td>Graham</td>\n    </tr>\n    <tr>\n      <th>1</th>\n      <td>John</td>\n    </tr>\n    <tr>\n      <th>2</th>\n      <td>Terry</td>\n    </tr>\n    <tr>\n      <th>3</th>\n      <td>Eric</td>\n    </tr>\n    <tr>\n      <th>4</th>\n      <td>Terry</td>\n    </tr>\n    <tr>\n      <th>5</th>\n      <td>Michael</td>\n    </tr>\n  </tbody>\n</table>\n</div>"
     },
     "metadata": {},
     "execution_count": 11
    }
   ],
   "source": [
    "# extract the first name from each \n",
    "monte.str.extract('([A-Za-z]+)')"
   ]
  },
  {
   "cell_type": "markdown",
   "metadata": {},
   "source": [
    "Or we can do something more complicated, like finding all names that start and end\n",
    "with a consonant, making use of the start-of-string (^) and end-of-string ($) regular\n",
    "expression characters:"
   ]
  },
  {
   "cell_type": "code",
   "execution_count": 12,
   "metadata": {},
   "outputs": [
    {
     "output_type": "execute_result",
     "data": {
      "text/plain": "0    [Graham Chapman]\n1                  []\n2     [Terry Gilliam]\n3                  []\n4       [Terry Jones]\n5     [Michael Palin]\ndtype: object"
     },
     "metadata": {},
     "execution_count": 12
    }
   ],
   "source": [
    "# finding all names that start with and ends with a consonant\n",
    "monte.str.findall(r'^[^AEIOU].*[^aeiou]$')"
   ]
  },
  {
   "cell_type": "markdown",
   "metadata": {},
   "source": [
    "The ability to concisely apply regular expressions across Series or DataFrame entries\n",
    "opens up many possibilities for analysis and cleaning of data."
   ]
  },
  {
   "cell_type": "markdown",
   "metadata": {},
   "source": [
    "### Miscellaneous methods\n",
    "Finally, there are some miscellaneous methods that enable other convenient operations"
   ]
  },
  {
   "cell_type": "markdown",
   "metadata": {},
   "source": [
    "### Method & Description\n",
    "get(): Index each element\n",
    "\n",
    "slice(): Slice each element\n",
    "\n",
    "slice_replace(): Replace slice in each element with passed value\n",
    "\n",
    "cat(): Concatenate strings\n",
    "\n",
    "repeat(): Repeat values\n",
    "\n",
    "normalize(): Return Unicode form of string\n",
    "\n",
    "pad(): Add whitespace to left, right, or both sides of strings\n",
    "\n",
    "wrap(): Split long strings into lines with length less than a given width\n",
    "\n",
    "join(): Join strings in each element of the Series with passed separator\n",
    "\n",
    "get_dummies(): Extract dummy variables as a DataFrame"
   ]
  },
  {
   "cell_type": "markdown",
   "metadata": {},
   "source": [
    "<mark><b>Vectorized item access and slicing</b></mark>. The <i>get()</i> and <i>slice()</i> operations, in particular,\n",
    "enable vectorized element access from each array. For example, we can get a slice of\n",
    "the first three characters of each array using str.slice(0, 3). Note that this behavior\n",
    "is also available through Python’s normal indexing syntax—for example,\n",
    "df.str.slice(0, 3) is equivalent to df.str[0:3]:"
   ]
  },
  {
   "cell_type": "code",
   "execution_count": 13,
   "metadata": {},
   "outputs": [
    {
     "output_type": "stream",
     "name": "stdout",
     "text": "0    Gra\n1    Joh\n2    Ter\n3    Eri\n4    Ter\n5    Mic\ndtype: object\n0    aham Chapman\n1       hn Cleese\n2     rry Gilliam\n3         ic Idle\n4       rry Jones\n5     chael Palin\ndtype: object\n0    a\n1    h\n2    r\n3    i\n4    r\n5    c\ndtype: object\n0    n\n1    e\n2    m\n3    e\n4    s\n5    n\ndtype: object\n"
    }
   ],
   "source": [
    "# slice, get\n",
    "print(monte.str[0:3]); print(monte.str.slice(2)); print(monte.str.get(2)); print(monte.str.get(-1))"
   ]
  },
  {
   "cell_type": "markdown",
   "metadata": {},
   "source": [
    "Indexing via df.str.get(i) and df.str[i] is similar."
   ]
  },
  {
   "cell_type": "code",
   "execution_count": 14,
   "metadata": {},
   "outputs": [
    {
     "output_type": "execute_result",
     "data": {
      "text/plain": "0    [Graham, Chapman]\n1       [John, Cleese]\n2     [Terry, Gilliam]\n3         [Eric, Idle]\n4       [Terry, Jones]\n5     [Michael, Palin]\ndtype: object"
     },
     "metadata": {},
     "execution_count": 14
    }
   ],
   "source": [
    "# split\n",
    "monte.str.split()"
   ]
  },
  {
   "cell_type": "markdown",
   "metadata": {},
   "source": [
    "These <i>get()</i> and<i> slice()</i> methods also let you access elements of arrays returned by\n",
    "<i>split()</i>. For example, to extract the last name of each entry, we can combine\n",
    "split() and get():"
   ]
  },
  {
   "cell_type": "code",
   "execution_count": 15,
   "metadata": {},
   "outputs": [
    {
     "output_type": "execute_result",
     "data": {
      "text/plain": "0    Chapman\n1     Cleese\n2    Gilliam\n3       Idle\n4      Jones\n5      Palin\ndtype: object"
     },
     "metadata": {},
     "execution_count": 15
    }
   ],
   "source": [
    "monte.str.split().str.get(-1)"
   ]
  },
  {
   "cell_type": "markdown",
   "metadata": {},
   "source": [
    "<mark><b>Indicator variables</b></mark>. Another method that requires a bit of extra explanation is the\n",
    "<i>get_dummies()</i> method. This is useful when your data has a column containing some\n",
    "sort of coded indicator. For example, we might have a dataset that contains information\n",
    "in the form of codes, such as A=“born in America,” B=“born in the United Kingdom,”\n",
    "C=“likes cheese,” D=“likes spam”:"
   ]
  },
  {
   "cell_type": "code",
   "execution_count": 16,
   "metadata": {},
   "outputs": [
    {
     "output_type": "execute_result",
     "data": {
      "text/plain": "             name   info\n0  Graham Chapman  B|C|D\n1     John Cleese    B|D\n2   Terry Gilliam    A|C\n3       Eric Idle    B|D\n4     Terry Jones    B|C\n5   Michael Palin  B|C|D",
      "text/html": "<div>\n<style scoped>\n    .dataframe tbody tr th:only-of-type {\n        vertical-align: middle;\n    }\n\n    .dataframe tbody tr th {\n        vertical-align: top;\n    }\n\n    .dataframe thead th {\n        text-align: right;\n    }\n</style>\n<table border=\"1\" class=\"dataframe\">\n  <thead>\n    <tr style=\"text-align: right;\">\n      <th></th>\n      <th>name</th>\n      <th>info</th>\n    </tr>\n  </thead>\n  <tbody>\n    <tr>\n      <th>0</th>\n      <td>Graham Chapman</td>\n      <td>B|C|D</td>\n    </tr>\n    <tr>\n      <th>1</th>\n      <td>John Cleese</td>\n      <td>B|D</td>\n    </tr>\n    <tr>\n      <th>2</th>\n      <td>Terry Gilliam</td>\n      <td>A|C</td>\n    </tr>\n    <tr>\n      <th>3</th>\n      <td>Eric Idle</td>\n      <td>B|D</td>\n    </tr>\n    <tr>\n      <th>4</th>\n      <td>Terry Jones</td>\n      <td>B|C</td>\n    </tr>\n    <tr>\n      <th>5</th>\n      <td>Michael Palin</td>\n      <td>B|C|D</td>\n    </tr>\n  </tbody>\n</table>\n</div>"
     },
     "metadata": {},
     "execution_count": 16
    }
   ],
   "source": [
    "full_monte = pd.DataFrame({'name': monte,'info': ['B|C|D', 'B|D', 'A|C', 'B|D', 'B|C','B|C|D']})\n",
    "full_monte"
   ]
  },
  {
   "cell_type": "markdown",
   "metadata": {},
   "source": [
    "The <i>get_dummies()</i> routine lets you quickly split out these indicator variables into a\n",
    "DataFrame:"
   ]
  },
  {
   "cell_type": "code",
   "execution_count": 17,
   "metadata": {},
   "outputs": [
    {
     "output_type": "execute_result",
     "data": {
      "text/plain": "   A  B  C  D\n0  0  1  1  1\n1  0  1  0  1\n2  1  0  1  0\n3  0  1  0  1\n4  0  1  1  0\n5  0  1  1  1",
      "text/html": "<div>\n<style scoped>\n    .dataframe tbody tr th:only-of-type {\n        vertical-align: middle;\n    }\n\n    .dataframe tbody tr th {\n        vertical-align: top;\n    }\n\n    .dataframe thead th {\n        text-align: right;\n    }\n</style>\n<table border=\"1\" class=\"dataframe\">\n  <thead>\n    <tr style=\"text-align: right;\">\n      <th></th>\n      <th>A</th>\n      <th>B</th>\n      <th>C</th>\n      <th>D</th>\n    </tr>\n  </thead>\n  <tbody>\n    <tr>\n      <th>0</th>\n      <td>0</td>\n      <td>1</td>\n      <td>1</td>\n      <td>1</td>\n    </tr>\n    <tr>\n      <th>1</th>\n      <td>0</td>\n      <td>1</td>\n      <td>0</td>\n      <td>1</td>\n    </tr>\n    <tr>\n      <th>2</th>\n      <td>1</td>\n      <td>0</td>\n      <td>1</td>\n      <td>0</td>\n    </tr>\n    <tr>\n      <th>3</th>\n      <td>0</td>\n      <td>1</td>\n      <td>0</td>\n      <td>1</td>\n    </tr>\n    <tr>\n      <th>4</th>\n      <td>0</td>\n      <td>1</td>\n      <td>1</td>\n      <td>0</td>\n    </tr>\n    <tr>\n      <th>5</th>\n      <td>0</td>\n      <td>1</td>\n      <td>1</td>\n      <td>1</td>\n    </tr>\n  </tbody>\n</table>\n</div>"
     },
     "metadata": {},
     "execution_count": 17
    }
   ],
   "source": [
    "full_monte['info'].str.get_dummies('|')"
   ]
  },
  {
   "cell_type": "markdown",
   "metadata": {},
   "source": [
    "With these operations as building blocks, you can construct an endless range of string\n",
    "processing procedures when cleaning your data."
   ]
  },
  {
   "cell_type": "markdown",
   "metadata": {},
   "source": [
    "## Example: Recipe Database\n",
    "These vectorized string operations become most useful in the process of cleaning up\n",
    "messy, real-world data. Here I’ll walk through an example of that, using an open\n",
    "recipe database compiled from various sources on the Web. Our goal will be to parse\n",
    "the recipe data into ingredient lists, so we can quickly find a recipe based on some\n",
    "ingredients we have on hand.\n",
    "\n",
    "The scripts used to compile this can be found at https://github.com/fictivekin/openrecipes , and the link to the current version of the database is found there as well.\n",
    "As of spring 2016, this database was about 30 MB."
   ]
  },
  {
   "cell_type": "markdown",
   "metadata": {},
   "source": [
    "The database is in JSON format, so we will try pd.read_json to read it:"
   ]
  },
  {
   "cell_type": "code",
   "execution_count": 18,
   "metadata": {},
   "outputs": [
    {
     "output_type": "stream",
     "name": "stdout",
     "text": "ValueError: Trailing data\n"
    }
   ],
   "source": [
    "try:\n",
    "    recipes = pd.read_json('openrecipes.json')\n",
    "except ValueError as e:\n",
    "    print(\"ValueError:\", e)"
   ]
  },
  {
   "cell_type": "markdown",
   "metadata": {},
   "source": [
    "Oops! We get a ValueError mentioning that there is “trailing data.” Searching for this\n",
    "error on the Internet, it seems that it’s due to using a file in which each line is itself a\n",
    "valid JSON, but the full file is not. Let’s check if this interpretation is true:"
   ]
  },
  {
   "cell_type": "code",
   "execution_count": 19,
   "metadata": {},
   "outputs": [
    {
     "output_type": "execute_result",
     "data": {
      "text/plain": "(1042, 9)"
     },
     "metadata": {},
     "execution_count": 19
    }
   ],
   "source": [
    "# read the entire file into a Python array\n",
    "with open('openrecipes.json', 'r') as f:\n",
    "    # Extract each line\n",
    "    data = (line.strip() for line in f)\n",
    "    # Reformat so each line is the element of a list\n",
    "    data_json = \"[{0}]\".format(','.join(data))\n",
    "# read the result as a JSON\n",
    "recipes = pd.read_json(data_json)\n",
    "recipes.shape"
   ]
  },
  {
   "cell_type": "markdown",
   "metadata": {},
   "source": [
    "We see there are nearly 1042 recipes, and 9 columns. Let’s take a look at one row\n",
    "to see what we have:"
   ]
  },
  {
   "cell_type": "code",
   "execution_count": 20,
   "metadata": {},
   "outputs": [
    {
     "output_type": "execute_result",
     "data": {
      "text/plain": "name                                      Easter Leftover Sandwich\ningredients      12 whole Hard Boiled Eggs\\n1/2 cup Mayonnaise\\...\nurl              http://thepioneerwoman.com/cooking/2013/04/eas...\nimage            http://static.thepioneerwoman.com/cooking/file...\ncookTime                                                        PT\nrecipeYield                                                      8\ndatePublished                                           2013-04-01\nprepTime                                                     PT15M\ndescription      Got leftover Easter eggs?    Got leftover East...\nName: 0, dtype: object"
     },
     "metadata": {},
     "execution_count": 20
    }
   ],
   "source": [
    "recipes.iloc[0]"
   ]
  },
  {
   "cell_type": "markdown",
   "metadata": {},
   "source": [
    "There is a lot of information there, but much of it is in a very messy form, as is typical\n",
    "of data scraped from the Web. In particular, the ingredient list is in string format;\n",
    "we’re going to have to carefully extract the information we’re interested in. Let’s start\n",
    "by taking a closer look at the ingredients:"
   ]
  },
  {
   "cell_type": "code",
   "execution_count": 21,
   "metadata": {},
   "outputs": [
    {
     "output_type": "execute_result",
     "data": {
      "text/plain": "count    1042.000000\nmean      358.645873\nstd       187.332133\nmin        22.000000\n25%       246.250000\n50%       338.000000\n75%       440.000000\nmax      3160.000000\nName: ingredients, dtype: float64"
     },
     "metadata": {},
     "execution_count": 21
    }
   ],
   "source": [
    "recipes.ingredients.str.len().describe()"
   ]
  },
  {
   "cell_type": "markdown",
   "metadata": {},
   "source": [
    "The ingredient lists average 358 characters long, with a minimum of 22 and a maximum\n",
    "of nearly 31600 characters!"
   ]
  },
  {
   "cell_type": "markdown",
   "metadata": {},
   "source": [
    "Just out of curiosity, let’s see which recipe has the longest ingredient list:"
   ]
  },
  {
   "cell_type": "code",
   "execution_count": 22,
   "metadata": {},
   "outputs": [
    {
     "output_type": "execute_result",
     "data": {
      "text/plain": "'A Nice Berry Pie'"
     },
     "metadata": {},
     "execution_count": 22
    }
   ],
   "source": [
    "recipes.name[np.argmax(recipes.ingredients.str.len())]"
   ]
  },
  {
   "cell_type": "markdown",
   "metadata": {},
   "source": [
    "We can do other aggregate explorations; for example, let’s see how many of the recipes\n",
    "are for breakfast food:"
   ]
  },
  {
   "cell_type": "code",
   "execution_count": 23,
   "metadata": {},
   "outputs": [
    {
     "output_type": "execute_result",
     "data": {
      "text/plain": "11"
     },
     "metadata": {},
     "execution_count": 23
    }
   ],
   "source": [
    "recipes.description.str.contains('[Bb]reakfast').sum()"
   ]
  },
  {
   "cell_type": "markdown",
   "metadata": {},
   "source": [
    "Or how many of the recipes list cinnamon as an ingredient:"
   ]
  },
  {
   "cell_type": "code",
   "execution_count": 24,
   "metadata": {},
   "outputs": [
    {
     "output_type": "execute_result",
     "data": {
      "text/plain": "79"
     },
     "metadata": {},
     "execution_count": 24
    }
   ],
   "source": [
    "recipes.ingredients.str.contains('[Cc]innamon').sum()"
   ]
  },
  {
   "cell_type": "markdown",
   "metadata": {},
   "source": [
    "We could even look to see whether any recipes misspell the ingredient as “cinamon”:"
   ]
  },
  {
   "cell_type": "code",
   "execution_count": 25,
   "metadata": {},
   "outputs": [
    {
     "output_type": "execute_result",
     "data": {
      "text/plain": "0"
     },
     "metadata": {},
     "execution_count": 25
    }
   ],
   "source": [
    "recipes.ingredients.str.contains('[Cc]inamon').sum()"
   ]
  },
  {
   "cell_type": "markdown",
   "metadata": {},
   "source": [
    "This is the type of essential data exploration that is possible with Pandas string tools.\n",
    "It is data munging like this that Python really excels at."
   ]
  }
 ]
}