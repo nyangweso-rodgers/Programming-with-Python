{
 "metadata": {
  "language_info": {
   "codemirror_mode": {
    "name": "ipython",
    "version": 3
   },
   "file_extension": ".py",
   "mimetype": "text/x-python",
   "name": "python",
   "nbconvert_exporter": "python",
   "pygments_lexer": "ipython3",
   "version": "3.7.6-final"
  },
  "orig_nbformat": 2,
  "kernelspec": {
   "name": "python3",
   "display_name": "Python 3",
   "language": "python"
  }
 },
 "nbformat": 4,
 "nbformat_minor": 2,
 "cells": [
  {
   "source": [
    "## Pandas apply, map and applymap"
   ],
   "cell_type": "markdown",
   "metadata": {}
  },
  {
   "source": [
    "#### When to use apply, applymap and map?\n",
    "__Apply__: It is used when you want to apply a function along the axis of a dataframe, it accepts a Series whose index is either column (axis=0) or row (axis=1). For example: __df.apply(np.square)__, it will give a dataframe with number squared\n",
    "\n",
    "__applymap__: It is used for element wise operation across one or more rows and columns of a dataframe. It has been optimized and some cases work faster than apply but it’s good to compare it with apply before going for any heavier operation . Example: __df.applymap(np.square)__, it will give a dataframe with number squared\n",
    "\n",
    "__map__: It can be used only for a Series object and helps to substitutes the series value from the lookup dictionary, Series or a function and missing value will be substituted as NaN. Since it works only with series or dictionary so you can expect a better and optimized performance. Example: __df[‘Col1’].map({‘Trenton’:’New Jersey’, ‘NYC’:’New York’, ‘Los Angeles’:’California’})__"
   ],
   "cell_type": "markdown",
   "metadata": {}
  },
  {
   "cell_type": "code",
   "execution_count": 1,
   "metadata": {},
   "outputs": [
    {
     "output_type": "execute_result",
     "data": {
      "text/plain": [
       "     a   b     c\n",
       "A1  10   5    10\n",
       "B1  20  10   100\n",
       "C1  30  15  1000"
      ],
      "text/html": "<div>\n<style scoped>\n    .dataframe tbody tr th:only-of-type {\n        vertical-align: middle;\n    }\n\n    .dataframe tbody tr th {\n        vertical-align: top;\n    }\n\n    .dataframe thead th {\n        text-align: right;\n    }\n</style>\n<table border=\"1\" class=\"dataframe\">\n  <thead>\n    <tr style=\"text-align: right;\">\n      <th></th>\n      <th>a</th>\n      <th>b</th>\n      <th>c</th>\n    </tr>\n  </thead>\n  <tbody>\n    <tr>\n      <th>A1</th>\n      <td>10</td>\n      <td>5</td>\n      <td>10</td>\n    </tr>\n    <tr>\n      <th>B1</th>\n      <td>20</td>\n      <td>10</td>\n      <td>100</td>\n    </tr>\n    <tr>\n      <th>C1</th>\n      <td>30</td>\n      <td>15</td>\n      <td>1000</td>\n    </tr>\n  </tbody>\n</table>\n</div>"
     },
     "metadata": {},
     "execution_count": 1
    }
   ],
   "source": [
    "import pandas as pd\n",
    "import numpy as np\n",
    "df = pd.DataFrame({'a' : [ 10,20,30],'b' : [5,10,15],'c' : [10,100,1000]},index=['A1','B1','C1'])\n",
    "df"
   ]
  },
  {
   "source": [
    "### How to use Pandas apply?"
   ],
   "cell_type": "markdown",
   "metadata": {}
  },
  {
   "cell_type": "code",
   "execution_count": 2,
   "metadata": {},
   "outputs": [],
   "source": [
    "# Define Functions\n",
    "def multiply_by_2(col):\n",
    "    # applied across the column\n",
    "    return col*2\n",
    "\n",
    "def multiply_col1_col2(col):\n",
    "    # applied across the rows of dataframe\n",
    "    return col['a']*col['b']"
   ]
  },
  {
   "source": [
    "#### Apply function across dataframe columns(axis=0)"
   ],
   "cell_type": "markdown",
   "metadata": {}
  },
  {
   "cell_type": "code",
   "execution_count": 3,
   "metadata": {},
   "outputs": [
    {
     "output_type": "execute_result",
     "data": {
      "text/plain": [
       "     a   b     c\n",
       "A1  20  10    20\n",
       "B1  40  20   200\n",
       "C1  60  30  2000"
      ],
      "text/html": "<div>\n<style scoped>\n    .dataframe tbody tr th:only-of-type {\n        vertical-align: middle;\n    }\n\n    .dataframe tbody tr th {\n        vertical-align: top;\n    }\n\n    .dataframe thead th {\n        text-align: right;\n    }\n</style>\n<table border=\"1\" class=\"dataframe\">\n  <thead>\n    <tr style=\"text-align: right;\">\n      <th></th>\n      <th>a</th>\n      <th>b</th>\n      <th>c</th>\n    </tr>\n  </thead>\n  <tbody>\n    <tr>\n      <th>A1</th>\n      <td>20</td>\n      <td>10</td>\n      <td>20</td>\n    </tr>\n    <tr>\n      <th>B1</th>\n      <td>40</td>\n      <td>20</td>\n      <td>200</td>\n    </tr>\n    <tr>\n      <th>C1</th>\n      <td>60</td>\n      <td>30</td>\n      <td>2000</td>\n    </tr>\n  </tbody>\n</table>\n</div>"
     },
     "metadata": {},
     "execution_count": 3
    }
   ],
   "source": [
    "# by default the value of axis=0, so we have to just pass the function without axis parameter\n",
    "df.apply(multiply_by_2) # All the cell values are doubled"
   ]
  },
  {
   "source": [
    "#### Apply function across dataframe rows(axis=1)\n",
    "Now apply the function multiply_col1_col2 across the rows of the dataframe. Here we have set the axis parameter as 1 (axis=1)"
   ],
   "cell_type": "markdown",
   "metadata": {}
  },
  {
   "cell_type": "code",
   "execution_count": 5,
   "metadata": {},
   "outputs": [
    {
     "output_type": "execute_result",
     "data": {
      "text/plain": [
       "A1     50\n",
       "B1    200\n",
       "C1    450\n",
       "dtype: int64"
      ]
     },
     "metadata": {},
     "execution_count": 5
    }
   ],
   "source": [
    "df.apply(multiply_col1_col2,axis=1)  # It will return a series object with values obtained by multiplying col1 and col2 with the same indexes"
   ]
  },
  {
   "source": [
    "#### Create a new Column col1xcol2 with the above series"
   ],
   "cell_type": "markdown",
   "metadata": {}
  },
  {
   "cell_type": "code",
   "execution_count": 6,
   "metadata": {},
   "outputs": [
    {
     "output_type": "execute_result",
     "data": {
      "text/plain": [
       "     a   b     c  col1Xcol2\n",
       "A1  10   5    10         50\n",
       "B1  20  10   100        200\n",
       "C1  30  15  1000        450"
      ],
      "text/html": "<div>\n<style scoped>\n    .dataframe tbody tr th:only-of-type {\n        vertical-align: middle;\n    }\n\n    .dataframe tbody tr th {\n        vertical-align: top;\n    }\n\n    .dataframe thead th {\n        text-align: right;\n    }\n</style>\n<table border=\"1\" class=\"dataframe\">\n  <thead>\n    <tr style=\"text-align: right;\">\n      <th></th>\n      <th>a</th>\n      <th>b</th>\n      <th>c</th>\n      <th>col1Xcol2</th>\n    </tr>\n  </thead>\n  <tbody>\n    <tr>\n      <th>A1</th>\n      <td>10</td>\n      <td>5</td>\n      <td>10</td>\n      <td>50</td>\n    </tr>\n    <tr>\n      <th>B1</th>\n      <td>20</td>\n      <td>10</td>\n      <td>100</td>\n      <td>200</td>\n    </tr>\n    <tr>\n      <th>C1</th>\n      <td>30</td>\n      <td>15</td>\n      <td>1000</td>\n      <td>450</td>\n    </tr>\n  </tbody>\n</table>\n</div>"
     },
     "metadata": {},
     "execution_count": 6
    }
   ],
   "source": [
    "df2 = df.copy()\n",
    "df2['col1Xcol2'] = df.apply(multiply_col1_col2,axis=1)\n",
    "df2"
   ]
  },
  {
   "source": [
    "### Pandas apply function with Result_type parameter\n",
    "It’s a parameter set to {__expand__, __reduce__ or __broadcast__} to get the desired type of result. the default value is __None__.\n",
    "\n",
    "In the above scenario if result_type is set to broadcast then the output will be a dataframe substituted by the Col1xCol2 value"
   ],
   "cell_type": "markdown",
   "metadata": {}
  },
  {
   "cell_type": "code",
   "execution_count": 7,
   "metadata": {},
   "outputs": [
    {
     "output_type": "execute_result",
     "data": {
      "text/plain": [
       "      a    b    c  col1Xcol2\n",
       "A1   50   50   50         50\n",
       "B1  200  200  200        200\n",
       "C1  450  450  450        450"
      ],
      "text/html": "<div>\n<style scoped>\n    .dataframe tbody tr th:only-of-type {\n        vertical-align: middle;\n    }\n\n    .dataframe tbody tr th {\n        vertical-align: top;\n    }\n\n    .dataframe thead th {\n        text-align: right;\n    }\n</style>\n<table border=\"1\" class=\"dataframe\">\n  <thead>\n    <tr style=\"text-align: right;\">\n      <th></th>\n      <th>a</th>\n      <th>b</th>\n      <th>c</th>\n      <th>col1Xcol2</th>\n    </tr>\n  </thead>\n  <tbody>\n    <tr>\n      <th>A1</th>\n      <td>50</td>\n      <td>50</td>\n      <td>50</td>\n      <td>50</td>\n    </tr>\n    <tr>\n      <th>B1</th>\n      <td>200</td>\n      <td>200</td>\n      <td>200</td>\n      <td>200</td>\n    </tr>\n    <tr>\n      <th>C1</th>\n      <td>450</td>\n      <td>450</td>\n      <td>450</td>\n      <td>450</td>\n    </tr>\n  </tbody>\n</table>\n</div>"
     },
     "metadata": {},
     "execution_count": 7
    }
   ],
   "source": [
    "# The results is broadcasted to the original shape of the frame, the original index and columns is retained\n",
    "df2.apply(multiply_col1_col2,axis=1,result_type='broadcast')"
   ]
  },
  {
   "cell_type": "code",
   "execution_count": 8,
   "metadata": {},
   "outputs": [],
   "source": [
    "def multi_and_list(col):\n",
    "    '''\n",
    "    function that returns a list value\n",
    "    '''\n",
    "    return [col['a']*2,col['b']*2,col['c']*2]"
   ]
  },
  {
   "cell_type": "code",
   "execution_count": 9,
   "metadata": {},
   "outputs": [
    {
     "output_type": "execute_result",
     "data": {
      "text/plain": [
       "     0   1     2\n",
       "A1  20  10    20\n",
       "B1  40  20   200\n",
       "C1  60  30  2000"
      ],
      "text/html": "<div>\n<style scoped>\n    .dataframe tbody tr th:only-of-type {\n        vertical-align: middle;\n    }\n\n    .dataframe tbody tr th {\n        vertical-align: top;\n    }\n\n    .dataframe thead th {\n        text-align: right;\n    }\n</style>\n<table border=\"1\" class=\"dataframe\">\n  <thead>\n    <tr style=\"text-align: right;\">\n      <th></th>\n      <th>0</th>\n      <th>1</th>\n      <th>2</th>\n    </tr>\n  </thead>\n  <tbody>\n    <tr>\n      <th>A1</th>\n      <td>20</td>\n      <td>10</td>\n      <td>20</td>\n    </tr>\n    <tr>\n      <th>B1</th>\n      <td>40</td>\n      <td>20</td>\n      <td>200</td>\n    </tr>\n    <tr>\n      <th>C1</th>\n      <td>60</td>\n      <td>30</td>\n      <td>2000</td>\n    </tr>\n  </tbody>\n</table>\n</div>"
     },
     "metadata": {},
     "execution_count": 9
    }
   ],
   "source": [
    "# Now apply this function across the dataframe column with result_type as expand\n",
    "df.apply(multi_and_list,axis=1,result_type='expand') "
   ]
  },
  {
   "source": [
    "if result_type is set as expand then It returns a dataframe though the function returns a list."
   ],
   "cell_type": "markdown",
   "metadata": {}
  },
  {
   "source": [
    "result_type reduce is just opposite of expand and returns a Series if possible rather than expanding list-like results"
   ],
   "cell_type": "markdown",
   "metadata": {}
  },
  {
   "cell_type": "code",
   "execution_count": 11,
   "metadata": {},
   "outputs": [
    {
     "output_type": "execute_result",
     "data": {
      "text/plain": [
       "A1      [20, 10, 20]\n",
       "B1     [40, 20, 200]\n",
       "C1    [60, 30, 2000]\n",
       "dtype: object"
      ]
     },
     "metadata": {},
     "execution_count": 11
    }
   ],
   "source": [
    "df.apply(multi_and_list,axis=1,result_type='reduce') "
   ]
  },
  {
   "source": [
    "### How to use lambda with apply?"
   ],
   "cell_type": "markdown",
   "metadata": {}
  },
  {
   "cell_type": "code",
   "execution_count": 13,
   "metadata": {},
   "outputs": [
    {
     "output_type": "execute_result",
     "data": {
      "text/plain": [
       "A1     50\n",
       "B1    200\n",
       "C1    450\n",
       "dtype: int64"
      ]
     },
     "metadata": {},
     "execution_count": 13
    }
   ],
   "source": [
    "# We will multiply the values at Col1 and Col2 using the lambda function. Since we have to apply this for each row so we will use axis=1\n",
    "df.apply(lambda x: x['a']*x['b'],axis=1)"
   ]
  },
  {
   "source": [
    "### Create a Function with argument"
   ],
   "cell_type": "markdown",
   "metadata": {}
  },
  {
   "cell_type": "code",
   "execution_count": 14,
   "metadata": {},
   "outputs": [],
   "source": [
    "from math import radians, cos, sin, asin, sqrt"
   ]
  },
  {
   "cell_type": "code",
   "execution_count": 15,
   "metadata": {},
   "outputs": [],
   "source": [
    "def haversine(row,rad):\n",
    "    '''\n",
    "    Calculate the great circle distance between two points on the earth (specified in decimal degrees)\n",
    "    '''\n",
    "    # convert decimal degrees to radians\n",
    "    lon1, lat1, lon2, lat2 = map(radians, [row['dest_long'], row['dest_lat'],row['orig_long'], row['orig_lat']])\n",
    "\n",
    "    # haversine formula\n",
    "    dlon = lon2 - lon1\n",
    "    dlat = lat2 - lat1\n",
    "    a = sin(dlat/2)**2 + cos(lat1) * cos(lat2) * sin(dlon/2)**2\n",
    "    c = 2 * asin(sqrt(a))\n",
    "    r = rad # Radius of earth in kilometers. Use 3956 for miles\n",
    "    return c * r"
   ]
  },
  {
   "cell_type": "code",
   "execution_count": 16,
   "metadata": {},
   "outputs": [
    {
     "output_type": "execute_result",
     "data": {
      "text/plain": [
       "     orig_city  orig_lat  orig_long  dest_city  dest_lat  dest_long\n",
       "0     New York   40.7128    74.0060    Trenton   40.2206    40.2206\n",
       "1    Charlotte   35.2271    80.8430      Texas   31.9686    31.9686\n",
       "2       Boston   42.3600    71.0589  Sunnyvale   37.3688    37.3688\n",
       "3  Bridgewater   40.5940    74.6040   San Jose   37.3382    37.3382"
      ],
      "text/html": "<div>\n<style scoped>\n    .dataframe tbody tr th:only-of-type {\n        vertical-align: middle;\n    }\n\n    .dataframe tbody tr th {\n        vertical-align: top;\n    }\n\n    .dataframe thead th {\n        text-align: right;\n    }\n</style>\n<table border=\"1\" class=\"dataframe\">\n  <thead>\n    <tr style=\"text-align: right;\">\n      <th></th>\n      <th>orig_city</th>\n      <th>orig_lat</th>\n      <th>orig_long</th>\n      <th>dest_city</th>\n      <th>dest_lat</th>\n      <th>dest_long</th>\n    </tr>\n  </thead>\n  <tbody>\n    <tr>\n      <th>0</th>\n      <td>New York</td>\n      <td>40.7128</td>\n      <td>74.0060</td>\n      <td>Trenton</td>\n      <td>40.2206</td>\n      <td>40.2206</td>\n    </tr>\n    <tr>\n      <th>1</th>\n      <td>Charlotte</td>\n      <td>35.2271</td>\n      <td>80.8430</td>\n      <td>Texas</td>\n      <td>31.9686</td>\n      <td>31.9686</td>\n    </tr>\n    <tr>\n      <th>2</th>\n      <td>Boston</td>\n      <td>42.3600</td>\n      <td>71.0589</td>\n      <td>Sunnyvale</td>\n      <td>37.3688</td>\n      <td>37.3688</td>\n    </tr>\n    <tr>\n      <th>3</th>\n      <td>Bridgewater</td>\n      <td>40.5940</td>\n      <td>74.6040</td>\n      <td>San Jose</td>\n      <td>37.3382</td>\n      <td>37.3382</td>\n    </tr>\n  </tbody>\n</table>\n</div>"
     },
     "metadata": {},
     "execution_count": 16
    }
   ],
   "source": [
    "# Create dataframe with origin and destination city latitude and longitude\n",
    "df_coords = pd.DataFrame({'orig_city':['New York','Charlotte','Boston','Bridgewater'],\n",
    "'orig_lat':[40.7128,35.2271,42.36,40.594],\n",
    "'orig_long':[74.006,80.843,71.0589,74.604],\n",
    "'dest_city':['Trenton','Texas','Sunnyvale','San Jose'],\n",
    "'dest_lat':[40.2206,31.9686,37.3688,37.3382],\n",
    "'dest_long':[40.2206,31.9686,37.3688,37.3382]})\n",
    "df_coords"
   ]
  },
  {
   "source": [
    "# Apply function with arguments\n",
    "Now we will find haversine distance between origin and destination city in the above dataframe. So we will apply the haversine function defined above using the apply function.\n",
    "\n",
    "In haversine function above rad is a required argument and the dataframe doesn’t have any radius column. We will pass the radius values as args=(3956,) in the apply function as a positional argument. to calculate distance in miles"
   ],
   "cell_type": "markdown",
   "metadata": {}
  },
  {
   "cell_type": "code",
   "execution_count": 24,
   "metadata": {},
   "outputs": [
    {
     "output_type": "execute_result",
     "data": {
      "text/plain": [
       "     orig_city  orig_lat  orig_long  dest_city  dest_lat  dest_long  \\\n",
       "0     New York   40.7128    74.0060    Trenton   40.2206    40.2206   \n",
       "1    Charlotte   35.2271    80.8430      Texas   31.9686    31.9686   \n",
       "2       Boston   42.3600    71.0589  Sunnyvale   37.3688    37.3688   \n",
       "3  Bridgewater   40.5940    74.6040   San Jose   37.3382    37.3382   \n",
       "\n",
       "   orig_dest_haver_dist  \n",
       "0           1763.974392  \n",
       "1           2791.594812  \n",
       "2           1806.117892  \n",
       "3           1998.176818  "
      ],
      "text/html": "<div>\n<style scoped>\n    .dataframe tbody tr th:only-of-type {\n        vertical-align: middle;\n    }\n\n    .dataframe tbody tr th {\n        vertical-align: top;\n    }\n\n    .dataframe thead th {\n        text-align: right;\n    }\n</style>\n<table border=\"1\" class=\"dataframe\">\n  <thead>\n    <tr style=\"text-align: right;\">\n      <th></th>\n      <th>orig_city</th>\n      <th>orig_lat</th>\n      <th>orig_long</th>\n      <th>dest_city</th>\n      <th>dest_lat</th>\n      <th>dest_long</th>\n      <th>orig_dest_haver_dist</th>\n    </tr>\n  </thead>\n  <tbody>\n    <tr>\n      <th>0</th>\n      <td>New York</td>\n      <td>40.7128</td>\n      <td>74.0060</td>\n      <td>Trenton</td>\n      <td>40.2206</td>\n      <td>40.2206</td>\n      <td>1763.974392</td>\n    </tr>\n    <tr>\n      <th>1</th>\n      <td>Charlotte</td>\n      <td>35.2271</td>\n      <td>80.8430</td>\n      <td>Texas</td>\n      <td>31.9686</td>\n      <td>31.9686</td>\n      <td>2791.594812</td>\n    </tr>\n    <tr>\n      <th>2</th>\n      <td>Boston</td>\n      <td>42.3600</td>\n      <td>71.0589</td>\n      <td>Sunnyvale</td>\n      <td>37.3688</td>\n      <td>37.3688</td>\n      <td>1806.117892</td>\n    </tr>\n    <tr>\n      <th>3</th>\n      <td>Bridgewater</td>\n      <td>40.5940</td>\n      <td>74.6040</td>\n      <td>San Jose</td>\n      <td>37.3382</td>\n      <td>37.3382</td>\n      <td>1998.176818</td>\n    </tr>\n  </tbody>\n</table>\n</div>"
     },
     "metadata": {},
     "execution_count": 24
    }
   ],
   "source": [
    "df['haversine_dist']=df_coords.apply(haversine,axis=1,args=(3956,))\n",
    "df_coords"
   ]
  },
  {
   "cell_type": "code",
   "execution_count": 21,
   "metadata": {},
   "outputs": [
    {
     "output_type": "execute_result",
     "data": {
      "text/plain": [
       "     orig_city  orig_lat  orig_long  dest_city  dest_lat  dest_long  \\\n",
       "0     New York   40.7128    74.0060    Trenton   40.2206    40.2206   \n",
       "1    Charlotte   35.2271    80.8430      Texas   31.9686    31.9686   \n",
       "2       Boston   42.3600    71.0589  Sunnyvale   37.3688    37.3688   \n",
       "3  Bridgewater   40.5940    74.6040   San Jose   37.3382    37.3382   \n",
       "\n",
       "   orig_dest_haver_dist  \n",
       "0           1763.974392  \n",
       "1           2791.594812  \n",
       "2           1806.117892  \n",
       "3           1998.176818  "
      ],
      "text/html": "<div>\n<style scoped>\n    .dataframe tbody tr th:only-of-type {\n        vertical-align: middle;\n    }\n\n    .dataframe tbody tr th {\n        vertical-align: top;\n    }\n\n    .dataframe thead th {\n        text-align: right;\n    }\n</style>\n<table border=\"1\" class=\"dataframe\">\n  <thead>\n    <tr style=\"text-align: right;\">\n      <th></th>\n      <th>orig_city</th>\n      <th>orig_lat</th>\n      <th>orig_long</th>\n      <th>dest_city</th>\n      <th>dest_lat</th>\n      <th>dest_long</th>\n      <th>orig_dest_haver_dist</th>\n    </tr>\n  </thead>\n  <tbody>\n    <tr>\n      <th>0</th>\n      <td>New York</td>\n      <td>40.7128</td>\n      <td>74.0060</td>\n      <td>Trenton</td>\n      <td>40.2206</td>\n      <td>40.2206</td>\n      <td>1763.974392</td>\n    </tr>\n    <tr>\n      <th>1</th>\n      <td>Charlotte</td>\n      <td>35.2271</td>\n      <td>80.8430</td>\n      <td>Texas</td>\n      <td>31.9686</td>\n      <td>31.9686</td>\n      <td>2791.594812</td>\n    </tr>\n    <tr>\n      <th>2</th>\n      <td>Boston</td>\n      <td>42.3600</td>\n      <td>71.0589</td>\n      <td>Sunnyvale</td>\n      <td>37.3688</td>\n      <td>37.3688</td>\n      <td>1806.117892</td>\n    </tr>\n    <tr>\n      <th>3</th>\n      <td>Bridgewater</td>\n      <td>40.5940</td>\n      <td>74.6040</td>\n      <td>San Jose</td>\n      <td>37.3382</td>\n      <td>37.3382</td>\n      <td>1998.176818</td>\n    </tr>\n  </tbody>\n</table>\n</div>"
     },
     "metadata": {},
     "execution_count": 21
    }
   ],
   "source": [
    "df_coords['orig_dest_haver_dist']=df_coords.apply(haversine,axis=1,rad=3956)\n",
    "df_coords"
   ]
  },
  {
   "source": [
    "### How to use Pandas applymap?\n",
    "it is used for element wise operation of a dataframe and a scalar value is returned for every elements. We will square each number in the above dataframe using lambda expression with applymap function"
   ],
   "cell_type": "markdown",
   "metadata": {}
  },
  {
   "cell_type": "code",
   "execution_count": 25,
   "metadata": {},
   "outputs": [
    {
     "output_type": "execute_result",
     "data": {
      "text/plain": [
       "      a    b        c  haversine_dist\n",
       "A1  100   25      100             NaN\n",
       "B1  400  100    10000             NaN\n",
       "C1  900  225  1000000             NaN"
      ],
      "text/html": "<div>\n<style scoped>\n    .dataframe tbody tr th:only-of-type {\n        vertical-align: middle;\n    }\n\n    .dataframe tbody tr th {\n        vertical-align: top;\n    }\n\n    .dataframe thead th {\n        text-align: right;\n    }\n</style>\n<table border=\"1\" class=\"dataframe\">\n  <thead>\n    <tr style=\"text-align: right;\">\n      <th></th>\n      <th>a</th>\n      <th>b</th>\n      <th>c</th>\n      <th>haversine_dist</th>\n    </tr>\n  </thead>\n  <tbody>\n    <tr>\n      <th>A1</th>\n      <td>100</td>\n      <td>25</td>\n      <td>100</td>\n      <td>NaN</td>\n    </tr>\n    <tr>\n      <th>B1</th>\n      <td>400</td>\n      <td>100</td>\n      <td>10000</td>\n      <td>NaN</td>\n    </tr>\n    <tr>\n      <th>C1</th>\n      <td>900</td>\n      <td>225</td>\n      <td>1000000</td>\n      <td>NaN</td>\n    </tr>\n  </tbody>\n</table>\n</div>"
     },
     "metadata": {},
     "execution_count": 25
    }
   ],
   "source": [
    "df.applymap(lambda x: x**2)"
   ]
  },
  {
   "source": [
    "__Remark:__ There are more vectorized way of doing this operation is available like df *2 which is much faster and optimized"
   ],
   "cell_type": "markdown",
   "metadata": {}
  },
  {
   "source": [
    "### How to use Pandas map?\n",
    "Maps are used to map or substitute a value from a lookup table i.e. a dictionary, function or a series here."
   ],
   "cell_type": "markdown",
   "metadata": {}
  },
  {
   "source": [
    "#### References\n",
    "1. https://kanoki.org/2019/11/25/pandas-apply-map-and-applymap/"
   ],
   "cell_type": "markdown",
   "metadata": {}
  },
  {
   "cell_type": "code",
   "execution_count": null,
   "metadata": {},
   "outputs": [],
   "source": []
  }
 ]
}