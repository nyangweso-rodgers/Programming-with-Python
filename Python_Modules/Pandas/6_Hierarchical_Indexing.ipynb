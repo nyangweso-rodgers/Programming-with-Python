{
 "nbformat": 4,
 "nbformat_minor": 2,
 "metadata": {
  "language_info": {
   "name": "python",
   "codemirror_mode": {
    "name": "ipython",
    "version": 3
   },
   "version": "3.7.4-final"
  },
  "orig_nbformat": 2,
  "file_extension": ".py",
  "mimetype": "text/x-python",
  "name": "python",
  "npconvert_exporter": "python",
  "pygments_lexer": "ipython3",
  "version": 3,
  "kernelspec": {
   "name": "python37464bitbaseconda08747ba86b4e47b190667d12a1bf6dd8",
   "display_name": "Python 3.7.4 64-bit ('base': conda)"
  }
 },
 "cells": [
  {
   "cell_type": "markdown",
   "metadata": {},
   "source": [
    "# Hierarchical Indexing"
   ]
  },
  {
   "cell_type": "markdown",
   "metadata": {},
   "source": [
    "Often\n",
    "it is useful to go beyond  one-dimensional and two-dimensional\n",
    "data stored in Pandas Series and DataFrame objects, and store higher-dimensional data. i.e., data indexed\n",
    "by more than one or two keys. While Pandas does provide Panel and Panel4D objects\n",
    "that natively handle three-dimensional and four-dimensional data , a far more common pattern in practice is to make use of hierarchical\n",
    "indexing (also known as multi-indexing) to incorporate multiple index levels within a\n",
    "single index. In this way, higher-dimensional data can be compactly represented\n",
    "within the familiar one-dimensional Series and two-dimensional DataFrame objects."
   ]
  },
  {
   "cell_type": "code",
   "execution_count": 1,
   "metadata": {},
   "outputs": [],
   "source": [
    "import pandas as pd \n",
    "import numpy as np "
   ]
  },
  {
   "cell_type": "markdown",
   "metadata": {},
   "source": [
    "### A Multiply Indexed Series\n",
    "Let’s start by considering how we might represent two-dimensional data within a\n",
    "one-dimensional Series. For concreteness, we will consider a series of data where\n",
    "each point has a character and numerical key."
   ]
  },
  {
   "cell_type": "markdown",
   "metadata": {},
   "source": [
    "#### The bad way\n",
    "Suppose you would like to track data about products from two different years. Using the\n",
    "Pandas tools , you might be tempted to simply use Python\n",
    "tuples as keys:"
   ]
  },
  {
   "cell_type": "code",
   "execution_count": 2,
   "metadata": {},
   "outputs": [
    {
     "output_type": "execute_result",
     "data": {
      "text/plain": "(Bananas, 2016)     33871648\n(Bananas, 2017)     37253956\n(Tomatoes, 2016)    18976457\n(Tomatoes, 2017)    19378102\n(Onions, 2016)      20851820\n(Onions, 2017)      25145561\ndtype: int64"
     },
     "metadata": {},
     "execution_count": 2
    }
   ],
   "source": [
    "index = [('Bananas', 2016), ('Bananas', 2017), ('Tomatoes', 2016), ('Tomatoes', 2017), ('Onions', 2016), ('Onions', 2017)]\n",
    "volume = [33871648, 37253956, 18976457, 19378102,20851820, 25145561]\n",
    "vol = pd.Series(volume, index=index)\n",
    "vol"
   ]
  },
  {
   "cell_type": "markdown",
   "metadata": {},
   "source": [
    "With this indexing scheme, you can straightforwardly index or slice the series based\n",
    "on this multiple index:"
   ]
  },
  {
   "cell_type": "code",
   "execution_count": 3,
   "metadata": {},
   "outputs": [
    {
     "output_type": "execute_result",
     "data": {
      "text/plain": "(Bananas, 2016)     33871648\n(Bananas, 2017)     37253956\n(Tomatoes, 2016)    18976457\n(Tomatoes, 2017)    19378102\ndtype: int64"
     },
     "metadata": {},
     "execution_count": 3
    }
   ],
   "source": [
    "vol[('Bananas', 2016) : ('Tomatoes', 2017)]"
   ]
  },
  {
   "cell_type": "markdown",
   "metadata": {},
   "source": [
    "But the convenience ends there. For example, if you need to select all values from\n",
    "2016, you’ll need to do some messy (and potentially slow) munging to make it\n",
    "happen:"
   ]
  },
  {
   "cell_type": "code",
   "execution_count": 4,
   "metadata": {},
   "outputs": [
    {
     "output_type": "execute_result",
     "data": {
      "text/plain": "(Bananas, 2016)     33871648\n(Tomatoes, 2016)    18976457\n(Onions, 2016)      20851820\ndtype: int64"
     },
     "metadata": {},
     "execution_count": 4
    }
   ],
   "source": [
    "# This produces the desired result, but is not as clean (or as efficient for large datasets) as the slicing syntax we’ve grown to love in Pandas.\n",
    "vol[[i for i in vol.index if i[1] == 2016]]"
   ]
  },
  {
   "cell_type": "markdown",
   "metadata": {},
   "source": [
    "### The better way: Pandas MultiIndex\n",
    "Fortunately, Pandas provides a better way. Our tuple-based indexing is essentially a\n",
    "rudimentary multi-index, and the Pandas MultiIndex type gives us the type of operations\n",
    "we wish to have. We can create a multi-index from the tuples as follows:"
   ]
  },
  {
   "cell_type": "code",
   "execution_count": 5,
   "metadata": {},
   "outputs": [
    {
     "output_type": "execute_result",
     "data": {
      "text/plain": "MultiIndex([( 'Bananas', 2016),\n            ( 'Bananas', 2017),\n            ('Tomatoes', 2016),\n            ('Tomatoes', 2017),\n            (  'Onions', 2016),\n            (  'Onions', 2017)],\n           )"
     },
     "metadata": {},
     "execution_count": 5
    }
   ],
   "source": [
    "index = pd.MultiIndex.from_tuples(index)\n",
    "index"
   ]
  },
  {
   "cell_type": "markdown",
   "metadata": {},
   "source": [
    "If we reindex our series with this MultiIndex, we see the hierarchical representation\n",
    "of the data:"
   ]
  },
  {
   "cell_type": "code",
   "execution_count": 6,
   "metadata": {},
   "outputs": [
    {
     "output_type": "execute_result",
     "data": {
      "text/plain": "Bananas   2016    33871648\n          2017    37253956\nTomatoes  2016    18976457\n          2017    19378102\nOnions    2016    20851820\n          2017    25145561\ndtype: int64"
     },
     "metadata": {},
     "execution_count": 6
    }
   ],
   "source": [
    "vol = vol.reindex(index)\n",
    "vol"
   ]
  },
  {
   "cell_type": "markdown",
   "metadata": {},
   "source": [
    "Here the first two columns of the Series representation show the multiple index values,\n",
    "while the third column shows the data. Notice that some entries are missing in\n",
    "the first column: in this multi-index representation, any blank entry indicates the\n",
    "same value as the line above it."
   ]
  },
  {
   "cell_type": "markdown",
   "metadata": {},
   "source": [
    "Now to access all data for which the second index is 2016, we can simply use the Pandas\n",
    "slicing notation:"
   ]
  },
  {
   "cell_type": "code",
   "execution_count": 7,
   "metadata": {},
   "outputs": [
    {
     "output_type": "execute_result",
     "data": {
      "text/plain": "Bananas     33871648\nTomatoes    18976457\nOnions      20851820\ndtype: int64"
     },
     "metadata": {},
     "execution_count": 7
    }
   ],
   "source": [
    "vol[:, 2016]"
   ]
  },
  {
   "cell_type": "markdown",
   "metadata": {},
   "source": [
    "The result is a singly indexed array with just the keys we’re interested in. This syntax\n",
    "is much more convenient (and the operation is much more efficient!) than the homespun\n",
    "tuple-based multi-indexing solution that we started with. We’ll now further discuss\n",
    "this sort of indexing operation on hierarchically indexed data."
   ]
  },
  {
   "cell_type": "markdown",
   "metadata": {},
   "source": [
    "### MultiIndex as extra dimension\n",
    "You might notice something else here: we could easily have stored the same data\n",
    "using a simple DataFrame with index and column labels. In fact, Pandas is built with\n",
    "this equivalence in mind. The unstack() method will quickly convert a multiplyindexed\n",
    "Series into a conventionally indexed DataFrame:"
   ]
  },
  {
   "cell_type": "code",
   "execution_count": 8,
   "metadata": {},
   "outputs": [
    {
     "output_type": "execute_result",
     "data": {
      "text/plain": "              2016      2017\nBananas   33871648  37253956\nOnions    20851820  25145561\nTomatoes  18976457  19378102",
      "text/html": "<div>\n<style scoped>\n    .dataframe tbody tr th:only-of-type {\n        vertical-align: middle;\n    }\n\n    .dataframe tbody tr th {\n        vertical-align: top;\n    }\n\n    .dataframe thead th {\n        text-align: right;\n    }\n</style>\n<table border=\"1\" class=\"dataframe\">\n  <thead>\n    <tr style=\"text-align: right;\">\n      <th></th>\n      <th>2016</th>\n      <th>2017</th>\n    </tr>\n  </thead>\n  <tbody>\n    <tr>\n      <th>Bananas</th>\n      <td>33871648</td>\n      <td>37253956</td>\n    </tr>\n    <tr>\n      <th>Onions</th>\n      <td>20851820</td>\n      <td>25145561</td>\n    </tr>\n    <tr>\n      <th>Tomatoes</th>\n      <td>18976457</td>\n      <td>19378102</td>\n    </tr>\n  </tbody>\n</table>\n</div>"
     },
     "metadata": {},
     "execution_count": 8
    }
   ],
   "source": [
    "# unstack method\n",
    "vol_df = vol.unstack()\n",
    "vol_df"
   ]
  },
  {
   "cell_type": "markdown",
   "metadata": {},
   "source": [
    "Naturally, the <b>stack()</b> method provides the opposite operation:"
   ]
  },
  {
   "cell_type": "code",
   "execution_count": 9,
   "metadata": {},
   "outputs": [
    {
     "output_type": "execute_result",
     "data": {
      "text/plain": "Bananas   2016    33871648\n          2017    37253956\nOnions    2016    20851820\n          2017    25145561\nTomatoes  2016    18976457\n          2017    19378102\ndtype: int64"
     },
     "metadata": {},
     "execution_count": 9
    }
   ],
   "source": [
    "# stack method\n",
    "vol_df.stack()"
   ]
  },
  {
   "cell_type": "markdown",
   "metadata": {},
   "source": [
    "Seeing this, you might wonder why would we would bother with hierarchical indexing\n",
    "at all. The reason is simple: just as we were able to use multi-indexing to represent two-dimensional data within a one-dimensional Series, we can also use it to represent\n",
    "data of three or more dimensions in a Series or DataFrame. Each extra level in a\n",
    "multi-index represents an extra dimension of data; taking advantage of this property\n",
    "gives us much more flexibility in the types of data we can represent. Concretely, we\n",
    "might want to add another column of pricing data for each product at each year\n",
    "; with a MultiIndex this is as easy as adding another column\n",
    "to the DataFrame:"
   ]
  },
  {
   "cell_type": "code",
   "execution_count": 10,
   "metadata": {},
   "outputs": [
    {
     "output_type": "execute_result",
     "data": {
      "text/plain": "                  total  unit_price\nBananas  2016  33871648          33\n         2017  37253956          34\nTomatoes 2016  18976457          68\n         2017  19378102          74\nOnions   2016  20851820          88\n         2017  25145561         101",
      "text/html": "<div>\n<style scoped>\n    .dataframe tbody tr th:only-of-type {\n        vertical-align: middle;\n    }\n\n    .dataframe tbody tr th {\n        vertical-align: top;\n    }\n\n    .dataframe thead th {\n        text-align: right;\n    }\n</style>\n<table border=\"1\" class=\"dataframe\">\n  <thead>\n    <tr style=\"text-align: right;\">\n      <th></th>\n      <th></th>\n      <th>total</th>\n      <th>unit_price</th>\n    </tr>\n  </thead>\n  <tbody>\n    <tr>\n      <th rowspan=\"2\" valign=\"top\">Bananas</th>\n      <th>2016</th>\n      <td>33871648</td>\n      <td>33</td>\n    </tr>\n    <tr>\n      <th>2017</th>\n      <td>37253956</td>\n      <td>34</td>\n    </tr>\n    <tr>\n      <th rowspan=\"2\" valign=\"top\">Tomatoes</th>\n      <th>2016</th>\n      <td>18976457</td>\n      <td>68</td>\n    </tr>\n    <tr>\n      <th>2017</th>\n      <td>19378102</td>\n      <td>74</td>\n    </tr>\n    <tr>\n      <th rowspan=\"2\" valign=\"top\">Onions</th>\n      <th>2016</th>\n      <td>20851820</td>\n      <td>88</td>\n    </tr>\n    <tr>\n      <th>2017</th>\n      <td>25145561</td>\n      <td>101</td>\n    </tr>\n  </tbody>\n</table>\n</div>"
     },
     "metadata": {},
     "execution_count": 10
    }
   ],
   "source": [
    "vol_df = pd.DataFrame({'total': vol,\n",
    "'unit_price': [33, 34,\n",
    "68, 74,\n",
    "88, 101]})\n",
    "vol_df"
   ]
  },
  {
   "cell_type": "markdown",
   "metadata": {},
   "source": [
    "In addition, all the ufuncs and other functionality  work with hierarchical indices as well. Here we compute the\n",
    "actual revenue by year, given the above data:"
   ]
  },
  {
   "cell_type": "code",
   "execution_count": 11,
   "metadata": {},
   "outputs": [
    {
     "output_type": "execute_result",
     "data": {
      "text/plain": "                2016        2017\nBananas   1117764384  1266634504\nOnions    1834960160  2539701661\nTomatoes  1290399076  1433979548",
      "text/html": "<div>\n<style scoped>\n    .dataframe tbody tr th:only-of-type {\n        vertical-align: middle;\n    }\n\n    .dataframe tbody tr th {\n        vertical-align: top;\n    }\n\n    .dataframe thead th {\n        text-align: right;\n    }\n</style>\n<table border=\"1\" class=\"dataframe\">\n  <thead>\n    <tr style=\"text-align: right;\">\n      <th></th>\n      <th>2016</th>\n      <th>2017</th>\n    </tr>\n  </thead>\n  <tbody>\n    <tr>\n      <th>Bananas</th>\n      <td>1117764384</td>\n      <td>1266634504</td>\n    </tr>\n    <tr>\n      <th>Onions</th>\n      <td>1834960160</td>\n      <td>2539701661</td>\n    </tr>\n    <tr>\n      <th>Tomatoes</th>\n      <td>1290399076</td>\n      <td>1433979548</td>\n    </tr>\n  </tbody>\n</table>\n</div>"
     },
     "metadata": {},
     "execution_count": 11
    }
   ],
   "source": [
    "# calculating yearly revenues\n",
    "rev = vol_df['total'] * vol_df['unit_price']\n",
    "rev.unstack()"
   ]
  },
  {
   "cell_type": "markdown",
   "metadata": {},
   "source": [
    "This allows us to easily and quickly manipulate and explore even high-dimensional\n",
    "data."
   ]
  },
  {
   "cell_type": "markdown",
   "metadata": {},
   "source": [
    "## Methods of MultiIndex Creation\n",
    "The most straightforward way to construct a multiply indexed Series or DataFrame\n",
    "is to simply pass a list of two or more index arrays to the constructor. For example:"
   ]
  },
  {
   "cell_type": "code",
   "execution_count": 12,
   "metadata": {},
   "outputs": [
    {
     "output_type": "execute_result",
     "data": {
      "text/plain": "        data1     data2\na 1  0.971049  0.826068\n  2  0.464429  0.596521\nb 1  0.372111  0.922033\n  2  0.700548  0.663310",
      "text/html": "<div>\n<style scoped>\n    .dataframe tbody tr th:only-of-type {\n        vertical-align: middle;\n    }\n\n    .dataframe tbody tr th {\n        vertical-align: top;\n    }\n\n    .dataframe thead th {\n        text-align: right;\n    }\n</style>\n<table border=\"1\" class=\"dataframe\">\n  <thead>\n    <tr style=\"text-align: right;\">\n      <th></th>\n      <th></th>\n      <th>data1</th>\n      <th>data2</th>\n    </tr>\n  </thead>\n  <tbody>\n    <tr>\n      <th rowspan=\"2\" valign=\"top\">a</th>\n      <th>1</th>\n      <td>0.971049</td>\n      <td>0.826068</td>\n    </tr>\n    <tr>\n      <th>2</th>\n      <td>0.464429</td>\n      <td>0.596521</td>\n    </tr>\n    <tr>\n      <th rowspan=\"2\" valign=\"top\">b</th>\n      <th>1</th>\n      <td>0.372111</td>\n      <td>0.922033</td>\n    </tr>\n    <tr>\n      <th>2</th>\n      <td>0.700548</td>\n      <td>0.663310</td>\n    </tr>\n  </tbody>\n</table>\n</div>"
     },
     "metadata": {},
     "execution_count": 12
    }
   ],
   "source": [
    "# MultiIndex Creation - passing a list of two or more index arrays to the constructor\n",
    "df = pd.DataFrame(np.random.rand(4, 2),\n",
    "index=[['a', 'a', 'b', 'b'], [1, 2, 1, 2]],\n",
    "columns=['data1', 'data2'])\n",
    "df"
   ]
  },
  {
   "cell_type": "markdown",
   "metadata": {},
   "source": [
    "Similarly, if you pass a dictionary with appropriate tuples as keys, Pandas will automatically\n",
    "recognize this and use a MultiIndex by default:"
   ]
  },
  {
   "cell_type": "code",
   "execution_count": 13,
   "metadata": {},
   "outputs": [
    {
     "output_type": "execute_result",
     "data": {
      "text/plain": "Bananas   2016    33871648\n          2017    37253956\nTomatoes  2016    20851820\n          2017    25145561\nOnions    2016    18976457\n          2017    19378102\ndtype: int64"
     },
     "metadata": {},
     "execution_count": 13
    }
   ],
   "source": [
    "# passing a dictionary with appropriate tuples as keys\n",
    "data = {('Bananas', 2016): 33871648,\n",
    "('Bananas', 2017): 37253956,\n",
    "('Tomatoes',  2016): 20851820,\n",
    "('Tomatoes', 2017): 25145561,\n",
    "('Onions',  2016): 18976457,\n",
    "('Onions', 2017): 19378102}\n",
    "pd.Series(data)"
   ]
  },
  {
   "cell_type": "markdown",
   "metadata": {},
   "source": [
    "Nevertheless, it is sometimes useful to explicitly create a MultiIndex; we’ll see a couple\n",
    "of these methods here."
   ]
  },
  {
   "cell_type": "markdown",
   "metadata": {},
   "source": [
    "### Explicit MultiIndex constructors\n",
    "For more flexibility in how the index is constructed, you can instead use the class\n",
    "method constructors available in the pd.MultiIndex. For example, as we did before,\n",
    "you can construct the MultiIndex from a simple list of arrays, giving the index values\n",
    "within each level:"
   ]
  },
  {
   "cell_type": "code",
   "execution_count": 14,
   "metadata": {},
   "outputs": [
    {
     "output_type": "execute_result",
     "data": {
      "text/plain": "MultiIndex([('a', 1),\n            ('a', 2),\n            ('b', 1),\n            ('b', 2)],\n           )"
     },
     "metadata": {},
     "execution_count": 14
    }
   ],
   "source": [
    "# MultiIndex from a simple list of arrays\n",
    "pd.MultiIndex.from_arrays([['a', 'a', 'b', 'b'], [1, 2, 1, 2]])"
   ]
  },
  {
   "cell_type": "code",
   "execution_count": 15,
   "metadata": {},
   "outputs": [
    {
     "output_type": "execute_result",
     "data": {
      "text/plain": "MultiIndex([('a', 1),\n            ('a', 2),\n            ('a', 3),\n            ('b', 1),\n            ('b', 2),\n            ('b', 3)],\n           )"
     },
     "metadata": {},
     "execution_count": 15
    }
   ],
   "source": [
    "# You can construct it from a list of tuples, giving the multiple index values of each point:\n",
    "pd.MultiIndex.from_tuples([('a', 1), ('a', 2), ('a', 3), ('b', 1), ('b', 2), ('b', 3)])"
   ]
  },
  {
   "cell_type": "code",
   "execution_count": 16,
   "metadata": {},
   "outputs": [
    {
     "output_type": "execute_result",
     "data": {
      "text/plain": "MultiIndex([('a', 1),\n            ('a', 2),\n            ('a', 3),\n            ('b', 1),\n            ('b', 2),\n            ('b', 3),\n            ('c', 1),\n            ('c', 2),\n            ('c', 3)],\n           )"
     },
     "metadata": {},
     "execution_count": 16
    }
   ],
   "source": [
    "# You can even construct it from a Cartesian product of single indices:\n",
    "pd.MultiIndex.from_product([['a', 'b', 'c'], [1, 2, 3]])"
   ]
  },
  {
   "cell_type": "markdown",
   "metadata": {},
   "source": [
    "Similarly, you can construct the MultiIndex directly using its internal encoding by\n",
    "passing levels (a list of lists containing available index values for each level) and\n",
    "labels (a list of lists that reference these labels):"
   ]
  },
  {
   "cell_type": "code",
   "execution_count": 17,
   "metadata": {},
   "outputs": [
    {
     "output_type": "execute_result",
     "data": {
      "text/plain": "MultiIndex([('a', 1),\n            ('a', 2),\n            ('b', 1),\n            ('b', 2)],\n           )"
     },
     "metadata": {},
     "execution_count": 17
    }
   ],
   "source": [
    "pd.MultiIndex(levels=[['a', 'b'], [1, 2]], labels=[[0, 0, 1, 1], [0, 1, 0, 1]])"
   ]
  },
  {
   "cell_type": "markdown",
   "metadata": {},
   "source": [
    "You can pass any of these objects as the index argument when creating a Series or\n",
    "DataFrame, or to the reindex method of an existing Series or DataFrame."
   ]
  },
  {
   "cell_type": "markdown",
   "metadata": {},
   "source": [
    "## MultiIndex level names\n",
    "Sometimes it is convenient to name the levels of the MultiIndex. You can accomplish\n",
    "this by passing the names argument to any of the above MultiIndex constructors, or\n",
    "by setting the names attribute of the index after the fact:"
   ]
  },
  {
   "cell_type": "code",
   "execution_count": 18,
   "metadata": {},
   "outputs": [
    {
     "output_type": "execute_result",
     "data": {
      "text/plain": "product   year\nBananas   2016    33871648\n          2017    37253956\nTomatoes  2016    18976457\n          2017    19378102\nOnions    2016    20851820\n          2017    25145561\ndtype: int64"
     },
     "metadata": {},
     "execution_count": 18
    }
   ],
   "source": [
    "vol.index.names = ['product', 'year']\n",
    "vol"
   ]
  },
  {
   "cell_type": "markdown",
   "metadata": {},
   "source": [
    "## MultiIndex for columns\n",
    "In a DataFrame, the rows and columns are completely symmetric, and just as the rows\n",
    "can have multiple levels of indices, the columns can have multiple levels as well. Consider\n",
    "the following, which is a mock-up of some (somewhat realistic) medical data:"
   ]
  },
  {
   "cell_type": "code",
   "execution_count": 19,
   "metadata": {},
   "outputs": [
    {
     "output_type": "execute_result",
     "data": {
      "text/plain": "subject      Bob       Guido         Sue      \ntype          HR  Temp    HR  Temp    HR  Temp\nyear visit                                    \n2013 1      34.0  37.7  40.0  36.5  43.0  37.1\n     2      43.0  36.4  43.0  37.4  42.0  36.2\n2014 1      35.0  38.1  38.0  37.2  46.0  37.0\n     2      41.0  38.4  46.0  38.6  42.0  35.5",
      "text/html": "<div>\n<style scoped>\n    .dataframe tbody tr th:only-of-type {\n        vertical-align: middle;\n    }\n\n    .dataframe tbody tr th {\n        vertical-align: top;\n    }\n\n    .dataframe thead tr th {\n        text-align: left;\n    }\n\n    .dataframe thead tr:last-of-type th {\n        text-align: right;\n    }\n</style>\n<table border=\"1\" class=\"dataframe\">\n  <thead>\n    <tr>\n      <th></th>\n      <th>subject</th>\n      <th colspan=\"2\" halign=\"left\">Bob</th>\n      <th colspan=\"2\" halign=\"left\">Guido</th>\n      <th colspan=\"2\" halign=\"left\">Sue</th>\n    </tr>\n    <tr>\n      <th></th>\n      <th>type</th>\n      <th>HR</th>\n      <th>Temp</th>\n      <th>HR</th>\n      <th>Temp</th>\n      <th>HR</th>\n      <th>Temp</th>\n    </tr>\n    <tr>\n      <th>year</th>\n      <th>visit</th>\n      <th></th>\n      <th></th>\n      <th></th>\n      <th></th>\n      <th></th>\n      <th></th>\n    </tr>\n  </thead>\n  <tbody>\n    <tr>\n      <th rowspan=\"2\" valign=\"top\">2013</th>\n      <th>1</th>\n      <td>34.0</td>\n      <td>37.7</td>\n      <td>40.0</td>\n      <td>36.5</td>\n      <td>43.0</td>\n      <td>37.1</td>\n    </tr>\n    <tr>\n      <th>2</th>\n      <td>43.0</td>\n      <td>36.4</td>\n      <td>43.0</td>\n      <td>37.4</td>\n      <td>42.0</td>\n      <td>36.2</td>\n    </tr>\n    <tr>\n      <th rowspan=\"2\" valign=\"top\">2014</th>\n      <th>1</th>\n      <td>35.0</td>\n      <td>38.1</td>\n      <td>38.0</td>\n      <td>37.2</td>\n      <td>46.0</td>\n      <td>37.0</td>\n    </tr>\n    <tr>\n      <th>2</th>\n      <td>41.0</td>\n      <td>38.4</td>\n      <td>46.0</td>\n      <td>38.6</td>\n      <td>42.0</td>\n      <td>35.5</td>\n    </tr>\n  </tbody>\n</table>\n</div>"
     },
     "metadata": {},
     "execution_count": 19
    }
   ],
   "source": [
    "# hierarchical indices and columns\n",
    "index = pd.MultiIndex.from_product([[2013, 2014], [1, 2]], names=['year', 'visit'])\n",
    "columns = pd.MultiIndex.from_product([['Bob', 'Guido', 'Sue'], ['HR', 'Temp']], names=['subject', 'type'])\n",
    "# mock some data\n",
    "data = np.round(np.random.randn(4, 6), 1)\n",
    "data[:, ::2] *= 10\n",
    "data += 37\n",
    "# create the DataFrame\n",
    "health_data = pd.DataFrame(data, index=index, columns=columns)\n",
    "health_data"
   ]
  },
  {
   "cell_type": "markdown",
   "metadata": {},
   "source": [
    "Here we see where the multi-indexing for both rows and columns can come in very\n",
    "handy. This is fundamentally four-dimensional data, where the dimensions are the\n",
    "subject, the measurement type, the year, and the visit number. With this in place we\n",
    "can, for example, index the top-level column by the person’s name and get a full Data\n",
    "Frame containing just that person’s information:"
   ]
  },
  {
   "cell_type": "code",
   "execution_count": 20,
   "metadata": {},
   "outputs": [
    {
     "output_type": "execute_result",
     "data": {
      "text/plain": "type          HR  Temp\nyear visit            \n2013 1      40.0  36.5\n     2      43.0  37.4\n2014 1      38.0  37.2\n     2      46.0  38.6",
      "text/html": "<div>\n<style scoped>\n    .dataframe tbody tr th:only-of-type {\n        vertical-align: middle;\n    }\n\n    .dataframe tbody tr th {\n        vertical-align: top;\n    }\n\n    .dataframe thead th {\n        text-align: right;\n    }\n</style>\n<table border=\"1\" class=\"dataframe\">\n  <thead>\n    <tr style=\"text-align: right;\">\n      <th></th>\n      <th>type</th>\n      <th>HR</th>\n      <th>Temp</th>\n    </tr>\n    <tr>\n      <th>year</th>\n      <th>visit</th>\n      <th></th>\n      <th></th>\n    </tr>\n  </thead>\n  <tbody>\n    <tr>\n      <th rowspan=\"2\" valign=\"top\">2013</th>\n      <th>1</th>\n      <td>40.0</td>\n      <td>36.5</td>\n    </tr>\n    <tr>\n      <th>2</th>\n      <td>43.0</td>\n      <td>37.4</td>\n    </tr>\n    <tr>\n      <th rowspan=\"2\" valign=\"top\">2014</th>\n      <th>1</th>\n      <td>38.0</td>\n      <td>37.2</td>\n    </tr>\n    <tr>\n      <th>2</th>\n      <td>46.0</td>\n      <td>38.6</td>\n    </tr>\n  </tbody>\n</table>\n</div>"
     },
     "metadata": {},
     "execution_count": 20
    }
   ],
   "source": [
    "health_data['Guido']"
   ]
  },
  {
   "cell_type": "markdown",
   "metadata": {},
   "source": [
    "For complicated records containing multiple labeled measurements across multiple\n",
    "times for many subjects (people, countries, cities, etc.), use of hierarchical rows and\n",
    "columns can be extremely convenient!"
   ]
  },
  {
   "cell_type": "markdown",
   "metadata": {},
   "source": [
    "## Indexing and Slicing a MultiIndex\n",
    "Indexing and slicing on a MultiIndex is designed to be intuitive, and it helps if you\n",
    "think about the indices as added dimensions. We’ll first look at indexing multiply\n",
    "indexed Series, and then multiply indexed DataFrames."
   ]
  },
  {
   "cell_type": "markdown",
   "metadata": {},
   "source": [
    "### Multiply indexed Series\n",
    "Consider the multiply indexed Series of state populations we saw earlier:"
   ]
  },
  {
   "cell_type": "code",
   "execution_count": 21,
   "metadata": {},
   "outputs": [
    {
     "output_type": "execute_result",
     "data": {
      "text/plain": "product   year\nBananas   2016    33871648\n          2017    37253956\nTomatoes  2016    18976457\n          2017    19378102\nOnions    2016    20851820\n          2017    25145561\ndtype: int64"
     },
     "metadata": {},
     "execution_count": 21
    }
   ],
   "source": [
    "vol"
   ]
  },
  {
   "cell_type": "markdown",
   "metadata": {},
   "source": [
    "We can access single elements by indexing with multiple terms:"
   ]
  },
  {
   "cell_type": "code",
   "execution_count": 22,
   "metadata": {},
   "outputs": [
    {
     "output_type": "execute_result",
     "data": {
      "text/plain": "33871648"
     },
     "metadata": {},
     "execution_count": 22
    }
   ],
   "source": [
    "# accessing single elements by indexing with multiple terms\n",
    "vol['Bananas', 2016]"
   ]
  },
  {
   "cell_type": "markdown",
   "metadata": {},
   "source": [
    "The MultiIndex also supports partial indexing, or indexing just one of the levels in\n",
    "the index. The result is another Series, with the lower-level indices maintained:"
   ]
  },
  {
   "cell_type": "code",
   "execution_count": 23,
   "metadata": {},
   "outputs": [
    {
     "output_type": "execute_result",
     "data": {
      "text/plain": "year\n2016    33871648\n2017    37253956\ndtype: int64"
     },
     "metadata": {},
     "execution_count": 23
    }
   ],
   "source": [
    "# partial indexing\n",
    "vol['Bananas']"
   ]
  },
  {
   "cell_type": "markdown",
   "metadata": {},
   "source": [
    "With sorted indices, we can perform partial indexing on lower levels by passing an\n",
    "empty slice in the first index:"
   ]
  },
  {
   "cell_type": "code",
   "execution_count": 24,
   "metadata": {},
   "outputs": [
    {
     "output_type": "execute_result",
     "data": {
      "text/plain": "product\nBananas     33871648\nTomatoes    18976457\nOnions      20851820\ndtype: int64"
     },
     "metadata": {},
     "execution_count": 24
    }
   ],
   "source": [
    "vol[:, 2016]"
   ]
  },
  {
   "cell_type": "code",
   "execution_count": 25,
   "metadata": {},
   "outputs": [
    {
     "output_type": "execute_result",
     "data": {
      "text/plain": "product  year\nBananas  2016    33871648\n         2017    37253956\nOnions   2016    20851820\n         2017    25145561\ndtype: int64"
     },
     "metadata": {},
     "execution_count": 25
    }
   ],
   "source": [
    "# Other types of indexing and selection  work as well; for example, selection based on Boolean masks:\n",
    "vol[vol > 20000000]"
   ]
  },
  {
   "cell_type": "code",
   "execution_count": 26,
   "metadata": {},
   "outputs": [
    {
     "output_type": "execute_result",
     "data": {
      "text/plain": "product   year\nBananas   2016    33871648\n          2017    37253956\nTomatoes  2016    18976457\n          2017    19378102\ndtype: int64"
     },
     "metadata": {},
     "execution_count": 26
    }
   ],
   "source": [
    "# Selection based on fancy indexing also works:\n",
    "vol[['Bananas', 'Tomatoes']]"
   ]
  },
  {
   "cell_type": "markdown",
   "metadata": {},
   "source": [
    "## Multiply indexed DataFrames\n",
    "A multiply indexed DataFrame behaves in a similar manner. Consider our toy medical\n",
    "DataFrame from before:"
   ]
  },
  {
   "cell_type": "code",
   "execution_count": 27,
   "metadata": {},
   "outputs": [
    {
     "output_type": "execute_result",
     "data": {
      "text/plain": "subject      Bob       Guido         Sue      \ntype          HR  Temp    HR  Temp    HR  Temp\nyear visit                                    \n2013 1      34.0  37.7  40.0  36.5  43.0  37.1\n     2      43.0  36.4  43.0  37.4  42.0  36.2\n2014 1      35.0  38.1  38.0  37.2  46.0  37.0\n     2      41.0  38.4  46.0  38.6  42.0  35.5",
      "text/html": "<div>\n<style scoped>\n    .dataframe tbody tr th:only-of-type {\n        vertical-align: middle;\n    }\n\n    .dataframe tbody tr th {\n        vertical-align: top;\n    }\n\n    .dataframe thead tr th {\n        text-align: left;\n    }\n\n    .dataframe thead tr:last-of-type th {\n        text-align: right;\n    }\n</style>\n<table border=\"1\" class=\"dataframe\">\n  <thead>\n    <tr>\n      <th></th>\n      <th>subject</th>\n      <th colspan=\"2\" halign=\"left\">Bob</th>\n      <th colspan=\"2\" halign=\"left\">Guido</th>\n      <th colspan=\"2\" halign=\"left\">Sue</th>\n    </tr>\n    <tr>\n      <th></th>\n      <th>type</th>\n      <th>HR</th>\n      <th>Temp</th>\n      <th>HR</th>\n      <th>Temp</th>\n      <th>HR</th>\n      <th>Temp</th>\n    </tr>\n    <tr>\n      <th>year</th>\n      <th>visit</th>\n      <th></th>\n      <th></th>\n      <th></th>\n      <th></th>\n      <th></th>\n      <th></th>\n    </tr>\n  </thead>\n  <tbody>\n    <tr>\n      <th rowspan=\"2\" valign=\"top\">2013</th>\n      <th>1</th>\n      <td>34.0</td>\n      <td>37.7</td>\n      <td>40.0</td>\n      <td>36.5</td>\n      <td>43.0</td>\n      <td>37.1</td>\n    </tr>\n    <tr>\n      <th>2</th>\n      <td>43.0</td>\n      <td>36.4</td>\n      <td>43.0</td>\n      <td>37.4</td>\n      <td>42.0</td>\n      <td>36.2</td>\n    </tr>\n    <tr>\n      <th rowspan=\"2\" valign=\"top\">2014</th>\n      <th>1</th>\n      <td>35.0</td>\n      <td>38.1</td>\n      <td>38.0</td>\n      <td>37.2</td>\n      <td>46.0</td>\n      <td>37.0</td>\n    </tr>\n    <tr>\n      <th>2</th>\n      <td>41.0</td>\n      <td>38.4</td>\n      <td>46.0</td>\n      <td>38.6</td>\n      <td>42.0</td>\n      <td>35.5</td>\n    </tr>\n  </tbody>\n</table>\n</div>"
     },
     "metadata": {},
     "execution_count": 27
    }
   ],
   "source": [
    "health_data"
   ]
  },
  {
   "cell_type": "markdown",
   "metadata": {},
   "source": [
    "Remember that columns are primary in a DataFrame, and the syntax used for multiply\n",
    "indexed Series applies to the columns. For example, we can recover Guido’s heart\n",
    "rate data with a simple operation:"
   ]
  },
  {
   "cell_type": "code",
   "execution_count": 28,
   "metadata": {},
   "outputs": [
    {
     "output_type": "execute_result",
     "data": {
      "text/plain": "year  visit\n2013  1        40.0\n      2        43.0\n2014  1        38.0\n      2        46.0\nName: (Guido, HR), dtype: float64"
     },
     "metadata": {},
     "execution_count": 28
    }
   ],
   "source": [
    "health_data['Guido', 'HR']"
   ]
  },
  {
   "cell_type": "markdown",
   "metadata": {},
   "source": [
    "Also, as with the single-index case, we can use the loc, iloc, and ix indexers For example:"
   ]
  },
  {
   "cell_type": "code",
   "execution_count": 29,
   "metadata": {},
   "outputs": [
    {
     "output_type": "execute_result",
     "data": {
      "text/plain": "subject      Bob      \ntype          HR  Temp\nyear visit            \n2013 1      34.0  37.7\n     2      43.0  36.4",
      "text/html": "<div>\n<style scoped>\n    .dataframe tbody tr th:only-of-type {\n        vertical-align: middle;\n    }\n\n    .dataframe tbody tr th {\n        vertical-align: top;\n    }\n\n    .dataframe thead tr th {\n        text-align: left;\n    }\n\n    .dataframe thead tr:last-of-type th {\n        text-align: right;\n    }\n</style>\n<table border=\"1\" class=\"dataframe\">\n  <thead>\n    <tr>\n      <th></th>\n      <th>subject</th>\n      <th colspan=\"2\" halign=\"left\">Bob</th>\n    </tr>\n    <tr>\n      <th></th>\n      <th>type</th>\n      <th>HR</th>\n      <th>Temp</th>\n    </tr>\n    <tr>\n      <th>year</th>\n      <th>visit</th>\n      <th></th>\n      <th></th>\n    </tr>\n  </thead>\n  <tbody>\n    <tr>\n      <th rowspan=\"2\" valign=\"top\">2013</th>\n      <th>1</th>\n      <td>34.0</td>\n      <td>37.7</td>\n    </tr>\n    <tr>\n      <th>2</th>\n      <td>43.0</td>\n      <td>36.4</td>\n    </tr>\n  </tbody>\n</table>\n</div>"
     },
     "metadata": {},
     "execution_count": 29
    }
   ],
   "source": [
    "health_data.iloc[:2, :2]"
   ]
  },
  {
   "cell_type": "markdown",
   "metadata": {},
   "source": [
    "These indexers provide an array-like view of the underlying two-dimensional data,\n",
    "but each individual index in loc or iloc can be passed a tuple of multiple indices. For\n",
    "example:"
   ]
  },
  {
   "cell_type": "code",
   "execution_count": 30,
   "metadata": {},
   "outputs": [
    {
     "output_type": "execute_result",
     "data": {
      "text/plain": "year  visit\n2013  1        34.0\n      2        43.0\n2014  1        35.0\n      2        41.0\nName: (Bob, HR), dtype: float64"
     },
     "metadata": {},
     "execution_count": 30
    }
   ],
   "source": [
    "health_data.loc[:, ('Bob', 'HR')]"
   ]
  },
  {
   "cell_type": "code",
   "execution_count": 31,
   "metadata": {},
   "outputs": [
    {
     "output_type": "execute_result",
     "data": {
      "text/plain": "subject      Bob Guido   Sue\ntype          HR    HR    HR\nyear visit                  \n2013 1      34.0  40.0  43.0\n2014 1      35.0  38.0  46.0",
      "text/html": "<div>\n<style scoped>\n    .dataframe tbody tr th:only-of-type {\n        vertical-align: middle;\n    }\n\n    .dataframe tbody tr th {\n        vertical-align: top;\n    }\n\n    .dataframe thead tr th {\n        text-align: left;\n    }\n\n    .dataframe thead tr:last-of-type th {\n        text-align: right;\n    }\n</style>\n<table border=\"1\" class=\"dataframe\">\n  <thead>\n    <tr>\n      <th></th>\n      <th>subject</th>\n      <th>Bob</th>\n      <th>Guido</th>\n      <th>Sue</th>\n    </tr>\n    <tr>\n      <th></th>\n      <th>type</th>\n      <th>HR</th>\n      <th>HR</th>\n      <th>HR</th>\n    </tr>\n    <tr>\n      <th>year</th>\n      <th>visit</th>\n      <th></th>\n      <th></th>\n      <th></th>\n    </tr>\n  </thead>\n  <tbody>\n    <tr>\n      <th>2013</th>\n      <th>1</th>\n      <td>34.0</td>\n      <td>40.0</td>\n      <td>43.0</td>\n    </tr>\n    <tr>\n      <th>2014</th>\n      <th>1</th>\n      <td>35.0</td>\n      <td>38.0</td>\n      <td>46.0</td>\n    </tr>\n  </tbody>\n</table>\n</div>"
     },
     "metadata": {},
     "execution_count": 31
    }
   ],
   "source": [
    "idx = pd.IndexSlice\n",
    "health_data.loc[idx[:, 1], idx[:, 'HR']]"
   ]
  },
  {
   "cell_type": "markdown",
   "metadata": {},
   "source": [
    "## Rearranging Multi-Indices\n",
    "One of the keys to working with multiply indexed data is knowing how to effectively\n",
    "transform the data. There are a number of operations that will preserve all the information\n",
    "in the dataset, but rearrange it for the purposes of various computations. We\n",
    "saw a brief example of this in the stack() and unstack() methods, but there are\n",
    "many more ways to finely control the rearrangement of data between hierarchical\n",
    "indices and columns, and we’ll explore them here."
   ]
  },
  {
   "cell_type": "markdown",
   "metadata": {},
   "source": [
    "### Sorted and unsorted indices\n",
    "Many of the MultiIndex slicing operations will fail if the index is not sorted. Let’s take a look at\n",
    "this here.\n",
    "We’ll start by creating some simple multiply indexed data where the indices are not\n",
    "lexographically sorted:"
   ]
  },
  {
   "cell_type": "code",
   "execution_count": 32,
   "metadata": {},
   "outputs": [
    {
     "output_type": "execute_result",
     "data": {
      "text/plain": "char  int\na     1      0.077155\n      2      0.336472\nc     1      0.219946\n      2      0.782738\nb     1      0.108082\n      2      0.706341\ndtype: float64"
     },
     "metadata": {},
     "execution_count": 32
    }
   ],
   "source": [
    "index = pd.MultiIndex.from_product([['a', 'c', 'b'], [1, 2]])\n",
    "data = pd.Series(np.random.rand(6), index=index)\n",
    "data.index.names = ['char', 'int']\n",
    "data"
   ]
  },
  {
   "cell_type": "markdown",
   "metadata": {},
   "source": [
    "If we try to take a partial slice of this index, it will result in an error:"
   ]
  },
  {
   "cell_type": "code",
   "execution_count": 33,
   "metadata": {},
   "outputs": [
    {
     "output_type": "stream",
     "name": "stdout",
     "text": "<class 'pandas.errors.UnsortedIndexError'>\n'Key length (1) was greater than MultiIndex lexsort depth (0)'\n"
    }
   ],
   "source": [
    "try:\n",
    "    data['a':'b']\n",
    "except KeyError as e:\n",
    "    print(type(e))\n",
    "    print(e)"
   ]
  },
  {
   "cell_type": "markdown",
   "metadata": {},
   "source": [
    "Although it is not entirely clear from the error message, this is the result of the Multi\n",
    "Index not being sorted. For various reasons, partial slices and other similar operations\n",
    "require the levels in the MultiIndex to be in sorted (i.e., lexographical) order.\n",
    "Pandas provides a number of convenience routines to perform this type of sorting;\n",
    "examples are the sort_index() and sortlevel() methods of the DataFrame. We’ll\n",
    "use the simplest, sort_index(), here:"
   ]
  },
  {
   "cell_type": "code",
   "execution_count": 34,
   "metadata": {},
   "outputs": [
    {
     "output_type": "execute_result",
     "data": {
      "text/plain": "char  int\na     1      0.077155\n      2      0.336472\nb     1      0.108082\n      2      0.706341\nc     1      0.219946\n      2      0.782738\ndtype: float64"
     },
     "metadata": {},
     "execution_count": 34
    }
   ],
   "source": [
    "data = data.sort_index()\n",
    "data"
   ]
  },
  {
   "cell_type": "code",
   "execution_count": 35,
   "metadata": {},
   "outputs": [
    {
     "output_type": "execute_result",
     "data": {
      "text/plain": "char  int\na     1      0.077155\n      2      0.336472\nb     1      0.108082\n      2      0.706341\ndtype: float64"
     },
     "metadata": {},
     "execution_count": 35
    }
   ],
   "source": [
    "# With the index sorted in this way, partial slicing will work as expected:\n",
    "data['a':'b']"
   ]
  },
  {
   "cell_type": "markdown",
   "metadata": {},
   "source": [
    "### Stacking and unstacking indices\n",
    "As we saw briefly before, it is possible to convert a dataset from a stacked multi-index\n",
    "to a simple two-dimensional representation, optionally specifying the level to use:"
   ]
  },
  {
   "cell_type": "code",
   "execution_count": 36,
   "metadata": {},
   "outputs": [
    {
     "output_type": "execute_result",
     "data": {
      "text/plain": "product   year\nBananas   2016    33871648\n          2017    37253956\nTomatoes  2016    18976457\n          2017    19378102\nOnions    2016    20851820\n          2017    25145561\ndtype: int64"
     },
     "metadata": {},
     "execution_count": 36
    }
   ],
   "source": [
    "vol"
   ]
  },
  {
   "cell_type": "code",
   "execution_count": 37,
   "metadata": {},
   "outputs": [
    {
     "output_type": "execute_result",
     "data": {
      "text/plain": "product   Bananas    Onions  Tomatoes\nyear                                 \n2016     33871648  20851820  18976457\n2017     37253956  25145561  19378102",
      "text/html": "<div>\n<style scoped>\n    .dataframe tbody tr th:only-of-type {\n        vertical-align: middle;\n    }\n\n    .dataframe tbody tr th {\n        vertical-align: top;\n    }\n\n    .dataframe thead th {\n        text-align: right;\n    }\n</style>\n<table border=\"1\" class=\"dataframe\">\n  <thead>\n    <tr style=\"text-align: right;\">\n      <th>product</th>\n      <th>Bananas</th>\n      <th>Onions</th>\n      <th>Tomatoes</th>\n    </tr>\n    <tr>\n      <th>year</th>\n      <th></th>\n      <th></th>\n      <th></th>\n    </tr>\n  </thead>\n  <tbody>\n    <tr>\n      <th>2016</th>\n      <td>33871648</td>\n      <td>20851820</td>\n      <td>18976457</td>\n    </tr>\n    <tr>\n      <th>2017</th>\n      <td>37253956</td>\n      <td>25145561</td>\n      <td>19378102</td>\n    </tr>\n  </tbody>\n</table>\n</div>"
     },
     "metadata": {},
     "execution_count": 37
    }
   ],
   "source": [
    "vol.unstack(level=0)"
   ]
  },
  {
   "cell_type": "code",
   "execution_count": 38,
   "metadata": {},
   "outputs": [
    {
     "output_type": "execute_result",
     "data": {
      "text/plain": "year          2016      2017\nproduct                     \nBananas   33871648  37253956\nOnions    20851820  25145561\nTomatoes  18976457  19378102",
      "text/html": "<div>\n<style scoped>\n    .dataframe tbody tr th:only-of-type {\n        vertical-align: middle;\n    }\n\n    .dataframe tbody tr th {\n        vertical-align: top;\n    }\n\n    .dataframe thead th {\n        text-align: right;\n    }\n</style>\n<table border=\"1\" class=\"dataframe\">\n  <thead>\n    <tr style=\"text-align: right;\">\n      <th>year</th>\n      <th>2016</th>\n      <th>2017</th>\n    </tr>\n    <tr>\n      <th>product</th>\n      <th></th>\n      <th></th>\n    </tr>\n  </thead>\n  <tbody>\n    <tr>\n      <th>Bananas</th>\n      <td>33871648</td>\n      <td>37253956</td>\n    </tr>\n    <tr>\n      <th>Onions</th>\n      <td>20851820</td>\n      <td>25145561</td>\n    </tr>\n    <tr>\n      <th>Tomatoes</th>\n      <td>18976457</td>\n      <td>19378102</td>\n    </tr>\n  </tbody>\n</table>\n</div>"
     },
     "metadata": {},
     "execution_count": 38
    }
   ],
   "source": [
    "vol.unstack(level=1)"
   ]
  },
  {
   "cell_type": "markdown",
   "metadata": {},
   "source": [
    "The opposite of unstack() is stack(), which here can be used to recover the original\n",
    "series:"
   ]
  },
  {
   "cell_type": "code",
   "execution_count": 39,
   "metadata": {},
   "outputs": [
    {
     "output_type": "execute_result",
     "data": {
      "text/plain": "product   year\nBananas   2016    33871648\n          2017    37253956\nOnions    2016    20851820\n          2017    25145561\nTomatoes  2016    18976457\n          2017    19378102\ndtype: int64"
     },
     "metadata": {},
     "execution_count": 39
    }
   ],
   "source": [
    "# stack - can be used to recover the oriiginal series\n",
    "vol.unstack().stack()"
   ]
  },
  {
   "cell_type": "markdown",
   "metadata": {},
   "source": [
    "### Index setting and resetting\n",
    "Another way to rearrange hierarchical data is to turn the index labels into columns;\n",
    "this can be accomplished with the reset_index method. Calling this on the pproduct\n",
    "dictionary will result in a DataFrame with a product and year column holding the\n",
    "information that was formerly in the index. For clarity, we can optionally specify the\n",
    "name of the data for the column representation:"
   ]
  },
  {
   "cell_type": "code",
   "execution_count": 40,
   "metadata": {},
   "outputs": [
    {
     "output_type": "execute_result",
     "data": {
      "text/plain": "product   year\nBananas   2016    33871648\n          2017    37253956\nTomatoes  2016    18976457\n          2017    19378102\nOnions    2016    20851820\n          2017    25145561\ndtype: int64"
     },
     "metadata": {},
     "execution_count": 40
    }
   ],
   "source": [
    "vol"
   ]
  },
  {
   "cell_type": "code",
   "execution_count": 41,
   "metadata": {},
   "outputs": [
    {
     "output_type": "execute_result",
     "data": {
      "text/plain": "    product  year    volume\n0   Bananas  2016  33871648\n1   Bananas  2017  37253956\n2  Tomatoes  2016  18976457\n3  Tomatoes  2017  19378102\n4    Onions  2016  20851820\n5    Onions  2017  25145561",
      "text/html": "<div>\n<style scoped>\n    .dataframe tbody tr th:only-of-type {\n        vertical-align: middle;\n    }\n\n    .dataframe tbody tr th {\n        vertical-align: top;\n    }\n\n    .dataframe thead th {\n        text-align: right;\n    }\n</style>\n<table border=\"1\" class=\"dataframe\">\n  <thead>\n    <tr style=\"text-align: right;\">\n      <th></th>\n      <th>product</th>\n      <th>year</th>\n      <th>volume</th>\n    </tr>\n  </thead>\n  <tbody>\n    <tr>\n      <th>0</th>\n      <td>Bananas</td>\n      <td>2016</td>\n      <td>33871648</td>\n    </tr>\n    <tr>\n      <th>1</th>\n      <td>Bananas</td>\n      <td>2017</td>\n      <td>37253956</td>\n    </tr>\n    <tr>\n      <th>2</th>\n      <td>Tomatoes</td>\n      <td>2016</td>\n      <td>18976457</td>\n    </tr>\n    <tr>\n      <th>3</th>\n      <td>Tomatoes</td>\n      <td>2017</td>\n      <td>19378102</td>\n    </tr>\n    <tr>\n      <th>4</th>\n      <td>Onions</td>\n      <td>2016</td>\n      <td>20851820</td>\n    </tr>\n    <tr>\n      <th>5</th>\n      <td>Onions</td>\n      <td>2017</td>\n      <td>25145561</td>\n    </tr>\n  </tbody>\n</table>\n</div>"
     },
     "metadata": {},
     "execution_count": 41
    }
   ],
   "source": [
    "vol_flat = vol.reset_index(name='volume')\n",
    "vol_flat"
   ]
  },
  {
   "cell_type": "markdown",
   "metadata": {},
   "source": [
    "Often when you are working with data in the real world, the raw input data looks like\n",
    "this and it’s useful to build a MultiIndex from the column values. This can be done\n",
    "with the set_index method of the DataFrame, which returns a multiply indexed Data\n",
    "Frame:"
   ]
  },
  {
   "cell_type": "code",
   "execution_count": 42,
   "metadata": {},
   "outputs": [
    {
     "output_type": "execute_result",
     "data": {
      "text/plain": "                 volume\nproduct  year          \nBananas  2016  33871648\n         2017  37253956\nTomatoes 2016  18976457\n         2017  19378102\nOnions   2016  20851820\n         2017  25145561",
      "text/html": "<div>\n<style scoped>\n    .dataframe tbody tr th:only-of-type {\n        vertical-align: middle;\n    }\n\n    .dataframe tbody tr th {\n        vertical-align: top;\n    }\n\n    .dataframe thead th {\n        text-align: right;\n    }\n</style>\n<table border=\"1\" class=\"dataframe\">\n  <thead>\n    <tr style=\"text-align: right;\">\n      <th></th>\n      <th></th>\n      <th>volume</th>\n    </tr>\n    <tr>\n      <th>product</th>\n      <th>year</th>\n      <th></th>\n    </tr>\n  </thead>\n  <tbody>\n    <tr>\n      <th rowspan=\"2\" valign=\"top\">Bananas</th>\n      <th>2016</th>\n      <td>33871648</td>\n    </tr>\n    <tr>\n      <th>2017</th>\n      <td>37253956</td>\n    </tr>\n    <tr>\n      <th rowspan=\"2\" valign=\"top\">Tomatoes</th>\n      <th>2016</th>\n      <td>18976457</td>\n    </tr>\n    <tr>\n      <th>2017</th>\n      <td>19378102</td>\n    </tr>\n    <tr>\n      <th rowspan=\"2\" valign=\"top\">Onions</th>\n      <th>2016</th>\n      <td>20851820</td>\n    </tr>\n    <tr>\n      <th>2017</th>\n      <td>25145561</td>\n    </tr>\n  </tbody>\n</table>\n</div>"
     },
     "metadata": {},
     "execution_count": 42
    }
   ],
   "source": [
    "vol_flat.set_index(['product', 'year'])"
   ]
  },
  {
   "cell_type": "markdown",
   "metadata": {},
   "source": [
    "## Data Aggregations on Multi-Indices\n",
    "We’ve previously seen that Pandas has built-in data aggregation methods, such as\n",
    "mean(), sum(), and max(). For hierarchically indexed data, these can be passed a\n",
    "level parameter that controls which subset of the data the aggregate is computed on.\n",
    "\n",
    "For example, let’s return to our health data:"
   ]
  },
  {
   "cell_type": "code",
   "execution_count": 43,
   "metadata": {},
   "outputs": [
    {
     "output_type": "execute_result",
     "data": {
      "text/plain": "subject      Bob       Guido         Sue      \ntype          HR  Temp    HR  Temp    HR  Temp\nyear visit                                    \n2013 1      34.0  37.7  40.0  36.5  43.0  37.1\n     2      43.0  36.4  43.0  37.4  42.0  36.2\n2014 1      35.0  38.1  38.0  37.2  46.0  37.0\n     2      41.0  38.4  46.0  38.6  42.0  35.5",
      "text/html": "<div>\n<style scoped>\n    .dataframe tbody tr th:only-of-type {\n        vertical-align: middle;\n    }\n\n    .dataframe tbody tr th {\n        vertical-align: top;\n    }\n\n    .dataframe thead tr th {\n        text-align: left;\n    }\n\n    .dataframe thead tr:last-of-type th {\n        text-align: right;\n    }\n</style>\n<table border=\"1\" class=\"dataframe\">\n  <thead>\n    <tr>\n      <th></th>\n      <th>subject</th>\n      <th colspan=\"2\" halign=\"left\">Bob</th>\n      <th colspan=\"2\" halign=\"left\">Guido</th>\n      <th colspan=\"2\" halign=\"left\">Sue</th>\n    </tr>\n    <tr>\n      <th></th>\n      <th>type</th>\n      <th>HR</th>\n      <th>Temp</th>\n      <th>HR</th>\n      <th>Temp</th>\n      <th>HR</th>\n      <th>Temp</th>\n    </tr>\n    <tr>\n      <th>year</th>\n      <th>visit</th>\n      <th></th>\n      <th></th>\n      <th></th>\n      <th></th>\n      <th></th>\n      <th></th>\n    </tr>\n  </thead>\n  <tbody>\n    <tr>\n      <th rowspan=\"2\" valign=\"top\">2013</th>\n      <th>1</th>\n      <td>34.0</td>\n      <td>37.7</td>\n      <td>40.0</td>\n      <td>36.5</td>\n      <td>43.0</td>\n      <td>37.1</td>\n    </tr>\n    <tr>\n      <th>2</th>\n      <td>43.0</td>\n      <td>36.4</td>\n      <td>43.0</td>\n      <td>37.4</td>\n      <td>42.0</td>\n      <td>36.2</td>\n    </tr>\n    <tr>\n      <th rowspan=\"2\" valign=\"top\">2014</th>\n      <th>1</th>\n      <td>35.0</td>\n      <td>38.1</td>\n      <td>38.0</td>\n      <td>37.2</td>\n      <td>46.0</td>\n      <td>37.0</td>\n    </tr>\n    <tr>\n      <th>2</th>\n      <td>41.0</td>\n      <td>38.4</td>\n      <td>46.0</td>\n      <td>38.6</td>\n      <td>42.0</td>\n      <td>35.5</td>\n    </tr>\n  </tbody>\n</table>\n</div>"
     },
     "metadata": {},
     "execution_count": 43
    }
   ],
   "source": [
    "health_data"
   ]
  },
  {
   "cell_type": "markdown",
   "metadata": {},
   "source": [
    "Perhaps we’d like to average out the measurements in the two visits each year. We can\n",
    "do this by naming the index level we’d like to explore, in this case the year:"
   ]
  },
  {
   "cell_type": "code",
   "execution_count": 44,
   "metadata": {},
   "outputs": [
    {
     "output_type": "execute_result",
     "data": {
      "text/plain": "subject   Bob        Guido          Sue       \ntype       HR   Temp    HR   Temp    HR   Temp\nyear                                          \n2013     38.5  37.05  41.5  36.95  42.5  36.65\n2014     38.0  38.25  42.0  37.90  44.0  36.25",
      "text/html": "<div>\n<style scoped>\n    .dataframe tbody tr th:only-of-type {\n        vertical-align: middle;\n    }\n\n    .dataframe tbody tr th {\n        vertical-align: top;\n    }\n\n    .dataframe thead tr th {\n        text-align: left;\n    }\n\n    .dataframe thead tr:last-of-type th {\n        text-align: right;\n    }\n</style>\n<table border=\"1\" class=\"dataframe\">\n  <thead>\n    <tr>\n      <th>subject</th>\n      <th colspan=\"2\" halign=\"left\">Bob</th>\n      <th colspan=\"2\" halign=\"left\">Guido</th>\n      <th colspan=\"2\" halign=\"left\">Sue</th>\n    </tr>\n    <tr>\n      <th>type</th>\n      <th>HR</th>\n      <th>Temp</th>\n      <th>HR</th>\n      <th>Temp</th>\n      <th>HR</th>\n      <th>Temp</th>\n    </tr>\n    <tr>\n      <th>year</th>\n      <th></th>\n      <th></th>\n      <th></th>\n      <th></th>\n      <th></th>\n      <th></th>\n    </tr>\n  </thead>\n  <tbody>\n    <tr>\n      <th>2013</th>\n      <td>38.5</td>\n      <td>37.05</td>\n      <td>41.5</td>\n      <td>36.95</td>\n      <td>42.5</td>\n      <td>36.65</td>\n    </tr>\n    <tr>\n      <th>2014</th>\n      <td>38.0</td>\n      <td>38.25</td>\n      <td>42.0</td>\n      <td>37.90</td>\n      <td>44.0</td>\n      <td>36.25</td>\n    </tr>\n  </tbody>\n</table>\n</div>"
     },
     "metadata": {},
     "execution_count": 44
    }
   ],
   "source": [
    "data_mean = health_data.mean(level='year')\n",
    "data_mean"
   ]
  },
  {
   "cell_type": "markdown",
   "metadata": {},
   "source": [
    "By further making use of the axis keyword, we can take the mean among levels on\n",
    "the columns as well:"
   ]
  },
  {
   "cell_type": "code",
   "execution_count": 45,
   "metadata": {},
   "outputs": [
    {
     "output_type": "execute_result",
     "data": {
      "text/plain": "type         HR       Temp\nyear                      \n2013  40.833333  36.883333\n2014  41.333333  37.466667",
      "text/html": "<div>\n<style scoped>\n    .dataframe tbody tr th:only-of-type {\n        vertical-align: middle;\n    }\n\n    .dataframe tbody tr th {\n        vertical-align: top;\n    }\n\n    .dataframe thead th {\n        text-align: right;\n    }\n</style>\n<table border=\"1\" class=\"dataframe\">\n  <thead>\n    <tr style=\"text-align: right;\">\n      <th>type</th>\n      <th>HR</th>\n      <th>Temp</th>\n    </tr>\n    <tr>\n      <th>year</th>\n      <th></th>\n      <th></th>\n    </tr>\n  </thead>\n  <tbody>\n    <tr>\n      <th>2013</th>\n      <td>40.833333</td>\n      <td>36.883333</td>\n    </tr>\n    <tr>\n      <th>2014</th>\n      <td>41.333333</td>\n      <td>37.466667</td>\n    </tr>\n  </tbody>\n</table>\n</div>"
     },
     "metadata": {},
     "execution_count": 45
    }
   ],
   "source": [
    "data_mean.mean(axis=1, level='type')"
   ]
  },
  {
   "cell_type": "markdown",
   "metadata": {},
   "source": [
    "Thus in two lines, we’ve been able to find the average heart rate and temperature\n",
    "measured among all subjects in all visits each year. This syntax is actually a shortcut\n",
    "to the GroupBy functionality."
   ]
  }
 ]
}