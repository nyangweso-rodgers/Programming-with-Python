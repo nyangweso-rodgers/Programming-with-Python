{
 "nbformat": 4,
 "nbformat_minor": 2,
 "metadata": {
  "language_info": {
   "name": "python",
   "codemirror_mode": {
    "name": "ipython",
    "version": 3
   },
   "version": "3.7.4-final"
  },
  "orig_nbformat": 2,
  "file_extension": ".py",
  "mimetype": "text/x-python",
  "name": "python",
  "npconvert_exporter": "python",
  "pygments_lexer": "ipython3",
  "version": 3,
  "kernelspec": {
   "name": "python37464bitbaseconda08747ba86b4e47b190667d12a1bf6dd8",
   "display_name": "Python 3.7.4 64-bit ('base': conda)"
  }
 },
 "cells": [
  {
   "cell_type": "markdown",
   "metadata": {},
   "source": [
    "# The Pandas DataFrame Object\n",
    "DataFrame is another fundamental structure in Pandas. Like the <i>Series object</i>, the DataFrame can be thought of either as a generalization\n",
    "of a NumPy array, or as a specialization of a Python dictionary. We’ll now\n",
    "take a look at each of these perspectives."
   ]
  },
  {
   "cell_type": "markdown",
   "metadata": {},
   "source": [
    "## DataFrame as a generalized NumPy array\n",
    "If a Series is an analog of a one-dimensional array with flexible indices, a DataFrame\n",
    "is an analog of a two-dimensional array with both flexible row indices and flexible\n",
    "column names. Just as you might think of a two-dimensional array as an ordered\n",
    "sequence of aligned one-dimensional columns, you can think of a DataFrame as a\n",
    "sequence of aligned Series objects. Here, by “aligned” we mean that they share the\n",
    "same index.\n",
    "\n",
    "To demonstrate this, let’s first construct a new Series listing:"
   ]
  },
  {
   "cell_type": "code",
   "execution_count": 1,
   "metadata": {},
   "outputs": [
    {
     "output_type": "stream",
     "name": "stdout",
     "text": "Bananas        4000000\nOnions         3000000\nTomatoes       3500000\nMaize Flour    6500000\ndtype: object\nBananas         34\nOnions          97\nTomatoes       101\nMaize Flour     65\ndtype: object\n"
    }
   ],
   "source": [
    "import numpy as np \n",
    "import pandas as pd \n",
    "# Revenue Dictionary\n",
    "product_rev_dict = {'Bananas': 4000000, 'Onions': '3000000', 'Tomatoes': '3500000', 'Maize Flour': 6500000}\n",
    "# Product Price per Kg. dictionary\n",
    "product_price_dict = {'Bananas': 34, 'Onions': '97', 'Tomatoes': '101', 'Maize Flour': 65}\n",
    "product_rev = pd.Series(product_rev_dict)\n",
    "product_price = pd.Series(product_price_dict)\n",
    "print(product_rev)\n",
    "print(product_price)"
   ]
  },
  {
   "cell_type": "code",
   "execution_count": 2,
   "metadata": {},
   "outputs": [
    {
     "output_type": "execute_result",
     "data": {
      "text/plain": "            actual_revenue product_unit_price\nBananas            4000000                 34\nOnions             3000000                 97\nTomatoes           3500000                101\nMaize Flour        6500000                 65",
      "text/html": "<div>\n<style scoped>\n    .dataframe tbody tr th:only-of-type {\n        vertical-align: middle;\n    }\n\n    .dataframe tbody tr th {\n        vertical-align: top;\n    }\n\n    .dataframe thead th {\n        text-align: right;\n    }\n</style>\n<table border=\"1\" class=\"dataframe\">\n  <thead>\n    <tr style=\"text-align: right;\">\n      <th></th>\n      <th>actual_revenue</th>\n      <th>product_unit_price</th>\n    </tr>\n  </thead>\n  <tbody>\n    <tr>\n      <th>Bananas</th>\n      <td>4000000</td>\n      <td>34</td>\n    </tr>\n    <tr>\n      <th>Onions</th>\n      <td>3000000</td>\n      <td>97</td>\n    </tr>\n    <tr>\n      <th>Tomatoes</th>\n      <td>3500000</td>\n      <td>101</td>\n    </tr>\n    <tr>\n      <th>Maize Flour</th>\n      <td>6500000</td>\n      <td>65</td>\n    </tr>\n  </tbody>\n</table>\n</div>"
     },
     "metadata": {},
     "execution_count": 2
    }
   ],
   "source": [
    "# we can create a single two - dimensional object containing the above information\n",
    "sales = pd.DataFrame({'actual_revenue': product_rev, 'product_unit_price': product_price})\n",
    "sales"
   ]
  },
  {
   "cell_type": "markdown",
   "metadata": {},
   "source": [
    "Like the Series object, the DataFrame has an index attribute that gives access to the\n",
    "index labels:"
   ]
  },
  {
   "cell_type": "code",
   "execution_count": 3,
   "metadata": {},
   "outputs": [
    {
     "output_type": "stream",
     "name": "stdout",
     "text": "Index Attribute: Index(['Bananas', 'Onions', 'Tomatoes', 'Maize Flour'], dtype='object')\nColumn Attribute: Index(['actual_revenue', 'product_unit_price'], dtype='object')\n"
    }
   ],
   "source": [
    "# Index attribute\n",
    "print(\"Index Attribute:\", sales.index)\n",
    "# column attribute\n",
    "print(\"Column Attribute:\", sales.columns)"
   ]
  },
  {
   "cell_type": "markdown",
   "metadata": {},
   "source": [
    "<i><b>Thus the DataFrame can be thought of as a generalization of a two-dimensional\n",
    "NumPy array, where both the rows and columns have a generalized index for accessing\n",
    "    the data.</b></i>"
   ]
  },
  {
   "cell_type": "markdown",
   "metadata": {},
   "source": [
    "## DataFrame as specialized dictionary\n",
    "We can also think of a DataFrame as a specialization of a dictionary. Where\n",
    "a dictionary maps a key to a value, a DataFrame maps a column name to a Series of\n",
    "column data. For example, asking for the 'actual_rev' attribute returns the Series object\n",
    "containing the actual sales per product:"
   ]
  },
  {
   "cell_type": "code",
   "execution_count": 4,
   "metadata": {},
   "outputs": [
    {
     "output_type": "execute_result",
     "data": {
      "text/plain": "Bananas        4000000\nOnions         3000000\nTomatoes       3500000\nMaize Flour    6500000\nName: actual_revenue, dtype: object"
     },
     "metadata": {},
     "execution_count": 4
    }
   ],
   "source": [
    "sales['actual_revenue']"
   ]
  },
  {
   "cell_type": "markdown",
   "metadata": {},
   "source": [
    "## Constructing DataFrame objects\n",
    "A Pandas DataFrame can be constructed in a variety of ways:"
   ]
  },
  {
   "cell_type": "markdown",
   "metadata": {},
   "source": [
    "### 1. From a single Series object. \n",
    "A DataFrame is a collection of Series objects, and a single column\n",
    "DataFrame can be constructed from a single Series:"
   ]
  },
  {
   "cell_type": "code",
   "execution_count": 5,
   "metadata": {},
   "outputs": [
    {
     "output_type": "execute_result",
     "data": {
      "text/plain": "            actual_revenue\nBananas            4000000\nOnions             3000000\nTomatoes           3500000\nMaize Flour        6500000",
      "text/html": "<div>\n<style scoped>\n    .dataframe tbody tr th:only-of-type {\n        vertical-align: middle;\n    }\n\n    .dataframe tbody tr th {\n        vertical-align: top;\n    }\n\n    .dataframe thead th {\n        text-align: right;\n    }\n</style>\n<table border=\"1\" class=\"dataframe\">\n  <thead>\n    <tr style=\"text-align: right;\">\n      <th></th>\n      <th>actual_revenue</th>\n    </tr>\n  </thead>\n  <tbody>\n    <tr>\n      <th>Bananas</th>\n      <td>4000000</td>\n    </tr>\n    <tr>\n      <th>Onions</th>\n      <td>3000000</td>\n    </tr>\n    <tr>\n      <th>Tomatoes</th>\n      <td>3500000</td>\n    </tr>\n    <tr>\n      <th>Maize Flour</th>\n      <td>6500000</td>\n    </tr>\n  </tbody>\n</table>\n</div>"
     },
     "metadata": {},
     "execution_count": 5
    }
   ],
   "source": [
    "# Constructing a Single Column DataFrame\n",
    "actual_revenues = pd.DataFrame({'actual_revenue': product_rev})\n",
    "actual_revenues"
   ]
  },
  {
   "cell_type": "markdown",
   "metadata": {},
   "source": [
    "### 2. From a list of dicts. \n",
    "Any list of dictionaries can be made into a DataFrame. We’ll use a\n",
    "simple list comprehension to create some data:"
   ]
  },
  {
   "cell_type": "code",
   "execution_count": 6,
   "metadata": {},
   "outputs": [
    {
     "output_type": "stream",
     "name": "stdout",
     "text": "[{'a': 0, 'b': 0, 'c': 0, 'd': 0, 'e': 0}, {'a': 1, 'b': 2, 'c': 3, 'd': 4, 'e': 4}, {'a': 2, 'b': 4, 'c': 6, 'd': 8, 'e': 8}]\n   a  b  c  d  e\n0  0  0  0  0  0\n1  1  2  3  4  4\n2  2  4  6  8  8\n"
    }
   ],
   "source": [
    "# constructing DataFrame from a list of dictionaries\n",
    "my_data = [{'a':i, 'b': i * 2, 'c': i * 3, 'd': i * 4, 'e': i * 4} for i in range(3)]\n",
    "print(my_data)\n",
    "print(pd.DataFrame(my_data))"
   ]
  },
  {
   "cell_type": "markdown",
   "metadata": {},
   "source": [
    "Even if some keys in the dictionary are missing, Pandas will fill them in with NaN (i.e.,\n",
    "“not a number”) values:"
   ]
  },
  {
   "cell_type": "code",
   "execution_count": 7,
   "metadata": {},
   "outputs": [
    {
     "output_type": "execute_result",
     "data": {
      "text/plain": "     a    b    c\n0  1.0  2.0  3.0\n1  NaN  5.0  6.0\n2  7.0  NaN  NaN",
      "text/html": "<div>\n<style scoped>\n    .dataframe tbody tr th:only-of-type {\n        vertical-align: middle;\n    }\n\n    .dataframe tbody tr th {\n        vertical-align: top;\n    }\n\n    .dataframe thead th {\n        text-align: right;\n    }\n</style>\n<table border=\"1\" class=\"dataframe\">\n  <thead>\n    <tr style=\"text-align: right;\">\n      <th></th>\n      <th>a</th>\n      <th>b</th>\n      <th>c</th>\n    </tr>\n  </thead>\n  <tbody>\n    <tr>\n      <th>0</th>\n      <td>1.0</td>\n      <td>2.0</td>\n      <td>3.0</td>\n    </tr>\n    <tr>\n      <th>1</th>\n      <td>NaN</td>\n      <td>5.0</td>\n      <td>6.0</td>\n    </tr>\n    <tr>\n      <th>2</th>\n      <td>7.0</td>\n      <td>NaN</td>\n      <td>NaN</td>\n    </tr>\n  </tbody>\n</table>\n</div>"
     },
     "metadata": {},
     "execution_count": 7
    }
   ],
   "source": [
    "pd.DataFrame([{'a':1, 'b':2, 'c': 3}, {'b': 5, 'c':6}, {'a':7}])"
   ]
  },
  {
   "cell_type": "markdown",
   "metadata": {},
   "source": [
    "### 3. From a dictionary of Series objects. \n",
    "As we saw before, a DataFrame can be constructed from a dictionary of Series objects as well:"
   ]
  },
  {
   "cell_type": "code",
   "execution_count": 8,
   "metadata": {},
   "outputs": [
    {
     "output_type": "execute_result",
     "data": {
      "text/plain": "            actual_revenue product_unit_price\nBananas            4000000                 34\nOnions             3000000                 97\nTomatoes           3500000                101\nMaize Flour        6500000                 65",
      "text/html": "<div>\n<style scoped>\n    .dataframe tbody tr th:only-of-type {\n        vertical-align: middle;\n    }\n\n    .dataframe tbody tr th {\n        vertical-align: top;\n    }\n\n    .dataframe thead th {\n        text-align: right;\n    }\n</style>\n<table border=\"1\" class=\"dataframe\">\n  <thead>\n    <tr style=\"text-align: right;\">\n      <th></th>\n      <th>actual_revenue</th>\n      <th>product_unit_price</th>\n    </tr>\n  </thead>\n  <tbody>\n    <tr>\n      <th>Bananas</th>\n      <td>4000000</td>\n      <td>34</td>\n    </tr>\n    <tr>\n      <th>Onions</th>\n      <td>3000000</td>\n      <td>97</td>\n    </tr>\n    <tr>\n      <th>Tomatoes</th>\n      <td>3500000</td>\n      <td>101</td>\n    </tr>\n    <tr>\n      <th>Maize Flour</th>\n      <td>6500000</td>\n      <td>65</td>\n    </tr>\n  </tbody>\n</table>\n</div>"
     },
     "metadata": {},
     "execution_count": 8
    }
   ],
   "source": [
    "sales = pd.DataFrame({'actual_revenue': product_rev, 'product_unit_price': product_price})\n",
    "sales"
   ]
  },
  {
   "cell_type": "markdown",
   "metadata": {},
   "source": [
    "### 4. From a two-dimensional NumPy array.\n",
    "Given a two-dimensional array of data, we can\n",
    "create a DataFrame with any specified column and index names. If omitted, an integer\n",
    "index will be used for each:"
   ]
  },
  {
   "cell_type": "code",
   "execution_count": 9,
   "metadata": {},
   "outputs": [
    {
     "output_type": "execute_result",
     "data": {
      "text/plain": "        foo       bar       egg      spam       hen\na  0.438722  0.576958  0.242379  0.940302  0.967286\nb  0.887959  0.714468  0.065974  0.043574  0.871613\nc  0.724005  0.313264  0.605285  0.579484  0.906878\nd  0.840704  0.186129  0.045894  0.919648  0.399972\ne  0.953896  0.423365  0.005171  0.707399  0.369648",
      "text/html": "<div>\n<style scoped>\n    .dataframe tbody tr th:only-of-type {\n        vertical-align: middle;\n    }\n\n    .dataframe tbody tr th {\n        vertical-align: top;\n    }\n\n    .dataframe thead th {\n        text-align: right;\n    }\n</style>\n<table border=\"1\" class=\"dataframe\">\n  <thead>\n    <tr style=\"text-align: right;\">\n      <th></th>\n      <th>foo</th>\n      <th>bar</th>\n      <th>egg</th>\n      <th>spam</th>\n      <th>hen</th>\n    </tr>\n  </thead>\n  <tbody>\n    <tr>\n      <th>a</th>\n      <td>0.438722</td>\n      <td>0.576958</td>\n      <td>0.242379</td>\n      <td>0.940302</td>\n      <td>0.967286</td>\n    </tr>\n    <tr>\n      <th>b</th>\n      <td>0.887959</td>\n      <td>0.714468</td>\n      <td>0.065974</td>\n      <td>0.043574</td>\n      <td>0.871613</td>\n    </tr>\n    <tr>\n      <th>c</th>\n      <td>0.724005</td>\n      <td>0.313264</td>\n      <td>0.605285</td>\n      <td>0.579484</td>\n      <td>0.906878</td>\n    </tr>\n    <tr>\n      <th>d</th>\n      <td>0.840704</td>\n      <td>0.186129</td>\n      <td>0.045894</td>\n      <td>0.919648</td>\n      <td>0.399972</td>\n    </tr>\n    <tr>\n      <th>e</th>\n      <td>0.953896</td>\n      <td>0.423365</td>\n      <td>0.005171</td>\n      <td>0.707399</td>\n      <td>0.369648</td>\n    </tr>\n  </tbody>\n</table>\n</div>"
     },
     "metadata": {},
     "execution_count": 9
    }
   ],
   "source": [
    "# DataFrame from a 2d array\n",
    "pd.DataFrame(np.random.rand(5, 5),\n",
    "            columns = ['foo', 'bar', 'egg', 'spam', 'hen'],\n",
    "            index =  ['a', 'b', 'c', 'd', 'e'])"
   ]
  },
  {
   "cell_type": "markdown",
   "metadata": {},
   "source": [
    "### 5. From a NumPy structured array.\n",
    "A Pandas DataFrame operates much like a\n",
    "structured array, and can be created directly from one:"
   ]
  },
  {
   "cell_type": "code",
   "execution_count": 10,
   "metadata": {},
   "outputs": [
    {
     "output_type": "execute_result",
     "data": {
      "text/plain": "array([(0, 0.), (0, 0.), (0, 0.), (0, 0.), (0, 0.), (0, 0.), (0, 0.),\n       (0, 0.)], dtype=[('A', '<i8'), ('B', '<f8')])"
     },
     "metadata": {},
     "execution_count": 10
    }
   ],
   "source": [
    "# DataFrame from a structured array\n",
    "A = np.zeros(8, dtype = [('A', 'i8'), ('B', 'f8')])\n",
    "A"
   ]
  },
  {
   "cell_type": "code",
   "execution_count": 11,
   "metadata": {},
   "outputs": [
    {
     "output_type": "execute_result",
     "data": {
      "text/plain": "   A    B\n0  0  0.0\n1  0  0.0\n2  0  0.0\n3  0  0.0\n4  0  0.0\n5  0  0.0\n6  0  0.0\n7  0  0.0",
      "text/html": "<div>\n<style scoped>\n    .dataframe tbody tr th:only-of-type {\n        vertical-align: middle;\n    }\n\n    .dataframe tbody tr th {\n        vertical-align: top;\n    }\n\n    .dataframe thead th {\n        text-align: right;\n    }\n</style>\n<table border=\"1\" class=\"dataframe\">\n  <thead>\n    <tr style=\"text-align: right;\">\n      <th></th>\n      <th>A</th>\n      <th>B</th>\n    </tr>\n  </thead>\n  <tbody>\n    <tr>\n      <th>0</th>\n      <td>0</td>\n      <td>0.0</td>\n    </tr>\n    <tr>\n      <th>1</th>\n      <td>0</td>\n      <td>0.0</td>\n    </tr>\n    <tr>\n      <th>2</th>\n      <td>0</td>\n      <td>0.0</td>\n    </tr>\n    <tr>\n      <th>3</th>\n      <td>0</td>\n      <td>0.0</td>\n    </tr>\n    <tr>\n      <th>4</th>\n      <td>0</td>\n      <td>0.0</td>\n    </tr>\n    <tr>\n      <th>5</th>\n      <td>0</td>\n      <td>0.0</td>\n    </tr>\n    <tr>\n      <th>6</th>\n      <td>0</td>\n      <td>0.0</td>\n    </tr>\n    <tr>\n      <th>7</th>\n      <td>0</td>\n      <td>0.0</td>\n    </tr>\n  </tbody>\n</table>\n</div>"
     },
     "metadata": {},
     "execution_count": 11
    }
   ],
   "source": [
    "pd.DataFrame(A)"
   ]
  },
  {
   "cell_type": "markdown",
   "metadata": {},
   "source": [
    "## Data Selection in DataFrame"
   ]
  },
  {
   "cell_type": "markdown",
   "metadata": {},
   "source": [
    "### DataFrame as a dictionary"
   ]
  },
  {
   "cell_type": "code",
   "execution_count": 24,
   "metadata": {},
   "outputs": [
    {
     "output_type": "execute_result",
     "data": {
      "text/plain": "            actual_revenue product_unit_price\nBananas            4000000                 34\nOnions             3000000                 97\nTomatoes           3500000                101\nMaize Flour        6500000                 65",
      "text/html": "<div>\n<style scoped>\n    .dataframe tbody tr th:only-of-type {\n        vertical-align: middle;\n    }\n\n    .dataframe tbody tr th {\n        vertical-align: top;\n    }\n\n    .dataframe thead th {\n        text-align: right;\n    }\n</style>\n<table border=\"1\" class=\"dataframe\">\n  <thead>\n    <tr style=\"text-align: right;\">\n      <th></th>\n      <th>actual_revenue</th>\n      <th>product_unit_price</th>\n    </tr>\n  </thead>\n  <tbody>\n    <tr>\n      <th>Bananas</th>\n      <td>4000000</td>\n      <td>34</td>\n    </tr>\n    <tr>\n      <th>Onions</th>\n      <td>3000000</td>\n      <td>97</td>\n    </tr>\n    <tr>\n      <th>Tomatoes</th>\n      <td>3500000</td>\n      <td>101</td>\n    </tr>\n    <tr>\n      <th>Maize Flour</th>\n      <td>6500000</td>\n      <td>65</td>\n    </tr>\n  </tbody>\n</table>\n</div>"
     },
     "metadata": {},
     "execution_count": 24
    }
   ],
   "source": [
    "# Revenue Dictionary\n",
    "product_rev_dict = {'Bananas': 4000000, 'Onions': '3000000', 'Tomatoes': '3500000', 'Maize Flour': 6500000}\n",
    "# Product Price per Kg. dictionary\n",
    "product_price_dict = {'Bananas': 34, 'Onions': '97', 'Tomatoes': '101', 'Maize Flour': 65}\n",
    "product_rev = pd.Series(product_rev_dict)\n",
    "product_price = pd.Series(product_price_dict)\n",
    "# we can create a single two - dimensional object containing the above information\n",
    "sales = pd.DataFrame({'actual_revenue': product_rev, 'product_unit_price': product_price})\n",
    "sales"
   ]
  },
  {
   "cell_type": "markdown",
   "metadata": {},
   "source": [
    "The individual Series that make up the columns of the DataFrame can be accessed\n",
    "via dictionary-style indexing of the column name:"
   ]
  },
  {
   "cell_type": "code",
   "execution_count": 25,
   "metadata": {},
   "outputs": [
    {
     "output_type": "stream",
     "name": "stdout",
     "text": "Bananas        4000000\nOnions         3000000\nTomatoes       3500000\nMaize Flour    6500000\nName: actual_revenue, dtype: object\nBananas        4000000\nOnions         3000000\nTomatoes       3500000\nMaize Flour    6500000\nName: actual_revenue, dtype: object\n"
    }
   ],
   "source": [
    "# dictionary-style indexing access\n",
    "print(sales['actual_revenue'])\n",
    "# Equivalently, we can use attribute-style access with column names that are strings:\n",
    "print(sales.actual_revenue)"
   ]
  },
  {
   "cell_type": "markdown",
   "metadata": {},
   "source": [
    "This attribute-style column access actually accesses the exact same object as the\n",
    "dictionary-style access:"
   ]
  },
  {
   "cell_type": "markdown",
   "metadata": {},
   "source": [
    "This dictionary-style syntax can also be\n",
    "used to modify the object, in this case to add a new column:"
   ]
  },
  {
   "cell_type": "code",
   "execution_count": 32,
   "metadata": {},
   "outputs": [
    {
     "output_type": "execute_result",
     "data": {
      "text/plain": "             actual_revenue  product_unit_price    volume\nBananas           4000000.0                34.0  117647.0\nOnions            3000000.0                97.0   30928.0\nTomatoes          3500000.0               101.0   34653.0\nMaize Flour       6500000.0                65.0  100000.0",
      "text/html": "<div>\n<style scoped>\n    .dataframe tbody tr th:only-of-type {\n        vertical-align: middle;\n    }\n\n    .dataframe tbody tr th {\n        vertical-align: top;\n    }\n\n    .dataframe thead th {\n        text-align: right;\n    }\n</style>\n<table border=\"1\" class=\"dataframe\">\n  <thead>\n    <tr style=\"text-align: right;\">\n      <th></th>\n      <th>actual_revenue</th>\n      <th>product_unit_price</th>\n      <th>volume</th>\n    </tr>\n  </thead>\n  <tbody>\n    <tr>\n      <th>Bananas</th>\n      <td>4000000.0</td>\n      <td>34.0</td>\n      <td>117647.0</td>\n    </tr>\n    <tr>\n      <th>Onions</th>\n      <td>3000000.0</td>\n      <td>97.0</td>\n      <td>30928.0</td>\n    </tr>\n    <tr>\n      <th>Tomatoes</th>\n      <td>3500000.0</td>\n      <td>101.0</td>\n      <td>34653.0</td>\n    </tr>\n    <tr>\n      <th>Maize Flour</th>\n      <td>6500000.0</td>\n      <td>65.0</td>\n      <td>100000.0</td>\n    </tr>\n  </tbody>\n</table>\n</div>"
     },
     "metadata": {},
     "execution_count": 32
    }
   ],
   "source": [
    "sales['actual_revenue'] = sales['actual_revenue'].astype(float)\n",
    "sales['product_unit_price'] = sales['product_unit_price'].astype(float)\n",
    "# This shows a preview of the straightforward syntax of element-by-element arithmetic between Series objects;\n",
    "sales['volume'] = sales['actual_revenue'] / sales['product_unit_price']\n",
    "sales.round(0)"
   ]
  },
  {
   "cell_type": "markdown",
   "metadata": {},
   "source": [
    "### DataFrame as two-dimensional array\n",
    "We can also view the DataFrame as an enhanced two-dimensional\n",
    "array. We can examine the raw underlying data array using the values\n",
    "attribute:"
   ]
  },
  {
   "cell_type": "code",
   "execution_count": 35,
   "metadata": {},
   "outputs": [
    {
     "output_type": "execute_result",
     "data": {
      "text/plain": "array([[4.00000000e+06, 3.40000000e+01, 1.17647059e+05],\n       [3.00000000e+06, 9.70000000e+01, 3.09278351e+04],\n       [3.50000000e+06, 1.01000000e+02, 3.46534653e+04],\n       [6.50000000e+06, 6.50000000e+01, 1.00000000e+05]])"
     },
     "metadata": {},
     "execution_count": 35
    }
   ],
   "source": [
    "# examining the underlying data\n",
    "sales.values"
   ]
  },
  {
   "cell_type": "markdown",
   "metadata": {},
   "source": [
    "With this picture in mind, we can do many familiar array-like observations on the\n",
    "DataFrame itself. For example, we can transpose the full DataFrame to swap rows and\n",
    "columns:"
   ]
  },
  {
   "cell_type": "code",
   "execution_count": 37,
   "metadata": {},
   "outputs": [
    {
     "output_type": "execute_result",
     "data": {
      "text/plain": "                         Bananas        Onions      Tomatoes  Maize Flour\nactual_revenue      4.000000e+06  3.000000e+06  3.500000e+06    6500000.0\nproduct_unit_price  3.400000e+01  9.700000e+01  1.010000e+02         65.0\nvolume              1.176471e+05  3.092784e+04  3.465347e+04     100000.0",
      "text/html": "<div>\n<style scoped>\n    .dataframe tbody tr th:only-of-type {\n        vertical-align: middle;\n    }\n\n    .dataframe tbody tr th {\n        vertical-align: top;\n    }\n\n    .dataframe thead th {\n        text-align: right;\n    }\n</style>\n<table border=\"1\" class=\"dataframe\">\n  <thead>\n    <tr style=\"text-align: right;\">\n      <th></th>\n      <th>Bananas</th>\n      <th>Onions</th>\n      <th>Tomatoes</th>\n      <th>Maize Flour</th>\n    </tr>\n  </thead>\n  <tbody>\n    <tr>\n      <th>actual_revenue</th>\n      <td>4.000000e+06</td>\n      <td>3.000000e+06</td>\n      <td>3.500000e+06</td>\n      <td>6500000.0</td>\n    </tr>\n    <tr>\n      <th>product_unit_price</th>\n      <td>3.400000e+01</td>\n      <td>9.700000e+01</td>\n      <td>1.010000e+02</td>\n      <td>65.0</td>\n    </tr>\n    <tr>\n      <th>volume</th>\n      <td>1.176471e+05</td>\n      <td>3.092784e+04</td>\n      <td>3.465347e+04</td>\n      <td>100000.0</td>\n    </tr>\n  </tbody>\n</table>\n</div>"
     },
     "metadata": {},
     "execution_count": 37
    }
   ],
   "source": [
    "# Transpose the full dataframe\n",
    "sales.T"
   ]
  },
  {
   "cell_type": "markdown",
   "metadata": {},
   "source": [
    "When it comes to indexing of DataFrame objects, however, it is clear that the\n",
    "dictionary-style indexing of columns precludes our ability to simply treat it as a\n",
    "NumPy array. In particular, passing a single index to an array accesses a row:"
   ]
  },
  {
   "cell_type": "code",
   "execution_count": 38,
   "metadata": {},
   "outputs": [
    {
     "output_type": "execute_result",
     "data": {
      "text/plain": "array([4.00000000e+06, 3.40000000e+01, 1.17647059e+05])"
     },
     "metadata": {},
     "execution_count": 38
    }
   ],
   "source": [
    "sales.values[0]"
   ]
  },
  {
   "cell_type": "code",
   "execution_count": 39,
   "metadata": {},
   "outputs": [
    {
     "output_type": "execute_result",
     "data": {
      "text/plain": "Bananas        4000000.0\nOnions         3000000.0\nTomatoes       3500000.0\nMaize Flour    6500000.0\nName: actual_revenue, dtype: float64"
     },
     "metadata": {},
     "execution_count": 39
    }
   ],
   "source": [
    "# and passing a single “index” to a DataFrame accesses a column:\n",
    "sales['actual_revenue']"
   ]
  },
  {
   "cell_type": "markdown",
   "metadata": {},
   "source": [
    "Thus for array-style indexing, we need another convention. Here Pandas again uses\n",
    "the loc, iloc, and ix indexers. Using the iloc indexer, we can\n",
    "index the underlying array as if it is a simple NumPy array (using the implicit\n",
    "Python-style index), but the DataFrame index and column labels are maintained in\n",
    "the result:"
   ]
  },
  {
   "cell_type": "code",
   "execution_count": 42,
   "metadata": {},
   "outputs": [
    {
     "output_type": "execute_result",
     "data": {
      "text/plain": "          actual_revenue  product_unit_price\nBananas        4000000.0                34.0\nOnions         3000000.0                97.0\nTomatoes       3500000.0               101.0",
      "text/html": "<div>\n<style scoped>\n    .dataframe tbody tr th:only-of-type {\n        vertical-align: middle;\n    }\n\n    .dataframe tbody tr th {\n        vertical-align: top;\n    }\n\n    .dataframe thead th {\n        text-align: right;\n    }\n</style>\n<table border=\"1\" class=\"dataframe\">\n  <thead>\n    <tr style=\"text-align: right;\">\n      <th></th>\n      <th>actual_revenue</th>\n      <th>product_unit_price</th>\n    </tr>\n  </thead>\n  <tbody>\n    <tr>\n      <th>Bananas</th>\n      <td>4000000.0</td>\n      <td>34.0</td>\n    </tr>\n    <tr>\n      <th>Onions</th>\n      <td>3000000.0</td>\n      <td>97.0</td>\n    </tr>\n    <tr>\n      <th>Tomatoes</th>\n      <td>3500000.0</td>\n      <td>101.0</td>\n    </tr>\n  </tbody>\n</table>\n</div>"
     },
     "metadata": {},
     "execution_count": 42
    }
   ],
   "source": [
    "sales.iloc[:3, :2]"
   ]
  },
  {
   "cell_type": "code",
   "execution_count": 44,
   "metadata": {},
   "outputs": [
    {
     "output_type": "execute_result",
     "data": {
      "text/plain": "          actual_revenue  product_unit_price\nBananas        4000000.0                34.0\nOnions         3000000.0                97.0\nTomatoes       3500000.0               101.0",
      "text/html": "<div>\n<style scoped>\n    .dataframe tbody tr th:only-of-type {\n        vertical-align: middle;\n    }\n\n    .dataframe tbody tr th {\n        vertical-align: top;\n    }\n\n    .dataframe thead th {\n        text-align: right;\n    }\n</style>\n<table border=\"1\" class=\"dataframe\">\n  <thead>\n    <tr style=\"text-align: right;\">\n      <th></th>\n      <th>actual_revenue</th>\n      <th>product_unit_price</th>\n    </tr>\n  </thead>\n  <tbody>\n    <tr>\n      <th>Bananas</th>\n      <td>4000000.0</td>\n      <td>34.0</td>\n    </tr>\n    <tr>\n      <th>Onions</th>\n      <td>3000000.0</td>\n      <td>97.0</td>\n    </tr>\n    <tr>\n      <th>Tomatoes</th>\n      <td>3500000.0</td>\n      <td>101.0</td>\n    </tr>\n  </tbody>\n</table>\n</div>"
     },
     "metadata": {},
     "execution_count": 44
    }
   ],
   "source": [
    "sales.loc[:'Tomatoes', :'product_unit_price']"
   ]
  },
  {
   "cell_type": "markdown",
   "metadata": {},
   "source": [
    "The ix indexer allows a hybrid of these two approaches:"
   ]
  },
  {
   "cell_type": "code",
   "execution_count": 45,
   "metadata": {},
   "outputs": [
    {
     "output_type": "execute_result",
     "data": {
      "text/plain": "          actual_revenue  product_unit_price\nBananas        4000000.0                34.0\nOnions         3000000.0                97.0\nTomatoes       3500000.0               101.0",
      "text/html": "<div>\n<style scoped>\n    .dataframe tbody tr th:only-of-type {\n        vertical-align: middle;\n    }\n\n    .dataframe tbody tr th {\n        vertical-align: top;\n    }\n\n    .dataframe thead th {\n        text-align: right;\n    }\n</style>\n<table border=\"1\" class=\"dataframe\">\n  <thead>\n    <tr style=\"text-align: right;\">\n      <th></th>\n      <th>actual_revenue</th>\n      <th>product_unit_price</th>\n    </tr>\n  </thead>\n  <tbody>\n    <tr>\n      <th>Bananas</th>\n      <td>4000000.0</td>\n      <td>34.0</td>\n    </tr>\n    <tr>\n      <th>Onions</th>\n      <td>3000000.0</td>\n      <td>97.0</td>\n    </tr>\n    <tr>\n      <th>Tomatoes</th>\n      <td>3500000.0</td>\n      <td>101.0</td>\n    </tr>\n  </tbody>\n</table>\n</div>"
     },
     "metadata": {},
     "execution_count": 45
    }
   ],
   "source": [
    "sales.ix[:3, :'product_unit_price']"
   ]
  },
  {
   "cell_type": "markdown",
   "metadata": {},
   "source": [
    "Any of the familiar NumPy-style data access patterns can be used within these indexers.\n",
    "For example, in the loc indexer we can combine masking and fancy indexing as\n",
    "in the following:"
   ]
  },
  {
   "cell_type": "code",
   "execution_count": 47,
   "metadata": {},
   "outputs": [
    {
     "output_type": "execute_result",
     "data": {
      "text/plain": "             actual_revenue  product_unit_price\nBananas           4000000.0                34.0\nMaize Flour       6500000.0                65.0",
      "text/html": "<div>\n<style scoped>\n    .dataframe tbody tr th:only-of-type {\n        vertical-align: middle;\n    }\n\n    .dataframe tbody tr th {\n        vertical-align: top;\n    }\n\n    .dataframe thead th {\n        text-align: right;\n    }\n</style>\n<table border=\"1\" class=\"dataframe\">\n  <thead>\n    <tr style=\"text-align: right;\">\n      <th></th>\n      <th>actual_revenue</th>\n      <th>product_unit_price</th>\n    </tr>\n  </thead>\n  <tbody>\n    <tr>\n      <th>Bananas</th>\n      <td>4000000.0</td>\n      <td>34.0</td>\n    </tr>\n    <tr>\n      <th>Maize Flour</th>\n      <td>6500000.0</td>\n      <td>65.0</td>\n    </tr>\n  </tbody>\n</table>\n</div>"
     },
     "metadata": {},
     "execution_count": 47
    }
   ],
   "source": [
    "sales.loc[sales.volume >= 100000, ['actual_revenue', 'product_unit_price']]"
   ]
  },
  {
   "cell_type": "markdown",
   "metadata": {},
   "source": [
    "Any of these indexing conventions may also be used to set or modify values; this is\n",
    "done in the standard way that you might be accustomed to from working with\n",
    "NumPy:"
   ]
  },
  {
   "cell_type": "code",
   "execution_count": 50,
   "metadata": {},
   "outputs": [
    {
     "output_type": "execute_result",
     "data": {
      "text/plain": "             actual_revenue  product_unit_price         volume\nBananas           4000000.0               35.66  117647.058824\nOnions            3000000.0               97.00   30927.835052\nTomatoes          3500000.0              101.00   34653.465347\nMaize Flour       6500000.0               65.00  100000.000000",
      "text/html": "<div>\n<style scoped>\n    .dataframe tbody tr th:only-of-type {\n        vertical-align: middle;\n    }\n\n    .dataframe tbody tr th {\n        vertical-align: top;\n    }\n\n    .dataframe thead th {\n        text-align: right;\n    }\n</style>\n<table border=\"1\" class=\"dataframe\">\n  <thead>\n    <tr style=\"text-align: right;\">\n      <th></th>\n      <th>actual_revenue</th>\n      <th>product_unit_price</th>\n      <th>volume</th>\n    </tr>\n  </thead>\n  <tbody>\n    <tr>\n      <th>Bananas</th>\n      <td>4000000.0</td>\n      <td>35.66</td>\n      <td>117647.058824</td>\n    </tr>\n    <tr>\n      <th>Onions</th>\n      <td>3000000.0</td>\n      <td>97.00</td>\n      <td>30927.835052</td>\n    </tr>\n    <tr>\n      <th>Tomatoes</th>\n      <td>3500000.0</td>\n      <td>101.00</td>\n      <td>34653.465347</td>\n    </tr>\n    <tr>\n      <th>Maize Flour</th>\n      <td>6500000.0</td>\n      <td>65.00</td>\n      <td>100000.000000</td>\n    </tr>\n  </tbody>\n</table>\n</div>"
     },
     "metadata": {},
     "execution_count": 50
    }
   ],
   "source": [
    "# changing the unit_price of Bananas\n",
    "sales.iloc[0,1] = 35.66\n",
    "sales"
   ]
  },
  {
   "cell_type": "markdown",
   "metadata": {},
   "source": [
    "## Additional Indexing Conventions"
   ]
  },
  {
   "cell_type": "markdown",
   "metadata": {},
   "source": [
    "There are a couple extra indexing conventions that might seem at odds with the preceding\n",
    "discussion, but nevertheless can be very useful in practice. First, while indexing\n",
    "refers to columns, slicing refers to rows:"
   ]
  },
  {
   "cell_type": "code",
   "execution_count": 51,
   "metadata": {},
   "outputs": [
    {
     "output_type": "execute_result",
     "data": {
      "text/plain": "             actual_revenue  product_unit_price         volume\nTomatoes          3500000.0               101.0   34653.465347\nMaize Flour       6500000.0                65.0  100000.000000",
      "text/html": "<div>\n<style scoped>\n    .dataframe tbody tr th:only-of-type {\n        vertical-align: middle;\n    }\n\n    .dataframe tbody tr th {\n        vertical-align: top;\n    }\n\n    .dataframe thead th {\n        text-align: right;\n    }\n</style>\n<table border=\"1\" class=\"dataframe\">\n  <thead>\n    <tr style=\"text-align: right;\">\n      <th></th>\n      <th>actual_revenue</th>\n      <th>product_unit_price</th>\n      <th>volume</th>\n    </tr>\n  </thead>\n  <tbody>\n    <tr>\n      <th>Tomatoes</th>\n      <td>3500000.0</td>\n      <td>101.0</td>\n      <td>34653.465347</td>\n    </tr>\n    <tr>\n      <th>Maize Flour</th>\n      <td>6500000.0</td>\n      <td>65.0</td>\n      <td>100000.000000</td>\n    </tr>\n  </tbody>\n</table>\n</div>"
     },
     "metadata": {},
     "execution_count": 51
    }
   ],
   "source": [
    "sales['Tomatoes' : 'Maize Flour']"
   ]
  },
  {
   "cell_type": "code",
   "execution_count": 54,
   "metadata": {},
   "outputs": [
    {
     "output_type": "execute_result",
     "data": {
      "text/plain": "             actual_revenue  product_unit_price         volume\nTomatoes          3500000.0               101.0   34653.465347\nMaize Flour       6500000.0                65.0  100000.000000",
      "text/html": "<div>\n<style scoped>\n    .dataframe tbody tr th:only-of-type {\n        vertical-align: middle;\n    }\n\n    .dataframe tbody tr th {\n        vertical-align: top;\n    }\n\n    .dataframe thead th {\n        text-align: right;\n    }\n</style>\n<table border=\"1\" class=\"dataframe\">\n  <thead>\n    <tr style=\"text-align: right;\">\n      <th></th>\n      <th>actual_revenue</th>\n      <th>product_unit_price</th>\n      <th>volume</th>\n    </tr>\n  </thead>\n  <tbody>\n    <tr>\n      <th>Tomatoes</th>\n      <td>3500000.0</td>\n      <td>101.0</td>\n      <td>34653.465347</td>\n    </tr>\n    <tr>\n      <th>Maize Flour</th>\n      <td>6500000.0</td>\n      <td>65.0</td>\n      <td>100000.000000</td>\n    </tr>\n  </tbody>\n</table>\n</div>"
     },
     "metadata": {},
     "execution_count": 54
    }
   ],
   "source": [
    "# Such slices can also refer to rows by number rather than by index:\n",
    "sales[2:4]"
   ]
  },
  {
   "cell_type": "code",
   "execution_count": 55,
   "metadata": {},
   "outputs": [
    {
     "output_type": "execute_result",
     "data": {
      "text/plain": "             actual_revenue  product_unit_price         volume\nBananas           4000000.0               35.66  117647.058824\nMaize Flour       6500000.0               65.00  100000.000000",
      "text/html": "<div>\n<style scoped>\n    .dataframe tbody tr th:only-of-type {\n        vertical-align: middle;\n    }\n\n    .dataframe tbody tr th {\n        vertical-align: top;\n    }\n\n    .dataframe thead th {\n        text-align: right;\n    }\n</style>\n<table border=\"1\" class=\"dataframe\">\n  <thead>\n    <tr style=\"text-align: right;\">\n      <th></th>\n      <th>actual_revenue</th>\n      <th>product_unit_price</th>\n      <th>volume</th>\n    </tr>\n  </thead>\n  <tbody>\n    <tr>\n      <th>Bananas</th>\n      <td>4000000.0</td>\n      <td>35.66</td>\n      <td>117647.058824</td>\n    </tr>\n    <tr>\n      <th>Maize Flour</th>\n      <td>6500000.0</td>\n      <td>65.00</td>\n      <td>100000.000000</td>\n    </tr>\n  </tbody>\n</table>\n</div>"
     },
     "metadata": {},
     "execution_count": 55
    }
   ],
   "source": [
    "# Similarly, direct masking operations are also interpreted row-wise rather than column-wise:\n",
    "sales[sales.volume >= 100000]"
   ]
  }
 ]
}
