{
 "cells": [
  {
   "cell_type": "markdown",
   "metadata": {},
   "source": [
    "# Introducing Pandas Objects\n",
    "## Pandas Series Objects\n",
    "\n",
    "A Pandas Series is a one-dimensional array of indexed data. It can be created from a\n",
    "list or array as follows:"
   ]
  },
  {
   "cell_type": "code",
   "execution_count": 2,
   "metadata": {},
   "outputs": [
    {
     "output_type": "execute_result",
     "data": {
      "text/plain": "0    0.1\n1    0.2\n2    0.3\n3    0.4\n4    0.5\ndtype: float64"
     },
     "metadata": {},
     "execution_count": 2
    }
   ],
   "source": [
    "import numpy as np \n",
    "import pandas as pd \n",
    "# pandas Series Object\n",
    "data_1 = pd.Series([0.1, 0.2, 0.3, 0.4, .5])\n",
    "data_1"
   ]
  },
  {
   "cell_type": "markdown",
   "metadata": {},
   "source": [
    "As we see in the preceding output, the Series wraps both a sequence of values and a\n",
    "sequence of indices, which we can access with the values and index attributes. The\n",
    "values are simply a familiar NumPy array:"
   ]
  },
  {
   "cell_type": "code",
   "execution_count": 3,
   "metadata": {},
   "outputs": [
    {
     "output_type": "execute_result",
     "data": {
      "text/plain": "array([0.1, 0.2, 0.3, 0.4, 0.5])"
     },
     "metadata": {},
     "execution_count": 3
    }
   ],
   "source": [
    "# accessing the values\n",
    "data_1.values"
   ]
  },
  {
   "cell_type": "markdown",
   "metadata": {},
   "source": [
    "The index is an array-like object of type pd.Index,"
   ]
  },
  {
   "cell_type": "code",
   "execution_count": 4,
   "metadata": {},
   "outputs": [
    {
     "output_type": "execute_result",
     "data": {
      "text/plain": "RangeIndex(start=0, stop=5, step=1)"
     },
     "metadata": {},
     "execution_count": 4
    }
   ],
   "source": [
    "# Checking Index\n",
    "data_1.index"
   ]
  },
  {
   "cell_type": "markdown",
   "metadata": {},
   "source": [
    "Like with a NumPy array, data can be accessed by the associated index via the familiar\n",
    "Python square-bracket notation:"
   ]
  },
  {
   "cell_type": "code",
   "execution_count": 5,
   "metadata": {},
   "outputs": [
    {
     "output_type": "stream",
     "name": "stdout",
     "text": "0.2\n1    0.2\n2    0.3\ndtype: float64\n"
    }
   ],
   "source": [
    "# accessing data using the associated index\n",
    "print(data_1[1])\n",
    "print(data_1[1:3])"
   ]
  },
  {
   "cell_type": "markdown",
   "metadata": {},
   "source": [
    "## Series as generalized NumPy array\n",
    "It looks like the Series object is basically interchangeable\n",
    "with a one-dimensional NumPy array. The essential difference is the presence\n",
    "of the index: while the NumPy array has an <i>implicitly defined </i>integer index used\n",
    "to access the values, the Pandas Series has an <i>explicitly defined</i> index associated with\n",
    "the values. \n",
    "\n",
    "This <i>explicit index definition</i> gives the Series object additional capabilities. For\n",
    "example, the index need not be an integer, but can consist of values of any desired\n",
    "type. For example, if we wish, we can use strings as an index:"
   ]
  },
  {
   "cell_type": "code",
   "execution_count": 6,
   "metadata": {},
   "outputs": [
    {
     "output_type": "stream",
     "name": "stdout",
     "text": "a    0.1\nb    0.2\nc    0.3\nd    0.4\ndtype: float64\n0.2\n"
    }
   ],
   "source": [
    "# using strings as an index\n",
    "data_2 = pd.Series([0.1, 0.2, 0.3, 0.4],\n",
    "                  index = ['a', 'b', 'c', 'd'])\n",
    "print(data_2)\n",
    "# And the item access works as expected:\n",
    "print(data_2['b'])"
   ]
  },
  {
   "cell_type": "markdown",
   "metadata": {},
   "source": [
    "We can even use noncontiguous or nonsequential indices:"
   ]
  },
  {
   "cell_type": "code",
   "execution_count": 7,
   "metadata": {},
   "outputs": [
    {
     "output_type": "stream",
     "name": "stdout",
     "text": "2    0.1\n5    0.2\n3    0.3\n7    0.4\ndtype: float64\n0.2\n"
    }
   ],
   "source": [
    "# using noncontiiguous or nonsequential indices\n",
    "data_3 = pd.Series([0.1, 0.2, 0.3, 0.4],\n",
    "                  index = [2, 5, 3, 7])\n",
    "print(data_3)\n",
    "print(data_3[5])"
   ]
  },
  {
   "cell_type": "markdown",
   "metadata": {},
   "source": [
    "## Series as specialized dictionary\n",
    "In this way, you can think of a Pandas Series a bit like a specialization of a Python\n",
    "dictionary. \n",
    "\n",
    "A dictionary is a structure that maps arbitrary keys to a set of arbitrary values, and a Series is a structure that maps typed keys to a set of typed values. This typing is important: just as the type-specific compiled code behind a NumPy array\n",
    "makes it more efficient than a Python list for certain operations, the type information\n",
    "of a Pandas Series makes it much more efficient than Python dictionaries for certain\n",
    "operations.\n",
    "\n",
    "We can make the Series-as-dictionary analogy even more clear by constructing a\n",
    "Series object directly from a Python dictionary:"
   ]
  },
  {
   "cell_type": "code",
   "execution_count": 8,
   "metadata": {},
   "outputs": [
    {
     "output_type": "stream",
     "name": "stdout",
     "text": "<class 'pandas.core.series.Series'>\n"
    },
    {
     "output_type": "execute_result",
     "data": {
      "text/plain": "Bananas        4000000\nOnions         3000000\nTomatoes       3500000\nMaize Flour    6300000\ndtype: int64"
     },
     "metadata": {},
     "execution_count": 8
    }
   ],
   "source": [
    "product_rev_dict = {'Bananas': 4000000, 'Onions': 3000000, 'Tomatoes': 3500000, 'Maize Flour': 6300000}\n",
    "# constructing a Series object directly from a Python dictionary\n",
    "product_rev = pd.Series(product_rev_dict)\n",
    "print(type(product_rev)) # Series data type\n",
    "product_rev"
   ]
  },
  {
   "cell_type": "markdown",
   "metadata": {},
   "source": [
    "By default, a Series will be created where the index is drawn from the sorted keys.\n",
    "From here, typical dictionary-style item access can be performed:"
   ]
  },
  {
   "cell_type": "code",
   "execution_count": 9,
   "metadata": {},
   "outputs": [
    {
     "output_type": "execute_result",
     "data": {
      "text/plain": "4000000"
     },
     "metadata": {},
     "execution_count": 9
    }
   ],
   "source": [
    "# accessing items in the Series\n",
    "product_rev['Bananas']"
   ]
  },
  {
   "cell_type": "markdown",
   "metadata": {},
   "source": [
    "Unlike a dictionary, though, the Series also supports array-style operations such as\n",
    "slicing:"
   ]
  },
  {
   "cell_type": "code",
   "execution_count": 10,
   "metadata": {},
   "outputs": [
    {
     "output_type": "stream",
     "name": "stdout",
     "text": "Onions         3000000\nTomatoes       3500000\nMaize Flour    6300000\ndtype: int64\nBananas     4000000\nOnions      3000000\nTomatoes    3500000\ndtype: int64\n"
    }
   ],
   "source": [
    "# Series supports array-style operations such as:\n",
    "# slicing\n",
    "print(product_rev[1:4])\n",
    "print(product_rev['Bananas':'Tomatoes'])"
   ]
  },
  {
   "cell_type": "markdown",
   "metadata": {},
   "source": [
    "## Data Indexing and Selection\n",
    "### Data Selection in Series"
   ]
  },
  {
   "cell_type": "markdown",
   "metadata": {},
   "source": [
    "#### Series as dictionary"
   ]
  },
  {
   "cell_type": "code",
   "execution_count": 14,
   "metadata": {},
   "outputs": [
    {
     "output_type": "stream",
     "name": "stdout",
     "text": "a    0.1\nb    0.2\nc    0.3\nd    0.4\ne    0.5\ndtype: float64\n0.2\n"
    }
   ],
   "source": [
    "data = pd.Series([0.1, 0.2, 0.3, 0.4, 0.5], \n",
    "                    index=['a', 'b', 'c', 'd', 'e'])\n",
    "print(data)\n",
    "print(data['b'])"
   ]
  },
  {
   "cell_type": "markdown",
   "metadata": {},
   "source": [
    "We can also use dictionary-like Python expressions and methods to examine the\n",
    "keys/indices and values:"
   ]
  },
  {
   "cell_type": "code",
   "execution_count": 21,
   "metadata": {},
   "outputs": [
    {
     "output_type": "stream",
     "name": "stdout",
     "text": "True\nKeys: Index(['a', 'b', 'c', 'd', 'e'], dtype='object')\nItems: [('a', 0.1), ('b', 0.2), ('c', 0.3), ('d', 0.4), ('e', 0.5)]\n"
    }
   ],
   "source": [
    "print('a' in data)\n",
    "print('Keys:', data.keys())\n",
    "print('Items:', list(data.items()))"
   ]
  },
  {
   "cell_type": "markdown",
   "metadata": {},
   "source": [
    "Series objects can even be modified with a dictionary-like syntax. Just as you can\n",
    "extend a dictionary by assigning to a new key, you can extend a Series by assigning\n",
    "to a new index value:"
   ]
  },
  {
   "cell_type": "code",
   "execution_count": 22,
   "metadata": {},
   "outputs": [
    {
     "output_type": "execute_result",
     "data": {
      "text/plain": "a    0.100000\nb    0.200000\nc    0.300000\nd    0.400000\ne    0.999999\ndtype: float64"
     },
     "metadata": {},
     "execution_count": 22
    }
   ],
   "source": [
    "data['e'] = 0.999999\n",
    "data"
   ]
  },
  {
   "cell_type": "markdown",
   "metadata": {},
   "source": [
    "This easy mutability of the objects is a convenient feature: under the hood, Pandas is\n",
    "making decisions about memory layout and data copying that might need to take\n",
    "place; the user generally does not need to worry about these issues."
   ]
  },
  {
   "cell_type": "markdown",
   "metadata": {},
   "source": [
    "### Series as one-dimensional array\n",
    "A Series builds on this dictionary-like interface and provides array-style item selection\n",
    "via the same basic mechanisms as NumPy arrays—that is, slices, masking, and\n",
    "fancy indexing. Examples of these are as follows: "
   ]
  },
  {
   "cell_type": "code",
   "execution_count": 27,
   "metadata": {},
   "outputs": [
    {
     "output_type": "stream",
     "name": "stdout",
     "text": "a    0.1\nb    0.2\nc    0.3\ndtype: float64\na    0.1\nb    0.2\nc    0.3\ndtype: float64\nd    0.4\ndtype: float64\n"
    }
   ],
   "source": [
    "# slicing by explicit index\n",
    "print(data['a': 'c'])\n",
    "# slicing by implicit integer index\n",
    "print(data[0:3])\n",
    "# masking\n",
    "print(data[(data >0.3) & (data < 0.8)])"
   ]
  },
  {
   "cell_type": "markdown",
   "metadata": {},
   "source": [
    "### Indexers: loc, iloc, and ix\n",
    "These slicing and indexing conventions can be a source of confusion. For example, if\n",
    "your Series has an explicit integer index, an indexing operation such as data [1] will\n",
    "use the explicit indices, while a slicing operation like data [1:3] will use the implicit\n",
    "Python-style index."
   ]
  },
  {
   "cell_type": "code",
   "execution_count": 29,
   "metadata": {},
   "outputs": [
    {
     "output_type": "execute_result",
     "data": {
      "text/plain": "1    a\n3    b\n5    c\ndtype: object"
     },
     "metadata": {},
     "execution_count": 29
    }
   ],
   "source": [
    "data = pd.Series(['a', 'b', 'c'], index = [1, 3, 5])\n",
    "data"
   ]
  },
  {
   "cell_type": "code",
   "execution_count": 33,
   "metadata": {},
   "outputs": [
    {
     "output_type": "stream",
     "name": "stdout",
     "text": "a\n3    b\n5    c\ndtype: object\n"
    }
   ],
   "source": [
    "# explicit index when indexing\n",
    "print(data[1])\n",
    "# implicit index when slicing\n",
    "print(data[1:3])"
   ]
  },
  {
   "cell_type": "markdown",
   "metadata": {},
   "source": [
    "Because of this potential confusion in the case of integer indexes, Pandas provides\n",
    "some special indexer attributes that explicitly expose certain indexing schemes. These are not functional methods, but attributes that expose a particular slicing interface to\n",
    "the data in the Series."
   ]
  },
  {
   "cell_type": "markdown",
   "metadata": {},
   "source": [
    "First, the loc attribute allows indexing and slicing that always references the explicit\n",
    "index:"
   ]
  },
  {
   "cell_type": "code",
   "execution_count": 39,
   "metadata": {},
   "outputs": [
    {
     "output_type": "stream",
     "name": "stdout",
     "text": "a\n1    a\n3    b\ndtype: object\n"
    }
   ],
   "source": [
    "# loc attribute\n",
    "print(data.loc[1])\n",
    "print(data.loc[1:3])"
   ]
  },
  {
   "cell_type": "markdown",
   "metadata": {},
   "source": [
    "The iloc attribute allows indexing and slicing that always references the implicit\n",
    "Python-style index:"
   ]
  },
  {
   "cell_type": "code",
   "execution_count": 41,
   "metadata": {},
   "outputs": [
    {
     "output_type": "stream",
     "name": "stdout",
     "text": "b\n3    b\n5    c\ndtype: object\n"
    }
   ],
   "source": [
    "# iloc attribute\n",
    "print(data.iloc[1])\n",
    "print(data.iloc[1:3])"
   ]
  }
 ],
 "metadata": {
  "kernelspec": {
   "display_name": "Python 3",
   "language": "python",
   "name": "python3"
  },
  "language_info": {
   "codemirror_mode": {
    "name": "ipython",
    "version": 3
   },
   "file_extension": ".py",
   "mimetype": "text/x-python",
   "name": "python",
   "nbconvert_exporter": "python",
   "pygments_lexer": "ipython3",
   "version": "3.7.4-final"
  }
 },
 "nbformat": 4,
 "nbformat_minor": 2
}
