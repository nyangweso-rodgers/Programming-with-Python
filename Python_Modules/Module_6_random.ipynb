{
 "cells": [
  {
   "cell_type": "markdown",
   "metadata": {},
   "source": [
    "# Random Module in Python"
   ]
  },
  {
   "cell_type": "markdown",
   "metadata": {},
   "source": [
    "Using `random.choices` you can pick something randomly with non-uniform probabilities. \n",
    "\n",
    "Here is how to flip a coin where heads is twice as likely as an ouput as tails."
   ]
  },
  {
   "cell_type": "code",
   "execution_count": 1,
   "metadata": {},
   "outputs": [
    {
     "data": {
      "text/plain": [
       "['heads',\n",
       " 'tails',\n",
       " 'heads',\n",
       " 'tails',\n",
       " 'heads',\n",
       " 'heads',\n",
       " 'heads',\n",
       " 'heads',\n",
       " 'heads',\n",
       " 'tails']"
      ]
     },
     "execution_count": 1,
     "metadata": {},
     "output_type": "execute_result"
    }
   ],
   "source": [
    "import random\n",
    "faces = [\"heads\", \"tails\"]\n",
    "weights = [2, 1] # heads is twice as likely as tails\n",
    "random.choices(faces, weights, k = 10)"
   ]
  },
  {
   "cell_type": "markdown",
   "metadata": {},
   "source": [
    "## Using random module to choose what to eat"
   ]
  },
  {
   "cell_type": "code",
   "execution_count": 10,
   "metadata": {},
   "outputs": [
    {
     "name": "stdout",
     "output_type": "stream",
     "text": [
      "today we will eat Pilau + Meat\n"
     ]
    }
   ],
   "source": [
    "from random import seed, choice \n",
    "counter = 1  # += 1 every time the script is run.. \n",
    "coin_throws = 0b1  # To be extended one bit at a time \n",
    "lottery_numbers = 1345443315  # It's your lucky numbers! \n",
    "seed((coin_throws^lottery_numbers)*counter) \n",
    "choices = [\"Liver + Ugali\", \"Spinach + Ugali + Mala\", \"Pilau + Meat\", \"Fish + Ugali + Spinach\", \"Spagetti + Eggs\"] \n",
    "print(\"today we will eat\", choice(choices)) "
   ]
  }
 ],
 "metadata": {
  "interpreter": {
   "hash": "1e915f0a29dc84041eaeb02b7b1a21c440e37a87b61d44d5e84a515737dc82bc"
  },
  "kernelspec": {
   "display_name": "Python 3.8.8 64-bit ('base': conda)",
   "language": "python",
   "name": "python3"
  },
  "language_info": {
   "codemirror_mode": {
    "name": "ipython",
    "version": 3
   },
   "file_extension": ".py",
   "mimetype": "text/x-python",
   "name": "python",
   "nbconvert_exporter": "python",
   "pygments_lexer": "ipython3",
   "version": "3.8.8"
  },
  "orig_nbformat": 4
 },
 "nbformat": 4,
 "nbformat_minor": 2
}
