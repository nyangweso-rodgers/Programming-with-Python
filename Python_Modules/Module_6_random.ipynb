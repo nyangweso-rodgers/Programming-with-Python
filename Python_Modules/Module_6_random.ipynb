{
 "cells": [
  {
   "cell_type": "markdown",
   "metadata": {},
   "source": [
    "# Random Module in Python"
   ]
  },
  {
   "cell_type": "markdown",
   "metadata": {},
   "source": [
    "Using `random.choices` you can pick something randomly with non-uniform probabilities. \n",
    "\n",
    "Here is how to flip a coin where heads is twice as likely as an ouput as tails."
   ]
  },
  {
   "cell_type": "code",
   "execution_count": 1,
   "metadata": {},
   "outputs": [
    {
     "data": {
      "text/plain": [
       "['heads',\n",
       " 'heads',\n",
       " 'heads',\n",
       " 'heads',\n",
       " 'tails',\n",
       " 'tails',\n",
       " 'heads',\n",
       " 'tails',\n",
       " 'heads',\n",
       " 'heads']"
      ]
     },
     "execution_count": 1,
     "metadata": {},
     "output_type": "execute_result"
    }
   ],
   "source": [
    "import random\n",
    "faces = [\"heads\", \"tails\"]\n",
    "weights = [2, 1] # heads is twice as likely as tails\n",
    "random.choices(faces, weights, k = 10)"
   ]
  }
 ],
 "metadata": {
  "interpreter": {
   "hash": "1e915f0a29dc84041eaeb02b7b1a21c440e37a87b61d44d5e84a515737dc82bc"
  },
  "kernelspec": {
   "display_name": "Python 3.8.8 64-bit ('base': conda)",
   "language": "python",
   "name": "python3"
  },
  "language_info": {
   "codemirror_mode": {
    "name": "ipython",
    "version": 3
   },
   "file_extension": ".py",
   "mimetype": "text/x-python",
   "name": "python",
   "nbconvert_exporter": "python",
   "pygments_lexer": "ipython3",
   "version": "3.8.8"
  },
  "orig_nbformat": 4
 },
 "nbformat": 4,
 "nbformat_minor": 2
}
