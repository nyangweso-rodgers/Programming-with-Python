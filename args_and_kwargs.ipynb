{
 "cells": [
  {
   "cell_type": "markdown",
   "source": [
    "# args and kwargs in Python"
   ],
   "metadata": {}
  },
  {
   "cell_type": "markdown",
   "source": [
    "## *args\r\n",
    "__*args__ is called ‘__arbitrary arguments__’. It is useful in the cases where you don’t know how many arguments you need for your function. This way, you will have a tuple (not a list) of arguments.\r\n",
    "\r\n",
    "Python doesn't have the concept of function overloading because as soon as you create another function with the same name it discards the pervious one and consider only the second defined function as the only one. Because you can pass as many arguments you want with the help of __*args__."
   ],
   "metadata": {}
  },
  {
   "cell_type": "code",
   "execution_count": 5,
   "source": [
    "# Example 1\r\n",
    "\r\n",
    "def add(*args):\r\n",
    "    return sum(args)\r\n",
    "\r\n",
    "# It will return the sum of as many arguments you want.\r\n",
    "add(1,2, 3, 4, 5, 6, 7, 8, 9, 10)"
   ],
   "outputs": [
    {
     "output_type": "execute_result",
     "data": {
      "text/plain": [
       "55"
      ]
     },
     "metadata": {},
     "execution_count": 5
    }
   ],
   "metadata": {}
  },
  {
   "cell_type": "code",
   "execution_count": 6,
   "source": [
    "# Example 2\r\n",
    "def my_function(*argv):\r\n",
    "    for arg in argv:\r\n",
    "        print(arg)\r\n",
    "\r\n",
    "my_function(\"Hello\", \"learning\", \"*args\", \"and\", \"**kwargs\")"
   ],
   "outputs": [
    {
     "output_type": "stream",
     "name": "stdout",
     "text": [
      "Hello\n",
      "learning\n",
      "*args\n",
      "and\n",
      "**kwargs\n"
     ]
    }
   ],
   "metadata": {}
  },
  {
   "cell_type": "code",
   "execution_count": 8,
   "source": [
    "# Example 3\r\n",
    "def my_function(arg1, *argv):\r\n",
    "    print('First Argument: ', arg1)\r\n",
    "    for arg in argv:\r\n",
    "        print(\"Next Argument though *argv :\", arg)\r\n",
    "\r\n",
    "my_function(\"Hello,\", \"I\", \"am\", \"learning\", \"*args and **kwargs\")"
   ],
   "outputs": [
    {
     "output_type": "stream",
     "name": "stdout",
     "text": [
      "First Argument:  Hello,\n",
      "Next Argument though *argv : I\n",
      "Next Argument though *argv : am\n",
      "Next Argument though *argv : learning\n",
      "Next Argument though *argv : *args and **kwargs\n"
     ]
    }
   ],
   "metadata": {}
  },
  {
   "cell_type": "markdown",
   "source": [
    "## *kwargs\r\n",
    "__**kwargs__ is called ‘__arbitrary keyword arguments__’. It is the same thing speaking about not knowing the number of arguments needed etc. But the difference here is that you will have a __dictionary__ of arguments instead of a __tuple__. So, we are using the key = value syntax, then, inside the function, you might use kwargs[key].\r\n",
    "\r\n",
    "It is used where you want the user to enter the parameter name also followed by argument. \r\n",
    "\r\n",
    "### Example"
   ],
   "metadata": {}
  },
  {
   "cell_type": "code",
   "execution_count": 4,
   "source": [
    "# Example 4: - Usage of **kwargs\r\n",
    "def greet_me(**kwargs):\r\n",
    "    for key, value in kwargs.items():\r\n",
    "        print(\"{0} = {1}\".format(key, value))\r\n",
    "\r\n",
    "greet_me(name = 'John')"
   ],
   "outputs": [
    {
     "output_type": "stream",
     "name": "stdout",
     "text": [
      "name = John\n"
     ]
    }
   ],
   "metadata": {}
  },
  {
   "cell_type": "code",
   "execution_count": 12,
   "source": [
    "# Example 5: - Usage of **kwargs\r\n",
    "def my_function(**kwargs):\r\n",
    "    for key, value in kwargs.items():\r\n",
    "        print(\"%s == %s\" %(key, value))\r\n",
    "\r\n",
    "# Driver code\r\n",
    "my_function(first_name ='Rodgers', middle_name ='Omondi', last_name='Nyangweso')  \r\n"
   ],
   "outputs": [
    {
     "output_type": "stream",
     "name": "stdout",
     "text": [
      "first_name == Rodgers\n",
      "middle_name == Omondi\n",
      "last_name == Nyangweso\n"
     ]
    }
   ],
   "metadata": {}
  },
  {
   "cell_type": "markdown",
   "source": [
    "# Refererences\r\n",
    "1. [*args and **kwargs in Python](https://www.geeksforgeeks.org/args-kwargs-python/)"
   ],
   "metadata": {}
  }
 ],
 "metadata": {
  "orig_nbformat": 4,
  "language_info": {
   "name": "python",
   "version": "3.8.8",
   "mimetype": "text/x-python",
   "codemirror_mode": {
    "name": "ipython",
    "version": 3
   },
   "pygments_lexer": "ipython3",
   "nbconvert_exporter": "python",
   "file_extension": ".py"
  },
  "kernelspec": {
   "name": "python3",
   "display_name": "Python 3.8.8 64-bit ('base': conda)"
  },
  "interpreter": {
   "hash": "1e915f0a29dc84041eaeb02b7b1a21c440e37a87b61d44d5e84a515737dc82bc"
  }
 },
 "nbformat": 4,
 "nbformat_minor": 2
}