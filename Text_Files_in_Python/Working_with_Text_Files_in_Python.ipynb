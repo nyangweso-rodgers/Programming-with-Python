{
 "cells": [
  {
   "cell_type": "markdown",
   "metadata": {},
   "source": [
    "# Working with Text Files in Python\n",
    "## Openning Files\n",
    "Python can be used to __read__ and __write__ the contents of files. Text files are easiest to manipulate. Before a file can be edited, it must be opened, using the __open__ function.\n",
    "```py\n",
    "my_file = open(\"filename.txt\")\n",
    "```\n",
    "The argument of the open function is the path to the file. If the file is in the current working directory, you can specify only its name.\n",
    "\n",
    "__close__ method is used to close a file once a file is opened and used.\n",
    "\n",
    "## Modes of openning files:\n",
    "\n",
    "* __r__ - read mode (default)\n",
    "* __w__ - write mode (rewritting the contents of the file)\n",
    "* __b__ - append mode (adding new content to the end of the file)\n",
    "* __'b'__ - binary mode (opens the file in a __binary__ mode (used for non-text files e.g., _image_ and _sound files_)\n",
    "* __rb__ - binary read mode\n",
    "* __wb__ - binary write mode"
   ]
  },
  {
   "cell_type": "markdown",
   "metadata": {},
   "source": []
  },
  {
   "cell_type": "markdown",
   "metadata": {},
   "source": [
    "## Reading Files"
   ]
  },
  {
   "cell_type": "code",
   "execution_count": 1,
   "metadata": {},
   "outputs": [
    {
     "name": "stdout",
     "output_type": "stream",
     "text": [
      "// Python can be used to read and write the contents of a file\n",
      "// text files are the easiest to manipultae\n",
      "// before a file can be edited, it must be opened, using the open function.\n"
     ]
    }
   ],
   "source": [
    "first_file  = open(\"sample_text_file_1.txt\", \"r\")\n",
    "\n",
    "# Reading contents of the files\n",
    "print(first_file.read())\n",
    "first_file.close()"
   ]
  },
  {
   "cell_type": "markdown",
   "metadata": {},
   "source": [
    "__Remarks__: \n",
    "* Just like passing no arguments, negative values will return the entire contents.\n",
    "* After all contents in a file have been read, any attempt to read further from that file will return an empty string - because you are trying to read from the end of the file.\n",
    "* To retrieve each line in a file, you can use the readlines method to return a list in which each element is a line in the file."
   ]
  },
  {
   "cell_type": "code",
   "execution_count": 2,
   "metadata": {},
   "outputs": [
    {
     "name": "stdout",
     "output_type": "stream",
     "text": [
      "['// Python can be used to read and write the contents of a file\\n', '// text files are the easiest to manipultae\\n', '// before a file can be edited, it must be opened, using the open function.']\n"
     ]
    }
   ],
   "source": [
    "second_sample = open(\"sample_text_file_1.txt\", \"r\")\n",
    "print(second_sample.readlines())\n",
    "\n",
    "second_sample.close()"
   ]
  },
  {
   "cell_type": "code",
   "execution_count": 3,
   "metadata": {},
   "outputs": [
    {
     "name": "stdout",
     "output_type": "stream",
     "text": [
      "<class '_io.TextIOWrapper'>\n"
     ]
    }
   ],
   "source": [
    "# Getting Data Type of the file\n",
    "second_sample = open(\"sample_text_file_1.txt\", \"r\")\n",
    "print(type(second_sample))\n",
    "\n",
    "second_sample.close()"
   ]
  },
  {
   "cell_type": "markdown",
   "metadata": {},
   "source": [
    "__Remark__: _We can use a for loop to iterate through the lines in the file_"
   ]
  },
  {
   "cell_type": "code",
   "execution_count": 4,
   "metadata": {},
   "outputs": [
    {
     "name": "stdout",
     "output_type": "stream",
     "text": [
      "// Python can be used to read and write the contents of a file\n",
      "\n",
      "// text files are the easiest to manipultae\n",
      "\n",
      "// before a file can be edited, it must be opened, using the open function.\n"
     ]
    }
   ],
   "source": [
    "third_sample = open(\"sample_text_file_1.txt\", \"r\")\n",
    "for line in third_sample:\n",
    "    print(line)\n",
    "third_sample.close()"
   ]
  },
  {
   "cell_type": "markdown",
   "metadata": {},
   "source": [
    "## Writing Files\n",
    "Use __write__ method to write a string to the file. \n",
    "* The __'w'__ mode will create the file if it doesn't exists already.\n",
    "* When a file is opened in write mode, the file's existing content is deleted\n",
    "* The write method returns the number of bytes written to a file, if successful.\n",
    "* To write something other than a string, it needs to be converted to a string first"
   ]
  },
  {
   "cell_type": "code",
   "execution_count": 5,
   "metadata": {},
   "outputs": [],
   "source": [
    "fourth_sample = open(\"sample_text_file_2.txt\", \"w\")\n",
    "fourth_sample.write(\"// This line has be written to this new file which did not exists in the folder\")\n",
    "fourth_sample.close()"
   ]
  },
  {
   "cell_type": "code",
   "execution_count": 6,
   "metadata": {},
   "outputs": [
    {
     "name": "stdout",
     "output_type": "stream",
     "text": [
      "// This line has be written to this new file which did not exists in the folder\n",
      "Finished Reading this file\n"
     ]
    }
   ],
   "source": [
    "fourth_sample = open(\"sample_text_file_2.txt\", \"r\")\n",
    "for line in fourth_sample:\n",
    "    print(line)\n",
    "print(\"Finished Reading this file\")\n",
    "fourth_sample.close()"
   ]
  },
  {
   "cell_type": "code",
   "execution_count": 7,
   "metadata": {},
   "outputs": [
    {
     "name": "stdout",
     "output_type": "stream",
     "text": [
      "46\n"
     ]
    }
   ],
   "source": [
    "my_message = \"Count the number of characters in this message\"\n",
    "sixth_sample = open(\"sample_text_file_3.txt\", \"w\")\n",
    "amount_written = sixth_sample.write(my_message)\n",
    "print(amount_written)\n",
    "sixth_sample.close()"
   ]
  },
  {
   "cell_type": "markdown",
   "metadata": {},
   "source": [
    "__REMARK:__ _It's a good practice to avoid wating resources by making sure that files are always closed after they have been used. One way of doing this is to use __try__ and __finally___"
   ]
  },
  {
   "cell_type": "code",
   "execution_count": 8,
   "metadata": {},
   "outputs": [
    {
     "name": "stdout",
     "output_type": "stream",
     "text": [
      "//\n"
     ]
    }
   ],
   "source": [
    "try:\n",
    "    seventh_sample = open(\"sample_text_file_1.txt\", \"r\")\n",
    "    # read first two letters\n",
    "    print(seventh_sample.read(2)) \n",
    "finally:\n",
    "    seventh_sample.close() # This ensures that the file is always closed even if an error occurs."
   ]
  },
  {
   "cell_type": "markdown",
   "metadata": {},
   "source": [
    "__REMARK:__ An alternative way of doing this is using __with__ statement. _This creates a temporary variable, which is only accessible in the indented block of the with statement_."
   ]
  },
  {
   "cell_type": "code",
   "execution_count": 9,
   "metadata": {},
   "outputs": [
    {
     "name": "stdout",
     "output_type": "stream",
     "text": [
      "// Python can be used to read and write the contents of a file\n",
      "// text files are the easiest to manipultae\n",
      "// before a file can be edited, it must be opened, using the open function.\n"
     ]
    }
   ],
   "source": [
    "with open(\"sample_text_file_1.txt\") as eighth_sample:\n",
    "    # The file is automatically closed at the end of the with statement, even if exceptions occur with it.\n",
    "    print(eighth_sample.read()) "
   ]
  },
  {
   "cell_type": "markdown",
   "metadata": {},
   "source": [
    "__REMARK:__ We can set the mode to __append__ using a lowercase \"a\". This will not create a new file but just use the existing file. If we call the method write, it will just write to the existing file then add"
   ]
  },
  {
   "cell_type": "code",
   "execution_count": 10,
   "metadata": {},
   "outputs": [],
   "source": [
    "with open(\"sample_text_file_1.txt\", \"a\") as ninth_sample:\n",
    "    ninth_sample.write(\"// This is another line appended to the file using the append method\")"
   ]
  },
  {
   "cell_type": "code",
   "execution_count": 11,
   "metadata": {},
   "outputs": [
    {
     "name": "stdout",
     "output_type": "stream",
     "text": [
      "// Python can be used to read and write the contents of a file\n",
      "\n",
      "// text files are the easiest to manipultae\n",
      "\n",
      "// before a file can be edited, it must be opened, using the open function.// This is another line appended to the file using the append method\n"
     ]
    }
   ],
   "source": [
    "with open(\"sample_text_file_1.txt\", \"r\") as tenth_file:\n",
    "    for line in tenth_file:\n",
    "        print(line)"
   ]
  }
 ],
 "metadata": {
  "interpreter": {
   "hash": "9bf2ca0f4a7adc3ce2f237ca763c1538d3ef289a4e7face3612a01cdae9f6807"
  },
  "kernelspec": {
   "display_name": "Python 3.10.1 64-bit",
   "language": "python",
   "name": "python3"
  },
  "language_info": {
   "codemirror_mode": {
    "name": "ipython",
    "version": 3
   },
   "file_extension": ".py",
   "mimetype": "text/x-python",
   "name": "python",
   "nbconvert_exporter": "python",
   "pygments_lexer": "ipython3",
   "version": "3.8.8"
  },
  "orig_nbformat": 4
 },
 "nbformat": 4,
 "nbformat_minor": 2
}
