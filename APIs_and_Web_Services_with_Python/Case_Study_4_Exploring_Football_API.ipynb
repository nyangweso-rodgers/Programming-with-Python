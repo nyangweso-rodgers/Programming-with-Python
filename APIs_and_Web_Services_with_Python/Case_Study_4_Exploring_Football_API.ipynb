{
 "metadata": {
  "language_info": {
   "codemirror_mode": {
    "name": "ipython",
    "version": 3
   },
   "file_extension": ".py",
   "mimetype": "text/x-python",
   "name": "python",
   "nbconvert_exporter": "python",
   "pygments_lexer": "ipython3",
   "version": "3.7.6"
  },
  "orig_nbformat": 4,
  "kernelspec": {
   "name": "python3",
   "display_name": "Python 3.7.6 64-bit ('base': conda)"
  },
  "interpreter": {
   "hash": "7001fcd93f074860687356353637fa8a9bcfae26351191961070d25d38eb8654"
  }
 },
 "nbformat": 4,
 "nbformat_minor": 2,
 "cells": [
  {
   "source": [
    "## Exploring API Football\n",
    "- URL: https://www.api-football.com/  \n",
    "- Documentation: https://www.api-football.com/documentation-v3\n",
    "- API Dashboard: https://dashboard.api-football.com/"
   ],
   "cell_type": "markdown",
   "metadata": {}
  },
  {
   "cell_type": "code",
   "execution_count": 7,
   "metadata": {},
   "outputs": [],
   "source": [
    "import requests \n",
    "from datetime import date, timedelta\n",
    "import json\n",
    "import pandas as pd\n",
    "import matplotlib.pyplot as plt"
   ]
  },
  {
   "source": [
    "#### Getting the list of Countries"
   ],
   "cell_type": "markdown",
   "metadata": {}
  },
  {
   "cell_type": "code",
   "execution_count": 8,
   "metadata": {},
   "outputs": [],
   "source": [
    "base_url = 'https://v3.football.api-sports.io/countries'\n",
    "headers = {\n",
    "    'x-rapidapi-key': \"a166e4462aa2e81ac1fdcd2a31a5992a\"\n",
    "    }\n",
    "response = requests.get(base_url, headers=headers).json()\n",
    "\n",
    "# response.text # to get the output in a text format\n",
    "# response.json() # to get the list of countries in a json format"
   ]
  },
  {
   "cell_type": "code",
   "execution_count": 12,
   "metadata": {},
   "outputs": [],
   "source": [
    "# writing the output data to a local json file\n",
    "with open('football_countries_data_in_json.json', 'w') as c:\n",
    "    json.dump(response, c)"
   ]
  },
  {
   "cell_type": "code",
   "execution_count": 16,
   "metadata": {},
   "outputs": [
    {
     "output_type": "stream",
     "name": "stdout",
     "text": [
      "<class 'pandas.core.frame.DataFrame'>\nRangeIndex: 156 entries, 0 to 155\nData columns (total 3 columns):\n #   Column  Non-Null Count  Dtype \n---  ------  --------------  ----- \n 0   name    156 non-null    object\n 1   code    155 non-null    object\n 2   flag    155 non-null    object\ndtypes: object(3)\nmemory usage: 3.8+ KB\nNone\n"
     ]
    },
    {
     "output_type": "execute_result",
     "data": {
      "text/plain": [
       "        name code                                      flag\n",
       "0    Albania   AL  https://media.api-sports.io/flags/al.svg\n",
       "1    Algeria   DZ  https://media.api-sports.io/flags/dz.svg\n",
       "2    Andorra   AD  https://media.api-sports.io/flags/ad.svg\n",
       "3     Angola   AO  https://media.api-sports.io/flags/ao.svg\n",
       "4  Argentina   AR  https://media.api-sports.io/flags/ar.svg"
      ],
      "text/html": "<div>\n<style scoped>\n    .dataframe tbody tr th:only-of-type {\n        vertical-align: middle;\n    }\n\n    .dataframe tbody tr th {\n        vertical-align: top;\n    }\n\n    .dataframe thead th {\n        text-align: right;\n    }\n</style>\n<table border=\"1\" class=\"dataframe\">\n  <thead>\n    <tr style=\"text-align: right;\">\n      <th></th>\n      <th>name</th>\n      <th>code</th>\n      <th>flag</th>\n    </tr>\n  </thead>\n  <tbody>\n    <tr>\n      <th>0</th>\n      <td>Albania</td>\n      <td>AL</td>\n      <td>https://media.api-sports.io/flags/al.svg</td>\n    </tr>\n    <tr>\n      <th>1</th>\n      <td>Algeria</td>\n      <td>DZ</td>\n      <td>https://media.api-sports.io/flags/dz.svg</td>\n    </tr>\n    <tr>\n      <th>2</th>\n      <td>Andorra</td>\n      <td>AD</td>\n      <td>https://media.api-sports.io/flags/ad.svg</td>\n    </tr>\n    <tr>\n      <th>3</th>\n      <td>Angola</td>\n      <td>AO</td>\n      <td>https://media.api-sports.io/flags/ao.svg</td>\n    </tr>\n    <tr>\n      <th>4</th>\n      <td>Argentina</td>\n      <td>AR</td>\n      <td>https://media.api-sports.io/flags/ar.svg</td>\n    </tr>\n  </tbody>\n</table>\n</div>"
     },
     "metadata": {},
     "execution_count": 16
    }
   ],
   "source": [
    "# Transforming the json object to a Pandas DataFrame\n",
    "football_countries_summary_df = pd.DataFrame(response[\"response\"])\n",
    "football_countries_summary_df.to_excel('football_countries_data_in_excel.xlsx')\n",
    "print(football_countries_summary_df.info())\n",
    "football_countries_summary_df.head()"
   ]
  },
  {
   "source": [
    "#### Leagues"
   ],
   "cell_type": "markdown",
   "metadata": {}
  },
  {
   "cell_type": "code",
   "execution_count": 18,
   "metadata": {},
   "outputs": [],
   "source": [
    "leagues_base_url = 'https://v3.football.api-sports.io/leagues'\n",
    "headers = {\n",
    "    'x-rapidapi-key': \"a166e4462aa2e81ac1fdcd2a31a5992a\" # API Key\n",
    "    \n",
    "    }\n",
    "leagues_response = requests.get(leagues_base_url, headers=headers).json()\n",
    "# writing the output data to a local json file\n",
    "with open('football_leagues_data_in_json.json', 'w') as c:\n",
    "    json.dump(leagues_response, c)"
   ]
  },
  {
   "cell_type": "code",
   "execution_count": 22,
   "metadata": {},
   "outputs": [
    {
     "output_type": "stream",
     "name": "stdout",
     "text": [
      "<class 'pandas.core.frame.DataFrame'>\nRangeIndex: 831 entries, 0 to 830\nData columns (total 3 columns):\n #   Column   Non-Null Count  Dtype \n---  ------   --------------  ----- \n 0   league   831 non-null    object\n 1   country  831 non-null    object\n 2   seasons  831 non-null    object\ndtypes: object(3)\nmemory usage: 19.6+ KB\nNone\n"
     ]
    },
    {
     "output_type": "execute_result",
     "data": {
      "text/plain": [
       "                                              league  \\\n",
       "0  {'id': 4, 'name': 'Euro Championship', 'type':...   \n",
       "1  {'id': 21, 'name': 'Confederations Cup', 'type...   \n",
       "2  {'id': 61, 'name': 'Ligue 1', 'type': 'League'...   \n",
       "3  {'id': 144, 'name': 'Jupiler Pro League', 'typ...   \n",
       "4  {'id': 71, 'name': 'Serie A', 'type': 'League'...   \n",
       "\n",
       "                                             country  \\\n",
       "0      {'name': 'World', 'code': None, 'flag': None}   \n",
       "1      {'name': 'World', 'code': None, 'flag': None}   \n",
       "2  {'name': 'France', 'code': 'FR', 'flag': 'http...   \n",
       "3  {'name': 'Belgium', 'code': 'BE', 'flag': 'htt...   \n",
       "4  {'name': 'Brazil', 'code': 'BR', 'flag': 'http...   \n",
       "\n",
       "                                             seasons  \n",
       "0  [{'year': 2008, 'start': '2008-06-07', 'end': ...  \n",
       "1  [{'year': 2009, 'start': '2009-06-14', 'end': ...  \n",
       "2  [{'year': 2010, 'start': '2010-08-07', 'end': ...  \n",
       "3  [{'year': 2010, 'start': '2010-07-30', 'end': ...  \n",
       "4  [{'year': 2010, 'start': '2010-05-08', 'end': ...  "
      ],
      "text/html": "<div>\n<style scoped>\n    .dataframe tbody tr th:only-of-type {\n        vertical-align: middle;\n    }\n\n    .dataframe tbody tr th {\n        vertical-align: top;\n    }\n\n    .dataframe thead th {\n        text-align: right;\n    }\n</style>\n<table border=\"1\" class=\"dataframe\">\n  <thead>\n    <tr style=\"text-align: right;\">\n      <th></th>\n      <th>league</th>\n      <th>country</th>\n      <th>seasons</th>\n    </tr>\n  </thead>\n  <tbody>\n    <tr>\n      <th>0</th>\n      <td>{'id': 4, 'name': 'Euro Championship', 'type':...</td>\n      <td>{'name': 'World', 'code': None, 'flag': None}</td>\n      <td>[{'year': 2008, 'start': '2008-06-07', 'end': ...</td>\n    </tr>\n    <tr>\n      <th>1</th>\n      <td>{'id': 21, 'name': 'Confederations Cup', 'type...</td>\n      <td>{'name': 'World', 'code': None, 'flag': None}</td>\n      <td>[{'year': 2009, 'start': '2009-06-14', 'end': ...</td>\n    </tr>\n    <tr>\n      <th>2</th>\n      <td>{'id': 61, 'name': 'Ligue 1', 'type': 'League'...</td>\n      <td>{'name': 'France', 'code': 'FR', 'flag': 'http...</td>\n      <td>[{'year': 2010, 'start': '2010-08-07', 'end': ...</td>\n    </tr>\n    <tr>\n      <th>3</th>\n      <td>{'id': 144, 'name': 'Jupiler Pro League', 'typ...</td>\n      <td>{'name': 'Belgium', 'code': 'BE', 'flag': 'htt...</td>\n      <td>[{'year': 2010, 'start': '2010-07-30', 'end': ...</td>\n    </tr>\n    <tr>\n      <th>4</th>\n      <td>{'id': 71, 'name': 'Serie A', 'type': 'League'...</td>\n      <td>{'name': 'Brazil', 'code': 'BR', 'flag': 'http...</td>\n      <td>[{'year': 2010, 'start': '2010-05-08', 'end': ...</td>\n    </tr>\n  </tbody>\n</table>\n</div>"
     },
     "metadata": {},
     "execution_count": 22
    }
   ],
   "source": [
    "# Transforming the json object to a Pandas DataFrame\n",
    "football_leagues_summary_df = pd.DataFrame(leagues_response[\"response\"])\n",
    "football_leagues_summary_df.to_excel('football_leagues_data_in_excel.xlsx')\n",
    "print(football_leagues_summary_df.info())\n",
    "football_leagues_summary_df.head()"
   ]
  },
  {
   "cell_type": "code",
   "execution_count": 25,
   "metadata": {},
   "outputs": [
    {
     "output_type": "error",
     "ename": "TypeError",
     "evalue": "list indices must be integers or slices, not str",
     "traceback": [
      "\u001b[1;31m---------------------------------------------------------------------------\u001b[0m",
      "\u001b[1;31mTypeError\u001b[0m                                 Traceback (most recent call last)",
      "\u001b[1;32m<ipython-input-25-441f623ec8ee>\u001b[0m in \u001b[0;36m<module>\u001b[1;34m\u001b[0m\n\u001b[0;32m      1\u001b[0m \u001b[1;31m# Getting the specific league name\u001b[0m\u001b[1;33m\u001b[0m\u001b[1;33m\u001b[0m\u001b[1;33m\u001b[0m\u001b[0m\n\u001b[1;32m----> 2\u001b[1;33m \u001b[0mfootball_leagues_names\u001b[0m \u001b[1;33m=\u001b[0m \u001b[0mpd\u001b[0m\u001b[1;33m.\u001b[0m\u001b[0mDataFrame\u001b[0m\u001b[1;33m(\u001b[0m\u001b[0mleagues_response\u001b[0m\u001b[1;33m[\u001b[0m\u001b[1;33m[\u001b[0m\u001b[1;34m\"response\"\u001b[0m\u001b[1;33m]\u001b[0m\u001b[1;33m[\u001b[0m\u001b[1;34m\"league\"\u001b[0m\u001b[1;33m]\u001b[0m\u001b[1;33m]\u001b[0m\u001b[1;33m)\u001b[0m\u001b[1;33m\u001b[0m\u001b[1;33m\u001b[0m\u001b[0m\n\u001b[0m\u001b[0;32m      3\u001b[0m \u001b[0mfootball_leagues_names\u001b[0m\u001b[1;33m.\u001b[0m\u001b[0mto_excel\u001b[0m\u001b[1;33m(\u001b[0m\u001b[1;34m'football_leagues_names_data_in_excel.xlsx'\u001b[0m\u001b[1;33m)\u001b[0m\u001b[1;33m\u001b[0m\u001b[1;33m\u001b[0m\u001b[0m\n\u001b[0;32m      4\u001b[0m \u001b[0mprint\u001b[0m\u001b[1;33m(\u001b[0m\u001b[0mfootball_leagues_names\u001b[0m\u001b[1;33m.\u001b[0m\u001b[0minfo\u001b[0m\u001b[1;33m(\u001b[0m\u001b[1;33m)\u001b[0m\u001b[1;33m)\u001b[0m\u001b[1;33m\u001b[0m\u001b[1;33m\u001b[0m\u001b[0m\n\u001b[0;32m      5\u001b[0m \u001b[0mfootball_leagues_names\u001b[0m\u001b[1;33m.\u001b[0m\u001b[0mhead\u001b[0m\u001b[1;33m(\u001b[0m\u001b[1;33m)\u001b[0m\u001b[1;33m\u001b[0m\u001b[1;33m\u001b[0m\u001b[0m\n",
      "\u001b[1;31mTypeError\u001b[0m: list indices must be integers or slices, not str"
     ]
    }
   ],
   "source": [
    "# Getting the specific league name\n",
    "football_leagues_names = pd.DataFrame(leagues_response[\"response\"])\n",
    "football_leagues_names.to_excel('football_leagues_names_data_in_excel.xlsx')\n",
    "print(football_leagues_names.info())\n",
    "football_leagues_names.head()"
   ]
  },
  {
   "cell_type": "code",
   "execution_count": 29,
   "metadata": {
    "tags": [
     "outputPrepend"
    ]
   },
   "outputs": [
    {
     "output_type": "stream",
     "name": "stdout",
     "text": [
      "ards': False, 'injuries': False, 'predictions': True, 'odds': False}}, {'year': 2021, 'start': '2021-02-28', 'end': '2021-05-23', 'current': True, 'coverage': {'fixtures': {'events': True, 'lineups': True, 'statistics_fixtures': False, 'statistics_players': False}, 'standings': True, 'players': False, 'top_scorers': False, 'top_assists': False, 'top_cards': False, 'injuries': False, 'predictions': True, 'odds': False}}]}, {'league': {'id': 629, 'name': 'Mineiro - 1', 'type': 'League', 'logo': 'https://media.api-sports.io/football/leagues/629.png'}, 'country': {'name': 'Brazil', 'code': 'BR', 'flag': 'https://media.api-sports.io/flags/br.svg'}, 'seasons': [{'year': 2020, 'start': '2020-01-21', 'end': '2020-08-30', 'current': False, 'coverage': {'fixtures': {'events': True, 'lineups': True, 'statistics_fixtures': False, 'statistics_players': False}, 'standings': True, 'players': False, 'top_scorers': False, 'top_assists': False, 'top_cards': False, 'injuries': False, 'predictions': True, 'odds': False}}, {'year': 2021, 'start': '2021-02-27', 'end': '2021-05-23', 'current': True, 'coverage': {'fixtures': {'events': True, 'lineups': True, 'statistics_fixtures': False, 'statistics_players': False}, 'standings': True, 'players': False, 'top_scorers': False, 'top_assists': False, 'top_cards': False, 'injuries': False, 'predictions': True, 'odds': False}}]}, {'league': {'id': 630, 'name': 'Matogrossense', 'type': 'League', 'logo': 'https://media.api-sports.io/football/leagues/630.png'}, 'country': {'name': 'Brazil', 'code': 'BR', 'flag': 'https://media.api-sports.io/flags/br.svg'}, 'seasons': [{'year': 2020, 'start': '2020-01-21', 'end': '2020-12-24', 'current': False, 'coverage': {'fixtures': {'events': False, 'lineups': False, 'statistics_fixtures': False, 'statistics_players': False}, 'standings': True, 'players': True, 'top_scorers': True, 'top_assists': True, 'top_cards': True, 'injuries': False, 'predictions': True, 'odds': False}}, {'year': 2021, 'start': '2021-02-26', 'end': '2021-05-23', 'current': True, 'coverage': {'fixtures': {'events': False, 'lineups': False, 'statistics_fixtures': False, 'statistics_players': False}, 'standings': True, 'players': True, 'top_scorers': True, 'top_assists': True, 'top_cards': True, 'injuries': False, 'predictions': True, 'odds': False}}]}, {'league': {'id': 631, 'name': 'Tocantinense', 'type': 'League', 'logo': 'https://media.api-sports.io/football/leagues/631.png'}, 'country': {'name': 'Brazil', 'code': 'BR', 'flag': 'https://media.api-sports.io/flags/br.svg'}, 'seasons': [{'year': 2020, 'start': '2020-01-25', 'end': '2021-02-14', 'current': False, 'coverage': {'fixtures': {'events': False, 'lineups': False, 'statistics_fixtures': False, 'statistics_players': False}, 'standings': True, 'players': True, 'top_scorers': True, 'top_assists': True, 'top_cards': True, 'injuries': False, 'predictions': True, 'odds': False}}, {'year': 2021, 'start': '2021-02-20', 'end': '2021-04-07', 'current': True, 'coverage': {'fixtures': {'events': False, 'lineups': False, 'statistics_fixtures': False, 'statistics_players': False}, 'standings': True, 'players': True, 'top_scorers': True, 'top_assists': True, 'top_cards': True, 'injuries': False, 'predictions': True, 'odds': False}}]}, {'league': {'id': 632, 'name': 'Supercopa do Brasil', 'type': 'Cup', 'logo': 'https://media.api-sports.io/football/leagues/632.png'}, 'country': {'name': 'Brazil', 'code': 'BR', 'flag': 'https://media.api-sports.io/flags/br.svg'}, 'seasons': [{'year': 2020, 'start': '2020-02-16', 'end': '2020-02-16', 'current': False, 'coverage': {'fixtures': {'events': True, 'lineups': True, 'statistics_fixtures': False, 'statistics_players': False}, 'standings': False, 'players': False, 'top_scorers': False, 'top_assists': False, 'top_cards': False, 'injuries': False, 'predictions': True, 'odds': False}}, {'year': 2021, 'start': '2021-04-11', 'end': '2021-04-11', 'current': True, 'coverage': {'fixtures': {'events': True, 'lineups': True, 'statistics_fixtures': False, 'statistics_players': False}, 'standings': False, 'players': False, 'top_scorers': False, 'top_assists': False, 'top_cards': False, 'injuries': False, 'predictions': True, 'odds': False}}]}, {'league': {'id': 636, 'name': 'Ýokary Liga', 'type': 'League', 'logo': 'https://media.api-sports.io/football/leagues/636.png'}, 'country': {'name': 'Turkmenistan', 'code': 'TM', 'flag': 'https://media.api-sports.io/flags/tm.svg'}, 'seasons': [{'year': 2020, 'start': '2020-03-06', 'end': '2020-11-28', 'current': True, 'coverage': {'fixtures': {'events': True, 'lineups': False, 'statistics_fixtures': False, 'statistics_players': False}, 'standings': True, 'players': False, 'top_scorers': False, 'top_assists': False, 'top_cards': False, 'injuries': False, 'predictions': True, 'odds': False}}]}, {'league': {'id': 637, 'name': 'V.League 2', 'type': 'League', 'logo': 'https://media.api-sports.io/football/leagues/637.png'}, 'country': {'name': 'Vietnam', 'code': 'VN', 'flag': 'https://media.api-sports.io/flags/vn.svg'}, 'seasons': [{'year': 2020, 'start': '2020-06-05', 'end': '2020-10-31', 'current': False, 'coverage': {'fixtures': {'events': True, 'lineups': False, 'statistics_fixtures': False, 'statistics_players': False}, 'standings': True, 'players': False, 'top_scorers': False, 'top_assists': False, 'top_cards': False, 'injuries': False, 'predictions': True, 'odds': False}}, {'year': 2021, 'start': '2021-03-19', 'end': '2021-07-24', 'current': True, 'coverage': {'fixtures': {'events': True, 'lineups': False, 'statistics_fixtures': False, 'statistics_players': False}, 'standings': True, 'players': False, 'top_scorers': False, 'top_assists': False, 'top_cards': False, 'injuries': False, 'predictions': True, 'odds': False}}]}, {'league': {'id': 639, 'name': 'Super Cup', 'type': 'Cup', 'logo': 'https://media.api-sports.io/football/leagues/639.png'}, 'country': {'name': 'Iceland', 'code': 'IS', 'flag': 'https://media.api-sports.io/flags/is.svg'}, 'seasons': [{'year': 2020, 'start': '2020-06-07', 'end': '2020-06-07', 'current': False, 'coverage': {'fixtures': {'events': True, 'lineups': True, 'statistics_fixtures': False, 'statistics_players': False}, 'standings': False, 'players': False, 'top_scorers': False, 'top_assists': False, 'top_cards': False, 'injuries': False, 'predictions': True, 'odds': False}}, {'year': 2021, 'start': '2021-04-12', 'end': '2021-04-12', 'current': True, 'coverage': {'fixtures': {'events': False, 'lineups': False, 'statistics_fixtures': False, 'statistics_players': False}, 'standings': False, 'players': False, 'top_scorers': False, 'top_assists': False, 'top_cards': False, 'injuries': False, 'predictions': True, 'odds': False}}]}, {'league': {'id': 640, 'name': 'Naisten Liiga', 'type': 'League', 'logo': 'https://media.api-sports.io/football/leagues/640.png'}, 'country': {'name': 'Finland', 'code': 'FI', 'flag': 'https://media.api-sports.io/flags/fi.svg'}, 'seasons': [{'year': 2020, 'start': '2020-06-13', 'end': '2020-11-07', 'current': False, 'coverage': {'fixtures': {'events': True, 'lineups': True, 'statistics_fixtures': False, 'statistics_players': False}, 'standings': False, 'players': False, 'top_scorers': False, 'top_assists': False, 'top_cards': False, 'injuries': False, 'predictions': True, 'odds': False}}, {'year': 2021, 'start': '2021-04-17', 'end': '2021-08-28', 'current': True, 'coverage': {'fixtures': {'events': True, 'lineups': True, 'statistics_fixtures': False, 'statistics_players': False}, 'standings': False, 'players': False, 'top_scorers': False, 'top_assists': False, 'top_cards': False, 'injuries': False, 'predictions': True, 'odds': True}}]}, {'league': {'id': 641, 'name': 'NWSL Women - Challenge Cup', 'type': 'Cup', 'logo': 'https://media.api-sports.io/football/leagues/641.png'}, 'country': {'name': 'USA', 'code': 'US', 'flag': 'https://media.api-sports.io/flags/us.svg'}, 'seasons': [{'year': 2020, 'start': '2020-06-27', 'end': '2020-07-26', 'current': False, 'coverage': {'fixtures': {'events': True, 'lineups': True, 'statistics_fixtures': False, 'statistics_players': False}, 'standings': False, 'players': False, 'top_scorers': False, 'top_assists': False, 'top_cards': False, 'injuries': False, 'predictions': True, 'odds': False}}, {'year': 2021, 'start': '2021-04-10', 'end': '2021-05-08', 'current': True, 'coverage': {'fixtures': {'events': True, 'lineups': True, 'statistics_fixtures': False, 'statistics_players': False}, 'standings': False, 'players': False, 'top_scorers': False, 'top_assists': False, 'top_cards': False, 'injuries': False, 'predictions': True, 'odds': False}}]}, {'league': {'id': 643, 'name': '3. liga - Bratislava', 'type': 'League', 'logo': 'https://media.api-sports.io/football/leagues/643.png'}, 'country': {'name': 'Slovakia', 'code': 'SK', 'flag': 'https://media.api-sports.io/flags/sk.svg'}, 'seasons': [{'year': 2020, 'start': '2020-08-07', 'end': '2021-06-20', 'current': True, 'coverage': {'fixtures': {'events': False, 'lineups': False, 'statistics_fixtures': False, 'statistics_players': False}, 'standings': True, 'players': False, 'top_scorers': False, 'top_assists': False, 'top_cards': False, 'injuries': False, 'predictions': True, 'odds': True}}]}, {'league': {'id': 644, 'name': '3. liga - West', 'type': 'League', 'logo': 'https://media.api-sports.io/football/leagues/644.png'}, 'country': {'name': 'Slovakia', 'code': 'SK', 'flag': 'https://media.api-sports.io/flags/sk.svg'}, 'seasons': [{'year': 2020, 'start': '2020-08-07', 'end': '2021-06-27', 'current': True, 'coverage': {'fixtures': {'events': False, 'lineups': False, 'statistics_fixtures': False, 'statistics_players': False}, 'standings': True, 'players': False, 'top_scorers': False, 'top_assists': False, 'top_cards': False, 'injuries': False, 'predictions': True, 'odds': True}}]}, {'league': {'id': 558, 'name': 'Supercopa', 'type': 'Cup', 'logo': 'https://media.api-sports.io/football/leagues/558.png'}, 'country': {'name': 'Peru', 'code': 'PE', 'flag': 'https://media.api-sports.io/flags/pe.svg'}, 'seasons': [{'year': 2020, 'start': '2020-01-23', 'end': '2020-01-23', 'current': True, 'coverage': {'fixtures': {'events': True, 'lineups': True, 'statistics_fixtures': False, 'statistics_players': False}, 'standings': False, 'players': False, 'top_scorers': False, 'top_assists': False, 'top_cards': False, 'injuries': False, 'predictions': True, 'odds': False}}]}, {'league': {'id': 562, 'name': 'Reserve League', 'type': 'League', 'logo': 'https://media.api-sports.io/football/leagues/562.png'}, 'country': {'name': 'Belarus', 'code': 'BY', 'flag': 'https://media.api-sports.io/flags/by.svg'}, 'seasons': [{'year': 2020, 'start': '2020-03-18', 'end': '2020-11-29', 'current': False, 'coverage': {'fixtures': {'events': True, 'lineups': False, 'statistics_fixtures': False, 'statistics_players': False}, 'standings': False, 'players': False, 'top_scorers': False, 'top_assists': False, 'top_cards': False, 'injuries': False, 'predictions': True, 'odds': False}}, {'year': 2021, 'start': '2021-03-11', 'end': '2021-11-28', 'current': True, 'coverage': {'fixtures': {'events': True, 'lineups': False, 'statistics_fixtures': False, 'statistics_players': False}, 'standings': False, 'players': False, 'top_scorers': False, 'top_assists': False, 'top_cards': False, 'injuries': False, 'predictions': True, 'odds': True}}]}, {'league': {'id': 565, 'name': 'Liga Primera U20', 'type': 'League', 'logo': 'https://media.api-sports.io/football/leagues/565.png'}, 'country': {'name': 'Nicaragua', 'code': 'NI', 'flag': 'https://media.api-sports.io/flags/ni.svg'}, 'seasons': [{'year': 2020, 'start': '2020-01-25', 'end': '2020-05-09', 'current': False, 'coverage': {'fixtures': {'events': True, 'lineups': False, 'statistics_fixtures': False, 'statistics_players': False}, 'standings': False, 'players': False, 'top_scorers': False, 'top_assists': False, 'top_cards': False, 'injuries': False, 'predictions': True, 'odds': False}}, {'year': 2021, 'start': '2020-08-01', 'end': '2021-05-31', 'current': True, 'coverage': {'fixtures': {'events': True, 'lineups': False, 'statistics_fixtures': False, 'statistics_players': False}, 'standings': False, 'players': False, 'top_scorers': False, 'top_assists': False, 'top_cards': False, 'injuries': False, 'predictions': True, 'odds': False}}]}, {'league': {'id': 812, 'name': 'Super Cup', 'type': 'Cup', 'logo': 'https://media.api-sports.io/football/leagues/812.png'}, 'country': {'name': 'Belarus', 'code': 'BY', 'flag': 'https://media.api-sports.io/flags/by.svg'}, 'seasons': [{'year': 2021, 'start': '2021-03-02', 'end': '2021-03-02', 'current': True, 'coverage': {'fixtures': {'events': True, 'lineups': True, 'statistics_fixtures': False, 'statistics_players': False}, 'standings': False, 'players': False, 'top_scorers': False, 'top_assists': False, 'top_cards': False, 'injuries': False, 'predictions': True, 'odds': False}}]}, {'league': {'id': 814, 'name': 'Reykjavik Cup', 'type': 'Cup', 'logo': 'https://media.api-sports.io/football/leagues/814.png'}, 'country': {'name': 'Iceland', 'code': 'IS', 'flag': 'https://media.api-sports.io/flags/is.svg'}, 'seasons': [{'year': 2021, 'start': '2021-01-16', 'end': '2021-02-06', 'current': True, 'coverage': {'fixtures': {'events': False, 'lineups': False, 'statistics_fixtures': False, 'statistics_players': False}, 'standings': False, 'players': False, 'top_scorers': False, 'top_assists': False, 'top_cards': False, 'injuries': False, 'predictions': True, 'odds': False}}]}, {'league': {'id': 815, 'name': 'Fotbolti.net Cup A', 'type': 'Cup', 'logo': 'https://media.api-sports.io/football/leagues/815.png'}, 'country': {'name': 'Iceland', 'code': 'IS', 'flag': 'https://media.api-sports.io/flags/is.svg'}, 'seasons': [{'year': 2021, 'start': '2021-01-15', 'end': '2021-02-05', 'current': True, 'coverage': {'fixtures': {'events': False, 'lineups': False, 'statistics_fixtures': False, 'statistics_players': False}, 'standings': False, 'players': False, 'top_scorers': False, 'top_assists': False, 'top_cards': False, 'injuries': False, 'predictions': True, 'odds': False}}]}, {'league': {'id': 818, 'name': 'Super Cup', 'type': 'Cup', 'logo': 'https://media.api-sports.io/football/leagues/818.png'}, 'country': {'name': 'Kazakhstan', 'code': 'KZ', 'flag': 'https://media.api-sports.io/flags/kz.svg'}, 'seasons': [{'year': 2021, 'start': '2021-03-02', 'end': '2021-03-06', 'current': True, 'coverage': {'fixtures': {'events': True, 'lineups': True, 'statistics_fixtures': False, 'statistics_players': False}, 'standings': False, 'players': False, 'top_scorers': False, 'top_assists': False, 'top_cards': False, 'injuries': False, 'predictions': True, 'odds': False}}]}, {'league': {'id': 823, 'name': 'Nasjonal U19 Champions League', 'type': 'Cup', 'logo': 'https://media.api-sports.io/football/leagues/823.png'}, 'country': {'name': 'Norway', 'code': 'NO', 'flag': 'https://media.api-sports.io/flags/no.svg'}, 'seasons': [{'year': 2021, 'start': '2021-02-13', 'end': '2021-06-30', 'current': True, 'coverage': {'fixtures': {'events': False, 'lineups': False, 'statistics_fixtures': False, 'statistics_players': False}, 'standings': False, 'players': False, 'top_scorers': False, 'top_assists': False, 'top_cards': False, 'injuries': False, 'predictions': True, 'odds': True}}]}, {'league': {'id': 824, 'name': 'Emir Cup', 'type': 'Cup', 'logo': 'https://media.api-sports.io/football/leagues/824.png'}, 'country': {'name': 'Qatar', 'code': 'QA', 'flag': 'https://media.api-sports.io/flags/qa.svg'}, 'seasons': [{'year': 2021, 'start': '2021-01-25', 'end': '2021-05-14', 'current': True, 'coverage': {'fixtures': {'events': True, 'lineups': True, 'statistics_fixtures': False, 'statistics_players': False}, 'standings': False, 'players': False, 'top_scorers': False, 'top_assists': False, 'top_cards': False, 'injuries': False, 'predictions': True, 'odds': False}}]}, {'league': {'id': 825, 'name': 'Qatar Cup', 'type': 'Cup', 'logo': 'https://media.api-sports.io/football/leagues/825.png'}, 'country': {'name': 'Qatar', 'code': 'QA', 'flag': 'https://media.api-sports.io/flags/qa.svg'}, 'seasons': [{'year': 2021, 'start': '2021-02-18', 'end': '2021-02-26', 'current': True, 'coverage': {'fixtures': {'events': True, 'lineups': True, 'statistics_fixtures': False, 'statistics_players': False}, 'standings': False, 'players': False, 'top_scorers': False, 'top_assists': False, 'top_cards': False, 'injuries': False, 'predictions': True, 'odds': False}}]}, {'league': {'id': 826, 'name': 'Super Cup', 'type': 'Cup', 'logo': 'https://media.api-sports.io/football/leagues/826.png'}, 'country': {'name': 'Saudi-Arabia', 'code': 'SA', 'flag': 'https://media.api-sports.io/flags/sa.svg'}, 'seasons': [{'year': 2021, 'start': '2021-01-30', 'end': '2021-01-30', 'current': True, 'coverage': {'fixtures': {'events': True, 'lineups': True, 'statistics_fixtures': False, 'statistics_players': False}, 'standings': False, 'players': False, 'top_scorers': False, 'top_assists': False, 'top_cards': False, 'injuries': False, 'predictions': True, 'odds': False}}]}, {'league': {'id': 831, 'name': 'Super Cup', 'type': 'Cup', 'logo': 'https://media.api-sports.io/football/leagues/831.png'}, 'country': {'name': 'Vietnam', 'code': 'VN', 'flag': 'https://media.api-sports.io/flags/vn.svg'}, 'seasons': [{'year': 2021, 'start': '2021-01-09', 'end': '2021-01-09', 'current': True, 'coverage': {'fixtures': {'events': True, 'lineups': True, 'statistics_fixtures': False, 'statistics_players': False}, 'standings': False, 'players': False, 'top_scorers': False, 'top_assists': False, 'top_cards': False, 'injuries': False, 'predictions': True, 'odds': False}}]}, {'league': {'id': 725, 'name': 'Toppserien', 'type': 'League', 'logo': 'https://media.api-sports.io/football/leagues/725.png'}, 'country': {'name': 'Norway', 'code': 'NO', 'flag': 'https://media.api-sports.io/flags/no.svg'}, 'seasons': [{'year': 2021, 'start': '2021-05-22', 'end': '2021-11-13', 'current': True, 'coverage': {'fixtures': {'events': True, 'lineups': True, 'statistics_fixtures': False, 'statistics_players': False}, 'standings': False, 'players': False, 'top_scorers': False, 'top_assists': False, 'top_cards': False, 'injuries': False, 'predictions': True, 'odds': False}}]}, {'league': {'id': 736, 'name': 'Elitettan', 'type': 'League', 'logo': 'https://media.api-sports.io/football/leagues/736.png'}, 'country': {'name': 'Sweden', 'code': 'SE', 'flag': 'https://media.api-sports.io/flags/se.svg'}, 'seasons': [{'year': 2021, 'start': '2021-04-17', 'end': '2021-11-13', 'current': True, 'coverage': {'fixtures': {'events': True, 'lineups': True, 'statistics_fixtures': False, 'statistics_players': False}, 'standings': False, 'players': False, 'top_scorers': False, 'top_assists': False, 'top_cards': False, 'injuries': False, 'predictions': True, 'odds': True}}]}, {'league': {'id': 743, 'name': 'UEFA Championship - Women', 'type': 'Cup', 'logo': 'https://media.api-sports.io/football/leagues/743.png'}, 'country': {'name': 'World', 'code': None, 'flag': None}, 'seasons': [{'year': 2021, 'start': '2019-08-29', 'end': '2021-04-13', 'current': True, 'coverage': {'fixtures': {'events': True, 'lineups': True, 'statistics_fixtures': False, 'statistics_players': False}, 'standings': False, 'players': False, 'top_scorers': False, 'top_assists': False, 'top_cards': False, 'injuries': False, 'predictions': True, 'odds': False}}]}, {'league': {'id': 36, 'name': 'Africa Cup of Nations - Qualification', 'type': 'Cup', 'logo': 'https://media.api-sports.io/football/leagues/36.png'}, 'country': {'name': 'World', 'code': None, 'flag': None}, 'seasons': [{'year': 2021, 'start': '2019-10-09', 'end': '2021-03-30', 'current': True, 'coverage': {'fixtures': {'events': True, 'lineups': True, 'statistics_fixtures': False, 'statistics_players': False}, 'standings': True, 'players': False, 'top_scorers': False, 'top_assists': False, 'top_cards': False, 'injuries': False, 'predictions': True, 'odds': True}}]}]}\n"
     ]
    }
   ],
   "source": [
    "with open('football_leagues_data_in_json.json') as json_data:\n",
    "    d = json.load(json_data)\n",
    "    print(d)"
   ]
  },
  {
   "cell_type": "code",
   "execution_count": null,
   "metadata": {},
   "outputs": [],
   "source": [
    "df = pd.DataFrame.from_dict(json_str['tags'][0]['results'][0]['values'])\n",
    "df.columns = ['var1','var2', 'var3']\n",
    "df.to_csv(filename)"
   ]
  },
  {
   "cell_type": "code",
   "execution_count": null,
   "metadata": {},
   "outputs": [],
   "source": []
  },
  {
   "cell_type": "code",
   "execution_count": null,
   "metadata": {},
   "outputs": [],
   "source": []
  },
  {
   "cell_type": "code",
   "execution_count": null,
   "metadata": {},
   "outputs": [],
   "source": []
  },
  {
   "cell_type": "code",
   "execution_count": null,
   "metadata": {},
   "outputs": [],
   "source": []
  },
  {
   "cell_type": "code",
   "execution_count": null,
   "metadata": {},
   "outputs": [],
   "source": []
  },
  {
   "cell_type": "code",
   "execution_count": null,
   "metadata": {},
   "outputs": [],
   "source": []
  },
  {
   "cell_type": "code",
   "execution_count": null,
   "metadata": {},
   "outputs": [],
   "source": []
  },
  {
   "cell_type": "code",
   "execution_count": null,
   "metadata": {},
   "outputs": [],
   "source": []
  },
  {
   "cell_type": "code",
   "execution_count": null,
   "metadata": {},
   "outputs": [],
   "source": []
  },
  {
   "cell_type": "code",
   "execution_count": null,
   "metadata": {},
   "outputs": [],
   "source": []
  },
  {
   "cell_type": "code",
   "execution_count": null,
   "metadata": {},
   "outputs": [],
   "source": []
  },
  {
   "cell_type": "code",
   "execution_count": null,
   "metadata": {},
   "outputs": [],
   "source": []
  },
  {
   "cell_type": "code",
   "execution_count": null,
   "metadata": {},
   "outputs": [],
   "source": []
  },
  {
   "cell_type": "code",
   "execution_count": null,
   "metadata": {},
   "outputs": [],
   "source": []
  },
  {
   "cell_type": "code",
   "execution_count": null,
   "metadata": {},
   "outputs": [],
   "source": []
  },
  {
   "cell_type": "code",
   "execution_count": null,
   "metadata": {},
   "outputs": [],
   "source": []
  },
  {
   "cell_type": "code",
   "execution_count": null,
   "metadata": {},
   "outputs": [],
   "source": []
  },
  {
   "cell_type": "code",
   "execution_count": null,
   "metadata": {},
   "outputs": [],
   "source": []
  },
  {
   "cell_type": "code",
   "execution_count": null,
   "metadata": {},
   "outputs": [],
   "source": []
  },
  {
   "cell_type": "code",
   "execution_count": null,
   "metadata": {},
   "outputs": [],
   "source": []
  },
  {
   "cell_type": "code",
   "execution_count": null,
   "metadata": {},
   "outputs": [],
   "source": []
  },
  {
   "cell_type": "code",
   "execution_count": null,
   "metadata": {},
   "outputs": [],
   "source": []
  },
  {
   "cell_type": "code",
   "execution_count": null,
   "metadata": {},
   "outputs": [],
   "source": []
  },
  {
   "cell_type": "code",
   "execution_count": null,
   "metadata": {},
   "outputs": [],
   "source": []
  },
  {
   "cell_type": "code",
   "execution_count": null,
   "metadata": {},
   "outputs": [],
   "source": []
  },
  {
   "cell_type": "code",
   "execution_count": null,
   "metadata": {},
   "outputs": [],
   "source": []
  },
  {
   "cell_type": "code",
   "execution_count": null,
   "metadata": {},
   "outputs": [],
   "source": []
  },
  {
   "cell_type": "code",
   "execution_count": null,
   "metadata": {},
   "outputs": [],
   "source": []
  },
  {
   "cell_type": "code",
   "execution_count": null,
   "metadata": {},
   "outputs": [],
   "source": []
  },
  {
   "cell_type": "code",
   "execution_count": null,
   "metadata": {},
   "outputs": [],
   "source": []
  },
  {
   "cell_type": "code",
   "execution_count": null,
   "metadata": {},
   "outputs": [],
   "source": []
  },
  {
   "cell_type": "code",
   "execution_count": null,
   "metadata": {},
   "outputs": [],
   "source": []
  },
  {
   "cell_type": "code",
   "execution_count": null,
   "metadata": {},
   "outputs": [],
   "source": []
  },
  {
   "cell_type": "code",
   "execution_count": null,
   "metadata": {},
   "outputs": [],
   "source": []
  },
  {
   "cell_type": "code",
   "execution_count": null,
   "metadata": {},
   "outputs": [],
   "source": []
  }
 ]
}