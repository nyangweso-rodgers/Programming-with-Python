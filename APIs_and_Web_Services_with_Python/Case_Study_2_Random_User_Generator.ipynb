{
 "metadata": {
  "language_info": {
   "codemirror_mode": {
    "name": "ipython",
    "version": 3
   },
   "file_extension": ".py",
   "mimetype": "text/x-python",
   "name": "python",
   "nbconvert_exporter": "python",
   "pygments_lexer": "ipython3",
   "version": "3.7.6"
  },
  "orig_nbformat": 2,
  "kernelspec": {
   "name": "python376jvsc74a57bd07001fcd93f074860687356353637fa8a9bcfae26351191961070d25d38eb8654",
   "display_name": "Python 3.7.6 64-bit ('base': conda)"
  }
 },
 "nbformat": 4,
 "nbformat_minor": 2,
 "cells": [
  {
   "source": [
    "## Random User Generator\n",
    "\n",
    "__Objective__: Generating random user data.\n",
    "\n",
    "Link: [Random User Generator API](https://randomuser.me/) "
   ],
   "cell_type": "markdown",
   "metadata": {}
  },
  {
   "cell_type": "code",
   "execution_count": 1,
   "metadata": {},
   "outputs": [],
   "source": [
    "import requests\n",
    "import json"
   ]
  },
  {
   "cell_type": "code",
   "execution_count": 2,
   "metadata": {},
   "outputs": [
    {
     "output_type": "stream",
     "name": "stdout",
     "text": [
      "['ConnectTimeout', 'ConnectionError', 'DependencyWarning', 'FileModeWarning', 'HTTPError', 'NullHandler', 'PreparedRequest', 'ReadTimeout', 'Request', 'RequestException', 'RequestsDependencyWarning', 'Response', 'Session', 'Timeout', 'TooManyRedirects', 'URLRequired', '__author__', '__author_email__', '__build__', '__builtins__', '__cached__', '__cake__', '__copyright__', '__description__', '__doc__', '__file__', '__license__', '__loader__', '__name__', '__package__', '__path__', '__spec__', '__title__', '__url__', '__version__', '_check_cryptography', '_internal_utils', 'adapters', 'api', 'auth', 'certs', 'chardet', 'check_compatibility', 'codes', 'compat', 'cookies', 'delete', 'exceptions', 'get', 'head', 'hooks', 'logging', 'models', 'options', 'packages', 'patch', 'post', 'put', 'request', 'session', 'sessions', 'ssl', 'status_codes', 'structures', 'urllib3', 'utils', 'warnings']\n"
     ]
    }
   ],
   "source": [
    "print(dir(requests))"
   ]
  },
  {
   "cell_type": "code",
   "execution_count": 3,
   "metadata": {},
   "outputs": [
    {
     "output_type": "execute_result",
     "data": {
      "text/plain": [
       "<Response [200]>"
      ]
     },
     "metadata": {},
     "execution_count": 3
    }
   ],
   "source": [
    "# url to call\n",
    "url = 'https://randomuser.me/api/'\n",
    "response = requests.get(url)\n",
    "response"
   ]
  },
  {
   "source": [
    "If you want to see the actual data, then you can use .text from the returned Response object:"
   ],
   "cell_type": "markdown",
   "metadata": {}
  },
  {
   "cell_type": "code",
   "execution_count": 4,
   "metadata": {},
   "outputs": [
    {
     "output_type": "execute_result",
     "data": {
      "text/plain": [
       "'{\"results\":[{\"gender\":\"male\",\"name\":{\"title\":\"Mr\",\"first\":\"Dominic\",\"last\":\"Sirko\"},\"location\":{\"street\":{\"number\":8844,\"name\":\"Park Rd\"},\"city\":\"Brockton\",\"state\":\"New Brunswick\",\"country\":\"Canada\",\"postcode\":\"E3F 4H4\",\"coordinates\":{\"latitude\":\"-66.1307\",\"longitude\":\"-64.4915\"},\"timezone\":{\"offset\":\"-4:00\",\"description\":\"Atlantic Time (Canada), Caracas, La Paz\"}},\"email\":\"dominic.sirko@example.com\",\"login\":{\"uuid\":\"4d4ea14e-c044-4351-a98e-1744672e4b77\",\"username\":\"orangetiger196\",\"password\":\"meat\",\"salt\":\"Xbqsnwhz\",\"md5\":\"fbfd74ebc5c676105e5b199db7256d6d\",\"sha1\":\"90a3dab2e86997b535f48b5a9350ede738b224f3\",\"sha256\":\"0bfd8b3c8216b17383d3fb08d0d9e13e06cee4385b7c515602421d18766d67e0\"},\"dob\":{\"date\":\"1969-10-14T07:37:57.746Z\",\"age\":52},\"registered\":{\"date\":\"2006-11-09T20:43:54.315Z\",\"age\":15},\"phone\":\"441-927-4455\",\"cell\":\"865-666-5827\",\"id\":{\"name\":\"\",\"value\":null},\"picture\":{\"large\":\"https://randomuser.me/api/portraits/men/30.jpg\",\"medium\":\"https://randomuser.me/api/portraits/med/men/30.jpg\",\"thumbnail\":\"https://randomuser.me/api/portraits/thumb/men/30.jpg\"},\"nat\":\"CA\"}],\"info\":{\"seed\":\"7a647effbac74a4e\",\"results\":1,\"page\":1,\"version\":\"1.3\"}}'"
      ]
     },
     "metadata": {},
     "execution_count": 4
    }
   ],
   "source": [
    "# text response\n",
    "response.text"
   ]
  },
  {
   "cell_type": "code",
   "execution_count": 5,
   "metadata": {},
   "outputs": [
    {
     "output_type": "execute_result",
     "data": {
      "text/plain": [
       "{'results': [{'gender': 'male',\n",
       "   'name': {'title': 'Mr', 'first': 'Dominic', 'last': 'Sirko'},\n",
       "   'location': {'street': {'number': 8844, 'name': 'Park Rd'},\n",
       "    'city': 'Brockton',\n",
       "    'state': 'New Brunswick',\n",
       "    'country': 'Canada',\n",
       "    'postcode': 'E3F 4H4',\n",
       "    'coordinates': {'latitude': '-66.1307', 'longitude': '-64.4915'},\n",
       "    'timezone': {'offset': '-4:00',\n",
       "     'description': 'Atlantic Time (Canada), Caracas, La Paz'}},\n",
       "   'email': 'dominic.sirko@example.com',\n",
       "   'login': {'uuid': '4d4ea14e-c044-4351-a98e-1744672e4b77',\n",
       "    'username': 'orangetiger196',\n",
       "    'password': 'meat',\n",
       "    'salt': 'Xbqsnwhz',\n",
       "    'md5': 'fbfd74ebc5c676105e5b199db7256d6d',\n",
       "    'sha1': '90a3dab2e86997b535f48b5a9350ede738b224f3',\n",
       "    'sha256': '0bfd8b3c8216b17383d3fb08d0d9e13e06cee4385b7c515602421d18766d67e0'},\n",
       "   'dob': {'date': '1969-10-14T07:37:57.746Z', 'age': 52},\n",
       "   'registered': {'date': '2006-11-09T20:43:54.315Z', 'age': 15},\n",
       "   'phone': '441-927-4455',\n",
       "   'cell': '865-666-5827',\n",
       "   'id': {'name': '', 'value': None},\n",
       "   'picture': {'large': 'https://randomuser.me/api/portraits/men/30.jpg',\n",
       "    'medium': 'https://randomuser.me/api/portraits/med/men/30.jpg',\n",
       "    'thumbnail': 'https://randomuser.me/api/portraits/thumb/men/30.jpg'},\n",
       "   'nat': 'CA'}],\n",
       " 'info': {'seed': '7a647effbac74a4e',\n",
       "  'results': 1,\n",
       "  'page': 1,\n",
       "  'version': '1.3'}}"
      ]
     },
     "metadata": {},
     "execution_count": 5
    }
   ],
   "source": [
    "# json response\n",
    "response.json()"
   ]
  },
  {
   "source": [
    "## Query Paramters\n",
    "In the API world, query parameters are used as filters you can send with your API request to further narrow down the responses."
   ],
   "cell_type": "markdown",
   "metadata": {}
  },
  {
   "cell_type": "code",
   "execution_count": 6,
   "metadata": {},
   "outputs": [
    {
     "output_type": "execute_result",
     "data": {
      "text/plain": [
       "{'results': [{'gender': 'female',\n",
       "   'name': {'title': 'Miss', 'first': 'Beatrice', 'last': 'Knight'},\n",
       "   'location': {'street': {'number': 3859, 'name': 'Dundas Rd'},\n",
       "    'city': 'Elgin',\n",
       "    'state': 'Nunavut',\n",
       "    'country': 'Canada',\n",
       "    'postcode': 'O2G 4Y1',\n",
       "    'coordinates': {'latitude': '-67.7183', 'longitude': '58.3299'},\n",
       "    'timezone': {'offset': '-9:00', 'description': 'Alaska'}},\n",
       "   'email': 'beatrice.knight@example.com',\n",
       "   'login': {'uuid': '37016748-65b3-43af-916e-ed4e23c71a58',\n",
       "    'username': 'whitewolf845',\n",
       "    'password': 'halflife',\n",
       "    'salt': 'tRmnN8tg',\n",
       "    'md5': 'f44cec55baf387d30584cc921ec7a2ac',\n",
       "    'sha1': 'e2faa748191195e37dd255b86d6265fe72d61232',\n",
       "    'sha256': 'db2097b7e50b7eba288ce4eef4c50ff5baecebf632d0643a17b46b4789a74537'},\n",
       "   'dob': {'date': '1959-09-06T18:53:38.879Z', 'age': 62},\n",
       "   'registered': {'date': '2018-07-05T02:50:43.788Z', 'age': 3},\n",
       "   'phone': '284-063-5991',\n",
       "   'cell': '219-120-3384',\n",
       "   'id': {'name': '', 'value': None},\n",
       "   'picture': {'large': 'https://randomuser.me/api/portraits/women/17.jpg',\n",
       "    'medium': 'https://randomuser.me/api/portraits/med/women/17.jpg',\n",
       "    'thumbnail': 'https://randomuser.me/api/portraits/thumb/women/17.jpg'},\n",
       "   'nat': 'CA'}],\n",
       " 'info': {'seed': 'ef5af9fca4ef39f6',\n",
       "  'results': 1,\n",
       "  'page': 1,\n",
       "  'version': '1.3'}}"
      ]
     },
     "metadata": {},
     "execution_count": 6
    }
   ],
   "source": [
    "requests.get(\"https://randomuser.me/api/\").json()"
   ]
  },
  {
   "source": [
    "However, let’s say you specifically want to generate only random __female__ users. According to the documentation, you can use the query parameter gender= for that:"
   ],
   "cell_type": "markdown",
   "metadata": {}
  },
  {
   "cell_type": "code",
   "execution_count": 7,
   "metadata": {},
   "outputs": [
    {
     "output_type": "execute_result",
     "data": {
      "text/plain": [
       "{'results': [{'gender': 'female',\n",
       "   'name': {'title': 'Mrs', 'first': 'Veronica', 'last': 'Baker'},\n",
       "   'location': {'street': {'number': 3180, 'name': 'Taylor St'},\n",
       "    'city': 'Sydney',\n",
       "    'state': 'Australian Capital Territory',\n",
       "    'country': 'Australia',\n",
       "    'postcode': 5931,\n",
       "    'coordinates': {'latitude': '-88.5930', 'longitude': '165.5679'},\n",
       "    'timezone': {'offset': '+6:00', 'description': 'Almaty, Dhaka, Colombo'}},\n",
       "   'email': 'veronica.baker@example.com',\n",
       "   'login': {'uuid': '09c5dc1f-b407-4bf3-869e-65560011e5d7',\n",
       "    'username': 'organictiger483',\n",
       "    'password': 'gangster',\n",
       "    'salt': 'TqcER7oG',\n",
       "    'md5': '8fd21214b9421b96cbfa8ae7411af841',\n",
       "    'sha1': 'eb163a368900bb0f7f5d253fff346bce65b2fbc4',\n",
       "    'sha256': '29a1735d78892b812a88767c0594e62d6beda50d708c408d5a7e56fb11e28968'},\n",
       "   'dob': {'date': '1963-02-08T03:16:42.236Z', 'age': 58},\n",
       "   'registered': {'date': '2008-02-24T01:24:56.552Z', 'age': 13},\n",
       "   'phone': '00-0009-3848',\n",
       "   'cell': '0429-504-573',\n",
       "   'id': {'name': 'TFN', 'value': '228648783'},\n",
       "   'picture': {'large': 'https://randomuser.me/api/portraits/women/38.jpg',\n",
       "    'medium': 'https://randomuser.me/api/portraits/med/women/38.jpg',\n",
       "    'thumbnail': 'https://randomuser.me/api/portraits/thumb/women/38.jpg'},\n",
       "   'nat': 'AU'}],\n",
       " 'info': {'seed': 'c3b831b74f11557f',\n",
       "  'results': 1,\n",
       "  'page': 1,\n",
       "  'version': '1.3'}}"
      ]
     },
     "metadata": {},
     "execution_count": 7
    }
   ],
   "source": [
    "requests.get(\"https://randomuser.me/api/?gender=female\").json()"
   ]
  },
  {
   "source": [
    "That’s great! Now let’s say you want to generate only __female__ users from __Germany__. Again, looking through the documentation, you find a section on nationality, and you can use the query parameter nat= for that:"
   ],
   "cell_type": "markdown",
   "metadata": {}
  },
  {
   "cell_type": "code",
   "execution_count": 8,
   "metadata": {},
   "outputs": [
    {
     "output_type": "execute_result",
     "data": {
      "text/plain": [
       "{'results': [{'gender': 'female',\n",
       "   'name': {'title': 'Mrs', 'first': 'Gilda', 'last': 'Glück'},\n",
       "   'location': {'street': {'number': 5242, 'name': 'Schulweg'},\n",
       "    'city': 'Feuchtwangen',\n",
       "    'state': 'Brandenburg',\n",
       "    'country': 'Germany',\n",
       "    'postcode': 70351,\n",
       "    'coordinates': {'latitude': '-74.0710', 'longitude': '-52.2917'},\n",
       "    'timezone': {'offset': '+3:30', 'description': 'Tehran'}},\n",
       "   'email': 'gilda.gluck@example.com',\n",
       "   'login': {'uuid': '3a98e43a-f430-4ae4-91ec-9f2b5c7fd19d',\n",
       "    'username': 'whiterabbit650',\n",
       "    'password': 'athlon',\n",
       "    'salt': '0tmdN3ru',\n",
       "    'md5': 'df785538f061e043528713087ca06dbc',\n",
       "    'sha1': '902fbbea58ace058b566a66d049013f4a3f1181d',\n",
       "    'sha256': 'd773f33a82a054f03594ccfff8e432ce72e59cc59d39cd30aa0797e1b0b91341'},\n",
       "   'dob': {'date': '1997-01-21T08:29:15.160Z', 'age': 24},\n",
       "   'registered': {'date': '2004-08-04T19:27:58.976Z', 'age': 17},\n",
       "   'phone': '0374-9815819',\n",
       "   'cell': '0171-8141650',\n",
       "   'id': {'name': '', 'value': None},\n",
       "   'picture': {'large': 'https://randomuser.me/api/portraits/women/66.jpg',\n",
       "    'medium': 'https://randomuser.me/api/portraits/med/women/66.jpg',\n",
       "    'thumbnail': 'https://randomuser.me/api/portraits/thumb/women/66.jpg'},\n",
       "   'nat': 'DE'}],\n",
       " 'info': {'seed': '0173637eb9666a3c',\n",
       "  'results': 1,\n",
       "  'page': 1,\n",
       "  'version': '1.3'}}"
      ]
     },
     "metadata": {},
     "execution_count": 8
    }
   ],
   "source": [
    "requests.get(\"https://randomuser.me/api/?gender=female&nat=de\").json()"
   ]
  },
  {
   "source": [
    "Using query parameters, you can start fetching more specific data from an API, making the whole experience a bit more tailored to your needs.\n",
    "\n",
    "_Remark_:\n",
    "To avoid having to rebuild the URL over and over again, you can use the __params__ attribute to send in a dictionary of all query parameters to append to a URL:"
   ],
   "cell_type": "markdown",
   "metadata": {}
  },
  {
   "cell_type": "code",
   "execution_count": 9,
   "metadata": {},
   "outputs": [
    {
     "output_type": "execute_result",
     "data": {
      "text/plain": [
       "{'results': [{'gender': 'female',\n",
       "   'name': {'title': 'Mrs', 'first': 'Daniela', 'last': 'Böckmann'},\n",
       "   'location': {'street': {'number': 9802, 'name': 'Waldstraße'},\n",
       "    'city': 'Bad Münstereifel',\n",
       "    'state': 'Hamburg',\n",
       "    'country': 'Germany',\n",
       "    'postcode': 57230,\n",
       "    'coordinates': {'latitude': '8.1368', 'longitude': '-105.5840'},\n",
       "    'timezone': {'offset': '+10:00',\n",
       "     'description': 'Eastern Australia, Guam, Vladivostok'}},\n",
       "   'email': 'daniela.bockmann@example.com',\n",
       "   'login': {'uuid': '17fff158-fce7-4d74-902b-dbc5e6454740',\n",
       "    'username': 'blackpanda866',\n",
       "    'password': '555666',\n",
       "    'salt': '0V3C1Bsh',\n",
       "    'md5': '1bba6120605e6a00cfd2cc88984ddeb1',\n",
       "    'sha1': '4dd934321cb25ee9160136bd54be91e1603d3631',\n",
       "    'sha256': '70dcf7a3935949ba9ac2d4bed3881aed38560f7203bf18497c9140778784579a'},\n",
       "   'dob': {'date': '1984-02-14T09:28:59.204Z', 'age': 37},\n",
       "   'registered': {'date': '2015-10-14T17:32:46.949Z', 'age': 6},\n",
       "   'phone': '0832-3242070',\n",
       "   'cell': '0171-7769098',\n",
       "   'id': {'name': '', 'value': None},\n",
       "   'picture': {'large': 'https://randomuser.me/api/portraits/women/30.jpg',\n",
       "    'medium': 'https://randomuser.me/api/portraits/med/women/30.jpg',\n",
       "    'thumbnail': 'https://randomuser.me/api/portraits/thumb/women/30.jpg'},\n",
       "   'nat': 'DE'}],\n",
       " 'info': {'seed': 'bff42628ed0df5fe',\n",
       "  'results': 1,\n",
       "  'page': 1,\n",
       "  'version': '1.3'}}"
      ]
     },
     "metadata": {},
     "execution_count": 9
    }
   ],
   "source": [
    "query_params = {\"gender\": \"female\", \"nat\": \"de\"}\n",
    "requests.get(\"https://randomuser.me/api/\", params=query_params).json()"
   ]
  }
 ]
}