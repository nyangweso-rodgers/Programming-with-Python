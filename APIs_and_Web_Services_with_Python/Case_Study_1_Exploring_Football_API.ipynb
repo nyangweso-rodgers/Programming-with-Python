{
 "cells": [
  {
   "cell_type": "code",
   "execution_count": 2,
   "metadata": {},
   "outputs": [
    {
     "name": "stdout",
     "output_type": "stream",
     "text": [
      "{\"get\":\"timezone\",\"parameters\":[],\"errors\":{\"token\":\"Error\\/Missing application key. Go to https:\\/\\/www.api-football.com\\/documentation-v3 to learn how to get your API application key.\"},\"results\":0,\"paging\":{\"current\":1,\"total\":1},\"response\":[]}\n"
     ]
    }
   ],
   "source": [
    "import requests\n",
    "\n",
    "url = \"https://v3.football.api-sports.io/timezone\"\n",
    "\n",
    "headers = {\n",
    "    'api-key': \"a166e4462aa2e81ac1fdcd2a31a5992a\"\n",
    "    }\n",
    "\n",
    "response = requests.request(\"GET\", url, headers=headers)\n",
    "\n",
    "print(response.text)"
   ]
  }
 ],
 "metadata": {
  "interpreter": {
   "hash": "1e915f0a29dc84041eaeb02b7b1a21c440e37a87b61d44d5e84a515737dc82bc"
  },
  "kernelspec": {
   "display_name": "Python 3.8.8 64-bit ('base': conda)",
   "name": "python3"
  },
  "language_info": {
   "codemirror_mode": {
    "name": "ipython",
    "version": 3
   },
   "file_extension": ".py",
   "mimetype": "text/x-python",
   "name": "python",
   "nbconvert_exporter": "python",
   "pygments_lexer": "ipython3",
   "version": "3.8.8"
  },
  "orig_nbformat": 4
 },
 "nbformat": 4,
 "nbformat_minor": 2
}
