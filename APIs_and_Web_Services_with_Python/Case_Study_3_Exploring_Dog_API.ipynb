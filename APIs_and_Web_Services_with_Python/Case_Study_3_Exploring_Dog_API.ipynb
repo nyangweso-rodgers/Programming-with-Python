{
 "metadata": {
  "language_info": {
   "codemirror_mode": {
    "name": "ipython",
    "version": 3
   },
   "file_extension": ".py",
   "mimetype": "text/x-python",
   "name": "python",
   "nbconvert_exporter": "python",
   "pygments_lexer": "ipython3",
   "version": "3.7.6"
  },
  "orig_nbformat": 2,
  "kernelspec": {
   "name": "python376jvsc74a57bd07001fcd93f074860687356353637fa8a9bcfae26351191961070d25d38eb8654",
   "display_name": "Python 3.7.6 64-bit ('base': conda)"
  }
 },
 "nbformat": 4,
 "nbformat_minor": 2,
 "cells": [
  {
   "source": [
    "## Exploring the Dog API\n",
    "- [TheDogAPI](https://thedogapi.com/)\n",
    "- [API Documentation](https://docs.thedogapi.com/api-reference)"
   ],
   "cell_type": "markdown",
   "metadata": {}
  },
  {
   "cell_type": "code",
   "execution_count": 3,
   "metadata": {},
   "outputs": [],
   "source": [
    "import requests\n",
    "import json"
   ]
  },
  {
   "cell_type": "code",
   "execution_count": 5,
   "metadata": {},
   "outputs": [
    {
     "output_type": "execute_result",
     "data": {
      "text/plain": [
       "'{\"message\":\"The Dog API\"}'"
      ]
     },
     "metadata": {},
     "execution_count": 5
    }
   ],
   "source": [
    "# calling the base url\n",
    "base_url = 'https://api.thedogapi.com/'\n",
    "response = requests.get(base_url)\n",
    "response.text"
   ]
  },
  {
   "source": [
    "In this case, when calling the __base URL__, you get this generic message saying __The Dog API__. This is because you’re calling the base URL, which is typically used for very basic information about an API, not the real data."
   ],
   "cell_type": "markdown",
   "metadata": {}
  },
  {
   "source": [
    "## Breeds Endponint\n",
    "[breeds endpoint](https://docs.thedogapi.com/api-reference/breeds/breeds-list)"
   ],
   "cell_type": "markdown",
   "metadata": {}
  },
  {
   "cell_type": "code",
   "execution_count": 7,
   "metadata": {},
   "outputs": [
    {
     "output_type": "execute_result",
     "data": {
      "text/plain": [
       "},\"id\":193,\"name\":\"Pomeranian\",\"bred_for\":\"Companion\",\"breed_group\":\"Toy\",\"life_span\":\"15 years\",\"temperament\":\"Extroverted, Friendly, Sociable, Playful, Intelligent, Active\",\"reference_image_id\":\"HJd0XecNX\",\"image\":{\"id\":\"HJd0XecNX\",\"width\":800,\"height\":532,\"url\":\"https://cdn2.thedogapi.com/images/HJd0XecNX.jpg\"}},{\"weight\":{\"imperial\":\"15 - 17\",\"metric\":\"7 - 8\"},\"height\":{\"imperial\":\"11 - 15\",\"metric\":\"28 - 38\"},\"id\":196,\"name\":\"Poodle (Miniature)\",\"life_span\":\"12 – 15 years\",\"reference_image_id\":\"Hkxk4ecVX\",\"image\":{\"id\":\"Hkxk4ecVX\",\"width\":1280,\"height\":853,\"url\":\"https://cdn2.thedogapi.com/images/Hkxk4ecVX.jpg\"}},{\"weight\":{\"imperial\":\"6 - 9\",\"metric\":\"3 - 4\"},\"height\":{\"imperial\":\"9 - 11\",\"metric\":\"23 - 28\"},\"id\":197,\"name\":\"Poodle (Toy)\",\"life_span\":\"18 years\",\"reference_image_id\":\"rJFJVxc4m\",\"image\":{\"id\":\"rJFJVxc4m\",\"width\":620,\"height\":403,\"url\":\"https://cdn2.thedogapi.com/images/rJFJVxc4m.jpg\"}},{\"weight\":{\"imperial\":\"14 - 18\",\"metric\":\"6 - 8\"},\"height\":{\"imperial\":\"10 - 12\",\"metric\":\"25 - 30\"},\"id\":201,\"name\":\"Pug\",\"bred_for\":\"Lapdog\",\"breed_group\":\"Toy\",\"life_span\":\"12 - 14 years\",\"temperament\":\"Docile, Clever, Charming, Stubborn, Sociable, Playful, Quiet, Attentive\",\"reference_image_id\":\"HyJvcl9N7\",\"image\":{\"id\":\"HyJvcl9N7\",\"width\":800,\"height\":600,\"url\":\"https://cdn2.thedogapi.com/images/HyJvcl9N7.jpg\"}},{\"weight\":{\"imperial\":\"25 - 35\",\"metric\":\"11 - 16\"},\"height\":{\"imperial\":\"16 - 17\",\"metric\":\"41 - 43\"},\"id\":204,\"name\":\"Puli\",\"bred_for\":\"Herding\",\"breed_group\":\"Herding\",\"life_span\":\"12 - 16 Years years\",\"temperament\":\"Energetic, Agile, Loyal, Obedient, Intelligent, Faithful\",\"reference_image_id\":\"ryPgVl5N7\",\"image\":{\"id\":\"ryPgVl5N7\",\"width\":1199,\"height\":829,\"url\":\"https://cdn2.thedogapi.com/images/ryPgVl5N7.jpg\"}},{\"weight\":{\"imperial\":\"18 - 33\",\"metric\":\"8 - 15\"},\"height\":{\"imperial\":\"15 - 18.5\",\"metric\":\"38 - 47\"},\"id\":205,\"name\":\"Pumi\",\"breed_group\":\"Herding\",\"life_span\":\"13 - 15 years\",\"temperament\":\"Lively, Reserved, Intelligent, Active, Protective, Vocal\",\"reference_image_id\":\"SyRe4xcN7\",\"image\":{\"id\":\"SyRe4xcN7\",\"width\":695,\"height\":391,\"url\":\"https://cdn2.thedogapi.com/images/SyRe4xcN7.jpg\"}},{\"weight\":{\"imperial\":\"8 - 25\",\"metric\":\"4 - 11\"},\"height\":{\"imperial\":\"10 - 13\",\"metric\":\"25 - 33\"},\"id\":207,\"name\":\"Rat Terrier\",\"breed_group\":\"Terrier\",\"life_span\":\"12 - 18 years\",\"temperament\":\"Affectionate, Lively, Inquisitive, Alert, Intelligent, Loving\",\"reference_image_id\":\"HkXWNl9E7\",\"image\":{\"id\":\"HkXWNl9E7\",\"width\":825,\"height\":689,\"url\":\"https://cdn2.thedogapi.com/images/HkXWNl9E7.jpg\"}},{\"weight\":{\"imperial\":\"45 - 80\",\"metric\":\"20 - 36\"},\"height\":{\"imperial\":\"21 - 27\",\"metric\":\"53 - 69\"},\"id\":208,\"name\":\"Redbone Coonhound\",\"bred_for\":\"Hunting raccoon, deer, bear, and cougar.\",\"breed_group\":\"Hound\",\"life_span\":\"10 - 12 years\",\"temperament\":\"Affectionate, Energetic, Independent, Companionable, Familial, Unflappable\",\"reference_image_id\":\"HJMzEl5N7\",\"image\":{\"id\":\"HJMzEl5N7\",\"width\":1537,\"height\":1323,\"url\":\"https://cdn2.thedogapi.com/images/HJMzEl5N7.jpg\"}},{\"weight\":{\"imperial\":\"75 - 80\",\"metric\":\"34 - 36\"},\"height\":{\"imperial\":\"24 - 27\",\"metric\":\"61 - 69\"},\"id\":209,\"name\":\"Rhodesian Ridgeback\",\"bred_for\":\"Big game hunting, guarding\",\"breed_group\":\"Hound\",\"life_span\":\"10 - 12 years\",\"temperament\":\"Strong Willed, Mischievous, Loyal, Dignified, Sensitive, Intelligent\",\"reference_image_id\":\"By9zNgqE7\",\"image\":{\"id\":\"By9zNgqE7\",\"width\":1000,\"height\":667,\"url\":\"https://cdn2.thedogapi.com/images/By9zNgqE7.jpg\"}},{\"weight\":{\"imperial\":\"75 - 110\",\"metric\":\"34 - 50\"},\"height\":{\"imperial\":\"22 - 27\",\"metric\":\"56 - 69\"},\"id\":210,\"name\":\"Rottweiler\",\"bred_for\":\"Cattle drover, guardian, draft\",\"breed_group\":\"Working\",\"life_span\":\"8 - 10 years\",\"temperament\":\"Steady, Good-natured, Fearless, Devoted, Alert, Obedient, Confident, Self-assured, Calm, Courageous\",\"reference_image_id\":\"r1xXEgcNX\",\"image\":{\"id\":\"r1xXEgcNX\",\"width\":736,\"height\":595,\"url\":\"https://cdn2.thedogapi.com/images/r1xXEgcNX.jpg\"}},{\"weight\":{\"imperial\":\"3 - 6\",\"metric\":\"1 - 3\"},\"height\":{\"imperial\":\"7.5 - 10.5\",\"metric\":\"19 - 27\"},\"id\":211,\"name\":\"Russian Toy\",\"breed_group\":\"Toy\",\"life_span\":\"10 - 12 years\",\"reference_image_id\":\"HkP7Vxc4Q\",\"image\":{\"id\":\"HkP7Vxc4Q\",\"width\":645,\"height\":380,\"url\":\"https://cdn2.thedogapi.com/images/HkP7Vxc4Q.jpg\"}},{\"weight\":{\"imperial\":\"130 - 180\",\"metric\":\"59 - 82\"},\"height\":{\"imperial\":\"25.5 - 27.5\",\"metric\":\"65 - 70\"},\"id\":212,\"name\":\"Saint Bernard\",\"bred_for\":\"Draft, search, rescue\",\"breed_group\":\"Working\",\"life_span\":\"7 - 10 years\",\"temperament\":\"Friendly, Lively, Gentle, Watchful, Calm\",\"reference_image_id\":\"_Qf9nfRzL\",\"image\":{\"id\":\"_Qf9nfRzL\",\"width\":1080,\"height\":1084,\"url\":\"https://cdn2.thedogapi.com/images/_Qf9nfRzL.png\"}},{\"weight\":{\"imperial\":\"35 - 65\",\"metric\":\"16 - 29\"},\"height\":{\"imperial\":\"23 - 28\",\"metric\":\"58 - 71\"},\"id\":213,\"name\":\"Saluki\",\"bred_for\":\"Coursing gazelle and hare\",\"breed_group\":\"Hound\",\"life_span\":\"12 - 14 years\",\"temperament\":\"Aloof, Reserved, Intelligent, Quiet\",\"reference_image_id\":\"fjFIuehNo\",\"image\":{\"id\":\"fjFIuehNo\",\"width\":750,\"height\":450,\"url\":\"https://cdn2.thedogapi.com/images/fjFIuehNo.jpg\"}},{\"weight\":{\"imperial\":\"50 - 60\",\"metric\":\"23 - 27\"},\"height\":{\"imperial\":\"19 - 23.5\",\"metric\":\"48 - 60\"},\"id\":214,\"name\":\"Samoyed\",\"bred_for\":\"Herding reindeer, guardian, draft\",\"breed_group\":\"Working\",\"life_span\":\"12 - 14 years\",\"temperament\":\"Stubborn, Friendly, Sociable, Lively, Alert, Playful\",\"reference_image_id\":\"S1T8Ee9Nm\",\"image\":{\"id\":\"S1T8Ee9Nm\",\"width\":1200,\"height\":797,\"url\":\"https://cdn2.thedogapi.com/images/S1T8Ee9Nm.jpg\"}},{\"weight\":{\"imperial\":\"10 - 16\",\"metric\":\"5 - 7\"},\"height\":{\"imperial\":\"10 - 13\",\"metric\":\"25 - 33\"},\"id\":216,\"name\":\"Schipperke\",\"bred_for\":\"Barge watchdog\",\"breed_group\":\"Non-Sporting\",\"life_span\":\"13 - 15 years\",\"temperament\":\"Fearless, Agile, Curious, Independent, Confident, Faithful\",\"reference_image_id\":\"SyBvVgc47\",\"image\":{\"id\":\"SyBvVgc47\",\"width\":1024,\"height\":681,\"url\":\"https://cdn2.thedogapi.com/images/SyBvVgc47.jpg\"}},{\"weight\":{\"imperial\":\"70 - 130\",\"metric\":\"32 - 59\"},\"height\":{\"imperial\":\"28 - 32\",\"metric\":\"71 - 81\"},\"id\":218,\"name\":\"Scottish Deerhound\",\"bred_for\":\"Coursing deer\",\"breed_group\":\"Hound\",\"life_span\":\"8 - 10 years\",\"temperament\":\"Docile, Friendly, Dignified, Gentle\",\"reference_image_id\":\"SkNjqx9NQ\",\"image\":{\"id\":\"SkNjqx9NQ\",\"width\":700,\"height\":480,\"url\":\"https://cdn2.thedogapi.com/images/SkNjqx9NQ.jpg\"}},{\"weight\":{\"imperial\":\"18 - 22\",\"metric\":\"8 - 10\"},\"height\":{\"imperial\":\"10\",\"metric\":\"25\"},\"id\":219,\"name\":\"Scottish Terrier\",\"bred_for\":\"Vermin hunting\",\"breed_group\":\"Terrier\",\"life_span\":\"11 - 13 years\",\"temperament\":\"Feisty, Alert, Independent, Playful, Quick, Self-assured\",\"reference_image_id\":\"Bklnce5NX\",\"image\":{\"id\":\"Bklnce5NX\",\"width\":1280,\"height\":976,\"url\":\"https://cdn2.thedogapi.com/images/Bklnce5NX.jpg\"}},{\"weight\":{\"imperial\":\"30\",\"metric\":\"14\"},\"height\":{\"imperial\":\"13 - 16\",\"metric\":\"33 - 41\"},\"id\":221,\"name\":\"Shetland Sheepdog\",\"bred_for\":\"Sheep herding\",\"breed_group\":\"Herding\",\"life_span\":\"12 - 14 years\",\"temperament\":\"Affectionate, Lively, Responsive, Alert, Loyal, Reserved, Playful, Gentle, Intelligent, Active, Trainable, Strong\",\"reference_image_id\":\"rJa29l9E7\",\"image\":{\"id\":\"rJa29l9E7\",\"width\":824,\"height\":640,\"url\":\"https://cdn2.thedogapi.com/images/rJa29l9E7.jpg\"}},{\"weight\":{\"imperial\":\"17 - 23\",\"metric\":\"8 - 10\"},\"height\":{\"imperial\":\"13.5 - 16.5\",\"metric\":\"34 - 42\"},\"id\":222,\"name\":\"Shiba Inu\",\"bred_for\":\"Hunting in the mountains of Japan, Alert Watchdog\",\"breed_group\":\"Non-Sporting\",\"life_span\":\"12 - 16 years\",\"temperament\":\"Charming, Fearless, Keen, Alert, Confident, Faithful\",\"reference_image_id\":\"Zn3IjPX3f\",\"image\":{\"id\":\"Zn3IjPX3f\",\"width\":1080,\"height\":1080,\"url\":\"https://cdn2.thedogapi.com/images/Zn3IjPX3f.jpg\"}},{\"weight\":{\"imperial\":\"9 - 16\",\"metric\":\"4 - 7\"},\"height\":{\"imperial\":\"8 - 11\",\"metric\":\"20 - 28\"},\"id\":223,\"name\":\"Shih Tzu\",\"bred_for\":\"Lapdog\",\"breed_group\":\"Toy\",\"life_span\":\"10 - 18 years\",\"temperament\":\"Clever, Spunky, Outgoing, Friendly, Affectionate, Lively, Alert, Loyal, Independent, Playful, Gentle, Intelligent, Happy, Active, Courageous\",\"reference_image_id\":\"BkrJjgcV7\",\"image\":{\"id\":\"BkrJjgcV7\",\"width\":800,\"height\":600,\"url\":\"https://cdn2.thedogapi.com/images/BkrJjgcV7.jpg\"}},{\"weight\":{\"imperial\":\"120 - 140\",\"metric\":\"54 - 64\"},\"height\":{\"imperial\":\"26 - 30\",\"metric\":\"66 - 76\"},\"id\":225,\"name\":\"Shiloh Shepherd\",\"bred_for\":\"Swimming, Carrying backpacks, Pulling carts or sleds\",\"life_span\":\"9 – 14 years\",\"temperament\":\"Outgoing, Loyal, Companionable, Gentle, Loving, Trainable\",\"reference_image_id\":\"SJJxjecEX\",\"image\":{\"id\":\"SJJxjecEX\",\"width\":1005,\"height\":803,\"url\":\"https://cdn2.thedogapi.com/images/SJJxjecEX.jpg\"}},{\"weight\":{\"imperial\":\"35 - 60\",\"metric\":\"16 - 27\"},\"height\":{\"imperial\":\"20 - 23.5\",\"metric\":\"51 - 60\"},\"id\":226,\"name\":\"Siberian Husky\",\"bred_for\":\"Sled pulling\",\"breed_group\":\"Working\",\"life_span\":\"12 years\",\"temperament\":\"Outgoing, Friendly, Alert, Gentle, Intelligent\",\"reference_image_id\":\"S17ZilqNm\",\"image\":{\"id\":\"S17ZilqNm\",\"width\":1920,\"height\":1280,\"url\":\"https://cdn2.thedogapi.com/images/S17ZilqNm.jpg\"}},{\"weight\":{\"imperial\":\"8 - 10\",\"metric\":\"4 - 5\"},\"height\":{\"imperial\":\"9 - 10\",\"metric\":\"23 - 25\"},\"id\":228,\"name\":\"Silky Terrier\",\"bred_for\":\"Small vermin hunting, companionship\",\"breed_group\":\"Toy\",\"life_span\":\"12 - 15 years\",\"temperament\":\"Friendly, Responsive, Inquisitive, Alert, Quick, Joyful\",\"reference_image_id\":\"ByzGsl5Nm\",\"image\":{\"id\":\"ByzGsl5Nm\",\"width\":1599,\"height\":1142,\"url\":\"https://cdn2.thedogapi.com/images/ByzGsl5Nm.jpg\"}},{\"weight\":{\"imperial\":\"up - 18\",\"metric\":\"NaN - 8\"},\"height\":{\"imperial\":\"15.5\",\"metric\":\"39\"},\"id\":232,\"name\":\"Smooth Fox Terrier\",\"bred_for\":\"Fox bolting\",\"breed_group\":\"Terrier\",\"life_span\":\"12 - 14 years\",\"temperament\":\"Fearless, Affectionate, Alert, Playful, Intelligent, Active\",\"reference_image_id\":\"Syszjx9Em\",\"image\":{\"id\":\"Syszjx9Em\",\"width\":1600,\"height\":1031,\"url\":\"https://cdn2.thedogapi.com/images/Syszjx9Em.jpg\"}},{\"weight\":{\"imperial\":\"30 - 40\",\"metric\":\"14 - 18\"},\"height\":{\"imperial\":\"16 - 18\",\"metric\":\"41 - 46\"},\"id\":233,\"name\":\"Soft Coated Wheaten Terrier\",\"bred_for\":\"Vermin hunting, guarding, all-around farm helper\",\"breed_group\":\"Terrier\",\"life_span\":\"12 - 15 years\",\"temperament\":\"Affectionate, Spirited, Energetic, Playful, Intelligent, Faithful\",\"reference_image_id\":\"HJHmix5NQ\",\"image\":{\"id\":\"HJHmix5NQ\",\"width\":1200,\"height\":800,\"url\":\"https://cdn2.thedogapi.com/images/HJHmix5NQ.jpg\"}},{\"weight\":{\"imperial\":\"30 - 50\",\"metric\":\"14 - 23\"},\"height\":{\"imperial\":\"16 - 20\",\"metric\":\"41 - 51\"},\"id\":235,\"name\":\"Spanish Water Dog\",\"bred_for\":\"Herding flocks of sheep and goats from one pasture to another\",\"breed_group\":\"Sporting\",\"life_span\":\"12 - 15 years\",\"temperament\":\"Trainable, Diligent, Affectionate, Loyal, Athletic, Intelligent\",\"reference_image_id\":\"HJf4jl9VX\",\"image\":{\"id\":\"HJf4jl9VX\",\"width\":1200,\"height\":922,\"url\":\"https://cdn2.thedogapi.com/images/HJf4jl9VX.jpg\"}},{\"weight\":{\"imperial\":\"61 - 85\",\"metric\":\"28 - 39\"},\"height\":{\"imperial\":\"22.5 - 27.5\",\"metric\":\"57 - 70\"},\"id\":236,\"name\":\"Spinone Italiano\",\"breed_group\":\"Sporting\",\"life_span\":\"10 - 12 years\",\"temperament\":\"Docile, Friendly, Affectionate, Loyal, Patient, Gentle\",\"reference_image_id\":\"rk5Eoe5Nm\",\"image\":{\"id\":\"rk5Eoe5Nm\",\"width\":1030,\"height\":772,\"url\":\"https://cdn2.thedogapi.com/images/rk5Eoe5Nm.jpg\"}},{\"weight\":{\"imperial\":\"24 - 38\",\"metric\":\"11 - 17\"},\"height\":{\"imperial\":\"14 - 16\",\"metric\":\"36 - 41\"},\"id\":238,\"name\":\"Staffordshire Bull Terrier\",\"bred_for\":\"\",\"breed_group\":\"Terrier\",\"life_span\":\"12 - 14 years\",\"temperament\":\"Reliable, Fearless, Bold, Affectionate, Loyal, Intelligent, Courageous\",\"reference_image_id\":\"H1zSie9V7\",\"image\":{\"id\":\"H1zSie9V7\",\"width\":1280,\"height\":852,\"url\":\"https://cdn2.thedogapi.com/images/H1zSie9V7.jpg\"}},{\"weight\":{\"imperial\":\"30 - 50\",\"metric\":\"14 - 23\"},\"height\":{\"imperial\":\"17.5 - 19.5\",\"metric\":\"44 - 50\"},\"id\":239,\"name\":\"Standard Schnauzer\",\"bred_for\":\"Ratting, guarding\",\"breed_group\":\"Working\",\"life_span\":\"13 - 15 years\",\"temperament\":\"Trainable, Good-natured, Devoted, Lively, Playful, Intelligent\",\"reference_image_id\":\"tmzeu6ID_\",\"image\":{\"id\":\"tmzeu6ID_\",\"width\":650,\"height\":585,\"url\":\"https://cdn2.thedogapi.com/images/tmzeu6ID_.jpg\"}},{\"weight\":{\"imperial\":\"20 - 30\",\"metric\":\"9 - 14\"},\"height\":{\"imperial\":\"11.5 - 13.5\",\"metric\":\"29 - 34\"},\"id\":242,\"name\":\"Swedish Vallhund\",\"breed_group\":\"Herding\",\"life_span\":\"12 - 14 years\",\"temperament\":\"Fearless, Friendly, Energetic, Alert, Intelligent, Watchful\",\"reference_image_id\":\"HJ-Dix94Q\",\"image\":{\"id\":\"HJ-Dix94Q\",\"width\":1280,\"height\":851,\"url\":\"https://cdn2.thedogapi.com/images/HJ-Dix94Q.jpg\"}},{\"weight\":{\"imperial\":\"35 - 55\",\"metric\":\"16 - 25\"},\"height\":{\"imperial\":\"20 - 24\",\"metric\":\"51 - 61\"},\"id\":243,\"name\":\"Thai Ridgeback\",\"breed_group\":\"Hound\",\"life_span\":\"10 - 12 years\",\"temperament\":\"Protective, Loyal, Independent, Intelligent, Loving, Familial\",\"reference_image_id\":\"zv89hR-O8\",\"image\":{\"id\":\"zv89hR-O8\",\"width\":1080,\"height\":720,\"url\":\"https://cdn2.thedogapi.com/images/zv89hR-O8.jpg\"}},{\"weight\":{\"imperial\":\"85 - 140\",\"metric\":\"39 - 64\"},\"height\":{\"imperial\":\"24 - 26\",\"metric\":\"61 - 66\"},\"id\":244,\"name\":\"Tibetan Mastiff\",\"breed_group\":\"Working\",\"life_span\":\"10 - 14 years\",\"temperament\":\"Strong Willed, Tenacious, Aloof, Stubborn, Intelligent, Protective\",\"reference_image_id\":\"SkM9sec47\",\"image\":{\"id\":\"SkM9sec47\",\"width\":1600,\"height\":1375,\"url\":\"https://cdn2.thedogapi.com/images/SkM9sec47.jpg\"}},{\"weight\":{\"imperial\":\"9 - 15\",\"metric\":\"4 - 7\"},\"height\":{\"imperial\":\"10\",\"metric\":\"25\"},\"id\":245,\"name\":\"Tibetan Spaniel\",\"breed_group\":\"Non-Sporting\",\"life_span\":\"12 - 15 years\",\"temperament\":\"Willful, Aloof, Assertive, Independent, Playful, Intelligent, Happy\",\"reference_image_id\":\"Hyjcol947\",\"image\":{\"id\":\"Hyjcol947\",\"width\":1023,\"height\":825,\"url\":\"https://cdn2.thedogapi.com/images/Hyjcol947.jpg\"}},{\"weight\":{\"imperial\":\"20 - 24\",\"metric\":\"9 - 11\"},\"height\":{\"imperial\":\"14 - 17\",\"metric\":\"36 - 43\"},\"id\":246,\"name\":\"Tibetan Terrier\",\"bred_for\":\"Good luck charms, mascots, watchdogs, herding dogs, and companions\",\"breed_group\":\"Non-Sporting\",\"life_span\":\"12 - 15 years\",\"temperament\":\"Affectionate, Energetic, Amiable, Reserved, Gentle, Sensitive\",\"reference_image_id\":\"6f5n_42mB\",\"image\":{\"id\":\"6f5n_42mB\",\"width\":981,\"height\":1226,\"url\":\"https://cdn2.thedogapi.com/images/6f5n_42mB.jpg\"}},{\"weight\":{\"imperial\":\"4 - 9\",\"metric\":\"2 - 4\"},\"height\":{\"imperial\":\"8 - 11\",\"metric\":\"20 - 28\"},\"id\":248,\"name\":\"Toy Fox Terrier\",\"breed_group\":\"Toy\",\"life_span\":\"12 - 15 years\",\"temperament\":\"Friendly, Spirited, Alert, Loyal, Playful, Intelligent\",\"reference_image_id\":\"B17ase9V7\",\"image\":{\"id\":\"B17ase9V7\",\"width\":1200,\"height\":1024,\"url\":\"https://cdn2.thedogapi.com/images/B17ase9V7.jpg\"}},{\"weight\":{\"imperial\":\"45 - 80\",\"metric\":\"20 - 36\"},\"height\":{\"imperial\":\"20 - 27\",\"metric\":\"51 - 69\"},\"id\":250,\"name\":\"Treeing Walker Coonhound\",\"breed_group\":\"Hound\",\"life_span\":\"10 - 13 years\",\"temperament\":\"Clever, Affectionate, Confident, Intelligent, Loving, Trainable\",\"reference_image_id\":\"SkRpsgc47\",\"image\":{\"id\":\"SkRpsgc47\",\"width\":1920,\"height\":1080,\"url\":\"https://cdn2.thedogapi.com/images/SkRpsgc47.jpg\"}},{\"weight\":{\"imperial\":\"50 - 65\",\"metric\":\"23 - 29\"},\"height\":{\"imperial\":\"21 - 24\",\"metric\":\"53 - 61\"},\"id\":251,\"name\":\"Vizsla\",\"bred_for\":\"Pointing and trailing\",\"breed_group\":\"Sporting\",\"life_span\":\"10 - 14 years\",\"temperament\":\"Affectionate, Energetic, Loyal, Gentle, Quiet\",\"reference_image_id\":\"r1o0jx9Em\",\"image\":{\"id\":\"r1o0jx9Em\",\"width\":2269,\"height\":1276,\"url\":\"https://cdn2.thedogapi.com/images/r1o0jx9Em.jpg\"}},{\"weight\":{\"imperial\":\"55 - 90\",\"metric\":\"25 - 41\"},\"height\":{\"imperial\":\"23 - 27\",\"metric\":\"58 - 69\"},\"id\":253,\"name\":\"Weimaraner\",\"bred_for\":\"Large game trailing and versatile gundog\",\"breed_group\":\"Sporting\",\"life_span\":\"12 - 15 years\",\"temperament\":\"Steady, Aloof, Stubborn, Energetic, Alert, Intelligent, Powerful, Fast\",\"reference_image_id\":\"SyU12l9V7\",\"image\":{\"id\":\"SyU12l9V7\",\"width\":901,\"height\":954,\"url\":\"https://cdn2.thedogapi.com/images/SyU12l9V7.jpg\"}},{\"weight\":{\"imperial\":\"35 - 55\",\"metric\":\"16 - 25\"},\"height\":{\"imperial\":\"17 - 19\",\"metric\":\"43 - 48\"},\"id\":254,\"name\":\"Welsh Springer Spaniel\",\"bred_for\":\"Flushing and retrieving birds\",\"breed_group\":\"Sporting\",\"life_span\":\"12 - 15 years\",\"temperament\":\"Stubborn, Friendly, Affectionate, Loyal, Playful, Active\",\"reference_image_id\":\"BJ1gnx5Vm\",\"image\":{\"id\":\"BJ1gnx5Vm\",\"width\":1331,\"height\":944,\"url\":\"https://cdn2.thedogapi.com/images/BJ1gnx5Vm.jpg\"}},{\"weight\":{\"imperial\":\"15 - 22\",\"metric\":\"7 - 10\"},\"height\":{\"imperial\":\"10 - 11\",\"metric\":\"25 - 28\"},\"id\":256,\"name\":\"West Highland White Terrier\",\"bred_for\":\"Fox, badger, vermin hunting\",\"breed_group\":\"Terrier\",\"life_span\":\"15 - 20 years\",\"temperament\":\"Hardy, Friendly, Alert, Independent, Gay, Active, Courageous\",\"reference_image_id\":\"Bkdx2g5Em\",\"image\":{\"id\":\"Bkdx2g5Em\",\"width\":1065,\"height\":1032,\"url\":\"https://cdn2.thedogapi.com/images/Bkdx2g5Em.jpg\"}},{\"weight\":{\"imperial\":\"25 - 35\",\"metric\":\"11 - 16\"},\"height\":{\"imperial\":\"18 - 22\",\"metric\":\"46 - 56\"},\"id\":257,\"name\":\"Whippet\",\"bred_for\":\"Coursing, racing\",\"breed_group\":\"Hound\",\"life_span\":\"12 - 15 years\",\"temperament\":\"Friendly, Affectionate, Lively, Gentle, Intelligent, Quiet\",\"reference_image_id\":\"Hyv-ne94m\",\"image\":{\"id\":\"Hyv-ne94m\",\"width\":1600,\"height\":1071,\"url\":\"https://cdn2.thedogapi.com/images/Hyv-ne94m.jpg\"}},{\"weight\":{\"imperial\":\"60 - 85\",\"metric\":\"27 - 39\"},\"height\":{\"imperial\":\"22 - 25\",\"metric\":\"56 - 64\"},\"id\":258,\"name\":\"White Shepherd\",\"life_span\":\"12 – 14 years\",\"temperament\":\"Self-confidence, Aloof, Fearless, Alert, Companionable, Eager\",\"reference_image_id\":\"r14M3e9E7\",\"image\":{\"id\":\"r14M3e9E7\",\"width\":1200,\"height\":800,\"url\":\"https://cdn2.thedogapi.com/images/r14M3e9E7.jpg\"}},{\"weight\":{\"imperial\":\"15 - 19\",\"metric\":\"7 - 9\"},\"height\":{\"imperial\":\"13 - 16\",\"metric\":\"33 - 41\"},\"id\":259,\"name\":\"Wire Fox Terrier\",\"bred_for\":\"Vermin hunting, fox bolting\",\"life_span\":\"13 – 14 years\",\"history\":\" England\",\"temperament\":\"Fearless, Friendly, Bold, Keen, Alert, Quick\",\"reference_image_id\":\"SJ6f2g9EQ\",\"image\":{\"id\":\"SJ6f2g9EQ\",\"width\":1000,\"height\":795,\"url\":\"https://cdn2.thedogapi.com/images/SJ6f2g9EQ.jpg\"}},{\"weight\":{\"imperial\":\"45 - 70\",\"metric\":\"20 - 32\"},\"height\":{\"imperial\":\"20 - 24\",\"metric\":\"51 - 61\"},\"id\":260,\"name\":\"Wirehaired Pointing Griffon\",\"bred_for\":\"Gundog, \\\\\"swamp-tromping\\\\\", Flushing, pointing, and retrieving water fowl & game birds\",\"breed_group\":\"Sporting\",\"life_span\":\"12 - 14 years\",\"temperament\":\"Loyal, Gentle, Vigilant, Trainable, Proud\",\"reference_image_id\":\"Bkam2l9Vm\",\"image\":{\"id\":\"Bkam2l9Vm\",\"width\":2328,\"height\":1604,\"url\":\"https://cdn2.thedogapi.com/images/Bkam2l9Vm.jpg\"}},{\"weight\":{\"imperial\":\"45 - 65\",\"metric\":\"20 - 29\"},\"height\":{\"imperial\":\"21.5 - 25\",\"metric\":\"55 - 64\"},\"id\":261,\"name\":\"Wirehaired Vizsla\",\"breed_group\":\"Sporting\",\"life_span\":\"12 - 14 years\",\"reference_image_id\":\"r1I4hl5Em\",\"image\":{\"id\":\"r1I4hl5Em\",\"width\":1024,\"height\":770,\"url\":\"https://cdn2.thedogapi.com/images/r1I4hl5Em.jpg\"}},{\"weight\":{\"imperial\":\"9 - 31\",\"metric\":\"4 - 14\"},\"height\":{\"imperial\":\"10 - 23\",\"metric\":\"25 - 58\"},\"id\":262,\"name\":\"Xoloitzcuintli\",\"breed_group\":\"Non-Sporting\",\"life_span\":\"12 - 14 years\",\"temperament\":\"Cheerful, Alert, Companionable, Intelligent, Protective, Calm\",\"reference_image_id\":\"HkNS3gqEm\",\"image\":{\"id\":\"HkNS3gqEm\",\"width\":1500,\"height\":1350,\"url\":\"https://cdn2.thedogapi.com/images/HkNS3gqEm.jpg\"}},{\"weight\":{\"imperial\":\"4 - 7\",\"metric\":\"2 - 3\"},\"height\":{\"imperial\":\"8 - 9\",\"metric\":\"20 - 23\"},\"id\":264,\"name\":\"Yorkshire Terrier\",\"bred_for\":\"Small vermin hunting\",\"breed_group\":\"Toy\",\"life_span\":\"12 - 16 years\",\"temperament\":\"Bold, Independent, Confident, Intelligent, Courageous\",\"reference_image_id\":\"B12BnxcVQ\",\"image\":{\"id\":\"B12BnxcVQ\",\"width\":1024,\"height\":683,\"url\":\"https://cdn2.thedogapi.com/images/B12BnxcVQ.jpg\"}}]'"
      ]
     },
     "metadata": {},
     "execution_count": 7
    }
   ],
   "source": [
    "breeds_endpoint = 'https://api.thedogapi.com/v1/breeds'\n",
    "response_breeds = requests.get(breeds_endpoint)\n",
    "response_breeds.text"
   ]
  },
  {
   "source": [
    "## Response and Requests Attributes\n",
    "The below example shows a few of the most important attributes available for __Request__ and __Response__ objects."
   ],
   "cell_type": "markdown",
   "metadata": {}
  },
  {
   "source": [
    "### Response"
   ],
   "cell_type": "markdown",
   "metadata": {}
  },
  {
   "cell_type": "code",
   "execution_count": 20,
   "metadata": {},
   "outputs": [
    {
     "output_type": "execute_result",
     "data": {
      "text/plain": [
       "<Response [200]>"
      ]
     },
     "metadata": {},
     "execution_count": 20
    }
   ],
   "source": [
    "endpoint = 'https://api.thedogapi.com/v1/breeds'\n",
    "response = requests.get(endpoint)\n",
    "response"
   ]
  },
  {
   "source": [
    "### Requests"
   ],
   "cell_type": "markdown",
   "metadata": {}
  },
  {
   "cell_type": "code",
   "execution_count": 21,
   "metadata": {},
   "outputs": [
    {
     "output_type": "execute_result",
     "data": {
      "text/plain": [
       "<PreparedRequest [GET]>"
      ]
     },
     "metadata": {},
     "execution_count": 21
    }
   ],
   "source": [
    "response.request"
   ]
  },
  {
   "source": [
    "### url"
   ],
   "cell_type": "markdown",
   "metadata": {}
  },
  {
   "cell_type": "code",
   "execution_count": 22,
   "metadata": {},
   "outputs": [
    {
     "output_type": "execute_result",
     "data": {
      "text/plain": [
       "'https://api.thedogapi.com/v1/breeds'"
      ]
     },
     "metadata": {},
     "execution_count": 22
    }
   ],
   "source": [
    "request = response.request\n",
    "request.url"
   ]
  },
  {
   "source": [
    "### path_url"
   ],
   "cell_type": "markdown",
   "metadata": {}
  },
  {
   "cell_type": "code",
   "execution_count": 23,
   "metadata": {},
   "outputs": [
    {
     "output_type": "execute_result",
     "data": {
      "text/plain": [
       "'/v1/breeds'"
      ]
     },
     "metadata": {},
     "execution_count": 23
    }
   ],
   "source": [
    "request.path_url"
   ]
  },
  {
   "source": [
    "### method"
   ],
   "cell_type": "markdown",
   "metadata": {}
  },
  {
   "cell_type": "code",
   "execution_count": 12,
   "metadata": {},
   "outputs": [
    {
     "output_type": "execute_result",
     "data": {
      "text/plain": [
       "'GET'"
      ]
     },
     "metadata": {},
     "execution_count": 12
    }
   ],
   "source": [
    "request.method"
   ]
  },
  {
   "source": [
    "### requests headers"
   ],
   "cell_type": "markdown",
   "metadata": {}
  },
  {
   "cell_type": "code",
   "execution_count": 13,
   "metadata": {},
   "outputs": [
    {
     "output_type": "execute_result",
     "data": {
      "text/plain": [
       "{'User-Agent': 'python-requests/2.25.1', 'Accept-Encoding': 'gzip, deflate', 'Accept': '*/*', 'Connection': 'keep-alive'}"
      ]
     },
     "metadata": {},
     "execution_count": 13
    }
   ],
   "source": [
    "request.headers"
   ]
  },
  {
   "source": [
    "### response headers"
   ],
   "cell_type": "markdown",
   "metadata": {}
  },
  {
   "cell_type": "code",
   "execution_count": 25,
   "metadata": {},
   "outputs": [
    {
     "output_type": "execute_result",
     "data": {
      "text/plain": [
       "{'Access-Control-Expose-Headers': 'Pagination-Count, Pagination-Page, Pagination-Limit', 'Content-Encoding': 'gzip', 'Content-Type': 'application/json; charset=utf-8', 'Date': 'Mon, 07 Jun 2021 16:07:18 GMT', 'Pagination-Count': '172', 'Pagination-Limit': '1000', 'Pagination-Page': '0', 'Server': 'Apache/2.4.46 (Amazon)', 'Strict-Transport-Security': 'max-age=15552000; includeSubDomains', 'Vary': 'Origin,Accept-Encoding', 'X-Content-Type-Options': 'nosniff', 'X-DNS-Prefetch-Control': 'off', 'X-Download-Options': 'noopen', 'X-Frame-Options': 'SAMEORIGIN', 'X-Response-Time': '6ms', 'X-XSS-Protection': '1; mode=block', 'transfer-encoding': 'chunked', 'Connection': 'keep-alive'}"
      ]
     },
     "metadata": {},
     "execution_count": 25
    }
   ],
   "source": [
    "response.headers"
   ]
  },
  {
   "source": [
    "### response status_code"
   ],
   "cell_type": "markdown",
   "metadata": {}
  },
  {
   "cell_type": "code",
   "execution_count": 26,
   "metadata": {},
   "outputs": [
    {
     "output_type": "execute_result",
     "data": {
      "text/plain": [
       "200"
      ]
     },
     "metadata": {},
     "execution_count": 26
    }
   ],
   "source": [
    "response.status_code"
   ]
  },
  {
   "source": [
    "### status code reason"
   ],
   "cell_type": "markdown",
   "metadata": {}
  },
  {
   "cell_type": "code",
   "execution_count": 27,
   "metadata": {},
   "outputs": [
    {
     "output_type": "execute_result",
     "data": {
      "text/plain": [
       "'OK'"
      ]
     },
     "metadata": {},
     "execution_count": 27
    }
   ],
   "source": [
    "response.reason"
   ]
  },
  {
   "source": [
    "## Custom Headers\n",
    "These usually start with X-, but they’re not required to. API developers typically use custom headers to send or request additional custom information from clients. You can use a dictionary to define headers, and you can send them along with your request using the headers parameter of __.get()__.\n",
    "\n",
    "_For example_, say you want to send some request ID to the API server, and you know you can do that using X-Request-Id:"
   ],
   "cell_type": "markdown",
   "metadata": {}
  },
  {
   "cell_type": "code",
   "execution_count": 28,
   "metadata": {},
   "outputs": [
    {
     "output_type": "execute_result",
     "data": {
      "text/plain": [
       "{'User-Agent': 'python-requests/2.25.1', 'Accept-Encoding': 'gzip, deflate', 'Accept': '*/*', 'Connection': 'keep-alive', 'X-Request-Id': '<my-request-id>'}"
      ]
     },
     "metadata": {},
     "execution_count": 28
    }
   ],
   "source": [
    "headers = {\"X-Request-Id\": \"<my-request-id>\"}\n",
    "response = requests.get(\"https://example.org\", headers=headers)\n",
    "response.request.headers"
   ]
  },
  {
   "source": [
    "If you go through the request.headers dictionary, then you’ll find X-Request-Id right at the end, among a few other headers that come by default with any API request.\n",
    "\n",
    "There are many useful headers a response might have, but one of the most important ones is __Content-Type__, which defines the kind of content returned in the response."
   ],
   "cell_type": "markdown",
   "metadata": {}
  },
  {
   "source": [
    "### Content-Type\n",
    "These days, most __APIs__ use __JSON__ as the default __content type__, but you might need to use an API that returns XML or other media types, such as images or video. In that case, the content type will differ."
   ],
   "cell_type": "markdown",
   "metadata": {}
  },
  {
   "cell_type": "code",
   "execution_count": 29,
   "metadata": {},
   "outputs": [
    {
     "output_type": "execute_result",
     "data": {
      "text/plain": [
       "'application/json; charset=utf-8'"
      ]
     },
     "metadata": {},
     "execution_count": 29
    }
   ],
   "source": [
    "response = requests.get(\"https://api.thedogapi.com/v1/breeds/1\")\n",
    "response.headers.get(\"Content-Type\")"
   ]
  },
  {
   "source": [
    "If, for example, you try to fetch an image of a goat from the PlaceGOAT API, then you’ll notice that the content type is no longer application/json, but instead it’s defined as __image/jpeg__:"
   ],
   "cell_type": "markdown",
   "metadata": {}
  },
  {
   "cell_type": "code",
   "execution_count": 30,
   "metadata": {},
   "outputs": [
    {
     "output_type": "execute_result",
     "data": {
      "text/plain": [
       "<Response [200]>"
      ]
     },
     "metadata": {},
     "execution_count": 30
    }
   ],
   "source": [
    "response = requests.get(\"http://placegoat.com/200/200\")\n",
    "response"
   ]
  },
  {
   "cell_type": "code",
   "execution_count": 31,
   "metadata": {},
   "outputs": [
    {
     "output_type": "execute_result",
     "data": {
      "text/plain": [
       "'text/html; charset=utf-8'"
      ]
     },
     "metadata": {},
     "execution_count": 31
    }
   ],
   "source": [
    "response.headers.get(\"Content-Type\")"
   ]
  },
  {
   "source": [
    "### Response Content\n",
    "the type of content you find in the API response will vary according to the __Content-Type__ header. To properly read the response contents according to the different __Content-Type__ headers, the requests package comes with a couple of different __Response__ attributes you can use to manipulate the response data:\n",
    "\n",
    "- __.text__ returns the response contents in __Unicode__ format.\n",
    "- __.content__ returns the response contents in __bytes__.\n",
    "\n",
    "You already used the __.text__ attribute above. But for some specific types of data, like images and other nontextual data, using __.content__ is typically a better approach, even if it returns a very similar result to .text:"
   ],
   "cell_type": "markdown",
   "metadata": {}
  },
  {
   "cell_type": "code",
   "execution_count": 33,
   "metadata": {},
   "outputs": [
    {
     "output_type": "execute_result",
     "data": {
      "text/plain": [
       "'application/json; charset=utf-8'"
      ]
     },
     "metadata": {},
     "execution_count": 33
    }
   ],
   "source": [
    "response = requests.get(\"https://api.thedogapi.com/v1/breeds/1\")\n",
    "response.headers.get(\"Content-Type\")"
   ]
  },
  {
   "cell_type": "code",
   "execution_count": 34,
   "metadata": {},
   "outputs": [
    {
     "output_type": "execute_result",
     "data": {
      "text/plain": [
       "b'{\"weight\":{\"imperial\":\"6 - 13\",\"metric\":\"3 - 6\"},\"height\":{\"imperial\":\"9 - 11.5\",\"metric\":\"23 - 29\"},\"id\":1,\"name\":\"Affenpinscher\",\"bred_for\":\"Small rodent hunting, lapdog\",\"breed_group\":\"Toy\",\"life_span\":\"10 - 12 years\",\"temperament\":\"Stubborn, Curious, Playful, Adventurous, Active, Fun-loving\",\"origin\":\"Germany, France\",\"reference_image_id\":\"BJa4kxc4X\"}'"
      ]
     },
     "metadata": {},
     "execution_count": 34
    }
   ],
   "source": [
    "response.content"
   ]
  },
  {
   "source": [
    "As you can see, there isn’t a big difference between __.content__ and the previously used __.text__.\n",
    "\n",
    "However, by looking at the response’s __Content-Type__ header, you can see the content is __application/json__;, a JSON object. For that kind of content, the __requests__ library includes a specific __.json()__ method that you can use to immediately convert the API bytes response into a Python data structure:"
   ],
   "cell_type": "markdown",
   "metadata": {}
  },
  {
   "cell_type": "code",
   "execution_count": 35,
   "metadata": {},
   "outputs": [
    {
     "output_type": "execute_result",
     "data": {
      "text/plain": [
       "'application/json; charset=utf-8'"
      ]
     },
     "metadata": {},
     "execution_count": 35
    }
   ],
   "source": [
    "response = requests.get(\"https://api.thedogapi.com/v1/breeds/1\")\n",
    "response.headers.get(\"Content-Type\")"
   ]
  },
  {
   "cell_type": "code",
   "execution_count": 36,
   "metadata": {},
   "outputs": [
    {
     "output_type": "execute_result",
     "data": {
      "text/plain": [
       "{'weight': {'imperial': '6 - 13', 'metric': '3 - 6'},\n",
       " 'height': {'imperial': '9 - 11.5', 'metric': '23 - 29'},\n",
       " 'id': 1,\n",
       " 'name': 'Affenpinscher',\n",
       " 'bred_for': 'Small rodent hunting, lapdog',\n",
       " 'breed_group': 'Toy',\n",
       " 'life_span': '10 - 12 years',\n",
       " 'temperament': 'Stubborn, Curious, Playful, Adventurous, Active, Fun-loving',\n",
       " 'origin': 'Germany, France',\n",
       " 'reference_image_id': 'BJa4kxc4X'}"
      ]
     },
     "metadata": {},
     "execution_count": 36
    }
   ],
   "source": [
    "response.json()"
   ]
  },
  {
   "cell_type": "code",
   "execution_count": 37,
   "metadata": {},
   "outputs": [
    {
     "output_type": "execute_result",
     "data": {
      "text/plain": [
       "'Affenpinscher'"
      ]
     },
     "metadata": {},
     "execution_count": 37
    }
   ],
   "source": [
    "response.json()[\"name\"]"
   ]
  },
  {
   "cell_type": "code",
   "execution_count": 48,
   "metadata": {},
   "outputs": [
    {
     "output_type": "execute_result",
     "data": {
      "text/plain": [
       "<Response [200]>"
      ]
     },
     "metadata": {},
     "execution_count": 48
    }
   ],
   "source": [
    "response = requests.get(\"http://placegoat.com/200/200\")\n",
    "response"
   ]
  },
  {
   "cell_type": "code",
   "execution_count": 39,
   "metadata": {},
   "outputs": [
    {
     "output_type": "execute_result",
     "data": {
      "text/plain": [
       "'text/html; charset=utf-8'"
      ]
     },
     "metadata": {},
     "execution_count": 39
    }
   ],
   "source": [
    "response.headers.get(\"Content-Type\")"
   ]
  },
  {
   "cell_type": "code",
   "execution_count": 40,
   "metadata": {},
   "outputs": [
    {
     "output_type": "execute_result",
     "data": {
      "text/plain": [
       "tion_icon\"><img src=\"https://static.HugeDomains.com/images/hdv3-img/present-section-ico-3.png\" alt=\"\"></div>\\n<div class=\"bonus-presentation_title\"><h3>Safe and secure<br />shopping</h3></div>\\n<div class=\"bonus-presentation_content\"><a href=\"##\" class=\"modal-trigger fabSafeSecureShopping\" data-modal=\"contact-form-modal\">Learn more</a></div>\\n</div>\\n</div>\\n</div>\\n</section>\\n\\n<section class=\"call-us single-product productWhiteGrey hdv3pitch\" style=\"padding-top:25px; paddiQQQng-bottom:25px;\">\\n<div class=\"container\">\\n<div class=\"single-product-block call-us-content-wrap\">\\n<div class=\"call-us-content-ico\">\\n<img src=\"https://static.HugeDomains.com/images/hdv3-img/call-us.png\" alt=\"\">\\n</div>\\n<div class=\"call-us-content\">\\n<h2 class=\"call-us-title\">Questions? We can help: <a href=\"tel:13038930552\">1&#8209;303&#8209;893&#8209;0552</a></h2>\\n<p class=\"call-us-subtitle\">Call us to learn how we can help you get more value from your domain</p>\\n</div>\\n</div>\\n</div>\\n</section>\\n\\n\\n\\n<section class=\"video-lesson single-product productWhiteGrey hdv3pitch\" style=\"border-top:0px;\">\\n<div class=\"video-lesson-wrap container\">\\n<div class=\"single-product-block\">\\n<div class=\"video-block\">\\n<iframe width=\"480\" height=\"270\" src=\"https://www.youtube.com/embed/bqLUp7GuUTg?rel=0&autoplay=0&showinfo=0&controls=0\" frameborder=\"0\" allow=\"accelerometer; autoplay; encrypted-media; gyroscope; picture-in-picture\" allowfullscreen></iframe>\\n</div>\\n<div class=\"text-video\"><p>Turbocharge your Web site. Watch our video to learn how.</p></div>\\n</div>\\n</div>\\n</section>\\n\\n<section class=\"testimonails single-product productWhiteGrey hdv3pitch\">\\n<div class=\"testimonails-wrap container\">\\n<div class=\"single-product-block\">\\n<div class=\"block-title\"><h2>Since 2005, we\\'ve helped thousands of people get the perfect domain name</h2></div><br>\\n<br>\\n<div class=\"testimonials-item\">\\n<div class=\"testimonials-item_image\"><div class=\"img-placeholder darkblue\" style=\"background-color:#939999;\">T</div></div>\\n<div class=\"testimonials-item_content\">\\n<p class=\"feedback\">We were able to purchase a domain we&#39;d been interested in for a while. The purchasing process was quick and easy.</p>\\n<span class=\"feedback-owner\">- Tyler Ball, May 23, 2021</span>\\n</div>\\n</div>\\n<div class=\"testimonials-item\">\\n<div class=\"testimonials-item_image\"><div class=\"img-placeholder darkblue\" style=\"background-color:#9085ff;\">D</div></div>\\n<div class=\"testimonials-item_content\">\\n<p class=\"feedback\">Transparent actions that were required by me to complete the purchase is what made me pull the trigger on the purchase.</p>\\n<span class=\"feedback-owner\">- DIMITRIS GOUSIS, May 22, 2021</span>\\n</div>\\n</div>\\n<div class=\"testimonials-item\">\\n<div class=\"testimonials-item_image\"><div class=\"img-placeholder darkblue\" style=\"background-color:#0047af;\">P</div></div>\\n<div class=\"testimonials-item_content\">\\n<p class=\"feedback\">Such great service! Recommend HugeDomains.com to anyone!</p>\\n<span class=\"feedback-owner\">- Peter LoVerso, May 22, 2021</span>\\n</div>\\n</div>\\n<div class=\"testimonials-item\">\\n<div class=\"testimonials-item_image\"><div class=\"img-placeholder darkblue\" style=\"background-color:#830000;\">A</div></div>\\n<div class=\"testimonials-item_content\">\\n<p class=\"feedback\">Thank you !\\nHuge Domains is a fantastic opportunity for everybody to begin a new business</p>\\n<span class=\"feedback-owner\">- Antonella Bondi, May 22, 2021</span>\\n</div>\\n</div>\\n<div class=\"testimonials-item\">\\n<div class=\"testimonials-item_image\"><div class=\"img-placeholder darkblue\" style=\"background-color:#89969f;\">J</div></div>\\n<div class=\"testimonials-item_content\">\\n<p class=\"feedback\">I didn&#39;t expect a domain payment plan purchase to be so smooth. That has to be your hook within all campaigns.</p>\\n<span class=\"feedback-owner\">- Jordan St Jacques, May 21, 2021</span>\\n</div>\\n</div>\\n<div class=\"testimonials-container\">\\n</div>\\n<a href=\"https://www.HugeDomains.com/testimonials.cfm\" class=\"see-more\">See more testimonials</a>\\n</div>\\n</div>\\n</section>\\n\\n<section class=\"faq-section single-product productWhiteGrey hdv3pitch\">\\n<div class=\"container\">\\n<div class=\"single-product-block\">\\n<div class=\"faq-section-title\">\\n<h2>FAQs</h2>\\n</div>\\n<div class=\"faq-block\">\\n<div class=\"faq-block-item\">\\n<div class=\"faq-bi-title\"><a href=\"#\">How do I get the domain after the purchase?</a></div>\\n<div class=\"faq-bi-content\"><p>Once you purchase the domain we will push it into an account for you at our registrar, NameBright.com, we will then send you an email with your NameBright username and password. In most cases access to the domain will be available within one to two hours of purchase, however access to domains purchased after business hours will be available within the next business day.</p></div>\\n</div>\\n<div class=\"faq-block-item\">\\n<div class=\"faq-bi-title\"><a href=\"#\">Can I transfer my domain to another registrar after I buy it?</a></div>\\n<div class=\"faq-bi-content\"><p>Yes you can transfer your domain to any registrar or hosting company once you have purchased it. Since domain transfers are a manual process, it can take up to 48 hours to transfer the domain.</p>\\n<p>&nbsp;</p>\\n<p>Once you have received access to your account with the domain\\'s current registrar you will be able to move the domain to any registrar of your choosing.</p>\\n<p>&nbsp;</p>\\n<p>* When a domain is purchased on a payment plan, a registrar-lock is placed on the domain until all payments have been made. This registrar-lock prevents transfers.</p></div>\\n</div>\\n<div class=\"faq-block-item\">\\n<div class=\"faq-bi-title\"><a href=\"#\">What comes with the domain name?</a></div>\\n<div class=\"faq-bi-content\"><p>Nothing else is included with the purchase of the domain name. Our registrar NameBright.com does offer email packages for a yearly fee, however you will need to find hosting and web design services on your own.</p></div>\\n</div>\\n<div class=\"faq-block-item\">\\n<div class=\"faq-bi-title\"><a href=\"#\">Do you offer payment plans?</a></div>\\n<div class=\"faq-bi-content\"><p>Yes we offer payment plans for up to 12 months. <a href=\"https://www.HugeDomains.com/payment-plans.cfm?d=placegoat.com\" style=\"color:white; text-decoration:underline;\" target=\"_blank\">See details</a>.</p></div>\\n</div>\\n<div class=\"faq-block-item\">\\n<div class=\"faq-bi-title\"><a href=\"#\">How do I keep my personal information private?</a></div>\\n<div class=\"faq-bi-content\"><p>If you wish the domain ownership information to be private, add WhoIs Privacy Protection to your domain. This hides your personal information from the general public.</p>\\n<p>&nbsp;</p>\\n<p>To add privacy protection to your domain, do so within your registrar account. NameBright offers WhoIs Privacy Protection for free for the first year, and then for a small fee for subsequent years.</p>\\n<p>&nbsp;</p>\\n<p>Whois information is not updated immediately. It typically takes several hours for Whois data to update, and different registrars are faster than others. Usually your Whois information will be fully updated within two days.</p></div>\\n</div>\\n<div class=\"faq-block-item\">\\n<div class=\"faq-bi-title\"><a href=\"#\">What\\'s the difference between websites and web hosting?</a></div>\\n<div class=\"faq-bi-content\"><p>It\\'s easy to think a domain name and a website are the same. While they are related, they are very different things. </p>\\n<p>&nbsp;</p>\\n<p>\\xe2\\x80\\xa2 A domain name is like the address of your home. It just tells people where to go to find you.<br>\\n\\xe2\\x80\\xa2 Websites are the code and content that you provide.<br>\\n\\xe2\\x80\\xa2 A web host is a service that provides technology, allowing your website to be seen on the Internet.</p></div>\\n</div>\\n</div>\\n<div class=\"more-w\">\\n<a href=\"https://www.HugeDomains.com/faq.cfm\" class=\"see-more-faq\" target=\"_blank\">See more FAQs</a>\\n</div>\\n</div>\\n</div>\\n</section>\\n\\n<section class=\"other-domains single-product productWhiteGrey hdv3pitch\" style=\"bordQQQer-bottom: 1px solid #d2d6da;\">\\n<div class=\"container\">\\n<div class=\"single-product-block\">\\n<div class=\"oter-domain-title\">\\n<h2>Other domains you might like</h2>\\n</div>\\n<div class=\"domains-table\">\\n<div class=\"domain-row\"><span class=\"domain\"><a href=\"https://www.HugeDomains.com/domain_profile.cfm?d=KeyKeyKey.com\">KeyKeyKey.com</a><span class=\"price\">$2,095</span></span></div>\\n<div class=\"domain-row\"><span class=\"domain\"><a href=\"https://www.HugeDomains.com/domain_profile.cfm?d=MacAqua.com\">MacAqua.com</a><span class=\"price\">$1,795</span></span></div>\\n<div class=\"domain-row\"><span class=\"domain\"><a href=\"https://www.HugeDomains.com/domain_profile.cfm?d=YKeyKey.com\">YKeyKey.com</a><span class=\"price\">$1,795</span></span></div>\\n<div class=\"domain-row\"><span class=\"domain\"><a href=\"https://www.HugeDomains.com/domain_profile.cfm?d=InnAqua.com\">InnAqua.com</a><span class=\"price\">$2,995</span></span></div>\\n<div class=\"domain-row\"><span class=\"domain\"><a href=\"https://www.HugeDomains.com/domain_profile.cfm?d=AquaOwl.com\">AquaOwl.com</a><span class=\"price\">$2,595</span></span></div>\\n<div class=\"domain-row\"><span class=\"domain\"><a href=\"https://www.HugeDomains.com/domain_profile.cfm?d=AaAqua.com\">AaAqua.com</a><span class=\"price\">$2,895</span></span></div>\\n<div class=\"domain-row\"><span class=\"domain\"><a href=\"https://www.HugeDomains.com/domain_profile.cfm?d=TilAqua.com\">TilAqua.com</a><span class=\"price\">$2,995</span></span></div>\\n<div class=\"domain-row\"><span class=\"domain\"><a href=\"https://www.HugeDomains.com/domain_profile.cfm?d=AquaEc.com\">AquaEc.com</a><span class=\"price\">$2,995</span></span></div>\\n<div class=\"domain-row\"><span class=\"domain\"><a href=\"https://www.HugeDomains.com/domain_profile.cfm?d=AquaDir.com\">AquaDir.com</a><span class=\"price\">$2,195</span></span></div>\\n<div class=\"domain-row\"><span class=\"domain\"><a href=\"https://www.HugeDomains.com/domain_profile.cfm?d=AquaAnt.com\">AquaAnt.com</a><span class=\"price\">$1,695</span></span></div>\\n</div>\\n<a href=\"https://www.HugeDomains.com/domain_search.cfm?domain_name=placegoat\" class=\"see-more-domains\">See more...</a>\\n</div>\\n</div>\\n</section>\\n<script>\\r\\ngtag(\\'event\\', \\'view_item\\', {\\r\\n\"items\": [\\r\\n{\\r\\n\"name\": \"placegoat.com\",\\r\\n\"list_name\": \"Product Page\",\\r\\n\"quantity\": 1,\\r\\n\"price\": \\'10295\\'\\r\\n}\\r\\n]\\r\\n});\\r\\n</script>\\n<div class=\"fab-btn-wrap\">\\n<a href=\"https://www.HugeDomains.com/contact.cfm\" class=\"fab-btn modal-trigger\" data-modal=\"contact-form-modal\" id=\"fabButtonIconLinkID\"><img src=\"https://static.HugeDomains.com/images/hdv3-img/mail-icon.png\" alt=\"\" id=\"fabButtonIconID\"></a>\\n</div>\\n<script>\\r\\ndocument.getElementById(\\'fabButtonIconLinkID\\').addEventListener(\"click\", function(){\\r\\nfigureOutFab();\\r\\n});\\r\\nfunction figureOutFab() {\\r\\n$(\\'#fabButtonPopopOuterDivID\\').load(\"https://www.HugeDomains.com/rjs/hdv3-rjs/contact.cfm\", function() { $(\\'#fabButtonPopopHeadID\\').html(\\'Email us\\'); $(\\'#fabButtonPopopErrorDivID\\').hide(); $(\\'#hdv3FabContactSubjectID\\').val(\\'placegoat.com\\'); $(\\'#hdv3FabContactSubjectRowID\\').hide(); figureOutFabContactDried = 0; figureOutFabContactDoubleDown = 0; figureOutFabContactDdp = 0; } );\\r\\n}\\r\\n</script>\\n<div class=\"contact-modal modal\" data-modal=\"contact-form-modal\">\\n<div class=\"modal-header\">\\n<span class=\"head\" id=\"fabButtonPopopHeadID\"></span>\\n<span class=\"close-modal js-modal-close\"></span>\\n</div>\\n<div class=\"modal-content hass-errore\" id=\"fabButtonPopopOuterDivID\">\\n</div>\\n</div>\\n<div class=\"footer-mobile-block-btn hiddenAtLoad\" style=\"padding:10px;\" id=\"hdv3B8AFDE986DD24939B93EDA7E550BDFD2BottomBarID\">\\n<span class=\"domain-name-footer-fixed\" style=\"margin-bottom:10px;\" id=\"hdv3B8AFDE986DD24939B93EDA7E550BDFD2BottomBarTextID\">placegoat.com</span>\\n<a href=\"https://www.HugeDomains.com/shopping_cart.cfm?d=placegoat&e=com\" class=\"btn\" style=\"margin-bottom:5px;\">&#9656; Buy Now</a>\\n<a href=\"https://www.HugeDomains.com/payment-plan-setup.cfm?d=placegoat.com\" class=\"btn bordered-btn\" onclick=\"hdv3B8AFDE986DD24939B93EDA7E550BDFD2Func(); return false;\" id=\"hdv3B8AFDE986DD24939B93EDA7E550BDFD2LinkID\">&#9656; Start Payment Plan</a>\\n<button type=\"button\" value=\"\" id=\"hdv3B8AFDE986DD24939B93EDA7E550BDFD2ProcID\" class=\" place-order-btn paymentpay-accaunt-content-btn btn hiddenAtLoad\" onclick=\"return false;\" style=\"height:50px; margin-left:0px; margin-top:0px; width:100%;\">Processing\\n<div id=\"circularG\">\\n<div id=\"circularG_1\" class=\"circularG\"></div>\\n<div id=\"circularG_2\" class=\"circularG\"></div>\\n<div id=\"circularG_3\" class=\"circularG\"></div>\\n<div id=\"circularG_4\" class=\"circularG\"></div>\\n<div id=\"circularG_5\" class=\"circularG\"></div>\\n<div id=\"circularG_6\" class=\"circularG\"></div>\\n<div id=\"circularG_7\" class=\"circularG\"></div>\\n<div id=\"circularG_8\" class=\"circularG\"></div>\\n</div>\\n</button>\\n</div>\\n<script>\\r\\n</script>\\n</main>\\n<footer id=\"footer\">\\n<div class=\"container\">\\n<div class=\"d-flex footer-links jc-between\">\\n<div class=\"col\">\\n<h4>Shop</h4>\\n<ul class=\"footer-menu\">\\n<li><a href=\"https://www.HugeDomains.com/index.cfm\">Home</a></li>\\n<li><a href=\"https://www.HugeDomains.com/categories.cfm\">Categories</a></li>\\n<li><a href=\"https://www.HugeDomains.com/payment-plans.cfm\">Payment plans</a></li>\\n<li><a href=\"https://www.HugeDomains.com/payment-plan-login.cfm\">My account</a></li>\\n</ul>\\n</div>\\n<div class=\"col\">\\n<h4>Safe and secure</h4>\\n<ul class=\"footer-menu\">\\n<li><a href=\"https://www.HugeDomains.com/testimonials.cfm\">Testimonials</a></li>\\n<li><a href=\"https://www.HugeDomains.com/satisfaction_guaranteed.cfm\">Money back guarantee</a></li>\\n<li><a href=\"https://www.HugeDomains.com/faq.cfm\">FAQs</a></li>\\n<li><a href=\"https://www.HugeDomains.com/escrow.cfm\">Escrow.com</a></li>\\n<li><a href=\"https://www.HugeDomains.com/namebright.cfm\">NameBright.com</a></li>\\n</ul>\\n</div>\\n<div class=\"col\">\\n<h4>Domain buying guide</h4>\\n<ul class=\"footer-menu\">\\n<li><a href=\"https://www.HugeDomains.com/buying_guide.cfm\">Buying guide</a></li>\\n<li><a href=\"https://www.HugeDomains.com/domains_101.cfm\">How to choose a domain name</a></li>\\n<li><a href=\"https://www.HugeDomains.com/domain_buying_process.cfm\">Domain name buying process</a></li>\\n<li><a href=\"https://www.HugeDomains.com/domain_valuations.cfm\">Domain valuations</a></li>\\n<li><a href=\"https://www.HugeDomains.com/business_assets.cfm\">Domains as assets</a></li>\\n<li><a href=\"https://www.HugeDomains.com/avoiding_problems.cfm\">Don\\'t lose your domain</a></li>\\n<li><a href=\"https://www.HugeDomains.com/domain_name_checklist.cfm\">Domain name checklist</a></li>\\n<li><a href=\"https://www.HugeDomains.com/how-domain-transfers-work.cfm\">How domain transfers work</a></li>\\n</ul>\\n</div>\\n<div class=\"col\">\\n<h4>About us</h4>\\n<ul class=\"footer-menu\">\\n<li><a href=\"https://www.HugeDomains.com/about.cfm\">Overview</a></li>\\n<li><a href=\"https://www.HugeDomains.com/contact.cfm\">Contact us</a></li>\\n<li><a href=\"https://www.HugeDomains.com/terms.cfm\">Terms and conditions</a></li>\\n<li><a href=\"https://www.HugeDomains.com/privacy_policy.cfm\">Privacy policy</a></li>\\n</ul>\\n</div>\\n</div>\\n<div class=\"d-flex badge-row ai-center\">\\n<div class=\"d-flex jc-center\"><a href=\"https://www.HugeDomains.com/buying_guide.cfm\"><img src=\"https://static.HugeDomains.com/images/hdv3-img/footer-logo-1.png\" alt=\"\" border=\"0\"></a></div>\\n<div class=\"d-flex jc-center\"><a href=\"https://www.HugeDomains.com/namebright.cfm\"><img src=\"https://static.HugeDomains.com/images/hdv3-img/footer-logo-2.png\" alt=\"\" border=\"0\"></a></div>\\n<div class=\"d-flex jc-center\"><img src=\"https://static.HugeDomains.com/images/hdv3-img/footer-logo-3.png\" alt=\"\"></div>\\n<div class=\"d-flex jc-center\"><img src=\"https://static.HugeDomains.com/images/hdv3-img/footer-logo-4.png\" alt=\"\"></div>\\n<div class=\"d-flex jc-center\"><a href=\"https://www.HugeDomains.com/escrow.cfm\"><img src=\"https://static.HugeDomains.com/images/hdv3-img/footer-logo-5.png\" alt=\"\" border=\"0\"></a></div>\\n</div>\\n<div class=\"text-center\">\\n<h4 class=\"cta\">Talk to a domain expert: <a href=\"tel:1-303-893-0552\">+1-303-893-0552</a></h4>\\n</div>\\n<p class=\"copyright text-center\">&copy; 2021 HugeDomains.com. All rights reserved.</p>\\n<a href=\"https://www.HugeDomains.com/get-domain.cfm\"></a>\\n</div>\\n</footer>\\n<script src=\"https://static.HugeDomains.com/js/hdv3-js/jquery.min.js\"></script>\\n<script src=\"https://static.HugeDomains.com/js/hdv3-js/intlTelInput.js\"></script>\\n<script src=\"https://static.HugeDomains.com/js/hdv3-js/script.js\"></script>\\n<script src=\"https://static.HugeDomains.com/js/hdv3-js/common.js\"></script>\\n<script src=\"https://static.HugeDomains.com/js/hdv3-js/hd-js.js?a=20201016a\"></script>\\n<script>\\r\\n/* shopping cart number */\\r\\ncartJs = readCookie(\\'SHOPPINGCART\\');\\r\\nif ((cartJs == \\'\\') || (cartJs == \\'%2C\\') || (cartJs == \\',\\')) {\\r\\n/* empty */\\r\\n$(\\'#hdv3HeaderCartIconDivID\\').addClass(\\'empty-cart\\');\\r\\n} else if (cartJs !== null) {\\r\\ncartItems = readCookie(\\'SHOPPINGCART\\').split(\"%2C\");\\r\\n$(\\'#hdv3HeaderCartIconDivID\\').removeClass(\\'empty-cart\\');\\r\\n$(\\'#hdv3CartNumberSpanID\\').removeClass(\\'hiddenAtLoad\\');\\r\\n$(\\'#hdv3CartNumberSpanID\\').html(cartItems.length);\\r\\n}\\r\\n</script>\\n<script>\\r\\n$(function() {\\r\\nvar wv = $(window).outerWidth();\\r\\nif (wv > 768) {\\r\\nvar $window = $(window);\\r\\nvar $sidebar = $(\".ss-block-inner\");\\r\\nvar $sidebarTop = $sidebar.position().top ;\\r\\nvar $sidebarHeight = $sidebar.height();\\r\\nvar $footer = $(\\'#footer\\');\\r\\nvar $footerTop = $footer.position().top;\\r\\nvar $footerTop = $footerTop - 85;\\r\\nvar $maindiv = $(\".site-main\");\\r\\nvar $maindivTop = $maindiv.position().top;\\r\\nvar $maindivTop = $maindivTop - 85;\\r\\n$window.scroll(function(event) {\\r\\n$sidebar.addClass(\"fixed\");\\r\\nvar $scrollTop = $window.scrollTop();\\r\\nvar $topPosition = Math.max(85, $sidebarTop - $scrollTop);\\r\\nif ($scrollTop + $sidebarHeight > $footerTop ) {\\r\\nvar $topPosition = Math.min($topPosition, $footerTop - $scrollTop - $sidebarHeight );\\r\\n}\\r\\nif ( false == $( \"header#header\" ).hasClass( \"fixed-header\" ) ) {\\r\\nif ($topPosition == 85) {\\r\\n$topPosition = 140;\\r\\n}\\r\\nif (140 > $topPosition) {\\r\\n$topPosition = 140;\\r\\n}\\r\\n}\\r\\n$sidebar.css(\"top\", $topPosition );\\r\\n});\\r\\n}\\r\\n});\\r\\nfunction hdv3B8AFDE986DD24939B93EDA7E550BDFD2Func() {\\r\\n$(\\'#hdv3B8AFDE986DD24939B93EDA7E550BDFD2LinkID\\').addClass(\\'hiddenAtLoad\\');\\r\\n$(\\'#hdv3B8AFDE986DD24939B93EDA7E550BDFD2ProcID\\').removeClass(\\'hiddenAtLoad\\');\\r\\n/* reset the button */\\r\\nwindow.addEventListener(\"unload\", function(event) {\\r\\n$(\\'#hdv3B8AFDE986DD24939B93EDA7E550BDFD2LinkID\\').removeClass(\\'hiddenAtLoad\\');\\r\\n$(\\'#hdv3B8AFDE986DD24939B93EDA7E550BDFD2ProcID\\').addClass(\\'hiddenAtLoad\\');\\r\\n});\\r\\nwindow.addEventListener(\"pageshow\", function(event) {\\r\\nif (event.persisted) {\\r\\n}\\r\\n$(\\'#hdv3B8AFDE986DD24939B93EDA7E550BDFD2LinkID\\').removeClass(\\'hiddenAtLoad\\');\\r\\n$(\\'#hdv3B8AFDE986DD24939B93EDA7E550BDFD2ProcID\\').addClass(\\'hiddenAtLoad\\');\\r\\n});\\r\\nwindow.location.href = \\'https://www.HugeDomains.com/payment-plan-setup.cfm?d=placegoat.com\\';\\r\\nreturn false;\\r\\n}\\r\\n$(window).scroll(function () {\\r\\nif ( $(\\'.hdv3pitch\\').length ) {\\r\\nvar offset = $(\".hdv3pitch\").offset();\\r\\nvar w = $(window);\\r\\nvar ww = offset.top-w.scrollTop();\\r\\nif ( ww > 85) {\\r\\n$(\\'#hdv3B8AFDE986DD24939B93EDA7E550BDFD2BottomBarID\\').addClass(\\'hiddenAtLoad\\');\\r\\n} else if ( ww <= 85) {\\r\\n$(\\'#hdv3B8AFDE986DD24939B93EDA7E550BDFD2BottomBarID\\').removeClass(\\'hiddenAtLoad\\');\\r\\n}\\r\\n} else {\\r\\n$(\\'#hdv3B8AFDE986DD24939B93EDA7E550BDFD2BottomBarID\\').removeClass(\\'hiddenAtLoad\\');\\r\\n}\\r\\n});\\r\\n</script>\\n\\n<script type=\"text/javascript\">(function(){window[\\'__CF$cv$params\\']={r:\\'65bb458a0bedcb7b\\',m:\\'9fdc15aeb8689ddbd3cc9fffe75f91f8052f6c26-1623083496-1800-ARifrAvnkCa2wPlBrm/OMAltzIu7ikXC1sqq1cz52d4oO4ZSOot+v7n7U5wskvCHPKCR5ShU5piRVFTJPo3tFwkgSMdn7ghn/UwfEVBgF7xk+ivMhvRtIXMfFDUbNikBjbxPLJxn4bRqbcYClEne0pA8TIHzBnsIcxlbs4ZaZDqb\\',s:[0xb9444c355c,0xf128adf386],}})();</script></body></html>\\n'"
      ]
     },
     "metadata": {},
     "execution_count": 40
    }
   ],
   "source": [
    "response.content"
   ]
  },
  {
   "source": [
    "In this case, because you’re requesting an image, __.content__ isn’t very helpful. In fact, it’s nearly impossible to understand. However, you know this is a JPEG image, so you can try storing it into a file and see what happens:"
   ],
   "cell_type": "markdown",
   "metadata": {}
  },
  {
   "cell_type": "code",
   "execution_count": 45,
   "metadata": {},
   "outputs": [
    {
     "output_type": "execute_result",
     "data": {
      "text/plain": [
       "<Response [200]>"
      ]
     },
     "metadata": {},
     "execution_count": 45
    }
   ],
   "source": [
    "response = requests.get(\"http://placegoat.com/200/200\")\n",
    "response"
   ]
  },
  {
   "cell_type": "code",
   "execution_count": 46,
   "metadata": {},
   "outputs": [
    {
     "output_type": "execute_result",
     "data": {
      "text/plain": [
       "'text/html; charset=utf-8'"
      ]
     },
     "metadata": {},
     "execution_count": 46
    }
   ],
   "source": [
    "response.headers.get(\"Content-Type\")"
   ]
  },
  {
   "cell_type": "code",
   "execution_count": 47,
   "metadata": {},
   "outputs": [],
   "source": [
    "# The wb indicates that the file is opened for writing in binary mode\n",
    "# When writing in binary mode, Python makes no changes to data as it is written to the file.\n",
    "file = open(\"goat.png\", \"wb\")\n",
    "file.write(response.content)\n",
    "file.close()"
   ]
  },
  {
   "source": [
    "### Using Query Paramters\n",
    "for the __TheDogAPI__, the documentation has a way for you to [filter the breeds endpoint](https://docs.thedogapi.com/api-reference/breeds/breeds-search) to return only the breeds that match a specific name. \n",
    "\n",
    "For example, if you wanted to look for the Labradoodle breed, then you could do that with the query parameter q:"
   ],
   "cell_type": "markdown",
   "metadata": {}
  },
  {
   "cell_type": "code",
   "execution_count": 52,
   "metadata": {},
   "outputs": [
    {
     "output_type": "execute_result",
     "data": {
      "text/plain": [
       "[{'weight': {'imperial': '45 - 100', 'metric': '20 - 45'},\n",
       "  'height': {'imperial': '14 - 24', 'metric': '36 - 61'},\n",
       "  'id': 148,\n",
       "  'name': 'Labradoodle',\n",
       "  'breed_group': 'Mixed',\n",
       "  'life_span': '10 - 15 years'}]"
      ]
     },
     "metadata": {},
     "execution_count": 52
    }
   ],
   "source": [
    "query_params = {\"q\": \"labradoodle\"}\n",
    "endpoint = \"https://api.thedogapi.com/v1/breeds/search\"\n",
    "requests.get(endpoint, params=query_params).json()"
   ]
  }
 ]
}