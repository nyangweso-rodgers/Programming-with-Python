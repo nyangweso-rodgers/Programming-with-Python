{
 "cells": [
  {
   "cell_type": "markdown",
   "metadata": {},
   "source": [
    "# Case Study 1: GitHub API"
   ]
  },
  {
   "cell_type": "markdown",
   "metadata": {},
   "source": [
    "### Getting Information about a specific GitHub User, i.e., Rodgers Nyangweso"
   ]
  },
  {
   "cell_type": "code",
   "execution_count": 2,
   "metadata": {},
   "outputs": [
    {
     "data": {
      "text/plain": [
       "{'login': 'nyangweso-rodgers',\n",
       " 'id': 47724155,\n",
       " 'node_id': 'MDQ6VXNlcjQ3NzI0MTU1',\n",
       " 'avatar_url': 'https://avatars.githubusercontent.com/u/47724155?v=4',\n",
       " 'gravatar_id': '',\n",
       " 'url': 'https://api.github.com/users/nyangweso-rodgers',\n",
       " 'html_url': 'https://github.com/nyangweso-rodgers',\n",
       " 'followers_url': 'https://api.github.com/users/nyangweso-rodgers/followers',\n",
       " 'following_url': 'https://api.github.com/users/nyangweso-rodgers/following{/other_user}',\n",
       " 'gists_url': 'https://api.github.com/users/nyangweso-rodgers/gists{/gist_id}',\n",
       " 'starred_url': 'https://api.github.com/users/nyangweso-rodgers/starred{/owner}{/repo}',\n",
       " 'subscriptions_url': 'https://api.github.com/users/nyangweso-rodgers/subscriptions',\n",
       " 'organizations_url': 'https://api.github.com/users/nyangweso-rodgers/orgs',\n",
       " 'repos_url': 'https://api.github.com/users/nyangweso-rodgers/repos',\n",
       " 'events_url': 'https://api.github.com/users/nyangweso-rodgers/events{/privacy}',\n",
       " 'received_events_url': 'https://api.github.com/users/nyangweso-rodgers/received_events',\n",
       " 'type': 'User',\n",
       " 'site_admin': False,\n",
       " 'name': 'Rodgers Nyangweso',\n",
       " 'company': 'Twiga Foods Ltd',\n",
       " 'blog': 'www.twiga.ke',\n",
       " 'location': 'Nairobi, Kenya',\n",
       " 'email': None,\n",
       " 'hireable': True,\n",
       " 'bio': 'Business Intelligence (BI) Analyst | Data Scientist | Mathematics & Statistics Graduate | Aspiring Data and Software Engineer',\n",
       " 'twitter_username': 'R_Nyangweso',\n",
       " 'public_repos': 9,\n",
       " 'public_gists': 0,\n",
       " 'followers': 2,\n",
       " 'following': 0,\n",
       " 'created_at': '2019-02-17T20:44:57Z',\n",
       " 'updated_at': '2021-07-20T08:47:09Z'}"
      ]
     },
     "execution_count": 2,
     "metadata": {},
     "output_type": "execute_result"
    }
   ],
   "source": [
    "import requests\n",
    "api_url = \"https://api.github.com/users/nyangweso-rodgers\"\n",
    "response = requests.get(api_url)\n",
    "response.json()"
   ]
  },
  {
   "cell_type": "code",
   "execution_count": null,
   "metadata": {},
   "outputs": [],
   "source": [
    "# Beyond viewing the JSON data from the API, you can also view other things about the response:\n",
    "response.status_code"
   ]
  },
  {
   "cell_type": "code",
   "execution_count": null,
   "metadata": {},
   "outputs": [],
   "source": []
  }
 ],
 "metadata": {
  "interpreter": {
   "hash": "1e915f0a29dc84041eaeb02b7b1a21c440e37a87b61d44d5e84a515737dc82bc"
  },
  "kernelspec": {
   "display_name": "Python 3.8.8 64-bit ('base': conda)",
   "name": "python3"
  },
  "language_info": {
   "codemirror_mode": {
    "name": "ipython",
    "version": 3
   },
   "file_extension": ".py",
   "mimetype": "text/x-python",
   "name": "python",
   "nbconvert_exporter": "python",
   "pygments_lexer": "ipython3",
   "version": "3.8.8"
  },
  "orig_nbformat": 4
 },
 "nbformat": 4,
 "nbformat_minor": 2
}
