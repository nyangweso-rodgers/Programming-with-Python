{
 "metadata": {
  "language_info": {
   "codemirror_mode": {
    "name": "ipython",
    "version": 3
   },
   "file_extension": ".py",
   "mimetype": "text/x-python",
   "name": "python",
   "nbconvert_exporter": "python",
   "pygments_lexer": "ipython3",
   "version": "3.7.6"
  },
  "orig_nbformat": 2,
  "kernelspec": {
   "name": "python376jvsc74a57bd07001fcd93f074860687356353637fa8a9bcfae26351191961070d25d38eb8654",
   "display_name": "Python 3.7.6 64-bit ('base': conda)"
  },
  "metadata": {
   "interpreter": {
    "hash": "7001fcd93f074860687356353637fa8a9bcfae26351191961070d25d38eb8654"
   }
  }
 },
 "nbformat": 4,
 "nbformat_minor": 2,
 "cells": [
  {
   "source": [
    "# Getting COVID-19 Confirmed Cases Per Country\n",
    "- [API](https://covid19api.com/)\n",
    "This API doesn’t require authentication, so it’s pretty straightforward to get some data right away.\n",
    "- [API Documentation](https://documenter.getpostman.com/view/10808728/SzS8rjbc)\n",
    "\n",
    "__Objective__: get the total number of confirmed cases up to the previous day."
   ],
   "cell_type": "markdown",
   "metadata": {}
  },
  {
   "cell_type": "code",
   "execution_count": 2,
   "metadata": {},
   "outputs": [],
   "source": [
    "import requests \n",
    "from datetime import date, timedelta\n",
    "import json\n",
    "import pandas as pd\n",
    "import matplotlib.pyplot as plt"
   ]
  },
  {
   "source": [
    "### Getting List of Countries Under the API\n",
    "Returns all the available countries and provinces, as well as the country slug for per country requests."
   ],
   "cell_type": "markdown",
   "metadata": {}
  },
  {
   "cell_type": "code",
   "execution_count": 24,
   "metadata": {},
   "outputs": [],
   "source": [
    "# getting lists of Countries\n",
    "countries_url = 'https://api.covid19api.com/countries' # endpoint\n",
    "countries_data = requests.get(countries_url).json()\n",
    "\n",
    "# writing the output data to a local json file\n",
    "with open('countries_data_in_json.json', 'w') as c:\n",
    "    json.dump(countries_data, c)\n",
    "\n",
    "# transforming the json file to Excel using Pandas\n",
    "# pd.read_json(\"countries_data_in_json.json\").to_excel(\"countries_data_in_excel.xlsx\")"
   ]
  },
  {
   "source": [
    "### Overall Global Summary (Today)\n",
    "A summary of new and total cases per country updated daily."
   ],
   "cell_type": "markdown",
   "metadata": {}
  },
  {
   "cell_type": "code",
   "execution_count": 31,
   "metadata": {},
   "outputs": [
    {
     "output_type": "execute_result",
     "data": {
      "text/plain": [
       "0  NewConfirmed                      269689\n",
       "   TotalConfirmed                 174160419\n",
       "   NewDeaths                           7410\n",
       "   TotalDeaths                      3755242\n",
       "   NewRecovered                      322346\n",
       "   TotalRecovered                 112407150\n",
       "   Date              2021-06-10T21:42:29.1Z\n",
       "dtype: object"
      ]
     },
     "metadata": {},
     "execution_count": 31
    }
   ],
   "source": [
    "# endpoint\n",
    "summary_url = 'https://api.covid19api.com/summary'\n",
    "global_summary_data = requests.get(summary_url).json()\n",
    "\n",
    "pd.DataFrame(global_summary_data['Global'], index=[0]).stack()"
   ]
  },
  {
   "source": [
    "### Country by Country Summary (Today)\n",
    "A summary of new and total cases per country updated daily."
   ],
   "cell_type": "markdown",
   "metadata": {}
  },
  {
   "cell_type": "code",
   "execution_count": 34,
   "metadata": {},
   "outputs": [
    {
     "output_type": "stream",
     "name": "stdout",
     "text": [
      "<class 'pandas.core.frame.DataFrame'>\nRangeIndex: 191 entries, 0 to 190\nData columns (total 12 columns):\n #   Column          Non-Null Count  Dtype \n---  ------          --------------  ----- \n 0   ID              191 non-null    object\n 1   Country         191 non-null    object\n 2   CountryCode     191 non-null    object\n 3   Slug            191 non-null    object\n 4   NewConfirmed    191 non-null    int64 \n 5   TotalConfirmed  191 non-null    int64 \n 6   NewDeaths       191 non-null    int64 \n 7   TotalDeaths     191 non-null    int64 \n 8   NewRecovered    191 non-null    int64 \n 9   TotalRecovered  191 non-null    int64 \n 10  Date            191 non-null    object\n 11  Premium         191 non-null    object\ndtypes: int64(6), object(6)\nmemory usage: 18.0+ KB\nNone\n"
     ]
    },
    {
     "output_type": "execute_result",
     "data": {
      "text/plain": [
       "                                     ID      Country CountryCode         Slug  \\\n",
       "0  720359e9-a8ff-4e4d-8b7f-8bbaa0c1f654  Afghanistan          AF  afghanistan   \n",
       "1  eb666a26-05fc-4fa4-afae-a2a2ce82b1bf      Albania          AL      albania   \n",
       "2  48d75262-22e8-488b-9fde-64edab19a78d      Algeria          DZ      algeria   \n",
       "3  2087f802-b373-4aa6-a2a1-df60b40a437c      Andorra          AD      andorra   \n",
       "4  1055bce8-54fa-4214-863d-a0a355d29e6a       Angola          AO       angola   \n",
       "\n",
       "   NewConfirmed  TotalConfirmed  NewDeaths  TotalDeaths  NewRecovered  \\\n",
       "0             0           84050          0         3305             0   \n",
       "1             0          132415          0         2452             0   \n",
       "2             0          132034          0         3544             0   \n",
       "3             0           13791          0          127             0   \n",
       "4             0           36115          0          811             0   \n",
       "\n",
       "   TotalRecovered                    Date Premium  \n",
       "0           59871  2021-06-10T21:42:29.1Z      {}  \n",
       "1          129761  2021-06-10T21:42:29.1Z      {}  \n",
       "2           91894  2021-06-10T21:42:29.1Z      {}  \n",
       "3           13569  2021-06-10T21:42:29.1Z      {}  \n",
       "4           29553  2021-06-10T21:42:29.1Z      {}  "
      ],
      "text/html": "<div>\n<style scoped>\n    .dataframe tbody tr th:only-of-type {\n        vertical-align: middle;\n    }\n\n    .dataframe tbody tr th {\n        vertical-align: top;\n    }\n\n    .dataframe thead th {\n        text-align: right;\n    }\n</style>\n<table border=\"1\" class=\"dataframe\">\n  <thead>\n    <tr style=\"text-align: right;\">\n      <th></th>\n      <th>ID</th>\n      <th>Country</th>\n      <th>CountryCode</th>\n      <th>Slug</th>\n      <th>NewConfirmed</th>\n      <th>TotalConfirmed</th>\n      <th>NewDeaths</th>\n      <th>TotalDeaths</th>\n      <th>NewRecovered</th>\n      <th>TotalRecovered</th>\n      <th>Date</th>\n      <th>Premium</th>\n    </tr>\n  </thead>\n  <tbody>\n    <tr>\n      <th>0</th>\n      <td>720359e9-a8ff-4e4d-8b7f-8bbaa0c1f654</td>\n      <td>Afghanistan</td>\n      <td>AF</td>\n      <td>afghanistan</td>\n      <td>0</td>\n      <td>84050</td>\n      <td>0</td>\n      <td>3305</td>\n      <td>0</td>\n      <td>59871</td>\n      <td>2021-06-10T21:42:29.1Z</td>\n      <td>{}</td>\n    </tr>\n    <tr>\n      <th>1</th>\n      <td>eb666a26-05fc-4fa4-afae-a2a2ce82b1bf</td>\n      <td>Albania</td>\n      <td>AL</td>\n      <td>albania</td>\n      <td>0</td>\n      <td>132415</td>\n      <td>0</td>\n      <td>2452</td>\n      <td>0</td>\n      <td>129761</td>\n      <td>2021-06-10T21:42:29.1Z</td>\n      <td>{}</td>\n    </tr>\n    <tr>\n      <th>2</th>\n      <td>48d75262-22e8-488b-9fde-64edab19a78d</td>\n      <td>Algeria</td>\n      <td>DZ</td>\n      <td>algeria</td>\n      <td>0</td>\n      <td>132034</td>\n      <td>0</td>\n      <td>3544</td>\n      <td>0</td>\n      <td>91894</td>\n      <td>2021-06-10T21:42:29.1Z</td>\n      <td>{}</td>\n    </tr>\n    <tr>\n      <th>3</th>\n      <td>2087f802-b373-4aa6-a2a1-df60b40a437c</td>\n      <td>Andorra</td>\n      <td>AD</td>\n      <td>andorra</td>\n      <td>0</td>\n      <td>13791</td>\n      <td>0</td>\n      <td>127</td>\n      <td>0</td>\n      <td>13569</td>\n      <td>2021-06-10T21:42:29.1Z</td>\n      <td>{}</td>\n    </tr>\n    <tr>\n      <th>4</th>\n      <td>1055bce8-54fa-4214-863d-a0a355d29e6a</td>\n      <td>Angola</td>\n      <td>AO</td>\n      <td>angola</td>\n      <td>0</td>\n      <td>36115</td>\n      <td>0</td>\n      <td>811</td>\n      <td>0</td>\n      <td>29553</td>\n      <td>2021-06-10T21:42:29.1Z</td>\n      <td>{}</td>\n    </tr>\n  </tbody>\n</table>\n</div>"
     },
     "metadata": {},
     "execution_count": 34
    }
   ],
   "source": [
    "summary_url = 'https://api.covid19api.com/summary' # summary endpoint\n",
    "global_summary_data = requests.get(summary_url).json()\n",
    "\n",
    "# Transforming the json object to a Pandas DataFrame\n",
    "countries_summary_df = pd.DataFrame(global_summary_data[\"Countries\"])\n",
    "print(countries_summary_df.info())\n",
    "countries_summary_df.head()"
   ]
  },
  {
   "source": [
    "## Day One Cases\n",
    "### Cases in Kenya\n",
    "__Objective__: Returns all cases by case type for a country from the first recorded case. Country must be the Slug from /countries or /summary. Cases must be one of: confirmed, recovered, deaths"
   ],
   "cell_type": "markdown",
   "metadata": {}
  },
  {
   "cell_type": "code",
   "execution_count": 39,
   "metadata": {},
   "outputs": [
    {
     "output_type": "execute_result",
     "data": {
      "text/plain": [
       "                                       ID Country CountryCode Province City  \\\n",
       "0    d385cae5-4fe8-4ce9-b89d-7f7b64d3c9b5   Kenya          KE                 \n",
       "1    ad2ab2ed-3c87-4298-a79f-38026785c0ca   Kenya          KE                 \n",
       "2    1c537e9f-58b9-4004-8f7c-2c14b97ec9cd   Kenya          KE                 \n",
       "3    2acd8099-8186-43f9-867c-c6a4c04e08de   Kenya          KE                 \n",
       "4    249f0e00-1518-4686-a597-47abd18fcb09   Kenya          KE                 \n",
       "..                                    ...     ...         ...      ...  ...   \n",
       "450  95a01aa0-1252-4522-af50-8ed59a5c0a8f   Kenya          KE                 \n",
       "451  6e16e23e-1dc6-4e29-879f-579a5d122930   Kenya          KE                 \n",
       "452  85a75094-d7ad-4155-9da8-f57458dcf7cb   Kenya          KE                 \n",
       "453  31f4c29c-44d6-467d-8262-3d2ba942549b   Kenya          KE                 \n",
       "454  76867039-03e1-4337-bb39-d5eba9d19036   Kenya          KE                 \n",
       "\n",
       "    CityCode    Lat    Lon  Confirmed  Deaths  Recovered  Active  \\\n",
       "0             -0.02  37.91          1       0          0       1   \n",
       "1             -0.02  37.91          1       0          0       1   \n",
       "2             -0.02  37.91          3       0          0       3   \n",
       "3             -0.02  37.91          3       0          0       3   \n",
       "4             -0.02  37.91          3       0          0       3   \n",
       "..       ...    ...    ...        ...     ...        ...     ...   \n",
       "450           -0.02  37.91     172491    3287     117595   51609   \n",
       "451           -0.02  37.91     172639    3308     118226   51105   \n",
       "452           -0.02  37.91     173072    3326     118621   51125   \n",
       "453           -0.02  37.91     173661    3345     118933   51383   \n",
       "454           -0.02  37.91     173661    3345     118933   51383   \n",
       "\n",
       "                     Date  \n",
       "0    2020-03-13T00:00:00Z  \n",
       "1    2020-03-14T00:00:00Z  \n",
       "2    2020-03-15T00:00:00Z  \n",
       "3    2020-03-16T00:00:00Z  \n",
       "4    2020-03-17T00:00:00Z  \n",
       "..                    ...  \n",
       "450  2021-06-06T00:00:00Z  \n",
       "451  2021-06-07T00:00:00Z  \n",
       "452  2021-06-08T00:00:00Z  \n",
       "453  2021-06-09T00:00:00Z  \n",
       "454  2021-06-10T00:00:00Z  \n",
       "\n",
       "[455 rows x 13 columns]"
      ],
      "text/html": "<div>\n<style scoped>\n    .dataframe tbody tr th:only-of-type {\n        vertical-align: middle;\n    }\n\n    .dataframe tbody tr th {\n        vertical-align: top;\n    }\n\n    .dataframe thead th {\n        text-align: right;\n    }\n</style>\n<table border=\"1\" class=\"dataframe\">\n  <thead>\n    <tr style=\"text-align: right;\">\n      <th></th>\n      <th>ID</th>\n      <th>Country</th>\n      <th>CountryCode</th>\n      <th>Province</th>\n      <th>City</th>\n      <th>CityCode</th>\n      <th>Lat</th>\n      <th>Lon</th>\n      <th>Confirmed</th>\n      <th>Deaths</th>\n      <th>Recovered</th>\n      <th>Active</th>\n      <th>Date</th>\n    </tr>\n  </thead>\n  <tbody>\n    <tr>\n      <th>0</th>\n      <td>d385cae5-4fe8-4ce9-b89d-7f7b64d3c9b5</td>\n      <td>Kenya</td>\n      <td>KE</td>\n      <td></td>\n      <td></td>\n      <td></td>\n      <td>-0.02</td>\n      <td>37.91</td>\n      <td>1</td>\n      <td>0</td>\n      <td>0</td>\n      <td>1</td>\n      <td>2020-03-13T00:00:00Z</td>\n    </tr>\n    <tr>\n      <th>1</th>\n      <td>ad2ab2ed-3c87-4298-a79f-38026785c0ca</td>\n      <td>Kenya</td>\n      <td>KE</td>\n      <td></td>\n      <td></td>\n      <td></td>\n      <td>-0.02</td>\n      <td>37.91</td>\n      <td>1</td>\n      <td>0</td>\n      <td>0</td>\n      <td>1</td>\n      <td>2020-03-14T00:00:00Z</td>\n    </tr>\n    <tr>\n      <th>2</th>\n      <td>1c537e9f-58b9-4004-8f7c-2c14b97ec9cd</td>\n      <td>Kenya</td>\n      <td>KE</td>\n      <td></td>\n      <td></td>\n      <td></td>\n      <td>-0.02</td>\n      <td>37.91</td>\n      <td>3</td>\n      <td>0</td>\n      <td>0</td>\n      <td>3</td>\n      <td>2020-03-15T00:00:00Z</td>\n    </tr>\n    <tr>\n      <th>3</th>\n      <td>2acd8099-8186-43f9-867c-c6a4c04e08de</td>\n      <td>Kenya</td>\n      <td>KE</td>\n      <td></td>\n      <td></td>\n      <td></td>\n      <td>-0.02</td>\n      <td>37.91</td>\n      <td>3</td>\n      <td>0</td>\n      <td>0</td>\n      <td>3</td>\n      <td>2020-03-16T00:00:00Z</td>\n    </tr>\n    <tr>\n      <th>4</th>\n      <td>249f0e00-1518-4686-a597-47abd18fcb09</td>\n      <td>Kenya</td>\n      <td>KE</td>\n      <td></td>\n      <td></td>\n      <td></td>\n      <td>-0.02</td>\n      <td>37.91</td>\n      <td>3</td>\n      <td>0</td>\n      <td>0</td>\n      <td>3</td>\n      <td>2020-03-17T00:00:00Z</td>\n    </tr>\n    <tr>\n      <th>...</th>\n      <td>...</td>\n      <td>...</td>\n      <td>...</td>\n      <td>...</td>\n      <td>...</td>\n      <td>...</td>\n      <td>...</td>\n      <td>...</td>\n      <td>...</td>\n      <td>...</td>\n      <td>...</td>\n      <td>...</td>\n      <td>...</td>\n    </tr>\n    <tr>\n      <th>450</th>\n      <td>95a01aa0-1252-4522-af50-8ed59a5c0a8f</td>\n      <td>Kenya</td>\n      <td>KE</td>\n      <td></td>\n      <td></td>\n      <td></td>\n      <td>-0.02</td>\n      <td>37.91</td>\n      <td>172491</td>\n      <td>3287</td>\n      <td>117595</td>\n      <td>51609</td>\n      <td>2021-06-06T00:00:00Z</td>\n    </tr>\n    <tr>\n      <th>451</th>\n      <td>6e16e23e-1dc6-4e29-879f-579a5d122930</td>\n      <td>Kenya</td>\n      <td>KE</td>\n      <td></td>\n      <td></td>\n      <td></td>\n      <td>-0.02</td>\n      <td>37.91</td>\n      <td>172639</td>\n      <td>3308</td>\n      <td>118226</td>\n      <td>51105</td>\n      <td>2021-06-07T00:00:00Z</td>\n    </tr>\n    <tr>\n      <th>452</th>\n      <td>85a75094-d7ad-4155-9da8-f57458dcf7cb</td>\n      <td>Kenya</td>\n      <td>KE</td>\n      <td></td>\n      <td></td>\n      <td></td>\n      <td>-0.02</td>\n      <td>37.91</td>\n      <td>173072</td>\n      <td>3326</td>\n      <td>118621</td>\n      <td>51125</td>\n      <td>2021-06-08T00:00:00Z</td>\n    </tr>\n    <tr>\n      <th>453</th>\n      <td>31f4c29c-44d6-467d-8262-3d2ba942549b</td>\n      <td>Kenya</td>\n      <td>KE</td>\n      <td></td>\n      <td></td>\n      <td></td>\n      <td>-0.02</td>\n      <td>37.91</td>\n      <td>173661</td>\n      <td>3345</td>\n      <td>118933</td>\n      <td>51383</td>\n      <td>2021-06-09T00:00:00Z</td>\n    </tr>\n    <tr>\n      <th>454</th>\n      <td>76867039-03e1-4337-bb39-d5eba9d19036</td>\n      <td>Kenya</td>\n      <td>KE</td>\n      <td></td>\n      <td></td>\n      <td></td>\n      <td>-0.02</td>\n      <td>37.91</td>\n      <td>173661</td>\n      <td>3345</td>\n      <td>118933</td>\n      <td>51383</td>\n      <td>2021-06-10T00:00:00Z</td>\n    </tr>\n  </tbody>\n</table>\n<p>455 rows × 13 columns</p>\n</div>"
     },
     "metadata": {},
     "execution_count": 39
    }
   ],
   "source": [
    "kenya_url = 'https://api.covid19api.com/dayone/country/kenya'\n",
    "kenya_daily_cases = requests.get(kenya_url).json()\n",
    "\n",
    "kenya_daily_cases_df =pd.DataFrame(kenya_daily_cases)\n",
    "kenya_daily_cases_df"
   ]
  },
  {
   "cell_type": "code",
   "execution_count": null,
   "metadata": {},
   "outputs": [],
   "source": []
  },
  {
   "source": [
    "## References\n",
    "1. https://realpython.com/python-api/#learning-advanced-api-concepts"
   ],
   "cell_type": "markdown",
   "metadata": {}
  }
 ]
}