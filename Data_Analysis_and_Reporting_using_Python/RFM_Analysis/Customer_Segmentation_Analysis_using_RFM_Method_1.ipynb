{
 "metadata": {
  "language_info": {
   "codemirror_mode": {
    "name": "ipython",
    "version": 3
   },
   "file_extension": ".py",
   "mimetype": "text/x-python",
   "name": "python",
   "nbconvert_exporter": "python",
   "pygments_lexer": "ipython3",
   "version": "3.7.6-final"
  },
  "orig_nbformat": 2,
  "kernelspec": {
   "name": "python37464bitbaseconda08747ba86b4e47b190667d12a1bf6dd8",
   "display_name": "Python 3.7.4 64-bit ('base': conda)",
   "language": "python"
  }
 },
 "nbformat": 4,
 "nbformat_minor": 2,
 "cells": [
  {
   "source": [
    "# RFM Analysis\n",
    "### Method 1: using Python's groupby() function"
   ],
   "cell_type": "markdown",
   "metadata": {}
  },
  {
   "cell_type": "code",
   "execution_count": 1,
   "metadata": {},
   "outputs": [
    {
     "output_type": "display_data",
     "data": {
      "text/plain": "<Figure size 720x576 with 0 Axes>"
     },
     "metadata": {}
    }
   ],
   "source": [
    "# RFM Analysis\n",
    "## Import appropriate modules\n",
    "import pandas as pd \n",
    "import numpy as np \n",
    "import matplotlib.pyplot as plt\n",
    "plt.figure(figsize=(10, 8))\n",
    "plt.style.use('seaborn-white')\n",
    "import seaborn as sns \n",
    "import datetime as dt"
   ]
  },
  {
   "cell_type": "code",
   "execution_count": 2,
   "metadata": {},
   "outputs": [
    {
     "output_type": "stream",
     "name": "stdout",
     "text": [
      "                                     id       date   sales\n0  000173c5-978c-4b52-b7a4-5ebf974deb86 2020-08-13  1690.0\n1  000173c5-978c-4b52-b7a4-5ebf974deb86 2020-08-14  6145.0\n2  000173c5-978c-4b52-b7a4-5ebf974deb86 2020-08-15  4550.0\n3  000173c5-978c-4b52-b7a4-5ebf974deb86 2020-08-17  1270.0\n4  000173c5-978c-4b52-b7a4-5ebf974deb86 2020-08-20  3830.0\n"
     ]
    }
   ],
   "source": [
    "df = pd.read_excel('data_for_RFM_score_analysis.xlsx', parse_dates=['date'])\n",
    "print(df.head())"
   ]
  },
  {
   "cell_type": "code",
   "execution_count": 3,
   "metadata": {},
   "outputs": [
    {
     "output_type": "stream",
     "name": "stdout",
     "text": [
      "<class 'pandas.core.frame.DataFrame'>\nRangeIndex: 804659 entries, 0 to 804658\nData columns (total 3 columns):\n #   Column  Non-Null Count   Dtype         \n---  ------  --------------   -----         \n 0   id      804659 non-null  object        \n 1   date    804659 non-null  datetime64[ns]\n 2   sales   804659 non-null  float64       \ndtypes: datetime64[ns](1), float64(1), object(1)\nmemory usage: 18.4+ MB\n"
     ]
    }
   ],
   "source": [
    "df.info()"
   ]
  },
  {
   "source": [
    "### Generating Summary Statistics: \n",
    "### Method 1:"
   ],
   "cell_type": "markdown",
   "metadata": {}
  },
  {
   "cell_type": "code",
   "execution_count": 4,
   "metadata": {},
   "outputs": [
    {
     "output_type": "stream",
     "name": "stdout",
     "text": [
      "              sales\ncount  8.046590e+05\nmean   2.993685e+03\nstd    9.990926e+03\nmin    1.000000e+00\n25%    8.200000e+02\n50%    1.540000e+03\n75%    3.090000e+03\nmax    3.242380e+06\nmad    2.495390e+03\nskew   1.371458e+02\nkurt   3.461725e+04\n"
     ]
    }
   ],
   "source": [
    "def describe(df):\n",
    "    return pd.concat([df.describe().T,\n",
    "                      df.mad().rename('mad'),# mean absolute deviation\n",
    "                      df.skew().rename('skew'), # skewness\n",
    "                      df.kurt().rename('kurt'), # kurtosis\n",
    "                     ], axis=1).T\n",
    "RFM_Summary_Stats = describe(df)\n",
    "print(RFM_Summary_Stats)\n",
    "# RFM_Summary_Stats.to_excel('RFM_Summary_Statistics+Table.xlsx') # Save the Summary Stats to an excel table"
   ]
  },
  {
   "source": [
    "### Method 2"
   ],
   "cell_type": "markdown",
   "metadata": {}
  },
  {
   "cell_type": "code",
   "execution_count": 5,
   "metadata": {},
   "outputs": [
    {
     "output_type": "stream",
     "name": "stdout",
     "text": [
      "              sales\ncount  8.046590e+05\nmean   2.993685e+03\nstd    9.990926e+03\nmin    1.000000e+00\n25%    8.200000e+02\n50%    1.540000e+03\n75%    3.090000e+03\nmax    3.242380e+06\nIQR    2.270000e+03\nskew   1.371458e+02\nmad    2.495390e+03\nkurt   3.461725e+04\n"
     ]
    }
   ],
   "source": [
    "stats = df.describe()\n",
    "## appending interquartile range instead of recalculating it\n",
    "stats.loc['IQR'] = stats.loc['75%'] - stats.loc['25%'] \n",
    "stats = stats.append(df.reindex(stats.columns, axis=1).agg(['skew', 'mad', 'kurt']))\n",
    "print(stats)"
   ]
  },
  {
   "source": [
    "## Creating the RFM Table"
   ],
   "cell_type": "markdown",
   "metadata": {}
  },
  {
   "source": [
    "## Getting first and last order date\n",
    "print(\"Minimum Date: \", df['date'].min(), \"Maximum Date: \", df['date'].max()) # Min Date:  2020-04-01 00:00:00 Max Date:  2020-09-25 00:00:00\n",
    "'''\n",
    "In the dataset, the last delivery date is September 25, 2020, we have use this date plus 1 day as NOW date to calculate recency.\n",
    "'''\n",
    "NOW = df['date'].max() + dt.timedelta(days=1)\n",
    "print('Current Date: ', NOW)"
   ],
   "cell_type": "code",
   "metadata": {},
   "execution_count": 7,
   "outputs": [
    {
     "output_type": "stream",
     "name": "stdout",
     "text": [
      "Minimum Date:  2020-04-01 00:00:00 Maximum Date:  2020-09-25 00:00:00\nCurrent Date:  2020-09-26 00:00:00\n"
     ]
    }
   ]
  },
  {
   "cell_type": "code",
   "execution_count": 8,
   "metadata": {},
   "outputs": [
    {
     "output_type": "stream",
     "name": "stdout",
     "text": [
      "                                      recency  frequency  monetary_value\nid                                                                      \n000173c5-978c-4b52-b7a4-5ebf974deb86        1         54        149415.0\n0001b0ce-f323-49b5-b381-3348c7a001ab        1         54        266800.0\n00020337-5321-4d6e-83af-67905edd8006        8          4         13385.0\n00066d09-6e2e-4104-b03b-6927490e1972       16         84         75388.0\n00069d0b-c994-4555-a30e-0c0799d77fe1       10         48         75630.0\n"
     ]
    }
   ],
   "source": [
    "rfm_table = df.groupby('id').agg(\n",
    "                                    {'date': lambda x: (NOW - x.max()).days, # Recency\n",
    "                                     'id': lambda x: len(x), # Frequency\n",
    "                                     'sales': lambda x: x.sum() # Monetary\n",
    "                                     }\n",
    "                                    )\n",
    "rfm_table['date'] = rfm_table['date'].astype(int)\n",
    "rfm_table.rename(columns = {'date': 'recency',\n",
    "                            'id': 'frequency',\n",
    "                            'sales': 'monetary_value'}, inplace = True)\n",
    "                            \n",
    "# Now, we have RFM values with respect to each customer\n",
    "rfm_table.to_excel('Report_RFM_Table.xlsx')\n",
    "print(rfm_table.head())"
   ]
  },
  {
   "source": [
    "#### RFM Table Summary Statistics"
   ],
   "cell_type": "markdown",
   "metadata": {}
  },
  {
   "cell_type": "code",
   "execution_count": 10,
   "metadata": {},
   "outputs": [
    {
     "output_type": "stream",
     "name": "stdout",
     "text": [
      "            recency     frequency  monetary_value\ncount  34897.000000  34897.000000    3.489700e+04\nmean      31.231395     23.058114    6.902874e+04\nstd       41.530460     29.689213    2.673607e+05\nmin        1.000000      1.000000    3.000000e+01\n25%        2.000000      3.000000    3.740000e+03\n50%       10.000000     10.000000    1.888000e+04\n75%       49.000000     32.000000    6.940000e+04\nmax      178.000000    153.000000    4.098779e+07\nmad       32.495699     22.141035    7.829604e+04\nskew       1.600389      1.852403    1.041778e+02\nkurt       1.789147      3.114361    1.573369e+04\n"
     ]
    }
   ],
   "source": [
    "# Summary Statistics for our RFM Table\n",
    "def describe(rfm_table):\n",
    "    return pd.concat([rfm_table.describe().T,\n",
    "                      # mean absolute deviation\n",
    "                      rfm_table.mad().rename('mad'),\n",
    "                      rfm_table.skew().rename('skew'),\n",
    "                      rfm_table.kurt().rename('kurt'),\n",
    "                     ], axis=1).T\n",
    "print(describe(rfm_table))"
   ]
  },
  {
   "source": [
    "#### Defining Quantiles"
   ],
   "cell_type": "markdown",
   "metadata": {}
  },
  {
   "cell_type": "code",
   "execution_count": 11,
   "metadata": {},
   "outputs": [
    {
     "output_type": "stream",
     "name": "stdout",
     "text": [
      "{'recency': {0.25: 2.0, 0.5: 10.0, 0.75: 49.0}, 'frequency': {0.25: 3.0, 0.5: 10.0, 0.75: 32.0}, 'monetary_value': {0.25: 3740.0, 0.5: 18880.0, 0.75: 69400.0}}\n"
     ]
    }
   ],
   "source": [
    "quantiles = rfm_table.quantile(q = [0.25, 0.5, 0.75])\n",
    "# Converting quantiles to a dictionary, easier to use.\n",
    "quantiles = quantiles.to_dict()\n",
    "print(quantiles)"
   ]
  },
  {
   "source": [
    "#### RFM Segmentation"
   ],
   "cell_type": "markdown",
   "metadata": {}
  },
  {
   "cell_type": "code",
   "execution_count": 12,
   "metadata": {},
   "outputs": [
    {
     "output_type": "stream",
     "name": "stdout",
     "text": [
      "                                      recency  frequency  monetary_value  \\\nid                                                                         \n09551734-92d5-447f-9f82-8de56d42b151      119          2          3740.0   \n21475635-8057-4832-82e2-e54e0d0e470d      105          3          3740.0   \n6357c08a-5c62-4db0-83e6-7c717011d010       59          1          3740.0   \n76b50471-312c-4ca4-87aa-3718a6898992       74          2          3740.0   \nb92be6cc-f90b-4b9f-9dbb-05607de35be9       52          3          3730.0   \n\n                                      R_Quartile  F_Quartile  M_Quartile  \\\nid                                                                         \n09551734-92d5-447f-9f82-8de56d42b151           1           1           1   \n21475635-8057-4832-82e2-e54e0d0e470d           1           1           1   \n6357c08a-5c62-4db0-83e6-7c717011d010           1           1           1   \n76b50471-312c-4ca4-87aa-3718a6898992           1           1           1   \nb92be6cc-f90b-4b9f-9dbb-05607de35be9           1           1           1   \n\n                                     RFMClass  \nid                                             \n09551734-92d5-447f-9f82-8de56d42b151      111  \n21475635-8057-4832-82e2-e54e0d0e470d      111  \n6357c08a-5c62-4db0-83e6-7c717011d010      111  \n76b50471-312c-4ca4-87aa-3718a6898992      111  \nb92be6cc-f90b-4b9f-9dbb-05607de35be9      111  \n"
     ]
    }
   ],
   "source": [
    "## RFM Segmentation\n",
    "RFM_Segment = rfm_table.copy()\n",
    "# Arguments (x = value, p = recency, monetary_value, frequency, k = quartiles dict)\n",
    "def R_Class(x,p,d):\n",
    "    if x <= d[p][0.25]:\n",
    "        return 4\n",
    "    elif x <= d[p][0.50]:\n",
    "        return 3\n",
    "    elif x <= d[p][0.75]: \n",
    "        return 2\n",
    "    else:\n",
    "        return 1\n",
    "\n",
    "# Arguments (x = value, p = recency, monetary_value, frequency, k = quartiles dict)\n",
    "def FM_Class(x,p,d):\n",
    "    if x <= d[p][0.25]:\n",
    "        return 1\n",
    "    elif x <= d[p][0.50]:\n",
    "        return 2\n",
    "    elif x <= d[p][0.75]: \n",
    "        return 3\n",
    "    else:\n",
    "        return 4\n",
    "\n",
    "\n",
    "RFM_Segment['R_Quartile'] = RFM_Segment['recency'].apply(R_Class, args=('recency',quantiles,))\n",
    "RFM_Segment['F_Quartile'] = RFM_Segment['frequency'].apply(FM_Class, args=('frequency',quantiles,))\n",
    "RFM_Segment['M_Quartile'] = RFM_Segment['monetary_value'].apply(FM_Class, args=('monetary_value',quantiles,))\n",
    "\n",
    "RFM_Segment['RFMClass'] = RFM_Segment.R_Quartile.map(str)  + RFM_Segment.F_Quartile.map(str)  + RFM_Segment.M_Quartile.map(str)\n",
    "RFM_Segment = RFM_Segment.sort_values(by = ['RFMClass', 'monetary_value'], ascending = [True, False])\n",
    "\n",
    "# save Excel file\n",
    "RFM_Segment.to_excel('Report_RFM_Segments.xlsx')\n",
    "print(RFM_Segment.head())"
   ]
  },
  {
   "cell_type": "code",
   "execution_count": 13,
   "metadata": {},
   "outputs": [
    {
     "output_type": "stream",
     "name": "stdout",
     "text": [
      "                                      recency  frequency  monetary_value  \\\nid                                                                         \n09551734-92d5-447f-9f82-8de56d42b151      119          2          3740.0   \n21475635-8057-4832-82e2-e54e0d0e470d      105          3          3740.0   \n6357c08a-5c62-4db0-83e6-7c717011d010       59          1          3740.0   \n76b50471-312c-4ca4-87aa-3718a6898992       74          2          3740.0   \nb92be6cc-f90b-4b9f-9dbb-05607de35be9       52          3          3730.0   \n\n                                      R_Quartile  F_Quartile  M_Quartile  \\\nid                                                                         \n09551734-92d5-447f-9f82-8de56d42b151           1           1           1   \n21475635-8057-4832-82e2-e54e0d0e470d           1           1           1   \n6357c08a-5c62-4db0-83e6-7c717011d010           1           1           1   \n76b50471-312c-4ca4-87aa-3718a6898992           1           1           1   \nb92be6cc-f90b-4b9f-9dbb-05607de35be9           1           1           1   \n\n                                     RFMClass  TotalScore  \nid                                                         \n09551734-92d5-447f-9f82-8de56d42b151      111           3  \n21475635-8057-4832-82e2-e54e0d0e470d      111           3  \n6357c08a-5c62-4db0-83e6-7c717011d010      111           3  \n76b50471-312c-4ca4-87aa-3718a6898992      111           3  \nb92be6cc-f90b-4b9f-9dbb-05607de35be9      111           3  \nTotalScore\n3       1344.344925\n4       3260.548397\n5       7494.581586\n6      13374.571196\n7      22780.175062\n8      33558.848003\n9      53549.370749\n10     85863.366138\n11    155249.335162\n12    264223.131380\nName: monetary_value, dtype: float64\n"
     ]
    }
   ],
   "source": [
    "'''\n",
    "Another possibility is to combine the scores to create one score (eg. 4+1+1). \n",
    "This will create a score between 3 and 12. Here the advantage is that each of the scores got same importance. \n",
    "However some scores will have many segements as constituents (eg - 413 ad 431)\n",
    "'''\n",
    "RFM_Segment['TotalScore'] = RFM_Segment['R_Quartile'] + RFM_Segment['F_Quartile'] + RFM_Segment['M_Quartile']\n",
    "# save to excel\n",
    "RFM_Segment.to_excel('Report_RFM_Segments.xlsx')\n",
    "print(RFM_Segment.head())\n",
    "\n",
    "## Example\n",
    "print(RFM_Segment.groupby('TotalScore').agg('monetary_value').mean())"
   ]
  },
  {
   "source": [
    "# Questions 7 Answers of Interests\n",
    "RFM segmentation readily answers these questions for your business…:\n",
    "\n",
    "* Who are my best customers?\n",
    "* Which customers are at the verge of churning?\n",
    "* Who are lost customers that you don’t need to pay much attention to?\n",
    "* Who are your loyal customers?\n",
    "* Which customers you must retain?\n",
    "* Who has the potential to be converted into more profitable customers?\n",
    "* Which group of customers is most likely to respond to your current campaign?"
   ],
   "cell_type": "markdown",
   "metadata": {}
  },
  {
   "cell_type": "code",
   "execution_count": 14,
   "metadata": {},
   "outputs": [
    {
     "output_type": "stream",
     "name": "stdout",
     "text": [
      "                                      recency  frequency  monetary_value  \\\nid                                                                         \nbf5fba85-3dde-487d-939c-bac7e11edc23        2         49      40987790.0   \n64a4b216-ea96-4a4f-afd8-7f9f0713e2f4        1        153       2950117.0   \na84eeedd-17cc-4d15-be14-64e7d836719f        1        106       2727720.0   \nbb39b7fa-6ef1-414c-902d-b22a96524cd2        1        112       2702289.0   \nf517b839-4da2-4a38-80cb-33f67340c65b        1        118       2590070.0   \n\n                                      R_Quartile  F_Quartile  M_Quartile  \\\nid                                                                         \nbf5fba85-3dde-487d-939c-bac7e11edc23           4           4           4   \n64a4b216-ea96-4a4f-afd8-7f9f0713e2f4           4           4           4   \na84eeedd-17cc-4d15-be14-64e7d836719f           4           4           4   \nbb39b7fa-6ef1-414c-902d-b22a96524cd2           4           4           4   \nf517b839-4da2-4a38-80cb-33f67340c65b           4           4           4   \n\n                                     RFMClass  TotalScore  \nid                                                         \nbf5fba85-3dde-487d-939c-bac7e11edc23      444          12  \n64a4b216-ea96-4a4f-afd8-7f9f0713e2f4      444          12  \na84eeedd-17cc-4d15-be14-64e7d836719f      444          12  \nbb39b7fa-6ef1-414c-902d-b22a96524cd2      444          12  \nf517b839-4da2-4a38-80cb-33f67340c65b      444          12  \n"
     ]
    }
   ],
   "source": [
    "## 1. Q. Who are my best customers?\n",
    "print(RFM_Segment[RFM_Segment['RFMClass']=='444'].sort_values('monetary_value',  ascending=False).head())"
   ]
  },
  {
   "cell_type": "code",
   "execution_count": 15,
   "metadata": {},
   "outputs": [
    {
     "output_type": "stream",
     "name": "stdout",
     "text": [
      "                                      recency  frequency  monetary_value  \\\nid                                                                         \nc002476e-6053-44d5-a6db-941f4fee89f4       11         10       3323104.0   \nf2ce1018-a1e2-4481-98d2-fa67113e3845       23         50       2032185.0   \nd04688c9-aa84-4990-b461-113382c77e02       61         43       1248965.0   \nfd447d40-1bc2-4d80-9740-6149719c3f89       14         66       1169880.0   \n1a79bb4c-345a-4b5a-b738-57aa04470daf       23         89       1011185.0   \n\n                                      R_Quartile  F_Quartile  M_Quartile  \\\nid                                                                         \nc002476e-6053-44d5-a6db-941f4fee89f4           2           2           4   \nf2ce1018-a1e2-4481-98d2-fa67113e3845           2           4           4   \nd04688c9-aa84-4990-b461-113382c77e02           1           4           4   \nfd447d40-1bc2-4d80-9740-6149719c3f89           2           4           4   \n1a79bb4c-345a-4b5a-b738-57aa04470daf           2           4           4   \n\n                                     RFMClass  TotalScore  \nid                                                         \nc002476e-6053-44d5-a6db-941f4fee89f4      224           8  \nf2ce1018-a1e2-4481-98d2-fa67113e3845      244          10  \nd04688c9-aa84-4990-b461-113382c77e02      144           9  \nfd447d40-1bc2-4d80-9740-6149719c3f89      244          10  \n1a79bb4c-345a-4b5a-b738-57aa04470daf      244          10  \n"
     ]
    }
   ],
   "source": [
    "## 2. Q. Which customers are at the verge of churning? i.e., Customers whose recency are low:\n",
    "print(RFM_Segment[RFM_Segment['R_Quartile'] <= 2 ].sort_values('monetary_value', ascending=False).head(5))"
   ]
  },
  {
   "cell_type": "code",
   "execution_count": 16,
   "metadata": {},
   "outputs": [
    {
     "output_type": "stream",
     "name": "stdout",
     "text": [
      "                                      recency  frequency  monetary_value  \\\nid                                                                         \nabab8508-0a9d-4e17-b566-e5fc4f99fcef      178          1           400.0   \n43f473a3-1382-4cba-a699-b199951a7a49      178          1           680.0   \n76f58784-74bf-46d3-9fa4-a2996477cc20      178          1          1370.0   \nfd863f6e-a505-4126-87c6-fd4156e2dddb      178          1          2600.0   \ne21e9d11-3473-43c5-ae25-08011b4afc27      178          1           490.0   \n\n                                      R_Quartile  F_Quartile  M_Quartile  \\\nid                                                                         \nabab8508-0a9d-4e17-b566-e5fc4f99fcef           1           1           1   \n43f473a3-1382-4cba-a699-b199951a7a49           1           1           1   \n76f58784-74bf-46d3-9fa4-a2996477cc20           1           1           1   \nfd863f6e-a505-4126-87c6-fd4156e2dddb           1           1           1   \ne21e9d11-3473-43c5-ae25-08011b4afc27           1           1           1   \n\n                                     RFMClass  TotalScore  \nid                                                         \nabab8508-0a9d-4e17-b566-e5fc4f99fcef      111           3  \n43f473a3-1382-4cba-a699-b199951a7a49      111           3  \n76f58784-74bf-46d3-9fa4-a2996477cc20      111           3  \nfd863f6e-a505-4126-87c6-fd4156e2dddb      111           3  \ne21e9d11-3473-43c5-ae25-08011b4afc27      111           3  \n"
     ]
    }
   ],
   "source": [
    "## 3. Q. Who are the lost customers? ie.., Customers whose recency, frequency, as well as monetary values are low.\n",
    "print(RFM_Segment[RFM_Segment['RFMClass']=='111'].sort_values('recency', ascending=False).head(5))"
   ]
  },
  {
   "cell_type": "code",
   "execution_count": 17,
   "metadata": {},
   "outputs": [
    {
     "output_type": "stream",
     "name": "stdout",
     "text": [
      "                                      recency  frequency  monetary_value  \\\nid                                                                         \nbf5fba85-3dde-487d-939c-bac7e11edc23        2         49      40987790.0   \n382720c0-0549-457a-a8ce-81270e1b0410        3         98       4439875.0   \n5534fa9b-6803-4d1b-a504-952a85f49f18        3        121       4119156.0   \n9c49c1aa-38f6-41f4-b853-af33b4f3a1b9        5         56       3216465.0   \n64a4b216-ea96-4a4f-afd8-7f9f0713e2f4        1        153       2950117.0   \n\n                                      R_Quartile  F_Quartile  M_Quartile  \\\nid                                                                         \nbf5fba85-3dde-487d-939c-bac7e11edc23           4           4           4   \n382720c0-0549-457a-a8ce-81270e1b0410           3           4           4   \n5534fa9b-6803-4d1b-a504-952a85f49f18           3           4           4   \n9c49c1aa-38f6-41f4-b853-af33b4f3a1b9           3           4           4   \n64a4b216-ea96-4a4f-afd8-7f9f0713e2f4           4           4           4   \n\n                                     RFMClass  TotalScore  \nid                                                         \nbf5fba85-3dde-487d-939c-bac7e11edc23      444          12  \n382720c0-0549-457a-a8ce-81270e1b0410      344          11  \n5534fa9b-6803-4d1b-a504-952a85f49f18      344          11  \n9c49c1aa-38f6-41f4-b853-af33b4f3a1b9      344          11  \n64a4b216-ea96-4a4f-afd8-7f9f0713e2f4      444          12  \n"
     ]
    }
   ],
   "source": [
    "## 4. Q. Who are loyal customers? ie., Customers with _high frequency_ value\n",
    "print(RFM_Segment[RFM_Segment['F_Quartile'] >= 3 ].sort_values('monetary_value', ascending=False).head(5))"
   ]
  },
  {
   "source": [
    "### Visualizations"
   ],
   "cell_type": "markdown",
   "metadata": {}
  },
  {
   "cell_type": "code",
   "execution_count": 18,
   "metadata": {},
   "outputs": [
    {
     "output_type": "execute_result",
     "data": {
      "text/plain": [
       "Text(0.5, 0, 'Total Score')"
      ]
     },
     "metadata": {},
     "execution_count": 18
    },
    {
     "output_type": "display_data",
     "data": {
      "text/plain": "<Figure size 432x288 with 3 Axes>",
      "image/svg+xml": "<?xml version=\"1.0\" encoding=\"utf-8\" standalone=\"no\"?>\r\n<!DOCTYPE svg PUBLIC \"-//W3C//DTD SVG 1.1//EN\"\r\n  \"http://www.w3.org/Graphics/SVG/1.1/DTD/svg11.dtd\">\r\n<!-- Created with matplotlib (https://matplotlib.org/) -->\r\n<svg height=\"142.962943pt\" version=\"1.1\" viewBox=\"0 0 399.328125 142.962943\" width=\"399.328125pt\" xmlns=\"http://www.w3.org/2000/svg\" xmlns:xlink=\"http://www.w3.org/1999/xlink\">\r\n <defs>\r\n  <style type=\"text/css\">\r\n*{stroke-linecap:butt;stroke-linejoin:round;}\r\n  </style>\r\n </defs>\r\n <g id=\"figure_1\">\r\n  <g id=\"patch_1\">\r\n   <path d=\"M 0 142.962943 \r\nL 399.328125 142.962943 \r\nL 399.328125 0 \r\nL 0 0 \r\nz\r\n\" style=\"fill:#ffffff;\"/>\r\n  </g>\r\n  <g id=\"axes_1\">\r\n   <g id=\"patch_2\">\r\n    <path d=\"M 57.328125 107.995756 \r\nL 155.798713 107.995756 \r\nL 155.798713 9.159392 \r\nL 57.328125 9.159392 \r\nz\r\n\" style=\"fill:#ffffff;\"/>\r\n   </g>\r\n   <g id=\"matplotlib.axis_1\">\r\n    <g id=\"xtick_1\">\r\n     <g id=\"line2d_1\"/>\r\n     <g id=\"text_1\">\r\n      <!-- 3 -->\r\n      <defs>\r\n       <path d=\"M 4.203125 18.890625 \r\nL 12.984375 20.0625 \r\nQ 14.5 12.59375 18.140625 9.296875 \r\nQ 21.78125 6 27 6 \r\nQ 33.203125 6 37.46875 10.296875 \r\nQ 41.75 14.59375 41.75 20.953125 \r\nQ 41.75 27 37.796875 30.921875 \r\nQ 33.84375 34.859375 27.734375 34.859375 \r\nQ 25.25 34.859375 21.53125 33.890625 \r\nL 22.515625 41.609375 \r\nQ 23.390625 41.5 23.921875 41.5 \r\nQ 29.546875 41.5 34.03125 44.421875 \r\nQ 38.53125 47.359375 38.53125 53.46875 \r\nQ 38.53125 58.296875 35.25 61.46875 \r\nQ 31.984375 64.65625 26.8125 64.65625 \r\nQ 21.6875 64.65625 18.265625 61.421875 \r\nQ 14.84375 58.203125 13.875 51.765625 \r\nL 5.078125 53.328125 \r\nQ 6.6875 62.15625 12.390625 67.015625 \r\nQ 18.109375 71.875 26.609375 71.875 \r\nQ 32.46875 71.875 37.390625 69.359375 \r\nQ 42.328125 66.84375 44.9375 62.5 \r\nQ 47.5625 58.15625 47.5625 53.265625 \r\nQ 47.5625 48.640625 45.0625 44.828125 \r\nQ 42.578125 41.015625 37.703125 38.765625 \r\nQ 44.046875 37.3125 47.5625 32.6875 \r\nQ 51.078125 28.078125 51.078125 21.140625 \r\nQ 51.078125 11.765625 44.234375 5.25 \r\nQ 37.40625 -1.265625 26.953125 -1.265625 \r\nQ 17.53125 -1.265625 11.296875 4.34375 \r\nQ 5.078125 9.96875 4.203125 18.890625 \r\nz\r\n\" id=\"ArialMT-51\"/>\r\n      </defs>\r\n      <g style=\"fill:#262626;\" transform=\"translate(64.836811 117.056693)rotate(-90)scale(0.1 -0.1)\">\r\n       <use xlink:href=\"#ArialMT-51\"/>\r\n      </g>\r\n     </g>\r\n    </g>\r\n    <g id=\"xtick_2\">\r\n     <g id=\"line2d_2\"/>\r\n     <g id=\"text_2\">\r\n      <!-- 4 -->\r\n      <defs>\r\n       <path d=\"M 32.328125 0 \r\nL 32.328125 17.140625 \r\nL 1.265625 17.140625 \r\nL 1.265625 25.203125 \r\nL 33.9375 71.578125 \r\nL 41.109375 71.578125 \r\nL 41.109375 25.203125 \r\nL 50.78125 25.203125 \r\nL 50.78125 17.140625 \r\nL 41.109375 17.140625 \r\nL 41.109375 0 \r\nz\r\nM 32.328125 25.203125 \r\nL 32.328125 57.46875 \r\nL 9.90625 25.203125 \r\nz\r\n\" id=\"ArialMT-52\"/>\r\n      </defs>\r\n      <g style=\"fill:#262626;\" transform=\"translate(74.683869 117.056693)rotate(-90)scale(0.1 -0.1)\">\r\n       <use xlink:href=\"#ArialMT-52\"/>\r\n      </g>\r\n     </g>\r\n    </g>\r\n    <g id=\"xtick_3\">\r\n     <g id=\"line2d_3\"/>\r\n     <g id=\"text_3\">\r\n      <!-- 5 -->\r\n      <defs>\r\n       <path d=\"M 4.15625 18.75 \r\nL 13.375 19.53125 \r\nQ 14.40625 12.796875 18.140625 9.390625 \r\nQ 21.875 6 27.15625 6 \r\nQ 33.5 6 37.890625 10.78125 \r\nQ 42.28125 15.578125 42.28125 23.484375 \r\nQ 42.28125 31 38.0625 35.34375 \r\nQ 33.84375 39.703125 27 39.703125 \r\nQ 22.75 39.703125 19.328125 37.765625 \r\nQ 15.921875 35.84375 13.96875 32.765625 \r\nL 5.71875 33.84375 \r\nL 12.640625 70.609375 \r\nL 48.25 70.609375 \r\nL 48.25 62.203125 \r\nL 19.671875 62.203125 \r\nL 15.828125 42.96875 \r\nQ 22.265625 47.46875 29.34375 47.46875 \r\nQ 38.71875 47.46875 45.15625 40.96875 \r\nQ 51.609375 34.46875 51.609375 24.265625 \r\nQ 51.609375 14.546875 45.953125 7.46875 \r\nQ 39.0625 -1.21875 27.15625 -1.21875 \r\nQ 17.390625 -1.21875 11.203125 4.25 \r\nQ 5.03125 9.71875 4.15625 18.75 \r\nz\r\n\" id=\"ArialMT-53\"/>\r\n      </defs>\r\n      <g style=\"fill:#262626;\" transform=\"translate(84.530928 117.056693)rotate(-90)scale(0.1 -0.1)\">\r\n       <use xlink:href=\"#ArialMT-53\"/>\r\n      </g>\r\n     </g>\r\n    </g>\r\n    <g id=\"xtick_4\">\r\n     <g id=\"line2d_4\"/>\r\n     <g id=\"text_4\">\r\n      <!-- 6 -->\r\n      <defs>\r\n       <path d=\"M 49.75 54.046875 \r\nL 41.015625 53.375 \r\nQ 39.84375 58.546875 37.703125 60.890625 \r\nQ 34.125 64.65625 28.90625 64.65625 \r\nQ 24.703125 64.65625 21.53125 62.3125 \r\nQ 17.390625 59.28125 14.984375 53.46875 \r\nQ 12.59375 47.65625 12.5 36.921875 \r\nQ 15.671875 41.75 20.265625 44.09375 \r\nQ 24.859375 46.4375 29.890625 46.4375 \r\nQ 38.671875 46.4375 44.84375 39.96875 \r\nQ 51.03125 33.5 51.03125 23.25 \r\nQ 51.03125 16.5 48.125 10.71875 \r\nQ 45.21875 4.9375 40.140625 1.859375 \r\nQ 35.0625 -1.21875 28.609375 -1.21875 \r\nQ 17.625 -1.21875 10.6875 6.859375 \r\nQ 3.765625 14.9375 3.765625 33.5 \r\nQ 3.765625 54.25 11.421875 63.671875 \r\nQ 18.109375 71.875 29.4375 71.875 \r\nQ 37.890625 71.875 43.28125 67.140625 \r\nQ 48.6875 62.40625 49.75 54.046875 \r\nz\r\nM 13.875 23.1875 \r\nQ 13.875 18.65625 15.796875 14.5 \r\nQ 17.71875 10.359375 21.1875 8.171875 \r\nQ 24.65625 6 28.46875 6 \r\nQ 34.03125 6 38.03125 10.484375 \r\nQ 42.046875 14.984375 42.046875 22.703125 \r\nQ 42.046875 30.125 38.078125 34.390625 \r\nQ 34.125 38.671875 28.125 38.671875 \r\nQ 22.171875 38.671875 18.015625 34.390625 \r\nQ 13.875 30.125 13.875 23.1875 \r\nz\r\n\" id=\"ArialMT-54\"/>\r\n      </defs>\r\n      <g style=\"fill:#262626;\" transform=\"translate(94.377987 117.056693)rotate(-90)scale(0.1 -0.1)\">\r\n       <use xlink:href=\"#ArialMT-54\"/>\r\n      </g>\r\n     </g>\r\n    </g>\r\n    <g id=\"xtick_5\">\r\n     <g id=\"line2d_5\"/>\r\n     <g id=\"text_5\">\r\n      <!-- 7 -->\r\n      <defs>\r\n       <path d=\"M 4.734375 62.203125 \r\nL 4.734375 70.65625 \r\nL 51.078125 70.65625 \r\nL 51.078125 63.8125 \r\nQ 44.234375 56.546875 37.515625 44.484375 \r\nQ 30.8125 32.421875 27.15625 19.671875 \r\nQ 24.515625 10.6875 23.78125 0 \r\nL 14.75 0 \r\nQ 14.890625 8.453125 18.0625 20.40625 \r\nQ 21.234375 32.375 27.171875 43.484375 \r\nQ 33.109375 54.59375 39.796875 62.203125 \r\nz\r\n\" id=\"ArialMT-55\"/>\r\n      </defs>\r\n      <g style=\"fill:#262626;\" transform=\"translate(104.225046 117.056693)rotate(-90)scale(0.1 -0.1)\">\r\n       <use xlink:href=\"#ArialMT-55\"/>\r\n      </g>\r\n     </g>\r\n    </g>\r\n    <g id=\"xtick_6\">\r\n     <g id=\"line2d_6\"/>\r\n     <g id=\"text_6\">\r\n      <!-- 8 -->\r\n      <defs>\r\n       <path d=\"M 17.671875 38.8125 \r\nQ 12.203125 40.828125 9.5625 44.53125 \r\nQ 6.9375 48.25 6.9375 53.421875 \r\nQ 6.9375 61.234375 12.546875 66.546875 \r\nQ 18.171875 71.875 27.484375 71.875 \r\nQ 36.859375 71.875 42.578125 66.421875 \r\nQ 48.296875 60.984375 48.296875 53.171875 \r\nQ 48.296875 48.1875 45.671875 44.5 \r\nQ 43.0625 40.828125 37.75 38.8125 \r\nQ 44.34375 36.671875 47.78125 31.875 \r\nQ 51.21875 27.09375 51.21875 20.453125 \r\nQ 51.21875 11.28125 44.71875 5.03125 \r\nQ 38.234375 -1.21875 27.640625 -1.21875 \r\nQ 17.046875 -1.21875 10.546875 5.046875 \r\nQ 4.046875 11.328125 4.046875 20.703125 \r\nQ 4.046875 27.6875 7.59375 32.390625 \r\nQ 11.140625 37.109375 17.671875 38.8125 \r\nz\r\nM 15.921875 53.71875 \r\nQ 15.921875 48.640625 19.1875 45.40625 \r\nQ 22.46875 42.1875 27.6875 42.1875 \r\nQ 32.765625 42.1875 36.015625 45.375 \r\nQ 39.265625 48.578125 39.265625 53.21875 \r\nQ 39.265625 58.0625 35.90625 61.359375 \r\nQ 32.5625 64.65625 27.59375 64.65625 \r\nQ 22.5625 64.65625 19.234375 61.421875 \r\nQ 15.921875 58.203125 15.921875 53.71875 \r\nz\r\nM 13.09375 20.65625 \r\nQ 13.09375 16.890625 14.875 13.375 \r\nQ 16.65625 9.859375 20.171875 7.921875 \r\nQ 23.6875 6 27.734375 6 \r\nQ 34.03125 6 38.125 10.046875 \r\nQ 42.234375 14.109375 42.234375 20.359375 \r\nQ 42.234375 26.703125 38.015625 30.859375 \r\nQ 33.796875 35.015625 27.4375 35.015625 \r\nQ 21.234375 35.015625 17.15625 30.90625 \r\nQ 13.09375 26.8125 13.09375 20.65625 \r\nz\r\n\" id=\"ArialMT-56\"/>\r\n      </defs>\r\n      <g style=\"fill:#262626;\" transform=\"translate(114.072105 117.056693)rotate(-90)scale(0.1 -0.1)\">\r\n       <use xlink:href=\"#ArialMT-56\"/>\r\n      </g>\r\n     </g>\r\n    </g>\r\n    <g id=\"xtick_7\">\r\n     <g id=\"line2d_7\"/>\r\n     <g id=\"text_7\">\r\n      <!-- 9 -->\r\n      <defs>\r\n       <path d=\"M 5.46875 16.546875 \r\nL 13.921875 17.328125 \r\nQ 14.984375 11.375 18.015625 8.6875 \r\nQ 21.046875 6 25.78125 6 \r\nQ 29.828125 6 32.875 7.859375 \r\nQ 35.9375 9.71875 37.890625 12.8125 \r\nQ 39.84375 15.921875 41.15625 21.1875 \r\nQ 42.484375 26.46875 42.484375 31.9375 \r\nQ 42.484375 32.515625 42.4375 33.6875 \r\nQ 39.796875 29.5 35.234375 26.875 \r\nQ 30.671875 24.265625 25.34375 24.265625 \r\nQ 16.453125 24.265625 10.296875 30.703125 \r\nQ 4.15625 37.15625 4.15625 47.703125 \r\nQ 4.15625 58.59375 10.578125 65.234375 \r\nQ 17 71.875 26.65625 71.875 \r\nQ 33.640625 71.875 39.421875 68.109375 \r\nQ 45.21875 64.359375 48.21875 57.390625 \r\nQ 51.21875 50.4375 51.21875 37.25 \r\nQ 51.21875 23.53125 48.234375 15.40625 \r\nQ 45.265625 7.28125 39.375 3.03125 \r\nQ 33.5 -1.21875 25.59375 -1.21875 \r\nQ 17.1875 -1.21875 11.859375 3.4375 \r\nQ 6.546875 8.109375 5.46875 16.546875 \r\nz\r\nM 41.453125 48.140625 \r\nQ 41.453125 55.71875 37.421875 60.15625 \r\nQ 33.40625 64.59375 27.734375 64.59375 \r\nQ 21.875 64.59375 17.53125 59.8125 \r\nQ 13.1875 55.03125 13.1875 47.40625 \r\nQ 13.1875 40.578125 17.3125 36.296875 \r\nQ 21.4375 32.03125 27.484375 32.03125 \r\nQ 33.59375 32.03125 37.515625 36.296875 \r\nQ 41.453125 40.578125 41.453125 48.140625 \r\nz\r\n\" id=\"ArialMT-57\"/>\r\n      </defs>\r\n      <g style=\"fill:#262626;\" transform=\"translate(123.919164 117.056693)rotate(-90)scale(0.1 -0.1)\">\r\n       <use xlink:href=\"#ArialMT-57\"/>\r\n      </g>\r\n     </g>\r\n    </g>\r\n    <g id=\"xtick_8\">\r\n     <g id=\"line2d_8\"/>\r\n     <g id=\"text_8\">\r\n      <!-- 10 -->\r\n      <defs>\r\n       <path d=\"M 37.25 0 \r\nL 28.46875 0 \r\nL 28.46875 56 \r\nQ 25.296875 52.984375 20.140625 49.953125 \r\nQ 14.984375 46.921875 10.890625 45.40625 \r\nL 10.890625 53.90625 \r\nQ 18.265625 57.375 23.78125 62.296875 \r\nQ 29.296875 67.234375 31.59375 71.875 \r\nL 37.25 71.875 \r\nz\r\n\" id=\"ArialMT-49\"/>\r\n       <path d=\"M 4.15625 35.296875 \r\nQ 4.15625 48 6.765625 55.734375 \r\nQ 9.375 63.484375 14.515625 67.671875 \r\nQ 19.671875 71.875 27.484375 71.875 \r\nQ 33.25 71.875 37.59375 69.546875 \r\nQ 41.9375 67.234375 44.765625 62.859375 \r\nQ 47.609375 58.5 49.21875 52.21875 \r\nQ 50.828125 45.953125 50.828125 35.296875 \r\nQ 50.828125 22.703125 48.234375 14.96875 \r\nQ 45.65625 7.234375 40.5 3 \r\nQ 35.359375 -1.21875 27.484375 -1.21875 \r\nQ 17.140625 -1.21875 11.234375 6.203125 \r\nQ 4.15625 15.140625 4.15625 35.296875 \r\nz\r\nM 13.1875 35.296875 \r\nQ 13.1875 17.671875 17.3125 11.828125 \r\nQ 21.4375 6 27.484375 6 \r\nQ 33.546875 6 37.671875 11.859375 \r\nQ 41.796875 17.71875 41.796875 35.296875 \r\nQ 41.796875 52.984375 37.671875 58.78125 \r\nQ 33.546875 64.59375 27.390625 64.59375 \r\nQ 21.34375 64.59375 17.71875 59.46875 \r\nQ 13.1875 52.9375 13.1875 35.296875 \r\nz\r\n\" id=\"ArialMT-48\"/>\r\n      </defs>\r\n      <g style=\"fill:#262626;\" transform=\"translate(133.766222 122.617631)rotate(-90)scale(0.1 -0.1)\">\r\n       <use xlink:href=\"#ArialMT-49\"/>\r\n       <use x=\"55.615234\" xlink:href=\"#ArialMT-48\"/>\r\n      </g>\r\n     </g>\r\n    </g>\r\n    <g id=\"xtick_9\">\r\n     <g id=\"line2d_9\"/>\r\n     <g id=\"text_9\">\r\n      <!-- 11 -->\r\n      <g style=\"fill:#262626;\" transform=\"translate(143.613281 122.606693)rotate(-90)scale(0.1 -0.1)\">\r\n       <use xlink:href=\"#ArialMT-49\"/>\r\n       <use x=\"55.505859\" xlink:href=\"#ArialMT-49\"/>\r\n      </g>\r\n     </g>\r\n    </g>\r\n    <g id=\"xtick_10\">\r\n     <g id=\"line2d_10\"/>\r\n     <g id=\"text_10\">\r\n      <!-- 12 -->\r\n      <defs>\r\n       <path d=\"M 50.34375 8.453125 \r\nL 50.34375 0 \r\nL 3.03125 0 \r\nQ 2.9375 3.171875 4.046875 6.109375 \r\nQ 5.859375 10.9375 9.828125 15.625 \r\nQ 13.8125 20.3125 21.34375 26.46875 \r\nQ 33.015625 36.03125 37.109375 41.625 \r\nQ 41.21875 47.21875 41.21875 52.203125 \r\nQ 41.21875 57.421875 37.46875 61 \r\nQ 33.734375 64.59375 27.734375 64.59375 \r\nQ 21.390625 64.59375 17.578125 60.78125 \r\nQ 13.765625 56.984375 13.71875 50.25 \r\nL 4.6875 51.171875 \r\nQ 5.609375 61.28125 11.65625 66.578125 \r\nQ 17.71875 71.875 27.9375 71.875 \r\nQ 38.234375 71.875 44.234375 66.15625 \r\nQ 50.25 60.453125 50.25 52 \r\nQ 50.25 47.703125 48.484375 43.546875 \r\nQ 46.734375 39.40625 42.65625 34.8125 \r\nQ 38.578125 30.21875 29.109375 22.21875 \r\nQ 21.1875 15.578125 18.9375 13.203125 \r\nQ 16.703125 10.84375 15.234375 8.453125 \r\nz\r\n\" id=\"ArialMT-50\"/>\r\n      </defs>\r\n      <g style=\"fill:#262626;\" transform=\"translate(153.46034 122.617631)rotate(-90)scale(0.1 -0.1)\">\r\n       <use xlink:href=\"#ArialMT-49\"/>\r\n       <use x=\"55.615234\" xlink:href=\"#ArialMT-50\"/>\r\n      </g>\r\n     </g>\r\n    </g>\r\n    <g id=\"text_11\">\r\n     <!-- Total Score -->\r\n     <defs>\r\n      <path d=\"M 25.921875 0 \r\nL 25.921875 63.140625 \r\nL 2.34375 63.140625 \r\nL 2.34375 71.578125 \r\nL 59.078125 71.578125 \r\nL 59.078125 63.140625 \r\nL 35.40625 63.140625 \r\nL 35.40625 0 \r\nz\r\n\" id=\"ArialMT-84\"/>\r\n      <path d=\"M 3.328125 25.921875 \r\nQ 3.328125 40.328125 11.328125 47.265625 \r\nQ 18.015625 53.03125 27.640625 53.03125 \r\nQ 38.328125 53.03125 45.109375 46.015625 \r\nQ 51.90625 39.015625 51.90625 26.65625 \r\nQ 51.90625 16.65625 48.90625 10.90625 \r\nQ 45.90625 5.171875 40.15625 2 \r\nQ 34.421875 -1.171875 27.640625 -1.171875 \r\nQ 16.75 -1.171875 10.03125 5.8125 \r\nQ 3.328125 12.796875 3.328125 25.921875 \r\nz\r\nM 12.359375 25.921875 \r\nQ 12.359375 15.96875 16.703125 11.015625 \r\nQ 21.046875 6.0625 27.640625 6.0625 \r\nQ 34.1875 6.0625 38.53125 11.03125 \r\nQ 42.875 16.015625 42.875 26.21875 \r\nQ 42.875 35.84375 38.5 40.796875 \r\nQ 34.125 45.75 27.640625 45.75 \r\nQ 21.046875 45.75 16.703125 40.8125 \r\nQ 12.359375 35.890625 12.359375 25.921875 \r\nz\r\n\" id=\"ArialMT-111\"/>\r\n      <path d=\"M 25.78125 7.859375 \r\nL 27.046875 0.09375 \r\nQ 23.34375 -0.6875 20.40625 -0.6875 \r\nQ 15.625 -0.6875 12.984375 0.828125 \r\nQ 10.359375 2.34375 9.28125 4.8125 \r\nQ 8.203125 7.28125 8.203125 15.1875 \r\nL 8.203125 45.015625 \r\nL 1.765625 45.015625 \r\nL 1.765625 51.859375 \r\nL 8.203125 51.859375 \r\nL 8.203125 64.703125 \r\nL 16.9375 69.96875 \r\nL 16.9375 51.859375 \r\nL 25.78125 51.859375 \r\nL 25.78125 45.015625 \r\nL 16.9375 45.015625 \r\nL 16.9375 14.703125 \r\nQ 16.9375 10.9375 17.40625 9.859375 \r\nQ 17.875 8.796875 18.921875 8.15625 \r\nQ 19.96875 7.515625 21.921875 7.515625 \r\nQ 23.390625 7.515625 25.78125 7.859375 \r\nz\r\n\" id=\"ArialMT-116\"/>\r\n      <path d=\"M 40.4375 6.390625 \r\nQ 35.546875 2.25 31.03125 0.53125 \r\nQ 26.515625 -1.171875 21.34375 -1.171875 \r\nQ 12.796875 -1.171875 8.203125 3 \r\nQ 3.609375 7.171875 3.609375 13.671875 \r\nQ 3.609375 17.484375 5.34375 20.625 \r\nQ 7.078125 23.78125 9.890625 25.6875 \r\nQ 12.703125 27.59375 16.21875 28.5625 \r\nQ 18.796875 29.25 24.03125 29.890625 \r\nQ 34.671875 31.15625 39.703125 32.90625 \r\nQ 39.75 34.71875 39.75 35.203125 \r\nQ 39.75 40.578125 37.25 42.78125 \r\nQ 33.890625 45.75 27.25 45.75 \r\nQ 21.046875 45.75 18.09375 43.578125 \r\nQ 15.140625 41.40625 13.71875 35.890625 \r\nL 5.125 37.0625 \r\nQ 6.296875 42.578125 8.984375 45.96875 \r\nQ 11.671875 49.359375 16.75 51.1875 \r\nQ 21.828125 53.03125 28.515625 53.03125 \r\nQ 35.15625 53.03125 39.296875 51.46875 \r\nQ 43.453125 49.90625 45.40625 47.53125 \r\nQ 47.359375 45.171875 48.140625 41.546875 \r\nQ 48.578125 39.3125 48.578125 33.453125 \r\nL 48.578125 21.734375 \r\nQ 48.578125 9.46875 49.140625 6.21875 \r\nQ 49.703125 2.984375 51.375 0 \r\nL 42.1875 0 \r\nQ 40.828125 2.734375 40.4375 6.390625 \r\nz\r\nM 39.703125 26.03125 \r\nQ 34.90625 24.078125 25.34375 22.703125 \r\nQ 19.921875 21.921875 17.671875 20.9375 \r\nQ 15.4375 19.96875 14.203125 18.09375 \r\nQ 12.984375 16.21875 12.984375 13.921875 \r\nQ 12.984375 10.40625 15.640625 8.0625 \r\nQ 18.3125 5.71875 23.4375 5.71875 \r\nQ 28.515625 5.71875 32.46875 7.9375 \r\nQ 36.421875 10.15625 38.28125 14.015625 \r\nQ 39.703125 17 39.703125 22.796875 \r\nz\r\n\" id=\"ArialMT-97\"/>\r\n      <path d=\"M 6.390625 0 \r\nL 6.390625 71.578125 \r\nL 15.1875 71.578125 \r\nL 15.1875 0 \r\nz\r\n\" id=\"ArialMT-108\"/>\r\n      <path id=\"ArialMT-32\"/>\r\n      <path d=\"M 4.5 23 \r\nL 13.421875 23.78125 \r\nQ 14.0625 18.40625 16.375 14.96875 \r\nQ 18.703125 11.53125 23.578125 9.40625 \r\nQ 28.46875 7.28125 34.578125 7.28125 \r\nQ 39.984375 7.28125 44.140625 8.890625 \r\nQ 48.296875 10.5 50.3125 13.296875 \r\nQ 52.34375 16.109375 52.34375 19.4375 \r\nQ 52.34375 22.796875 50.390625 25.3125 \r\nQ 48.4375 27.828125 43.953125 29.546875 \r\nQ 41.0625 30.671875 31.203125 33.03125 \r\nQ 21.34375 35.40625 17.390625 37.5 \r\nQ 12.25 40.1875 9.734375 44.15625 \r\nQ 7.234375 48.140625 7.234375 53.078125 \r\nQ 7.234375 58.5 10.296875 63.203125 \r\nQ 13.375 67.921875 19.28125 70.359375 \r\nQ 25.203125 72.796875 32.421875 72.796875 \r\nQ 40.375 72.796875 46.453125 70.234375 \r\nQ 52.546875 67.671875 55.8125 62.6875 \r\nQ 59.078125 57.71875 59.328125 51.421875 \r\nL 50.25 50.734375 \r\nQ 49.515625 57.515625 45.28125 60.984375 \r\nQ 41.0625 64.453125 32.8125 64.453125 \r\nQ 24.21875 64.453125 20.28125 61.296875 \r\nQ 16.359375 58.15625 16.359375 53.71875 \r\nQ 16.359375 49.859375 19.140625 47.359375 \r\nQ 21.875 44.875 33.421875 42.265625 \r\nQ 44.96875 39.65625 49.265625 37.703125 \r\nQ 55.515625 34.8125 58.484375 30.390625 \r\nQ 61.46875 25.984375 61.46875 20.21875 \r\nQ 61.46875 14.5 58.203125 9.4375 \r\nQ 54.9375 4.390625 48.796875 1.578125 \r\nQ 42.671875 -1.21875 35.015625 -1.21875 \r\nQ 25.296875 -1.21875 18.71875 1.609375 \r\nQ 12.15625 4.4375 8.421875 10.125 \r\nQ 4.6875 15.828125 4.5 23 \r\nz\r\n\" id=\"ArialMT-83\"/>\r\n      <path d=\"M 40.4375 19 \r\nL 49.078125 17.875 \r\nQ 47.65625 8.9375 41.8125 3.875 \r\nQ 35.984375 -1.171875 27.484375 -1.171875 \r\nQ 16.84375 -1.171875 10.375 5.78125 \r\nQ 3.90625 12.75 3.90625 25.734375 \r\nQ 3.90625 34.125 6.6875 40.421875 \r\nQ 9.46875 46.734375 15.15625 49.875 \r\nQ 20.84375 53.03125 27.546875 53.03125 \r\nQ 35.984375 53.03125 41.359375 48.75 \r\nQ 46.734375 44.484375 48.25 36.625 \r\nL 39.703125 35.296875 \r\nQ 38.484375 40.53125 35.375 43.15625 \r\nQ 32.28125 45.796875 27.875 45.796875 \r\nQ 21.234375 45.796875 17.078125 41.03125 \r\nQ 12.9375 36.28125 12.9375 25.984375 \r\nQ 12.9375 15.53125 16.9375 10.796875 \r\nQ 20.953125 6.0625 27.390625 6.0625 \r\nQ 32.5625 6.0625 36.03125 9.234375 \r\nQ 39.5 12.40625 40.4375 19 \r\nz\r\n\" id=\"ArialMT-99\"/>\r\n      <path d=\"M 6.5 0 \r\nL 6.5 51.859375 \r\nL 14.40625 51.859375 \r\nL 14.40625 44 \r\nQ 17.4375 49.515625 20 51.265625 \r\nQ 22.5625 53.03125 25.640625 53.03125 \r\nQ 30.078125 53.03125 34.671875 50.203125 \r\nL 31.640625 42.046875 \r\nQ 28.421875 43.953125 25.203125 43.953125 \r\nQ 22.3125 43.953125 20.015625 42.21875 \r\nQ 17.71875 40.484375 16.75 37.40625 \r\nQ 15.28125 32.71875 15.28125 27.15625 \r\nL 15.28125 0 \r\nz\r\n\" id=\"ArialMT-114\"/>\r\n      <path d=\"M 42.09375 16.703125 \r\nL 51.171875 15.578125 \r\nQ 49.03125 7.625 43.21875 3.21875 \r\nQ 37.40625 -1.171875 28.375 -1.171875 \r\nQ 17 -1.171875 10.328125 5.828125 \r\nQ 3.65625 12.84375 3.65625 25.484375 \r\nQ 3.65625 38.578125 10.390625 45.796875 \r\nQ 17.140625 53.03125 27.875 53.03125 \r\nQ 38.28125 53.03125 44.875 45.953125 \r\nQ 51.46875 38.875 51.46875 26.03125 \r\nQ 51.46875 25.25 51.421875 23.6875 \r\nL 12.75 23.6875 \r\nQ 13.234375 15.140625 17.578125 10.59375 \r\nQ 21.921875 6.0625 28.421875 6.0625 \r\nQ 33.25 6.0625 36.671875 8.59375 \r\nQ 40.09375 11.140625 42.09375 16.703125 \r\nz\r\nM 13.234375 30.90625 \r\nL 42.1875 30.90625 \r\nQ 41.609375 37.453125 38.875 40.71875 \r\nQ 34.671875 45.796875 27.984375 45.796875 \r\nQ 21.921875 45.796875 17.796875 41.75 \r\nQ 13.671875 37.703125 13.234375 30.90625 \r\nz\r\n\" id=\"ArialMT-101\"/>\r\n     </defs>\r\n     <g style=\"fill:#262626;\" transform=\"translate(81.007169 133.775443)scale(0.1 -0.1)\">\r\n      <use xlink:href=\"#ArialMT-84\"/>\r\n      <use x=\"60.912109\" xlink:href=\"#ArialMT-111\"/>\r\n      <use x=\"116.527344\" xlink:href=\"#ArialMT-116\"/>\r\n      <use x=\"144.310547\" xlink:href=\"#ArialMT-97\"/>\r\n      <use x=\"199.925781\" xlink:href=\"#ArialMT-108\"/>\r\n      <use x=\"222.142578\" xlink:href=\"#ArialMT-32\"/>\r\n      <use x=\"249.925781\" xlink:href=\"#ArialMT-83\"/>\r\n      <use x=\"316.625\" xlink:href=\"#ArialMT-99\"/>\r\n      <use x=\"366.625\" xlink:href=\"#ArialMT-111\"/>\r\n      <use x=\"422.240234\" xlink:href=\"#ArialMT-114\"/>\r\n      <use x=\"455.541016\" xlink:href=\"#ArialMT-101\"/>\r\n     </g>\r\n    </g>\r\n   </g>\r\n   <g id=\"matplotlib.axis_2\">\r\n    <g id=\"ytick_1\">\r\n     <g id=\"line2d_11\"/>\r\n     <g id=\"text_12\">\r\n      <!-- 0 -->\r\n      <g style=\"fill:#262626;\" transform=\"translate(48.267188 111.574662)scale(0.1 -0.1)\">\r\n       <use xlink:href=\"#ArialMT-48\"/>\r\n      </g>\r\n     </g>\r\n    </g>\r\n    <g id=\"ytick_2\">\r\n     <g id=\"line2d_12\"/>\r\n     <g id=\"text_13\">\r\n      <!-- 100000 -->\r\n      <g style=\"fill:#262626;\" transform=\"translate(20.4625 75.949518)scale(0.1 -0.1)\">\r\n       <use xlink:href=\"#ArialMT-49\"/>\r\n       <use x=\"55.615234\" xlink:href=\"#ArialMT-48\"/>\r\n       <use x=\"111.230469\" xlink:href=\"#ArialMT-48\"/>\r\n       <use x=\"166.845703\" xlink:href=\"#ArialMT-48\"/>\r\n       <use x=\"222.460938\" xlink:href=\"#ArialMT-48\"/>\r\n       <use x=\"278.076172\" xlink:href=\"#ArialMT-48\"/>\r\n      </g>\r\n     </g>\r\n    </g>\r\n    <g id=\"ytick_3\">\r\n     <g id=\"line2d_13\"/>\r\n     <g id=\"text_14\">\r\n      <!-- 200000 -->\r\n      <g style=\"fill:#262626;\" transform=\"translate(20.4625 40.324375)scale(0.1 -0.1)\">\r\n       <use xlink:href=\"#ArialMT-50\"/>\r\n       <use x=\"55.615234\" xlink:href=\"#ArialMT-48\"/>\r\n       <use x=\"111.230469\" xlink:href=\"#ArialMT-48\"/>\r\n       <use x=\"166.845703\" xlink:href=\"#ArialMT-48\"/>\r\n       <use x=\"222.460938\" xlink:href=\"#ArialMT-48\"/>\r\n       <use x=\"278.076172\" xlink:href=\"#ArialMT-48\"/>\r\n      </g>\r\n     </g>\r\n    </g>\r\n    <g id=\"text_15\">\r\n     <!-- Monetary Value -->\r\n     <defs>\r\n      <path d=\"M 7.421875 0 \r\nL 7.421875 71.578125 \r\nL 21.6875 71.578125 \r\nL 38.625 20.90625 \r\nQ 40.96875 13.8125 42.046875 10.296875 \r\nQ 43.265625 14.203125 45.84375 21.78125 \r\nL 62.984375 71.578125 \r\nL 75.734375 71.578125 \r\nL 75.734375 0 \r\nL 66.609375 0 \r\nL 66.609375 59.90625 \r\nL 45.796875 0 \r\nL 37.25 0 \r\nL 16.546875 60.9375 \r\nL 16.546875 0 \r\nz\r\n\" id=\"ArialMT-77\"/>\r\n      <path d=\"M 6.59375 0 \r\nL 6.59375 51.859375 \r\nL 14.5 51.859375 \r\nL 14.5 44.484375 \r\nQ 20.21875 53.03125 31 53.03125 \r\nQ 35.6875 53.03125 39.625 51.34375 \r\nQ 43.5625 49.65625 45.515625 46.921875 \r\nQ 47.46875 44.1875 48.25 40.4375 \r\nQ 48.734375 37.984375 48.734375 31.890625 \r\nL 48.734375 0 \r\nL 39.9375 0 \r\nL 39.9375 31.546875 \r\nQ 39.9375 36.921875 38.90625 39.578125 \r\nQ 37.890625 42.234375 35.28125 43.8125 \r\nQ 32.671875 45.40625 29.15625 45.40625 \r\nQ 23.53125 45.40625 19.453125 41.84375 \r\nQ 15.375 38.28125 15.375 28.328125 \r\nL 15.375 0 \r\nz\r\n\" id=\"ArialMT-110\"/>\r\n      <path d=\"M 6.203125 -19.96875 \r\nL 5.21875 -11.71875 \r\nQ 8.109375 -12.5 10.25 -12.5 \r\nQ 13.1875 -12.5 14.9375 -11.515625 \r\nQ 16.703125 -10.546875 17.828125 -8.796875 \r\nQ 18.65625 -7.46875 20.515625 -2.25 \r\nQ 20.75 -1.515625 21.296875 -0.09375 \r\nL 1.609375 51.859375 \r\nL 11.078125 51.859375 \r\nL 21.875 21.828125 \r\nQ 23.96875 16.109375 25.640625 9.8125 \r\nQ 27.15625 15.875 29.25 21.625 \r\nL 40.328125 51.859375 \r\nL 49.125 51.859375 \r\nL 29.390625 -0.875 \r\nQ 26.21875 -9.421875 24.46875 -12.640625 \r\nQ 22.125 -17 19.09375 -19.015625 \r\nQ 16.0625 -21.046875 11.859375 -21.046875 \r\nQ 9.328125 -21.046875 6.203125 -19.96875 \r\nz\r\n\" id=\"ArialMT-121\"/>\r\n      <path d=\"M 28.171875 0 \r\nL 0.4375 71.578125 \r\nL 10.6875 71.578125 \r\nL 29.296875 19.578125 \r\nQ 31.546875 13.328125 33.0625 7.859375 \r\nQ 34.71875 13.71875 36.921875 19.578125 \r\nL 56.25 71.578125 \r\nL 65.921875 71.578125 \r\nL 37.890625 0 \r\nz\r\n\" id=\"ArialMT-86\"/>\r\n      <path d=\"M 40.578125 0 \r\nL 40.578125 7.625 \r\nQ 34.515625 -1.171875 24.125 -1.171875 \r\nQ 19.53125 -1.171875 15.546875 0.578125 \r\nQ 11.578125 2.34375 9.640625 5 \r\nQ 7.71875 7.671875 6.9375 11.53125 \r\nQ 6.390625 14.109375 6.390625 19.734375 \r\nL 6.390625 51.859375 \r\nL 15.1875 51.859375 \r\nL 15.1875 23.09375 \r\nQ 15.1875 16.21875 15.71875 13.8125 \r\nQ 16.546875 10.359375 19.234375 8.375 \r\nQ 21.921875 6.390625 25.875 6.390625 \r\nQ 29.828125 6.390625 33.296875 8.421875 \r\nQ 36.765625 10.453125 38.203125 13.9375 \r\nQ 39.65625 17.4375 39.65625 24.078125 \r\nL 39.65625 51.859375 \r\nL 48.4375 51.859375 \r\nL 48.4375 0 \r\nz\r\n\" id=\"ArialMT-117\"/>\r\n     </defs>\r\n     <g style=\"fill:#262626;\" transform=\"translate(14.357813 93.589293)rotate(-90)scale(0.1 -0.1)\">\r\n      <use xlink:href=\"#ArialMT-77\"/>\r\n      <use x=\"83.300781\" xlink:href=\"#ArialMT-111\"/>\r\n      <use x=\"138.916016\" xlink:href=\"#ArialMT-110\"/>\r\n      <use x=\"194.53125\" xlink:href=\"#ArialMT-101\"/>\r\n      <use x=\"250.146484\" xlink:href=\"#ArialMT-116\"/>\r\n      <use x=\"277.929688\" xlink:href=\"#ArialMT-97\"/>\r\n      <use x=\"333.544922\" xlink:href=\"#ArialMT-114\"/>\r\n      <use x=\"366.845703\" xlink:href=\"#ArialMT-121\"/>\r\n      <use x=\"416.845703\" xlink:href=\"#ArialMT-32\"/>\r\n      <use x=\"444.628906\" xlink:href=\"#ArialMT-86\"/>\r\n      <use x=\"511.21875\" xlink:href=\"#ArialMT-97\"/>\r\n      <use x=\"566.833984\" xlink:href=\"#ArialMT-108\"/>\r\n      <use x=\"589.050781\" xlink:href=\"#ArialMT-117\"/>\r\n      <use x=\"644.666016\" xlink:href=\"#ArialMT-101\"/>\r\n     </g>\r\n    </g>\r\n   </g>\r\n   <g id=\"patch_3\">\r\n    <path clip-path=\"url(#pfb4485c60e)\" d=\"M 59.78989 107.995756 \r\nL 64.713419 107.995756 \r\nL 64.713419 107.516831 \r\nL 59.78989 107.516831 \r\nz\r\n\" style=\"fill:#08306b;\"/>\r\n   </g>\r\n   <g id=\"patch_4\">\r\n    <path clip-path=\"url(#pfb4485c60e)\" d=\"M 69.636949 107.995756 \r\nL 74.560478 107.995756 \r\nL 74.560478 106.834181 \r\nL 69.636949 106.834181 \r\nz\r\n\" style=\"fill:#08306b;\"/>\r\n   </g>\r\n   <g id=\"patch_5\">\r\n    <path clip-path=\"url(#pfb4485c60e)\" d=\"M 79.484007 107.995756 \r\nL 84.407537 107.995756 \r\nL 84.407537 105.3258 \r\nL 79.484007 105.3258 \r\nz\r\n\" style=\"fill:#08306b;\"/>\r\n   </g>\r\n   <g id=\"patch_6\">\r\n    <path clip-path=\"url(#pfb4485c60e)\" d=\"M 89.331066 107.995756 \r\nL 94.254596 107.995756 \r\nL 94.254596 103.231046 \r\nL 89.331066 103.231046 \r\nz\r\n\" style=\"fill:#08306b;\"/>\r\n   </g>\r\n   <g id=\"patch_7\">\r\n    <path clip-path=\"url(#pfb4485c60e)\" d=\"M 99.178125 107.995756 \r\nL 104.101654 107.995756 \r\nL 104.101654 99.880286 \r\nL 99.178125 99.880286 \r\nz\r\n\" style=\"fill:#08306b;\"/>\r\n   </g>\r\n   <g id=\"patch_8\">\r\n    <path clip-path=\"url(#pfb4485c60e)\" d=\"M 109.025184 107.995756 \r\nL 113.948713 107.995756 \r\nL 113.948713 96.040368 \r\nL 109.025184 96.040368 \r\nz\r\n\" style=\"fill:#08306b;\"/>\r\n   </g>\r\n   <g id=\"patch_9\">\r\n    <path clip-path=\"url(#pfb4485c60e)\" d=\"M 118.872243 107.995756 \r\nL 123.795772 107.995756 \r\nL 123.795772 88.918716 \r\nL 118.872243 88.918716 \r\nz\r\n\" style=\"fill:#08306b;\"/>\r\n   </g>\r\n   <g id=\"patch_10\">\r\n    <path clip-path=\"url(#pfb4485c60e)\" d=\"M 128.719301 107.995756 \r\nL 133.642831 107.995756 \r\nL 133.642831 77.406808 \r\nL 128.719301 77.406808 \r\nz\r\n\" style=\"fill:#08306b;\"/>\r\n   </g>\r\n   <g id=\"patch_11\">\r\n    <path clip-path=\"url(#pfb4485c60e)\" d=\"M 138.56636 107.995756 \r\nL 143.48989 107.995756 \r\nL 143.48989 52.687957 \r\nL 138.56636 52.687957 \r\nz\r\n\" style=\"fill:#08306b;\"/>\r\n   </g>\r\n   <g id=\"patch_12\">\r\n    <path clip-path=\"url(#pfb4485c60e)\" d=\"M 148.413419 107.995756 \r\nL 153.336949 107.995756 \r\nL 153.336949 13.865886 \r\nL 148.413419 13.865886 \r\nz\r\n\" style=\"fill:#08306b;\"/>\r\n   </g>\r\n   <g id=\"patch_13\">\r\n    <path d=\"M 57.328125 107.995756 \r\nL 57.328125 9.159392 \r\n\" style=\"fill:none;stroke:#262626;stroke-linecap:square;stroke-linejoin:miter;stroke-width:1.25;\"/>\r\n   </g>\r\n   <g id=\"patch_14\">\r\n    <path d=\"M 155.798713 107.995756 \r\nL 155.798713 9.159392 \r\n\" style=\"fill:none;stroke:#262626;stroke-linecap:square;stroke-linejoin:miter;stroke-width:1.25;\"/>\r\n   </g>\r\n   <g id=\"patch_15\">\r\n    <path d=\"M 57.328125 107.995756 \r\nL 155.798713 107.995756 \r\n\" style=\"fill:none;stroke:#262626;stroke-linecap:square;stroke-linejoin:miter;stroke-width:1.25;\"/>\r\n   </g>\r\n   <g id=\"patch_16\">\r\n    <path d=\"M 57.328125 9.159392 \r\nL 155.798713 9.159392 \r\n\" style=\"fill:none;stroke:#262626;stroke-linecap:square;stroke-linejoin:miter;stroke-width:1.25;\"/>\r\n   </g>\r\n  </g>\r\n  <g id=\"axes_2\">\r\n   <g id=\"patch_17\">\r\n    <path d=\"M 175.492831 107.995756 \r\nL 273.963419 107.995756 \r\nL 273.963419 9.159392 \r\nL 175.492831 9.159392 \r\nz\r\n\" style=\"fill:#ffffff;\"/>\r\n   </g>\r\n   <g id=\"matplotlib.axis_3\">\r\n    <g id=\"xtick_11\">\r\n     <g id=\"line2d_14\"/>\r\n     <g id=\"text_16\">\r\n      <!-- 3 -->\r\n      <g style=\"fill:#262626;\" transform=\"translate(183.001517 117.056693)rotate(-90)scale(0.1 -0.1)\">\r\n       <use xlink:href=\"#ArialMT-51\"/>\r\n      </g>\r\n     </g>\r\n    </g>\r\n    <g id=\"xtick_12\">\r\n     <g id=\"line2d_15\"/>\r\n     <g id=\"text_17\">\r\n      <!-- 4 -->\r\n      <g style=\"fill:#262626;\" transform=\"translate(192.848575 117.056693)rotate(-90)scale(0.1 -0.1)\">\r\n       <use xlink:href=\"#ArialMT-52\"/>\r\n      </g>\r\n     </g>\r\n    </g>\r\n    <g id=\"xtick_13\">\r\n     <g id=\"line2d_16\"/>\r\n     <g id=\"text_18\">\r\n      <!-- 5 -->\r\n      <g style=\"fill:#262626;\" transform=\"translate(202.695634 117.056693)rotate(-90)scale(0.1 -0.1)\">\r\n       <use xlink:href=\"#ArialMT-53\"/>\r\n      </g>\r\n     </g>\r\n    </g>\r\n    <g id=\"xtick_14\">\r\n     <g id=\"line2d_17\"/>\r\n     <g id=\"text_19\">\r\n      <!-- 6 -->\r\n      <g style=\"fill:#262626;\" transform=\"translate(212.542693 117.056693)rotate(-90)scale(0.1 -0.1)\">\r\n       <use xlink:href=\"#ArialMT-54\"/>\r\n      </g>\r\n     </g>\r\n    </g>\r\n    <g id=\"xtick_15\">\r\n     <g id=\"line2d_18\"/>\r\n     <g id=\"text_20\">\r\n      <!-- 7 -->\r\n      <g style=\"fill:#262626;\" transform=\"translate(222.389752 117.056693)rotate(-90)scale(0.1 -0.1)\">\r\n       <use xlink:href=\"#ArialMT-55\"/>\r\n      </g>\r\n     </g>\r\n    </g>\r\n    <g id=\"xtick_16\">\r\n     <g id=\"line2d_19\"/>\r\n     <g id=\"text_21\">\r\n      <!-- 8 -->\r\n      <g style=\"fill:#262626;\" transform=\"translate(232.236811 117.056693)rotate(-90)scale(0.1 -0.1)\">\r\n       <use xlink:href=\"#ArialMT-56\"/>\r\n      </g>\r\n     </g>\r\n    </g>\r\n    <g id=\"xtick_17\">\r\n     <g id=\"line2d_20\"/>\r\n     <g id=\"text_22\">\r\n      <!-- 9 -->\r\n      <g style=\"fill:#262626;\" transform=\"translate(242.083869 117.056693)rotate(-90)scale(0.1 -0.1)\">\r\n       <use xlink:href=\"#ArialMT-57\"/>\r\n      </g>\r\n     </g>\r\n    </g>\r\n    <g id=\"xtick_18\">\r\n     <g id=\"line2d_21\"/>\r\n     <g id=\"text_23\">\r\n      <!-- 10 -->\r\n      <g style=\"fill:#262626;\" transform=\"translate(251.930928 122.617631)rotate(-90)scale(0.1 -0.1)\">\r\n       <use xlink:href=\"#ArialMT-49\"/>\r\n       <use x=\"55.615234\" xlink:href=\"#ArialMT-48\"/>\r\n      </g>\r\n     </g>\r\n    </g>\r\n    <g id=\"xtick_19\">\r\n     <g id=\"line2d_22\"/>\r\n     <g id=\"text_24\">\r\n      <!-- 11 -->\r\n      <g style=\"fill:#262626;\" transform=\"translate(261.777987 122.606693)rotate(-90)scale(0.1 -0.1)\">\r\n       <use xlink:href=\"#ArialMT-49\"/>\r\n       <use x=\"55.505859\" xlink:href=\"#ArialMT-49\"/>\r\n      </g>\r\n     </g>\r\n    </g>\r\n    <g id=\"xtick_20\">\r\n     <g id=\"line2d_23\"/>\r\n     <g id=\"text_25\">\r\n      <!-- 12 -->\r\n      <g style=\"fill:#262626;\" transform=\"translate(271.625046 122.617631)rotate(-90)scale(0.1 -0.1)\">\r\n       <use xlink:href=\"#ArialMT-49\"/>\r\n       <use x=\"55.615234\" xlink:href=\"#ArialMT-50\"/>\r\n      </g>\r\n     </g>\r\n    </g>\r\n    <g id=\"text_26\">\r\n     <!-- Total Score -->\r\n     <g style=\"fill:#262626;\" transform=\"translate(199.171875 133.775443)scale(0.1 -0.1)\">\r\n      <use xlink:href=\"#ArialMT-84\"/>\r\n      <use x=\"60.912109\" xlink:href=\"#ArialMT-111\"/>\r\n      <use x=\"116.527344\" xlink:href=\"#ArialMT-116\"/>\r\n      <use x=\"144.310547\" xlink:href=\"#ArialMT-97\"/>\r\n      <use x=\"199.925781\" xlink:href=\"#ArialMT-108\"/>\r\n      <use x=\"222.142578\" xlink:href=\"#ArialMT-32\"/>\r\n      <use x=\"249.925781\" xlink:href=\"#ArialMT-83\"/>\r\n      <use x=\"316.625\" xlink:href=\"#ArialMT-99\"/>\r\n      <use x=\"366.625\" xlink:href=\"#ArialMT-111\"/>\r\n      <use x=\"422.240234\" xlink:href=\"#ArialMT-114\"/>\r\n      <use x=\"455.541016\" xlink:href=\"#ArialMT-101\"/>\r\n     </g>\r\n    </g>\r\n   </g>\r\n   <g id=\"matplotlib.axis_4\">\r\n    <g id=\"ytick_4\">\r\n     <g id=\"line2d_24\"/>\r\n     <g id=\"text_27\">\r\n      <!-- 0 -->\r\n      <g style=\"fill:#262626;\" transform=\"translate(166.431893 111.574662)scale(0.1 -0.1)\">\r\n       <use xlink:href=\"#ArialMT-48\"/>\r\n      </g>\r\n     </g>\r\n    </g>\r\n    <g id=\"ytick_5\">\r\n     <g id=\"line2d_25\"/>\r\n     <g id=\"text_28\">\r\n      <!-- 25 -->\r\n      <g style=\"fill:#262626;\" transform=\"translate(160.870956 81.363971)scale(0.1 -0.1)\">\r\n       <use xlink:href=\"#ArialMT-50\"/>\r\n       <use x=\"55.615234\" xlink:href=\"#ArialMT-53\"/>\r\n      </g>\r\n     </g>\r\n    </g>\r\n    <g id=\"ytick_6\">\r\n     <g id=\"line2d_26\"/>\r\n     <g id=\"text_29\">\r\n      <!-- 50 -->\r\n      <g style=\"fill:#262626;\" transform=\"translate(160.870956 51.15328)scale(0.1 -0.1)\">\r\n       <use xlink:href=\"#ArialMT-53\"/>\r\n       <use x=\"55.615234\" xlink:href=\"#ArialMT-48\"/>\r\n      </g>\r\n     </g>\r\n    </g>\r\n    <g id=\"ytick_7\">\r\n     <g id=\"line2d_27\"/>\r\n     <g id=\"text_30\">\r\n      <!-- 75 -->\r\n      <g style=\"fill:#262626;\" transform=\"translate(160.870956 20.942589)scale(0.1 -0.1)\">\r\n       <use xlink:href=\"#ArialMT-55\"/>\r\n       <use x=\"55.615234\" xlink:href=\"#ArialMT-53\"/>\r\n      </g>\r\n     </g>\r\n    </g>\r\n    <g id=\"text_31\">\r\n     <!-- Frequency -->\r\n     <defs>\r\n      <path d=\"M 8.203125 0 \r\nL 8.203125 71.578125 \r\nL 56.5 71.578125 \r\nL 56.5 63.140625 \r\nL 17.671875 63.140625 \r\nL 17.671875 40.96875 \r\nL 51.265625 40.96875 \r\nL 51.265625 32.515625 \r\nL 17.671875 32.515625 \r\nL 17.671875 0 \r\nz\r\n\" id=\"ArialMT-70\"/>\r\n      <path d=\"M 39.65625 -19.875 \r\nL 39.65625 5.515625 \r\nQ 37.59375 2.640625 33.90625 0.734375 \r\nQ 30.21875 -1.171875 26.078125 -1.171875 \r\nQ 16.84375 -1.171875 10.171875 6.203125 \r\nQ 3.515625 13.578125 3.515625 26.421875 \r\nQ 3.515625 34.234375 6.21875 40.421875 \r\nQ 8.9375 46.625 14.078125 49.828125 \r\nQ 19.234375 53.03125 25.390625 53.03125 \r\nQ 35.015625 53.03125 40.53125 44.921875 \r\nL 40.53125 51.859375 \r\nL 48.4375 51.859375 \r\nL 48.4375 -19.875 \r\nz\r\nM 12.546875 26.078125 \r\nQ 12.546875 16.0625 16.75 11.0625 \r\nQ 20.953125 6.0625 26.8125 6.0625 \r\nQ 32.421875 6.0625 36.46875 10.8125 \r\nQ 40.53125 15.578125 40.53125 25.296875 \r\nQ 40.53125 35.640625 36.25 40.859375 \r\nQ 31.984375 46.09375 26.21875 46.09375 \r\nQ 20.515625 46.09375 16.53125 41.234375 \r\nQ 12.546875 36.375 12.546875 26.078125 \r\nz\r\n\" id=\"ArialMT-113\"/>\r\n     </defs>\r\n     <g style=\"fill:#262626;\" transform=\"translate(154.766268 82.198668)rotate(-90)scale(0.1 -0.1)\">\r\n      <use xlink:href=\"#ArialMT-70\"/>\r\n      <use x=\"61.083984\" xlink:href=\"#ArialMT-114\"/>\r\n      <use x=\"94.384766\" xlink:href=\"#ArialMT-101\"/>\r\n      <use x=\"150\" xlink:href=\"#ArialMT-113\"/>\r\n      <use x=\"205.615234\" xlink:href=\"#ArialMT-117\"/>\r\n      <use x=\"261.230469\" xlink:href=\"#ArialMT-101\"/>\r\n      <use x=\"316.845703\" xlink:href=\"#ArialMT-110\"/>\r\n      <use x=\"372.460938\" xlink:href=\"#ArialMT-99\"/>\r\n      <use x=\"422.460938\" xlink:href=\"#ArialMT-121\"/>\r\n     </g>\r\n    </g>\r\n   </g>\r\n   <g id=\"patch_18\">\r\n    <path clip-path=\"url(#p6b755bf6e1)\" d=\"M 177.954596 107.995756 \r\nL 182.878125 107.995756 \r\nL 182.878125 106.359102 \r\nL 177.954596 106.359102 \r\nz\r\n\" style=\"fill:#08306b;\"/>\r\n   </g>\r\n   <g id=\"patch_19\">\r\n    <path clip-path=\"url(#p6b755bf6e1)\" d=\"M 187.801654 107.995756 \r\nL 192.725184 107.995756 \r\nL 192.725184 105.59981 \r\nL 187.801654 105.59981 \r\nz\r\n\" style=\"fill:#08306b;\"/>\r\n   </g>\r\n   <g id=\"patch_20\">\r\n    <path clip-path=\"url(#p6b755bf6e1)\" d=\"M 197.648713 107.995756 \r\nL 202.572243 107.995756 \r\nL 202.572243 103.273502 \r\nL 197.648713 103.273502 \r\nz\r\n\" style=\"fill:#08306b;\"/>\r\n   </g>\r\n   <g id=\"patch_21\">\r\n    <path clip-path=\"url(#p6b755bf6e1)\" d=\"M 207.495772 107.995756 \r\nL 212.419301 107.995756 \r\nL 212.419301 100.642271 \r\nL 207.495772 100.642271 \r\nz\r\n\" style=\"fill:#08306b;\"/>\r\n   </g>\r\n   <g id=\"patch_22\">\r\n    <path clip-path=\"url(#p6b755bf6e1)\" d=\"M 217.342831 107.995756 \r\nL 222.26636 107.995756 \r\nL 222.26636 96.256684 \r\nL 217.342831 96.256684 \r\nz\r\n\" style=\"fill:#08306b;\"/>\r\n   </g>\r\n   <g id=\"patch_23\">\r\n    <path clip-path=\"url(#p6b755bf6e1)\" d=\"M 227.18989 107.995756 \r\nL 232.113419 107.995756 \r\nL 232.113419 90.344756 \r\nL 227.18989 90.344756 \r\nz\r\n\" style=\"fill:#08306b;\"/>\r\n   </g>\r\n   <g id=\"patch_24\">\r\n    <path clip-path=\"url(#p6b755bf6e1)\" d=\"M 237.036949 107.995756 \r\nL 241.960478 107.995756 \r\nL 241.960478 82.1446 \r\nL 237.036949 82.1446 \r\nz\r\n\" style=\"fill:#08306b;\"/>\r\n   </g>\r\n   <g id=\"patch_25\">\r\n    <path clip-path=\"url(#p6b755bf6e1)\" d=\"M 246.884007 107.995756 \r\nL 251.807537 107.995756 \r\nL 251.807537 71.823587 \r\nL 246.884007 71.823587 \r\nz\r\n\" style=\"fill:#08306b;\"/>\r\n   </g>\r\n   <g id=\"patch_26\">\r\n    <path clip-path=\"url(#p6b755bf6e1)\" d=\"M 256.731066 107.995756 \r\nL 261.654596 107.995756 \r\nL 261.654596 46.36928 \r\nL 256.731066 46.36928 \r\nz\r\n\" style=\"fill:#08306b;\"/>\r\n   </g>\r\n   <g id=\"patch_27\">\r\n    <path clip-path=\"url(#p6b755bf6e1)\" d=\"M 266.578125 107.995756 \r\nL 271.501654 107.995756 \r\nL 271.501654 13.865886 \r\nL 266.578125 13.865886 \r\nz\r\n\" style=\"fill:#08306b;\"/>\r\n   </g>\r\n   <g id=\"patch_28\">\r\n    <path d=\"M 175.492831 107.995756 \r\nL 175.492831 9.159392 \r\n\" style=\"fill:none;stroke:#262626;stroke-linecap:square;stroke-linejoin:miter;stroke-width:1.25;\"/>\r\n   </g>\r\n   <g id=\"patch_29\">\r\n    <path d=\"M 273.963419 107.995756 \r\nL 273.963419 9.159392 \r\n\" style=\"fill:none;stroke:#262626;stroke-linecap:square;stroke-linejoin:miter;stroke-width:1.25;\"/>\r\n   </g>\r\n   <g id=\"patch_30\">\r\n    <path d=\"M 175.492831 107.995756 \r\nL 273.963419 107.995756 \r\n\" style=\"fill:none;stroke:#262626;stroke-linecap:square;stroke-linejoin:miter;stroke-width:1.25;\"/>\r\n   </g>\r\n   <g id=\"patch_31\">\r\n    <path d=\"M 175.492831 9.159392 \r\nL 273.963419 9.159392 \r\n\" style=\"fill:none;stroke:#262626;stroke-linecap:square;stroke-linejoin:miter;stroke-width:1.25;\"/>\r\n   </g>\r\n  </g>\r\n  <g id=\"axes_3\">\r\n   <g id=\"patch_32\">\r\n    <path d=\"M 293.657537 107.995756 \r\nL 392.128125 107.995756 \r\nL 392.128125 9.159392 \r\nL 293.657537 9.159392 \r\nz\r\n\" style=\"fill:#ffffff;\"/>\r\n   </g>\r\n   <g id=\"matplotlib.axis_5\">\r\n    <g id=\"xtick_21\">\r\n     <g id=\"line2d_28\"/>\r\n     <g id=\"text_32\">\r\n      <!-- 3 -->\r\n      <g style=\"fill:#262626;\" transform=\"translate(301.166222 117.056693)rotate(-90)scale(0.1 -0.1)\">\r\n       <use xlink:href=\"#ArialMT-51\"/>\r\n      </g>\r\n     </g>\r\n    </g>\r\n    <g id=\"xtick_22\">\r\n     <g id=\"line2d_29\"/>\r\n     <g id=\"text_33\">\r\n      <!-- 4 -->\r\n      <g style=\"fill:#262626;\" transform=\"translate(311.013281 117.056693)rotate(-90)scale(0.1 -0.1)\">\r\n       <use xlink:href=\"#ArialMT-52\"/>\r\n      </g>\r\n     </g>\r\n    </g>\r\n    <g id=\"xtick_23\">\r\n     <g id=\"line2d_30\"/>\r\n     <g id=\"text_34\">\r\n      <!-- 5 -->\r\n      <g style=\"fill:#262626;\" transform=\"translate(320.86034 117.056693)rotate(-90)scale(0.1 -0.1)\">\r\n       <use xlink:href=\"#ArialMT-53\"/>\r\n      </g>\r\n     </g>\r\n    </g>\r\n    <g id=\"xtick_24\">\r\n     <g id=\"line2d_31\"/>\r\n     <g id=\"text_35\">\r\n      <!-- 6 -->\r\n      <g style=\"fill:#262626;\" transform=\"translate(330.707399 117.056693)rotate(-90)scale(0.1 -0.1)\">\r\n       <use xlink:href=\"#ArialMT-54\"/>\r\n      </g>\r\n     </g>\r\n    </g>\r\n    <g id=\"xtick_25\">\r\n     <g id=\"line2d_32\"/>\r\n     <g id=\"text_36\">\r\n      <!-- 7 -->\r\n      <g style=\"fill:#262626;\" transform=\"translate(340.554458 117.056693)rotate(-90)scale(0.1 -0.1)\">\r\n       <use xlink:href=\"#ArialMT-55\"/>\r\n      </g>\r\n     </g>\r\n    </g>\r\n    <g id=\"xtick_26\">\r\n     <g id=\"line2d_33\"/>\r\n     <g id=\"text_37\">\r\n      <!-- 8 -->\r\n      <g style=\"fill:#262626;\" transform=\"translate(350.401517 117.056693)rotate(-90)scale(0.1 -0.1)\">\r\n       <use xlink:href=\"#ArialMT-56\"/>\r\n      </g>\r\n     </g>\r\n    </g>\r\n    <g id=\"xtick_27\">\r\n     <g id=\"line2d_34\"/>\r\n     <g id=\"text_38\">\r\n      <!-- 9 -->\r\n      <g style=\"fill:#262626;\" transform=\"translate(360.248575 117.056693)rotate(-90)scale(0.1 -0.1)\">\r\n       <use xlink:href=\"#ArialMT-57\"/>\r\n      </g>\r\n     </g>\r\n    </g>\r\n    <g id=\"xtick_28\">\r\n     <g id=\"line2d_35\"/>\r\n     <g id=\"text_39\">\r\n      <!-- 10 -->\r\n      <g style=\"fill:#262626;\" transform=\"translate(370.095634 122.617631)rotate(-90)scale(0.1 -0.1)\">\r\n       <use xlink:href=\"#ArialMT-49\"/>\r\n       <use x=\"55.615234\" xlink:href=\"#ArialMT-48\"/>\r\n      </g>\r\n     </g>\r\n    </g>\r\n    <g id=\"xtick_29\">\r\n     <g id=\"line2d_36\"/>\r\n     <g id=\"text_40\">\r\n      <!-- 11 -->\r\n      <g style=\"fill:#262626;\" transform=\"translate(379.942693 122.606693)rotate(-90)scale(0.1 -0.1)\">\r\n       <use xlink:href=\"#ArialMT-49\"/>\r\n       <use x=\"55.505859\" xlink:href=\"#ArialMT-49\"/>\r\n      </g>\r\n     </g>\r\n    </g>\r\n    <g id=\"xtick_30\">\r\n     <g id=\"line2d_37\"/>\r\n     <g id=\"text_41\">\r\n      <!-- 12 -->\r\n      <g style=\"fill:#262626;\" transform=\"translate(389.789752 122.617631)rotate(-90)scale(0.1 -0.1)\">\r\n       <use xlink:href=\"#ArialMT-49\"/>\r\n       <use x=\"55.615234\" xlink:href=\"#ArialMT-50\"/>\r\n      </g>\r\n     </g>\r\n    </g>\r\n    <g id=\"text_42\">\r\n     <!-- Total Score -->\r\n     <g style=\"fill:#262626;\" transform=\"translate(317.336581 133.775443)scale(0.1 -0.1)\">\r\n      <use xlink:href=\"#ArialMT-84\"/>\r\n      <use x=\"60.912109\" xlink:href=\"#ArialMT-111\"/>\r\n      <use x=\"116.527344\" xlink:href=\"#ArialMT-116\"/>\r\n      <use x=\"144.310547\" xlink:href=\"#ArialMT-97\"/>\r\n      <use x=\"199.925781\" xlink:href=\"#ArialMT-108\"/>\r\n      <use x=\"222.142578\" xlink:href=\"#ArialMT-32\"/>\r\n      <use x=\"249.925781\" xlink:href=\"#ArialMT-83\"/>\r\n      <use x=\"316.625\" xlink:href=\"#ArialMT-99\"/>\r\n      <use x=\"366.625\" xlink:href=\"#ArialMT-111\"/>\r\n      <use x=\"422.240234\" xlink:href=\"#ArialMT-114\"/>\r\n      <use x=\"455.541016\" xlink:href=\"#ArialMT-101\"/>\r\n     </g>\r\n    </g>\r\n   </g>\r\n   <g id=\"matplotlib.axis_6\">\r\n    <g id=\"ytick_8\">\r\n     <g id=\"line2d_38\"/>\r\n     <g id=\"text_43\">\r\n      <!-- 0 -->\r\n      <g style=\"fill:#262626;\" transform=\"translate(284.596599 111.574662)scale(0.1 -0.1)\">\r\n       <use xlink:href=\"#ArialMT-48\"/>\r\n      </g>\r\n     </g>\r\n    </g>\r\n    <g id=\"ytick_9\">\r\n     <g id=\"line2d_39\"/>\r\n     <g id=\"text_44\">\r\n      <!-- 50 -->\r\n      <g style=\"fill:#262626;\" transform=\"translate(279.035662 62.966237)scale(0.1 -0.1)\">\r\n       <use xlink:href=\"#ArialMT-53\"/>\r\n       <use x=\"55.615234\" xlink:href=\"#ArialMT-48\"/>\r\n      </g>\r\n     </g>\r\n    </g>\r\n    <g id=\"ytick_10\">\r\n     <g id=\"line2d_40\"/>\r\n     <g id=\"text_45\">\r\n      <!-- 100 -->\r\n      <g style=\"fill:#262626;\" transform=\"translate(273.474724 14.357812)scale(0.1 -0.1)\">\r\n       <use xlink:href=\"#ArialMT-49\"/>\r\n       <use x=\"55.615234\" xlink:href=\"#ArialMT-48\"/>\r\n       <use x=\"111.230469\" xlink:href=\"#ArialMT-48\"/>\r\n      </g>\r\n     </g>\r\n    </g>\r\n    <g id=\"text_46\">\r\n     <!-- Recency -->\r\n     <defs>\r\n      <path d=\"M 7.859375 0 \r\nL 7.859375 71.578125 \r\nL 39.59375 71.578125 \r\nQ 49.171875 71.578125 54.140625 69.640625 \r\nQ 59.125 67.71875 62.109375 62.828125 \r\nQ 65.09375 57.953125 65.09375 52.046875 \r\nQ 65.09375 44.4375 60.15625 39.203125 \r\nQ 55.21875 33.984375 44.921875 32.5625 \r\nQ 48.6875 30.765625 50.640625 29 \r\nQ 54.78125 25.203125 58.5 19.484375 \r\nL 70.953125 0 \r\nL 59.03125 0 \r\nL 49.5625 14.890625 \r\nQ 45.40625 21.34375 42.71875 24.75 \r\nQ 40.046875 28.171875 37.921875 29.53125 \r\nQ 35.796875 30.90625 33.59375 31.453125 \r\nQ 31.984375 31.78125 28.328125 31.78125 \r\nL 17.328125 31.78125 \r\nL 17.328125 0 \r\nz\r\nM 17.328125 39.984375 \r\nL 37.703125 39.984375 \r\nQ 44.1875 39.984375 47.84375 41.328125 \r\nQ 51.515625 42.671875 53.421875 45.625 \r\nQ 55.328125 48.578125 55.328125 52.046875 \r\nQ 55.328125 57.125 51.640625 60.390625 \r\nQ 47.953125 63.671875 39.984375 63.671875 \r\nL 17.328125 63.671875 \r\nz\r\n\" id=\"ArialMT-82\"/>\r\n     </defs>\r\n     <g style=\"fill:#262626;\" transform=\"translate(267.370037 78.029918)rotate(-90)scale(0.1 -0.1)\">\r\n      <use xlink:href=\"#ArialMT-82\"/>\r\n      <use x=\"72.216797\" xlink:href=\"#ArialMT-101\"/>\r\n      <use x=\"127.832031\" xlink:href=\"#ArialMT-99\"/>\r\n      <use x=\"177.832031\" xlink:href=\"#ArialMT-101\"/>\r\n      <use x=\"233.447266\" xlink:href=\"#ArialMT-110\"/>\r\n      <use x=\"289.0625\" xlink:href=\"#ArialMT-99\"/>\r\n      <use x=\"339.0625\" xlink:href=\"#ArialMT-121\"/>\r\n     </g>\r\n    </g>\r\n   </g>\r\n   <g id=\"patch_33\">\r\n    <path clip-path=\"url(#p0186706051)\" d=\"M 296.119301 107.995756 \r\nL 301.042831 107.995756 \r\nL 301.042831 13.865886 \r\nL 296.119301 13.865886 \r\nz\r\n\" style=\"fill:#08306b;\"/>\r\n   </g>\r\n   <g id=\"patch_34\">\r\n    <path clip-path=\"url(#p0186706051)\" d=\"M 305.96636 107.995756 \r\nL 310.88989 107.995756 \r\nL 310.88989 52.184379 \r\nL 305.96636 52.184379 \r\nz\r\n\" style=\"fill:#08306b;\"/>\r\n   </g>\r\n   <g id=\"patch_35\">\r\n    <path clip-path=\"url(#p0186706051)\" d=\"M 315.813419 107.995756 \r\nL 320.736949 107.995756 \r\nL 320.736949 59.232854 \r\nL 315.813419 59.232854 \r\nz\r\n\" style=\"fill:#08306b;\"/>\r\n   </g>\r\n   <g id=\"patch_36\">\r\n    <path clip-path=\"url(#p0186706051)\" d=\"M 325.660478 107.995756 \r\nL 330.584007 107.995756 \r\nL 330.584007 77.376325 \r\nL 325.660478 77.376325 \r\nz\r\n\" style=\"fill:#08306b;\"/>\r\n   </g>\r\n   <g id=\"patch_37\">\r\n    <path clip-path=\"url(#p0186706051)\" d=\"M 335.507537 107.995756 \r\nL 340.431066 107.995756 \r\nL 340.431066 82.927574 \r\nL 335.507537 82.927574 \r\nz\r\n\" style=\"fill:#08306b;\"/>\r\n   </g>\r\n   <g id=\"patch_38\">\r\n    <path clip-path=\"url(#p0186706051)\" d=\"M 345.354596 107.995756 \r\nL 350.278125 107.995756 \r\nL 350.278125 92.878831 \r\nL 345.354596 92.878831 \r\nz\r\n\" style=\"fill:#08306b;\"/>\r\n   </g>\r\n   <g id=\"patch_39\">\r\n    <path clip-path=\"url(#p0186706051)\" d=\"M 355.201654 107.995756 \r\nL 360.125184 107.995756 \r\nL 360.125184 98.768825 \r\nL 355.201654 98.768825 \r\nz\r\n\" style=\"fill:#08306b;\"/>\r\n   </g>\r\n   <g id=\"patch_40\">\r\n    <path clip-path=\"url(#p0186706051)\" d=\"M 365.048713 107.995756 \r\nL 369.972243 107.995756 \r\nL 369.972243 102.803351 \r\nL 365.048713 102.803351 \r\nz\r\n\" style=\"fill:#08306b;\"/>\r\n   </g>\r\n   <g id=\"patch_41\">\r\n    <path clip-path=\"url(#p0186706051)\" d=\"M 374.895772 107.995756 \r\nL 379.819301 107.995756 \r\nL 379.819301 105.048851 \r\nL 374.895772 105.048851 \r\nz\r\n\" style=\"fill:#08306b;\"/>\r\n   </g>\r\n   <g id=\"patch_42\">\r\n    <path clip-path=\"url(#p0186706051)\" d=\"M 384.742831 107.995756 \r\nL 389.66636 107.995756 \r\nL 389.66636 106.736243 \r\nL 384.742831 106.736243 \r\nz\r\n\" style=\"fill:#08306b;\"/>\r\n   </g>\r\n   <g id=\"patch_43\">\r\n    <path d=\"M 293.657537 107.995756 \r\nL 293.657537 9.159392 \r\n\" style=\"fill:none;stroke:#262626;stroke-linecap:square;stroke-linejoin:miter;stroke-width:1.25;\"/>\r\n   </g>\r\n   <g id=\"patch_44\">\r\n    <path d=\"M 392.128125 107.995756 \r\nL 392.128125 9.159392 \r\n\" style=\"fill:none;stroke:#262626;stroke-linecap:square;stroke-linejoin:miter;stroke-width:1.25;\"/>\r\n   </g>\r\n   <g id=\"patch_45\">\r\n    <path d=\"M 293.657537 107.995756 \r\nL 392.128125 107.995756 \r\n\" style=\"fill:none;stroke:#262626;stroke-linecap:square;stroke-linejoin:miter;stroke-width:1.25;\"/>\r\n   </g>\r\n   <g id=\"patch_46\">\r\n    <path d=\"M 293.657537 9.159392 \r\nL 392.128125 9.159392 \r\n\" style=\"fill:none;stroke:#262626;stroke-linecap:square;stroke-linejoin:miter;stroke-width:1.25;\"/>\r\n   </g>\r\n  </g>\r\n </g>\r\n <defs>\r\n  <clipPath id=\"pfb4485c60e\">\r\n   <rect height=\"98.836364\" width=\"98.470588\" x=\"57.328125\" y=\"9.159392\"/>\r\n  </clipPath>\r\n  <clipPath id=\"p6b755bf6e1\">\r\n   <rect height=\"98.836364\" width=\"98.470588\" x=\"175.492831\" y=\"9.159392\"/>\r\n  </clipPath>\r\n  <clipPath id=\"p0186706051\">\r\n   <rect height=\"98.836364\" width=\"98.470588\" x=\"293.657537\" y=\"9.159392\"/>\r\n  </clipPath>\r\n </defs>\r\n</svg>\r\n",
      "image/png": "[encoded data removed]"
     },
     "metadata": {}
    }
   ],
   "source": [
    "## Visualizations\n",
    "ax1 = plt.subplot(2, 3, 1) # number of row = 1, number of columns = 2, subplot order = 1 \n",
    "ax1 = RFM_Segment.groupby('TotalScore').agg('monetary_value').mean().plot(kind = 'bar', colormap = 'Blues_r')\n",
    "ax1.set_ylabel('Monetary Value')\n",
    "ax1.set_xlabel('Total Score')\n",
    "\n",
    "ax2 = plt.subplot(2, 3, 2)\n",
    "ax2 = RFM_Segment.groupby('TotalScore').agg('frequency').mean().plot(kind='bar', colormap='Blues_r')\n",
    "ax2.set_ylabel('Frequency')\n",
    "ax2.set_xlabel('Total Score')\n",
    "\n",
    "ax3 = plt.subplot(2, 3, 3)\n",
    "ax3 = RFM_Segment.groupby('TotalScore').agg('recency').mean().plot(kind='bar', colormap='Blues_r')\n",
    "ax3.set_ylabel('Recency')\n",
    "ax3.set_xlabel('Total Score')"
   ]
  }
 ]
}