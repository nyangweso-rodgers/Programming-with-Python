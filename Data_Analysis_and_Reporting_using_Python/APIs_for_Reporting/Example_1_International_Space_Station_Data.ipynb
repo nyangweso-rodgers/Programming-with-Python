{
 "cells": [
  {
   "cell_type": "markdown",
   "metadata": {},
   "source": [
    "## International Space Station Data\n",
    "We’ll take a look at the __Open Notify API__ that provides data on the __International Space Station__. You can find more information on the __API__ by [visiting their documentation](http://open-notify.org/Open-Notify-API/).\n",
    "\n",
    "### Benefits if Open Notify API\n",
    "* No authentification needed"
   ]
  },
  {
   "cell_type": "code",
   "execution_count": 4,
   "metadata": {},
   "outputs": [],
   "source": [
    "# Required Modules\n",
    "import requests \n",
    "import json"
   ]
  },
  {
   "cell_type": "code",
   "execution_count": 3,
   "metadata": {},
   "outputs": [
    {
     "name": "stdout",
     "output_type": "stream",
     "text": [
      "200\n"
     ]
    }
   ],
   "source": [
    "url = \"http://api.open-notify.org/iss-now.json\"\n",
    "response = requests.get(url)\n",
    "\n",
    "# Accessing the status code for our API call\n",
    "print(response.status_code)"
   ]
  },
  {
   "cell_type": "code",
   "execution_count": 5,
   "metadata": {},
   "outputs": [
    {
     "name": "stdout",
     "output_type": "stream",
     "text": [
      "{'message': 'success', 'timestamp': 1644336716, 'iss_position': {'longitude': '-104.7740', 'latitude': '27.1379'}}\n"
     ]
    }
   ],
   "source": [
    "print(response.json())"
   ]
  },
  {
   "cell_type": "code",
   "execution_count": 9,
   "metadata": {},
   "outputs": [
    {
     "name": "stdout",
     "output_type": "stream",
     "text": [
      "{\n",
      "    \"iss_position\": {\n",
      "        \"latitude\": \"27.1379\",\n",
      "        \"longitude\": \"-104.7740\"\n",
      "    },\n",
      "    \"message\": \"success\",\n",
      "    \"timestamp\": 1644336716\n",
      "}\n"
     ]
    }
   ],
   "source": [
    "# Converting a JSON to Python Object\n",
    "json_response = response.json()\n",
    "dictionary = json.dumps(response.json(), sort_keys=True, indent = 4)\n",
    "print(dictionary)"
   ]
  },
  {
   "cell_type": "code",
   "execution_count": 12,
   "metadata": {},
   "outputs": [
    {
     "name": "stdout",
     "output_type": "stream",
     "text": [
      "Latitude:  27.1379\n",
      "Longitude:  -104.7740\n"
     ]
    }
   ],
   "source": [
    "# getting latitude and longitude\n",
    "latitude = json_response['iss_position']['latitude']\n",
    "longitude = json_response['iss_position']['longitude']\n",
    "\n",
    "print('Latitude: ', latitude)\n",
    "print('Longitude: ', longitude)"
   ]
  },
  {
   "cell_type": "markdown",
   "metadata": {},
   "source": [
    "# References\n",
    "1. [Medium - Getting Started With APIs in Python](https://towardsdatascience.com/getting-started-with-apis-in-python-to-gather-data-1185796b1ec3)"
   ]
  }
 ],
 "metadata": {
  "interpreter": {
   "hash": "1e915f0a29dc84041eaeb02b7b1a21c440e37a87b61d44d5e84a515737dc82bc"
  },
  "kernelspec": {
   "display_name": "Python 3.8.8 64-bit ('base': conda)",
   "language": "python",
   "name": "python3"
  },
  "language_info": {
   "codemirror_mode": {
    "name": "ipython",
    "version": 3
   },
   "file_extension": ".py",
   "mimetype": "text/x-python",
   "name": "python",
   "nbconvert_exporter": "python",
   "pygments_lexer": "ipython3",
   "version": "3.8.8"
  },
  "orig_nbformat": 4
 },
 "nbformat": 4,
 "nbformat_minor": 2
}
