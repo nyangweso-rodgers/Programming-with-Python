{
 "cells": [
  {
   "cell_type": "markdown",
   "metadata": {},
   "source": [
    "# Control Structure in Python"
   ]
  },
  {
   "cell_type": "markdown",
   "metadata": {},
   "source": [
    "## while Loops"
   ]
  },
  {
   "cell_type": "code",
   "execution_count": 1,
   "metadata": {},
   "outputs": [
    {
     "name": "stdout",
     "output_type": "stream",
     "text": [
      "0\n",
      "2\n",
      "4\n",
      "6\n",
      "8\n",
      "10\n",
      "12\n",
      "14\n",
      "16\n",
      "18\n",
      "20\n"
     ]
    }
   ],
   "source": [
    "# Exampe 1: print even values using a while loop\n",
    "a = 0\n",
    "while a <= 20:\n",
    "    print(a)\n",
    "    a += 2"
   ]
  },
  {
   "cell_type": "code",
   "execution_count": 2,
   "metadata": {},
   "outputs": [
    {
     "name": "stdout",
     "output_type": "stream",
     "text": [
      "Rodgers Nyangweso\n",
      "Rodgers Nyangweso\n",
      "Rodgers Nyangweso\n",
      "Rodgers Nyangweso\n",
      "Rodgers Nyangweso\n"
     ]
    }
   ],
   "source": [
    "## Example 2: printing same value using a while loop\n",
    "counter = 1\n",
    "while counter <= 5:\n",
    "    print(\"Rodgers Nyangweso\")\n",
    "    counter += 1"
   ]
  },
  {
   "cell_type": "code",
   "execution_count": 3,
   "metadata": {},
   "outputs": [
    {
     "name": "stdout",
     "output_type": "stream",
     "text": [
      "5\n",
      "4\n",
      "3\n"
     ]
    }
   ],
   "source": [
    "## Example 3: using a TRUE keyword and a break statement with a while loop\n",
    "b = 5\n",
    "while True:\n",
    "    print(b)\n",
    "    b -= 1\n",
    "    if b <= 2:\n",
    "        break"
   ]
  },
  {
   "cell_type": "code",
   "execution_count": 4,
   "metadata": {},
   "outputs": [
    {
     "name": "stdout",
     "output_type": "stream",
     "text": [
      "--------------\n",
      "Breaking\n",
      "Finished\n"
     ]
    }
   ],
   "source": [
    "## Example 4: using continue statement\n",
    "### Unlike break statement, continue jumps back to the top of the loop, rather than stopping it\n",
    "c = 0\n",
    "while True:\n",
    "    c += 1\n",
    "    if c == 2:\n",
    "        print(\"--------------\")\n",
    "        continue\n",
    "    if c == 5:\n",
    "        print(\"Breaking\")\n",
    "        break\n",
    "        print(c)\n",
    "print(\"Finished\")"
   ]
  },
  {
   "cell_type": "code",
   "execution_count": 7,
   "metadata": {},
   "outputs": [
    {
     "name": "stdout",
     "output_type": "stream",
     "text": [
      "4950\n"
     ]
    }
   ],
   "source": [
    "## Example 6: summing numbers in a list using a while loop\n",
    "sample_list = [i for i in range(100)]\n",
    "\n",
    "### Method 1\n",
    "sum_of_list = 0\n",
    "k = 0\n",
    "while k < len(sample_list):\n",
    "    sum_of_list += k\n",
    "    k += 1\n",
    "print(sum_of_list)"
   ]
  },
  {
   "cell_type": "markdown",
   "metadata": {},
   "source": [
    "## for Loops"
   ]
  },
  {
   "cell_type": "code",
   "execution_count": 6,
   "metadata": {},
   "outputs": [
    {
     "name": "stdout",
     "output_type": "stream",
     "text": [
      "4950\n"
     ]
    }
   ],
   "source": [
    "## Example 5: summing numbers in a list using a for loop\n",
    "sample_list = [i for i in range(100)]\n",
    "\n",
    "### Method 1\n",
    "sum_of_list = 0\n",
    "for i in sample_list:\n",
    "    sum_of_list += i\n",
    "print(sum_of_list)"
   ]
  },
  {
   "cell_type": "code",
   "execution_count": 11,
   "metadata": {},
   "outputs": [
    {
     "name": "stdout",
     "output_type": "stream",
     "text": [
      "-17\n"
     ]
    }
   ],
   "source": [
    "## Example 7: find the sum of negative numbers in a list\n",
    "sample_list2 = [7, 5, 4, 4, 3, 1, -2, -3, -5, -7]\n",
    "total = 0\n",
    "for i in sample_list2:\n",
    "    if i < 0:\n",
    "        total += i\n",
    "print(total)"
   ]
  },
  {
   "cell_type": "code",
   "execution_count": 12,
   "metadata": {},
   "outputs": [
    {
     "name": "stdout",
     "output_type": "stream",
     "text": [
      "['R', 'o', 'd', 'g', 'e', 'r', 's', 'O', 'm', 'o', 'n', 'd', 'i', 'N', 'y', 'a', 'n', 'g', 'w', 'e', 's', 'o']\n"
     ]
    }
   ],
   "source": [
    "## Example 8: character processing using a for loop\n",
    "word_list = ['Rodgers', 'Omondi', 'Nyangweso']\n",
    "letter_list = []\n",
    "for word in word_list:\n",
    "    for letter in word:\n",
    "        letter_list.append(letter)\n",
    "print(letter_list); \n",
    "# The above code fragment iterates over a list of strings and for each string process each character by appending it to a list. \n",
    "# The result is a list of all letters in all of the words:  "
   ]
  },
  {
   "cell_type": "code",
   "execution_count": 13,
   "metadata": {},
   "outputs": [
    {
     "name": "stdout",
     "output_type": "stream",
     "text": [
      "F\n",
      "B\n",
      "F\n",
      "F\n",
      "A\n",
      "F\n",
      "F\n"
     ]
    }
   ],
   "source": [
    "## Example 9: asigning scores in a list using a for loop\n",
    "scores = [19, 89, 45, 23, 90, 27, 30]\n",
    "\n",
    "for score in scores:\n",
    "    if score >= 90:\n",
    "        print('A')\n",
    "    else:\n",
    "        if score >= 80:\n",
    "            print('B')\n",
    "        else:\n",
    "            if score >= 70:\n",
    "                print('C')\n",
    "            else:\n",
    "                if score >= 60:\n",
    "                    print('D')\n",
    "                else:\n",
    "                    print('F')"
   ]
  },
  {
   "cell_type": "markdown",
   "metadata": {},
   "source": [
    "## if Statement"
   ]
  },
  {
   "cell_type": "code",
   "execution_count": 14,
   "metadata": {},
   "outputs": [
    {
     "name": "stdout",
     "output_type": "stream",
     "text": [
      "3.0\n"
     ]
    }
   ],
   "source": [
    "## Example 10\n",
    "### _The following fragment will first check to see if the value of a variable _n_ is negative. \n",
    "### If it is, then it's modified by the __absolute__ value function. Regardless, the next action is to compute the square root._\n",
    "import math\n",
    "n = -9\n",
    "if n < 0:\n",
    "    n = abs(n)\n",
    "print(math.sqrt(n))"
   ]
  },
  {
   "cell_type": "markdown",
   "metadata": {},
   "source": [
    "# list Comprehemsion"
   ]
  },
  {
   "cell_type": "code",
   "execution_count": 17,
   "metadata": {},
   "outputs": [
    {
     "name": "stdout",
     "output_type": "stream",
     "text": [
      "[1, 4, 9, 16, 25, 36, 49, 64, 81, 100]\n",
      "Result using list comprehension:  [1, 4, 9, 16, 25, 36, 49, 64, 81, 100]\n"
     ]
    }
   ],
   "source": [
    "# perfect squares\n",
    "square_list = []\n",
    "for x in range(1, 11):\n",
    "    square_list.append(x*x)\n",
    "print(square_list)\n",
    "\n",
    "# using list comprehesion, we can perform the above iteration in one step\n",
    "square_list = [x*x for x in range(1, 11)]\n",
    "print(\"Result using list comprehension: \", square_list)"
   ]
  }
 ],
 "metadata": {
  "kernelspec": {
   "display_name": "Python 3.9.12 ('base')",
   "language": "python",
   "name": "python3"
  },
  "language_info": {
   "codemirror_mode": {
    "name": "ipython",
    "version": 3
   },
   "file_extension": ".py",
   "mimetype": "text/x-python",
   "name": "python",
   "nbconvert_exporter": "python",
   "pygments_lexer": "ipython3",
   "version": "3.9.12"
  },
  "orig_nbformat": 4,
  "vscode": {
   "interpreter": {
    "hash": "dc07d24e2f18896857f0b2a651fe84ba40ce7b297e58d8804a308c8039f752a6"
   }
  }
 },
 "nbformat": 4,
 "nbformat_minor": 2
}
